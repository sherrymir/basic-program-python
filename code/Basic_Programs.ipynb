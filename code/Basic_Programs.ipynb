{
  "nbformat": 4,
  "nbformat_minor": 0,
  "metadata": {
    "colab": {
      "provenance": [],
      "toc_visible": true
    },
    "kernelspec": {
      "name": "python3",
      "display_name": "Python 3"
    },
    "language_info": {
      "name": "python"
    }
  },
  "cells": [
    {
      "cell_type": "code",
      "execution_count": null,
      "metadata": {
        "colab": {
          "base_uri": "https://localhost:8080/"
        },
        "id": "Y8idRcO0SEbL",
        "outputId": "5415e56c-e081-4beb-8d7f-05063d481b48"
      },
      "outputs": [
        {
          "output_type": "stream",
          "name": "stdout",
          "text": [
            "Enter the day: sunday\n",
            "Enter the hourly wage: 2\n",
            "Enter the hours you worked for: 2\n",
            "Total income:  8\n"
          ]
        }
      ],
      "source": [
        "def count_wages(day,hw,hours):\n",
        "  wage = hw * hours\n",
        "  if day == \"sunday\":\n",
        "    wage = wage * 2\n",
        "  return wage\n",
        "\n",
        "day = input(\"Enter the day: \")\n",
        "hourly_wage = int(input(\"Enter the hourly wage: \"))\n",
        "hours = int(input(\"Enter the hours you worked for: \"))\n",
        "\n",
        "result = count_wages(day,hourly_wage,hours)\n",
        "print(\"Total income: \",result)\n"
      ]
    },
    {
      "cell_type": "code",
      "source": [
        "def agers(age):\n",
        "  text = \"\"\n",
        "  if age < 0:\n",
        "    text += \"That must be mistake\"\n",
        "  elif age >= 0 and age <= 5:\n",
        "    text += \"i suspect you cant write quite yet\"\n",
        "  else:\n",
        "    text += f\"okay, you are {age}\"\n",
        "  return text\n",
        "\n",
        "result = agers(int(input(\"Enter your age: \")))\n",
        "print(result)"
      ],
      "metadata": {
        "colab": {
          "base_uri": "https://localhost:8080/"
        },
        "id": "2TSw6A7eSM3V",
        "outputId": "a949a4b1-3692-46c2-9174-46b9a4c4231f"
      },
      "execution_count": null,
      "outputs": [
        {
          "output_type": "stream",
          "name": "stdout",
          "text": [
            "Enter your age: -1\n",
            "That must be mistake\n"
          ]
        }
      ]
    },
    {
      "cell_type": "code",
      "source": [
        "def nephews(name):\n",
        "  if name in (\"Huey\",\"Dewey\",\"Louie\"):\n",
        "    print(\"oh, you are one of the Donald Duck's nephew\")\n",
        "  elif name in (\"Morty\",\"Ferdie\"):\n",
        "    print(\"Your are one of the Micky Mouse's newphew\")\n",
        "  else:\n",
        "    print(\"you are not from around here\")\n",
        "\n",
        "nephews(input(\"Please type in your name: \"))"
      ],
      "metadata": {
        "colab": {
          "base_uri": "https://localhost:8080/"
        },
        "id": "nB6xzGeCUppz",
        "outputId": "2aeffb4c-b12e-41ae-8670-e7fdfb7c6400"
      },
      "execution_count": null,
      "outputs": [
        {
          "output_type": "stream",
          "name": "stdout",
          "text": [
            "Please type in your name: Morty\n",
            "Your are one of the Micky Mouse's newphew\n"
          ]
        }
      ]
    },
    {
      "cell_type": "code",
      "source": [
        "def grader(func):\n",
        "    def wrapper(grade):\n",
        "        print(\"Grade: \", end=\"\")\n",
        "        func(grade)\n",
        "    return wrapper\n",
        "\n",
        "\n",
        "@grader\n",
        "def grade_check(grade):\n",
        "  if 0 < grade > 100:\n",
        "    print(\"Impossible\")\n",
        "  elif 0 <= grade <= 49:\n",
        "    print(\"Failed\")\n",
        "  elif 50 <= grade <= 59:\n",
        "    print(\"1\")\n",
        "  elif 60 <= grade <= 69:\n",
        "    print(\"2\")\n",
        "  elif 70 <= grade <= 79:\n",
        "    print(\"3\")\n",
        "  elif 80 <= grade <= 89:\n",
        "    print(\"4\")\n",
        "  elif 90 <= grade <= 100:\n",
        "    print(\"5\")\n",
        "\n",
        "grade_check(int(input(\"Enter your numbers: \")))\n"
      ],
      "metadata": {
        "colab": {
          "base_uri": "https://localhost:8080/"
        },
        "id": "_ajQNNzVWMw3",
        "outputId": "d74234fc-c380-4b63-d6a5-6bcad7b18045"
      },
      "execution_count": null,
      "outputs": [
        {
          "output_type": "stream",
          "name": "stdout",
          "text": [
            "Enter your numbers: 0\n",
            "Grade: Failed\n"
          ]
        }
      ]
    },
    {
      "cell_type": "code",
      "source": [
        "def fizzbuzz(number):\n",
        "  if number % 3 == 0 and number % 5 == 0:\n",
        "    print(\"fizzbuzz\")\n",
        "  elif number % 3 == 0:\n",
        "    print(\"fizz\")\n",
        "  elif number % 5 == 0:\n",
        "    print(\"buzz\")\n",
        "\n",
        "fizzbuzz(int(input(\"number: \")))"
      ],
      "metadata": {
        "colab": {
          "base_uri": "https://localhost:8080/"
        },
        "id": "HHVDc1vOZKKo",
        "outputId": "2f7a074a-9ce8-4fe3-eebb-9e78ea71ae21"
      },
      "execution_count": null,
      "outputs": [
        {
          "output_type": "stream",
          "name": "stdout",
          "text": [
            "number: 15\n",
            "fizzbuzz\n"
          ]
        }
      ]
    },
    {
      "cell_type": "code",
      "source": [
        "def check_leapyear(year):\n",
        "  if (year % 4 == 0 and year % 100 != 0) or (year % 400 == 0):\n",
        "    return True\n",
        "  else:\n",
        "    return False\n",
        "\n",
        "result = check_leapyear(int(input('Enter the year: ')))\n",
        "print(result)"
      ],
      "metadata": {
        "colab": {
          "base_uri": "https://localhost:8080/"
        },
        "id": "R2RusJeXc4V8",
        "outputId": "994a63a6-5182-4936-917e-1fd0d2904416"
      },
      "execution_count": null,
      "outputs": [
        {
          "output_type": "stream",
          "name": "stdout",
          "text": [
            "Enter the year: 2020\n",
            "True\n"
          ]
        }
      ]
    },
    {
      "cell_type": "code",
      "source": [
        "from math import sqrt\n",
        "\n",
        "def check_sqrt():\n",
        "  while True:\n",
        "    number = int(input(\"Enter the number: \"))\n",
        "    if number == 0:\n",
        "      print(\"Exiting...\")\n",
        "      break\n",
        "    elif number < 0:\n",
        "      print(\"Invalid number...\")\n",
        "      continue\n",
        "    else:\n",
        "      print(f\"The sqrt of the number {sqrt(number):.2f}\")\n",
        "      continue\n",
        "\n",
        "check_sqrt()\n",
        "\n",
        "\n"
      ],
      "metadata": {
        "colab": {
          "base_uri": "https://localhost:8080/"
        },
        "id": "4782bJq6jU99",
        "outputId": "ab75ff05-3e68-4e36-b81a-79629364d261"
      },
      "execution_count": null,
      "outputs": [
        {
          "output_type": "stream",
          "name": "stdout",
          "text": [
            "Enter the number: 2\n",
            "The sqrt of the number 1.41\n",
            "Enter the number: 4\n",
            "The sqrt of the number 2.00\n",
            "Enter the number: 100\n",
            "The sqrt of the number 10.00\n",
            "Enter the number: 0\n",
            "Exiting...\n"
          ]
        }
      ]
    },
    {
      "cell_type": "code",
      "source": [
        "number = 5\n",
        "print(\"Countdown!\")\n",
        "while True:\n",
        "  print(number)\n",
        "  number = number - 1\n",
        "  if number == 0:\n",
        "    break\n",
        "\n",
        "print(\"Now!\")"
      ],
      "metadata": {
        "colab": {
          "base_uri": "https://localhost:8080/"
        },
        "id": "ZRHySJd4lMTY",
        "outputId": "69f3af8d-c5ae-49b2-c293-0b6a2d9bfbe6"
      },
      "execution_count": null,
      "outputs": [
        {
          "output_type": "stream",
          "name": "stdout",
          "text": [
            "Countdown!\n",
            "5\n",
            "4\n",
            "3\n",
            "2\n",
            "1\n",
            "Now!\n"
          ]
        }
      ]
    },
    {
      "cell_type": "code",
      "source": [
        "def create_password(password):\n",
        "  while True:\n",
        "    repeat = input(\"Repeat password: \")\n",
        "    if password != repeat:\n",
        "      print(\"They do not match\")\n",
        "    else:\n",
        "      print(\"User Account created!\")\n",
        "      break\n",
        "\n",
        "create_password(input(\"Enter the password: \"))\n"
      ],
      "metadata": {
        "colab": {
          "base_uri": "https://localhost:8080/"
        },
        "id": "NovtHxr_mHI1",
        "outputId": "cf75d950-9f84-4386-c563-38625f564786"
      },
      "execution_count": null,
      "outputs": [
        {
          "output_type": "stream",
          "name": "stdout",
          "text": [
            "Enter the password: 121\n",
            "Repeat password: 332\n",
            "They do not match\n",
            "Repeat password: 121\n",
            "User Account created!\n"
          ]
        }
      ]
    },
    {
      "cell_type": "code",
      "source": [
        "import copy\n",
        "year = int(input(\"Enter the year: \"))\n",
        "old = year\n",
        "while True:\n",
        "  year += 1\n",
        "\n",
        "  if (year % 4 == 0 and year % 100 != 0) or (year % 400 == 0):\n",
        "    print(f\"The next leap year after {old} is {year}\")\n",
        "    break"
      ],
      "metadata": {
        "colab": {
          "base_uri": "https://localhost:8080/"
        },
        "id": "s9Iq3W4zpwzP",
        "outputId": "5b25b58e-c420-4728-9d48-c5b24a529d17"
      },
      "execution_count": null,
      "outputs": [
        {
          "output_type": "stream",
          "name": "stdout",
          "text": [
            "Enter the year: 2025\n",
            "The next leap year after 2025 is 2028\n"
          ]
        }
      ]
    },
    {
      "cell_type": "code",
      "source": [
        "result = \"\"\n",
        "previous_word = None\n",
        "while True:\n",
        "  word = input(\"Please type in a word: \")\n",
        "  if word == \"end\" or previous_word == word:\n",
        "    print(result)\n",
        "    break\n",
        "\n",
        "  result += word + \" \"\n",
        "  previous_word = word\n"
      ],
      "metadata": {
        "id": "hVxdqVHvrSOl",
        "colab": {
          "base_uri": "https://localhost:8080/"
        },
        "outputId": "afa349b4-982f-443b-8c6d-4c21924f68fa"
      },
      "execution_count": null,
      "outputs": [
        {
          "output_type": "stream",
          "name": "stdout",
          "text": [
            "Please type in a word: once\n",
            "Please type in a word: upon\n",
            "Please type in a word: a\n",
            "Please type in a word: time\n",
            "Please type in a word: time\n",
            "once upon a time \n"
          ]
        }
      ]
    },
    {
      "cell_type": "code",
      "source": [
        "count = 0\n",
        "total = 0\n",
        "positive = 0\n",
        "negative = 0\n",
        "while True:\n",
        "  number = int(input(\"Enter the number: \"))\n",
        "  if number == 0:\n",
        "    print(f\"The count of numbers is {count}\")\n",
        "    print(f\"The sum of numbers is {total}\")\n",
        "    print(f\"The mean of numbers is {total / count}\")\n",
        "    print(f\"Positive number: {positive}\")\n",
        "    print(f\"Negative number: {negative}\")\n",
        "    break\n",
        "  count += 1\n",
        "  total += number\n",
        "  if number > 0:\n",
        "    positive += 1\n",
        "  elif number < 0:\n",
        "    negative += 1\n"
      ],
      "metadata": {
        "colab": {
          "base_uri": "https://localhost:8080/"
        },
        "id": "o3FPmlFcv8Sn",
        "outputId": "46550bf9-cd06-46e1-f370-1028fe94fbf5"
      },
      "execution_count": null,
      "outputs": [
        {
          "output_type": "stream",
          "name": "stdout",
          "text": [
            "Enter the number: 1\n",
            "Enter the number: 2\n",
            "Enter the number: 3\n",
            "Enter the number: -1\n",
            "Enter the number: -2\n",
            "Enter the number: 0\n",
            "The count of numbers is 5\n",
            "The sum of numbers is 3\n",
            "The mean of numbers is 0.6\n",
            "Positive number: 3\n",
            "Negative number: 2\n"
          ]
        }
      ]
    },
    {
      "cell_type": "code",
      "source": [
        "number = int(input(\"Enter the numeber: \"))\n",
        "while number >= 2 and number <= 30:\n",
        "  if not number % 2:\n",
        "    print(number)\n",
        "          number += 1\n",
        "print(\"Execution finished\")"
      ],
      "metadata": {
        "id": "eyvkReg7yI8O",
        "colab": {
          "base_uri": "https://localhost:8080/"
        },
        "outputId": "9d4f80a8-ffb9-410c-b530-f925acde25a4"
      },
      "execution_count": null,
      "outputs": [
        {
          "output_type": "stream",
          "name": "stdout",
          "text": [
            "Enter the numeber: 2\n",
            "2\n",
            "4\n",
            "6\n",
            "8\n",
            "10\n",
            "12\n",
            "14\n",
            "16\n",
            "18\n",
            "20\n",
            "22\n",
            "24\n",
            "26\n",
            "28\n",
            "30\n",
            "Execution finished\n"
          ]
        }
      ]
    },
    {
      "cell_type": "code",
      "source": [
        "print(\"Are you ready?\")\n",
        "number = int(input(\"Please type in a number: \"))\n",
        "while number > 0:\n",
        "  print(number)\n",
        "  number -= 1\n",
        "print(\"Now!\")"
      ],
      "metadata": {
        "colab": {
          "base_uri": "https://localhost:8080/"
        },
        "id": "adms3pu9QWg4",
        "outputId": "2114abcf-bb26-494f-e4e8-dafbffb40029"
      },
      "execution_count": null,
      "outputs": [
        {
          "output_type": "stream",
          "name": "stdout",
          "text": [
            "Are you ready?\n",
            "Please type in a number: 5\n",
            "5\n",
            "4\n",
            "3\n",
            "2\n",
            "1\n",
            "Now!\n"
          ]
        }
      ]
    },
    {
      "cell_type": "code",
      "source": [
        "number = int(input(\"Upper Limit: \"))\n",
        "value = 1\n",
        "while value > 0 and value < number:\n",
        "  print(value)\n",
        "  value += 1\n",
        "print(\"Execution end\")"
      ],
      "metadata": {
        "colab": {
          "base_uri": "https://localhost:8080/"
        },
        "id": "7Ntchg9URC9N",
        "outputId": "29c40039-3141-4b8c-abb3-7a66cfda227d"
      },
      "execution_count": null,
      "outputs": [
        {
          "output_type": "stream",
          "name": "stdout",
          "text": [
            "Enter the number: 10\n",
            "1\n",
            "2\n",
            "3\n",
            "4\n",
            "5\n",
            "6\n",
            "7\n",
            "8\n",
            "9\n",
            "Execution end\n"
          ]
        }
      ]
    },
    {
      "cell_type": "code",
      "source": [
        "number = int(input(\"Upper Limit: \"))\n",
        "base = int(input(\"Enter the base: \"))\n",
        "value = 1\n",
        "while value <= number:\n",
        "  print(value)\n",
        "  value *= base\n",
        "print(\"Execution end\")"
      ],
      "metadata": {
        "colab": {
          "base_uri": "https://localhost:8080/"
        },
        "id": "kggBPEEJSLEO",
        "outputId": "274a2623-733b-4316-f175-4b6fba443204"
      },
      "execution_count": null,
      "outputs": [
        {
          "output_type": "stream",
          "name": "stdout",
          "text": [
            "Upper Limit: 123456789\n",
            "Enter the base: 10\n",
            "1\n",
            "10\n",
            "100\n",
            "1000\n",
            "10000\n",
            "100000\n",
            "1000000\n",
            "10000000\n",
            "100000000\n",
            "Execution end\n"
          ]
        }
      ]
    },
    {
      "cell_type": "code",
      "source": [
        "number = int(input(\"Enter the total: \"))\n",
        "value = 1\n",
        "total = 0\n",
        "\n",
        "while total < number:\n",
        "  print(value)\n",
        "  total += value\n",
        "  value += 1\n",
        "print(\"Total value: \",total)"
      ],
      "metadata": {
        "colab": {
          "base_uri": "https://localhost:8080/"
        },
        "id": "nBZWrCsWS6-k",
        "outputId": "2364c15f-2dca-491d-ad07-5443888704f8"
      },
      "execution_count": null,
      "outputs": [
        {
          "output_type": "stream",
          "name": "stdout",
          "text": [
            "Enter the total: 18\n",
            "1\n",
            "2\n",
            "3\n",
            "4\n",
            "5\n",
            "6\n",
            "Total value:  21\n"
          ]
        }
      ]
    },
    {
      "cell_type": "code",
      "source": [
        "number = int(input(\"Upper bound: \"))\n",
        "value = 1\n",
        "result = 0\n",
        "text = \"\"\n",
        "\n",
        "while result < number:\n",
        "  print(value)\n",
        "  result += value\n",
        "  text += f\"{value} + \"\n",
        "  value += 1\n",
        "print(f\"The consecutive sum: {text[:-2]} = \",result)\n"
      ],
      "metadata": {
        "colab": {
          "base_uri": "https://localhost:8080/"
        },
        "id": "IPWw5GDAWcR0",
        "outputId": "2cdbc87e-29ad-4bde-dd41-f9a74248969b"
      },
      "execution_count": null,
      "outputs": [
        {
          "output_type": "stream",
          "name": "stdout",
          "text": [
            "Upper bound: 10\n",
            "1\n",
            "2\n",
            "3\n",
            "4\n",
            "The consecutive sum: 1 + 2 + 3 + 4  =  10\n"
          ]
        }
      ]
    },
    {
      "cell_type": "code",
      "source": [
        "n = 10\n",
        "rows = \"*\"\n",
        "while n > 0:\n",
        "  print(\" \"*n + rows)\n",
        "  rows += \"**\"\n",
        "  n -= 1"
      ],
      "metadata": {
        "colab": {
          "base_uri": "https://localhost:8080/"
        },
        "id": "ZY5PlAL5XBMT",
        "outputId": "e970ea39-fe7e-4cfd-edc7-612db44a46f9"
      },
      "execution_count": null,
      "outputs": [
        {
          "output_type": "stream",
          "name": "stdout",
          "text": [
            "          *\n",
            "         ***\n",
            "        *****\n",
            "       *******\n",
            "      *********\n",
            "     ***********\n",
            "    *************\n",
            "   ***************\n",
            "  *****************\n",
            " *******************\n"
          ]
        }
      ]
    },
    {
      "cell_type": "code",
      "source": [
        "word = input(\"Please type in a string: \")\n",
        "print(word)\n",
        "print(\"-\"*len(word))"
      ],
      "metadata": {
        "colab": {
          "base_uri": "https://localhost:8080/"
        },
        "id": "ujHNrl_NaRi_",
        "outputId": "a15a1d66-2ab0-4185-c23d-e7c9db49e96c"
      },
      "execution_count": null,
      "outputs": [
        {
          "output_type": "stream",
          "name": "stdout",
          "text": [
            "Please type in a string: Hi there!\n",
            "Hi there!\n",
            "---------\n"
          ]
        }
      ]
    },
    {
      "cell_type": "code",
      "source": [
        "a = input(\"Please type in string 1: \")\n",
        "b = input(\"Please type in string 2: \")\n",
        "\n",
        "if len(a) == len(b):\n",
        "  print(\"The strings are equally long\")\n",
        "elif len(a) > len(b):\n",
        "  print(f\"The {a} is longer\")\n",
        "else:\n",
        "  print(f\"The {b} is longer\")"
      ],
      "metadata": {
        "colab": {
          "base_uri": "https://localhost:8080/"
        },
        "id": "LzRFhl6ganfe",
        "outputId": "85910517-4696-42ad-a89d-a4aadf325d2f"
      },
      "execution_count": null,
      "outputs": [
        {
          "output_type": "stream",
          "name": "stdout",
          "text": [
            "Please type in string 1: qwe\n",
            "Please type in string 2: qas\n",
            "The strings are equally long\n"
          ]
        }
      ]
    },
    {
      "cell_type": "code",
      "source": [
        "a = input(\"Please type in a string: \")\n",
        "print(\"First Character: \",a[0])\n",
        "print(\"Last Character: \", a[-1])"
      ],
      "metadata": {
        "colab": {
          "base_uri": "https://localhost:8080/"
        },
        "id": "oMJ4xanSbQiQ",
        "outputId": "35a98ad6-0b54-459b-ba9f-8268adec9f73"
      },
      "execution_count": null,
      "outputs": [
        {
          "output_type": "stream",
          "name": "stdout",
          "text": [
            "Please type in a string: qwer\n",
            "First Character:  q\n",
            "Last Character:  r\n"
          ]
        }
      ]
    },
    {
      "cell_type": "code",
      "source": [
        "a = input(\"Please type in a string: \")\n",
        "index = len(a)\n",
        "while index > 0:\n",
        "  index -= 1\n",
        "  print(a[index])"
      ],
      "metadata": {
        "colab": {
          "base_uri": "https://localhost:8080/"
        },
        "id": "_Pw26A3ablSU",
        "outputId": "baee4550-401f-4679-efbd-b459bb8fb01a"
      },
      "execution_count": null,
      "outputs": [
        {
          "output_type": "stream",
          "name": "stdout",
          "text": [
            "o\n",
            "l\n",
            "l\n",
            "e\n",
            "H\n"
          ]
        }
      ]
    },
    {
      "cell_type": "code",
      "source": [
        "word = input(\"Please type in a string: \")\n",
        "\n",
        "if word[1] == word[-2]:\n",
        "  print(\"The second character and second to last character is {}\".format(word[1]))\n",
        "else:\n",
        "  print(\"The second character and second to last character are different.\")"
      ],
      "metadata": {
        "colab": {
          "base_uri": "https://localhost:8080/"
        },
        "id": "qEaJzm03cqP5",
        "outputId": "9808a975-3da9-4f91-cb6f-8d7a432b1ac0"
      },
      "execution_count": null,
      "outputs": [
        {
          "output_type": "stream",
          "name": "stdout",
          "text": [
            "Please type in a string: pascal\n",
            "The second character and second to last character is a\n"
          ]
        }
      ]
    },
    {
      "cell_type": "code",
      "source": [
        "hashes = int(input(\"Enter the number of hashes you want: \"))\n",
        "print(hashes * \"#\")"
      ],
      "metadata": {
        "colab": {
          "base_uri": "https://localhost:8080/"
        },
        "id": "RGC0XS83ehcI",
        "outputId": "fa959cf2-d6cd-4012-bb75-2957bc180f3b"
      },
      "execution_count": null,
      "outputs": [
        {
          "output_type": "stream",
          "name": "stdout",
          "text": [
            "Enter the number of hashes you want: 10\n",
            "##########\n"
          ]
        }
      ]
    },
    {
      "cell_type": "code",
      "source": [
        "Height = int(input(\"Enter the heigth: \"))\n",
        "width = int(input(\"Enter the width: \"))\n",
        "while width > 0:\n",
        "  print(\"#\"*Height)\n",
        "  width -= 1"
      ],
      "metadata": {
        "colab": {
          "base_uri": "https://localhost:8080/"
        },
        "id": "sLmiSvr8fWLs",
        "outputId": "5a8c875d-0566-4379-d38e-424f68b39ba1"
      },
      "execution_count": null,
      "outputs": [
        {
          "output_type": "stream",
          "name": "stdout",
          "text": [
            "Enter the heigth: 10\n",
            "Enter the width: 3\n",
            "##########\n",
            "##########\n",
            "##########\n"
          ]
        }
      ]
    },
    {
      "cell_type": "code",
      "source": [
        "a = input(\"Please type in a string: \")\n",
        "print(a.rjust(20,\"*\"))"
      ],
      "metadata": {
        "colab": {
          "base_uri": "https://localhost:8080/"
        },
        "id": "s-IZ5UiWf5pH",
        "outputId": "b389db9c-3c24-466f-8dc4-33eacca7b359"
      },
      "execution_count": null,
      "outputs": [
        {
          "output_type": "stream",
          "name": "stdout",
          "text": [
            "Please type in a string: Najam and najam\n",
            "*****Najam and najam\n"
          ]
        }
      ]
    },
    {
      "cell_type": "code",
      "source": [
        "word = input(\"word: \")\n",
        "print(\"*\" * 30)\n",
        "print(\"*\",word.center(26),\"*\")\n",
        "print(\"*\" * 30)"
      ],
      "metadata": {
        "colab": {
          "base_uri": "https://localhost:8080/"
        },
        "id": "x7gjZug_gf0o",
        "outputId": "5f563746-3c2b-48b5-91b6-3d9b7034b84e"
      },
      "execution_count": null,
      "outputs": [
        {
          "output_type": "stream",
          "name": "stdout",
          "text": [
            "word: Hello\n",
            "******************************\n",
            "*           Hello            *\n",
            "******************************\n"
          ]
        }
      ]
    },
    {
      "cell_type": "code",
      "source": [
        "vowels = \"aeo\"\n",
        "sentence = input(\"Please type in a sentence: \")\n",
        "result = \"\"\n",
        "for i in vowels:\n",
        "  if i in sentence:\n",
        "    result += f\"{i} found \"\n",
        "  else:\n",
        "    result += f\"{i} not found \"\n",
        "print(result)"
      ],
      "metadata": {
        "id": "6WTHzt4HhVi-",
        "colab": {
          "base_uri": "https://localhost:8080/"
        },
        "outputId": "47c5e5e6-68c0-44bc-9396-73c7fad0ab78"
      },
      "execution_count": null,
      "outputs": [
        {
          "output_type": "stream",
          "name": "stdout",
          "text": [
            "Please type in a sentence: najam\n",
            "a found e not found o not found \n"
          ]
        }
      ]
    },
    {
      "cell_type": "code",
      "source": [
        "word = input(\"please type in a word: \")\n",
        "\n",
        "while True:\n",
        "  character = input(\"What are you looking for: \")\n",
        "  found = word.find(character)\n",
        "  if found >= 0:\n",
        "    print(f\"{word[found:found+3]}\")\n",
        "  else:\n",
        "    print(\"Not found\")\n",
        "    break\n"
      ],
      "metadata": {
        "colab": {
          "base_uri": "https://localhost:8080/"
        },
        "id": "Ae5g5zrM7oZC",
        "outputId": "617bbf77-af9e-4046-9379-2eb57e5b4e3b"
      },
      "execution_count": null,
      "outputs": [
        {
          "output_type": "stream",
          "name": "stdout",
          "text": [
            "please type in a word: prependicular\n",
            "What are you looking for: p\n",
            "pre\n",
            "What are you looking for: r\n",
            "rep\n",
            "What are you looking for: e\n",
            "epe\n",
            "What are you looking for: p\n",
            "pre\n",
            "What are you looking for: i\n",
            "icu\n",
            "What are you looking for: z\n",
            "Not found\n"
          ]
        }
      ]
    },
    {
      "cell_type": "code",
      "source": [
        "word = input(\"please enter the word: \")\n",
        "character = input(\"Please type in a character: \")\n",
        "\n",
        "result = []\n",
        "for i in range(len(word)):\n",
        "  if character == word[i]:\n",
        "    result.append(word[i:i+3])\n",
        "\n",
        "print(\" \".join(result))"
      ],
      "metadata": {
        "colab": {
          "base_uri": "https://localhost:8080/"
        },
        "id": "6z9Gy8kB-QIt",
        "outputId": "8ad06533-aafc-48c9-e61b-f18c933f171c"
      },
      "execution_count": null,
      "outputs": [
        {
          "output_type": "stream",
          "name": "stdout",
          "text": [
            "please enter the word: no never nup nep nope aint no way\n",
            "Please type in a character: n\n",
            "no  nev nup nep nop nt  no \n"
          ]
        }
      ]
    },
    {
      "cell_type": "code",
      "source": [
        "word = input(\"Please type in a string: \")\n",
        "\n",
        "while True:\n",
        "  sub_string = input(\"Please type in a sub string: \")\n",
        "  first_sub = word.find(sub_string)\n",
        "  if first_sub < 0:\n",
        "    print(\"There is no matching result found\")\n",
        "    break\n",
        "\n",
        "  second_sub = word.find(sub_string,first_sub + len(sub_string))\n",
        "\n",
        "  if second_sub >= 0:\n",
        "    print(\"The second substring is found at index {}\".format(second_sub))\n",
        "  else:\n",
        "    print(\"There is no occurance of second substring\")\n"
      ],
      "metadata": {
        "colab": {
          "base_uri": "https://localhost:8080/"
        },
        "id": "SFhsvzN4AzeE",
        "outputId": "757465b1-19a8-4755-8143-9045b3fdca22"
      },
      "execution_count": null,
      "outputs": [
        {
          "output_type": "stream",
          "name": "stdout",
          "text": [
            "Please type in a string: najam najam \n",
            "Please type in a sub string: naj\n",
            "The second substring is found at index 6\n",
            "Please type in a sub string: am\n",
            "The second substring is found at index 9\n",
            "Please type in a sub string: lk\n",
            "There is no matching result found\n"
          ]
        }
      ]
    },
    {
      "cell_type": "code",
      "source": [
        "value = int(input(\"please type in a number: \"))\n",
        "found = False\n",
        "for i in range(2,10):\n",
        "  for j in range(1,10):\n",
        "    print(f\"{i} X {j} = {i * j}\")\n",
        "    if i * j == value:\n",
        "\n",
        "      found = True\n",
        "      break\n",
        "  if found:\n",
        "    break\n"
      ],
      "metadata": {
        "colab": {
          "base_uri": "https://localhost:8080/"
        },
        "id": "MP3YNCcQBBUj",
        "outputId": "d36a13bc-1cf3-484b-b7ba-99f794def214"
      },
      "execution_count": null,
      "outputs": [
        {
          "output_type": "stream",
          "name": "stdout",
          "text": [
            "please type in a number: 12\n",
            "2 X 1 = 2\n",
            "2 X 2 = 4\n",
            "2 X 3 = 6\n",
            "2 X 4 = 8\n",
            "2 X 5 = 10\n",
            "2 X 6 = 12\n"
          ]
        }
      ]
    },
    {
      "cell_type": "code",
      "source": [
        "sentence = input(\"Please type in sentence: \")\n",
        "result = []\n",
        "for word in sentence.split():\n",
        "  result.append(word[0])\n",
        "print(\" \".join(result))"
      ],
      "metadata": {
        "colab": {
          "base_uri": "https://localhost:8080/"
        },
        "id": "S71TlL36ERUV",
        "outputId": "a3ccbe9f-6644-4ef5-afa3-49734fec53c2"
      },
      "execution_count": null,
      "outputs": [
        {
          "output_type": "stream",
          "name": "stdout",
          "text": [
            "Please type in sentence: hello there this is najam\n",
            "h t t i n\n"
          ]
        }
      ]
    },
    {
      "cell_type": "code",
      "source": [
        "import random\n",
        "\n",
        "ques = 54321245987\n",
        "number = int(input(\"Please type in a numeber:\"))\n",
        "result = []\n",
        "\n",
        "for i in str(ques):\n",
        "  if int(i) <= number:\n",
        "    result.append(i)\n",
        "\n",
        "random.shuffle(result)\n",
        "print(\" \".join(result))"
      ],
      "metadata": {
        "colab": {
          "base_uri": "https://localhost:8080/"
        },
        "id": "BIUxwEHhGhBX",
        "outputId": "64b7154d-034e-4de5-eb09-17da01520d1f"
      },
      "execution_count": null,
      "outputs": [
        {
          "output_type": "stream",
          "name": "stdout",
          "text": [
            "Please type in a numeber:5\n",
            "2 4 2 1 5 5 3 4\n"
          ]
        }
      ]
    },
    {
      "cell_type": "code",
      "source": [
        "def factorial(number = int(input(\"Type in a number: \"))):\n",
        "  while True:\n",
        "    sum = 1\n",
        "    for i in range(1,number+1):\n",
        "      sum *= i\n",
        "    print(\"The factorial of the number is \",sum)\n",
        "    break\n",
        "\n",
        "\n",
        "factorial()\n",
        "\n"
      ],
      "metadata": {
        "colab": {
          "base_uri": "https://localhost:8080/"
        },
        "id": "QWAtSnzbJrg7",
        "outputId": "80f19d69-ce9b-41de-f6ee-320e12d5e858"
      },
      "execution_count": null,
      "outputs": [
        {
          "output_type": "stream",
          "name": "stdout",
          "text": [
            "Type in a number: 5\n",
            "The factorial of the number is  120\n"
          ]
        }
      ]
    },
    {
      "cell_type": "code",
      "source": [
        "def print_many_times(time,text):\n",
        "  for i in range(time):\n",
        "\n",
        "if __name__ == \"__main__\":\n",
        "  text = \"grow up\"\n",
        "  print_many_times(3,text)\n",
        "    print(text)"
      ],
      "metadata": {
        "colab": {
          "base_uri": "https://localhost:8080/"
        },
        "id": "2jZhMGo6ZNjl",
        "outputId": "6cbd8f26-f861-4461-8ed1-f971dd3b7ee7"
      },
      "execution_count": null,
      "outputs": [
        {
          "output_type": "stream",
          "name": "stdout",
          "text": [
            "grow up\n",
            "grow up\n",
            "grow up\n"
          ]
        }
      ]
    },
    {
      "cell_type": "code",
      "source": [
        "def hash_square(n):\n",
        "  for i in range(n):\n",
        "      print(n*\"#\")\n",
        "if __name__ == \"__main__\":\n",
        "  hash_square(5)"
      ],
      "metadata": {
        "colab": {
          "base_uri": "https://localhost:8080/"
        },
        "id": "5JGA4GjBa0oc",
        "outputId": "b9e3e15c-4a08-40f6-b239-6068390de86b"
      },
      "execution_count": null,
      "outputs": [
        {
          "output_type": "stream",
          "name": "stdout",
          "text": [
            "#####\n",
            "#####\n",
            "#####\n",
            "#####\n",
            "#####\n"
          ]
        }
      ]
    },
    {
      "cell_type": "code",
      "source": [
        "def chess_board(n):\n",
        "  for i in range(n):\n",
        "    rows = \"\".join(\"1\" if (i+j) % 2 == 0 else \"0\" for j in range(n))\n",
        "    print(rows)\n",
        "chess_board(5)"
      ],
      "metadata": {
        "colab": {
          "base_uri": "https://localhost:8080/"
        },
        "id": "WtT6urhcbnLa",
        "outputId": "7b5545f5-9430-4166-e3c4-34121a83facc"
      },
      "execution_count": null,
      "outputs": [
        {
          "output_type": "stream",
          "name": "stdout",
          "text": [
            "10101\n",
            "01010\n",
            "10101\n",
            "01010\n",
            "10101\n"
          ]
        }
      ]
    },
    {
      "cell_type": "code",
      "source": [
        "def squared(text,n):\n",
        "  for i in range(n):\n",
        "    rows = \"\".join(text[(i+j) % len(text)] for j in range(n))\n",
        "    print(rows)\n",
        "\n",
        "squared(\"najam\",6)"
      ],
      "metadata": {
        "colab": {
          "base_uri": "https://localhost:8080/"
        },
        "id": "QlPiThZ-cYqL",
        "outputId": "10ea8a32-5408-4554-d28c-1480704379d5"
      },
      "execution_count": null,
      "outputs": [
        {
          "output_type": "stream",
          "name": "stdout",
          "text": [
            "najamn\n",
            "ajamna\n",
            "jamnaj\n",
            "amnaja\n",
            "mnajam\n",
            "najamn\n"
          ]
        }
      ]
    },
    {
      "cell_type": "code",
      "source": [
        "def squared(text,n):\n",
        "  for i in range(n):\n",
        "    rows = \"\".join(text[(i+j) % len(text)] for j in range(n))\n",
        "    print(rows)\n",
        "\n",
        "squared(\"najam\",5)"
      ],
      "metadata": {
        "colab": {
          "base_uri": "https://localhost:8080/"
        },
        "id": "LuAVbYMBemht",
        "outputId": "1eba0ea3-292f-4cc4-8030-03cbea5db6dc"
      },
      "execution_count": null,
      "outputs": [
        {
          "output_type": "stream",
          "name": "stdout",
          "text": [
            "najam\n",
            "ajamn\n",
            "jamna\n",
            "amnaj\n",
            "mnaja\n"
          ]
        }
      ]
    },
    {
      "cell_type": "code",
      "source": [
        "def spruce(length):\n",
        "  space = length * 2 - 1\n",
        "  stars = 1\n",
        "\n",
        "  for i in range(1,length+1):\n",
        "    print((stars * \"*\").center(space,\" \"))\n",
        "    stars += 2\n",
        "\n",
        "  print(\"★\".center(space))\n",
        "\n",
        "spruce(5)"
      ],
      "metadata": {
        "id": "EO6gVcqff4UB",
        "colab": {
          "base_uri": "https://localhost:8080/"
        },
        "outputId": "f1882314-a65a-47ba-ae64-e01bd7e2a6da"
      },
      "execution_count": null,
      "outputs": [
        {
          "output_type": "stream",
          "name": "stdout",
          "text": [
            "    *    \n",
            "   ***   \n",
            "  *****  \n",
            " ******* \n",
            "*********\n",
            "    ★    \n"
          ]
        }
      ]
    },
    {
      "cell_type": "code",
      "source": [
        "list =  [1, 2, 3, 4, 5]\n",
        "\n",
        "ind = int(input(\"index: \"))\n",
        "new = int(input(\"New Value: \"))\n",
        "\n",
        "list[ind] = new\n",
        "\n",
        "print(list)"
      ],
      "metadata": {
        "colab": {
          "base_uri": "https://localhost:8080/"
        },
        "id": "UMvF5Vf6xYvo",
        "outputId": "e84ec012-e6ed-47d5-9e0a-dfedec262912"
      },
      "execution_count": null,
      "outputs": [
        {
          "output_type": "stream",
          "name": "stdout",
          "text": [
            "index: 3\n",
            "New Value: 991\n",
            "[1, 2, 3, 991, 5]\n"
          ]
        }
      ]
    },
    {
      "cell_type": "code",
      "source": [
        "list = ['apple','mangoes','banana','orange']\n",
        "\n",
        "index = len(list) - 1\n",
        "\n",
        "while index >= 0:\n",
        "  print(list[index])\n",
        "  index = index - 1\n",
        "print('thats it')"
      ],
      "metadata": {
        "id": "yps0GEns0o6r",
        "colab": {
          "base_uri": "https://localhost:8080/"
        },
        "outputId": "98178f7f-5712-414a-8e36-7d5b25476691"
      },
      "execution_count": null,
      "outputs": [
        {
          "output_type": "stream",
          "name": "stdout",
          "text": [
            "orange\n",
            "banana\n",
            "mangoes\n",
            "apple\n",
            "thats it\n"
          ]
        }
      ]
    },
    {
      "cell_type": "code",
      "source": [
        "def longest(strings : list):\n",
        "  index = len(strings) - 1\n",
        "  greatest = len(strings[0])\n",
        "  value_counter = strings[0]\n",
        "  while index >= 0:\n",
        "    if len(strings[index]) > greatest:\n",
        "      greatest = len(strings[index])\n",
        "      value_counter = strings[index]\n",
        "    index = index - 1\n",
        "\n",
        "  return value_counter\n",
        "\n",
        "if __name__ == '__main__':\n",
        "  strings = [\"hi\", \"hiya\", \"hello\", \"howdydoody\", \"hi there\"]\n",
        "  result = longest(strings)\n",
        "  print(result)\n"
      ],
      "metadata": {
        "colab": {
          "base_uri": "https://localhost:8080/"
        },
        "id": "gZWbCZbuUGxf",
        "outputId": "292283ce-a963-40ba-d8df-c11084a692b2"
      },
      "execution_count": null,
      "outputs": [
        {
          "output_type": "stream",
          "name": "stdout",
          "text": [
            "howdydoody\n"
          ]
        }
      ]
    },
    {
      "cell_type": "code",
      "source": [
        "def longest(strings):\n",
        "  return max(strings,key = len)\n",
        "\n",
        "if __name__ == '__main__':\n",
        "  strings = [\"hi\", \"hiya\", \"hello\", \"howdydoody\", \"hi there\"]\n",
        "  result = longest(strings)\n",
        "  print(result)"
      ],
      "metadata": {
        "colab": {
          "base_uri": "https://localhost:8080/"
        },
        "id": "s6akktwfUXr8",
        "outputId": "c0fd5464-7d7f-407d-b407-accf0e9867c3"
      },
      "execution_count": null,
      "outputs": [
        {
          "output_type": "stream",
          "name": "stdout",
          "text": [
            "howdydoody\n"
          ]
        }
      ]
    },
    {
      "cell_type": "code",
      "source": [
        "def sum_of_row(matrix: list,row : int):\n",
        "  row_sum = 0\n",
        "  row_number = matrix[row]\n",
        "  for row in row_number:\n",
        "    row_sum += row\n",
        "  return row_sum\n",
        "\n",
        "if __name__ == \"__main__\":\n",
        "  m = [[4, 2, 3, 2], [9, 1, 12, 11], [7, 8, 9, 5], [2, 9, 15, 1]]\n",
        "\n",
        "  my_sum = sum_of_row(m, 1)\n",
        "  print(my_sum)"
      ],
      "metadata": {
        "colab": {
          "base_uri": "https://localhost:8080/"
        },
        "id": "7Sym2yErtGu0",
        "outputId": "3f824b60-a180-45de-ed3a-a69f8c43db1f"
      },
      "execution_count": null,
      "outputs": [
        {
          "output_type": "stream",
          "name": "stdout",
          "text": [
            "33\n"
          ]
        }
      ]
    },
    {
      "cell_type": "code",
      "source": [
        "def sum_of_col(matrix: list,col: int):\n",
        "  col_sum = 0\n",
        "  for row in matrix:\n",
        "    col_sum += row[col]\n",
        "  return col_sum\n",
        "\n",
        "if __name__ == \"__main__\":\n",
        "  m = [[4, 2, 3, 2], [9, 1, 12, 11], [7, 8, 9, 5], [2, 9, 15, 1]]\n",
        "  result = sum_of_col(m,0)\n",
        "  print(result)\n"
      ],
      "metadata": {
        "colab": {
          "base_uri": "https://localhost:8080/"
        },
        "id": "PTnLwqIktREf",
        "outputId": "8c714278-49b2-4a91-eaa2-75713c3c57ae"
      },
      "execution_count": null,
      "outputs": [
        {
          "output_type": "stream",
          "name": "stdout",
          "text": [
            "22\n"
          ]
        }
      ]
    },
    {
      "cell_type": "code",
      "source": [
        "m = [[1,2,3],[4,5,6],[7,8,9]]\n",
        "for i in range(len(m)):\n",
        "  for j in range(len(m[i])):\n",
        "    m[i][j] += 1\n",
        "\n",
        "print(m)"
      ],
      "metadata": {
        "colab": {
          "base_uri": "https://localhost:8080/"
        },
        "id": "SDMJIsm4vdRK",
        "outputId": "ca78698a-4543-4fb0-9a00-d211f575b8af"
      },
      "execution_count": null,
      "outputs": [
        {
          "output_type": "stream",
          "name": "stdout",
          "text": [
            "[[2, 3, 4], [5, 6, 7], [8, 9, 10]]\n"
          ]
        }
      ]
    },
    {
      "cell_type": "code",
      "source": [
        "def count_matching_elements(matrix : list, element : int):\n",
        "  count = 0\n",
        "  for i in range(len(matrix)):\n",
        "    for j in range(len(matrix[i])):\n",
        "      if matrix[i][j] == element:\n",
        "        count = count + 1\n",
        "  return count\n",
        "\n",
        "if __name__ == \"__main__\":\n",
        "  m = [[1,2,3],[1,1,6],[1,8,9]]\n",
        "  result = count_matching_elements(m,1)\n",
        "  print(result)\n"
      ],
      "metadata": {
        "colab": {
          "base_uri": "https://localhost:8080/"
        },
        "id": "WkmjImwUwNnU",
        "outputId": "ea0d4aa4-5298-49ab-aa41-73407c11ab08"
      },
      "execution_count": null,
      "outputs": [
        {
          "output_type": "stream",
          "name": "stdout",
          "text": [
            "4\n"
          ]
        }
      ]
    },
    {
      "cell_type": "code",
      "source": [
        "sudoku = [\n",
        "  [9, 0, 0, 0, 8, 0, 3, 0, 0],\n",
        "  [0, 0, 0, 2, 5, 0, 7, 0, 0],\n",
        "  [0, 2, 0, 3, 0, 0, 0, 0, 4],\n",
        "  [0, 9, 4, 0, 0, 0, 0, 0, 0],\n",
        "  [0, 0, 0, 7, 3, 0, 5, 6, 0],\n",
        "  [7, 0, 5, 0, 6, 0, 4, 0, 0],\n",
        "  [0, 0, 7, 8, 0, 3, 9, 0, 0],\n",
        "  [0, 0, 1, 0, 0, 0, 0, 0, 3],\n",
        "  [3, 0, 0, 0, 0, 0, 0, 0, 2]\n",
        "]\n",
        "\n",
        "def print_grid():\n",
        "  global sudoku\n",
        "  for row in sudoku:\n",
        "    for square in row:\n",
        "      if square > 0:\n",
        "        print(square,end = \"\")\n",
        "      else:\n",
        "        print(\"_\",end = \"\")\n",
        "    print()\n",
        "\n",
        "if __name__ == \"__main__\":\n",
        "  print_grid()"
      ],
      "metadata": {
        "id": "LAQSuECnxwy6",
        "colab": {
          "base_uri": "https://localhost:8080/"
        },
        "outputId": "3233722d-0092-4956-e29e-3c7eafb4d5da"
      },
      "execution_count": null,
      "outputs": [
        {
          "output_type": "stream",
          "name": "stdout",
          "text": [
            "9___8_3__\n",
            "___25_7__\n",
            "_2_3____4\n",
            "_94______\n",
            "___73_56_\n",
            "7_5_6_4__\n",
            "__78_39__\n",
            "__1_____3\n",
            "3_______2\n"
          ]
        }
      ]
    },
    {
      "cell_type": "code",
      "source": [
        "def who_won(game_board: list):\n",
        "  player_one = 0\n",
        "  player_two = 0\n",
        "\n",
        "  for row in range(len(game_board)):\n",
        "    for square in range(len(game_board[row])):\n",
        "      if game_board[i][j] == 1:\n",
        "        player_one += 1\n",
        "      elif game_board[i][j] == 2:\n",
        "        player_one += 1\n",
        "\n",
        "  if player_one > player_two:\n",
        "    print(\"Player one wins!!!\")\n",
        "  elif player_two > player_one:\n",
        "    print(\"Player two wins!!\")\n",
        "  else:\n",
        "    print(\"Draw!\")\n",
        "\n",
        "if __name__ == \"__main__\":\n",
        "  board = [[1,0,1],\n",
        "           [1,1,1],\n",
        "           [0,1,2],\n",
        "           [2,2,1]]\n",
        "  who_won(board)\n"
      ],
      "metadata": {
        "colab": {
          "base_uri": "https://localhost:8080/"
        },
        "id": "fxZ0O_9G7m4f",
        "outputId": "9fb07ab5-8b74-468d-e570-d83409d9351f"
      },
      "execution_count": null,
      "outputs": [
        {
          "output_type": "stream",
          "name": "stdout",
          "text": [
            "Player one wins!!!\n"
          ]
        }
      ]
    },
    {
      "cell_type": "code",
      "source": [
        "def row_correct(sudoku : list, row_no: int):\n",
        "  seen = set()\n",
        "  for num in sudoku[row_no]:\n",
        "    if num != 0:\n",
        "      if num in seen:\n",
        "        return False\n",
        "      seen.add(num)\n",
        "\n",
        "  return True\n",
        "\n",
        "if __name__ == \"__main__\":\n",
        "  sudoku = [\n",
        "  [9, 0, 0, 0, 8, 0, 3, 0, 0],\n",
        "  [2, 0, 0, 2, 5, 0, 7, 0, 0],\n",
        "  [0, 2, 0, 3, 0, 0, 0, 0, 4],\n",
        "  [2, 9, 4, 0, 0, 0, 0, 0, 0],\n",
        "  [0, 0, 0, 7, 3, 0, 5, 6, 0],\n",
        "  [7, 0, 5, 0, 6, 0, 4, 0, 0],\n",
        "  [0, 0, 7, 8, 0, 3, 9, 0, 0],\n",
        "  [0, 0, 1, 0, 0, 0, 0, 0, 3],\n",
        "  [3, 0, 0, 0, 0, 0, 0, 0, 2]\n",
        "]\n",
        "  print(row_correct(sudoku, 0))\n",
        "  print(row_correct(sudoku, 1))\n",
        "\n"
      ],
      "metadata": {
        "id": "pawVQ67q8XUL",
        "colab": {
          "base_uri": "https://localhost:8080/"
        },
        "outputId": "6bcd99c2-41cd-4102-9520-507eeb57f45a"
      },
      "execution_count": null,
      "outputs": [
        {
          "output_type": "stream",
          "name": "stdout",
          "text": [
            "True\n",
            "False\n"
          ]
        }
      ]
    },
    {
      "cell_type": "code",
      "source": [
        "def column_correct(sudoku : list, column_no: int):\n",
        "  result = set()\n",
        "\n",
        "  for num in sudoku:\n",
        "    if num[column_no] != 0:\n",
        "       if num[column_no] in result:\n",
        "        return False\n",
        "       result.add(num[column_no])\n",
        "  return True\n",
        "\n",
        "if __name__ == '__main__':\n",
        "  sudoku = [\n",
        "  [9, 0, 0, 0, 8, 0, 3, 0, 0],\n",
        "  [2, 0, 0, 2, 5, 0, 7, 0, 0],\n",
        "  [0, 2, 0, 3, 0, 0, 0, 0, 4],\n",
        "  [2, 9, 4, 0, 0, 0, 0, 0, 0],\n",
        "  [0, 0, 0, 7, 3, 0, 5, 6, 0],\n",
        "  [7, 0, 5, 0, 6, 0, 4, 0, 0],\n",
        "  [0, 0, 7, 8, 0, 3, 9, 0, 0],\n",
        "  [0, 0, 1, 0, 0, 0, 0, 0, 3],\n",
        "  [3, 0, 0, 0, 0, 0, 0, 0, 2]\n",
        "]\n",
        "  print(column_correct(sudoku, 0))\n",
        "  print(column_correct(sudoku, 1))\n"
      ],
      "metadata": {
        "colab": {
          "base_uri": "https://localhost:8080/"
        },
        "id": "10iNV2q0DhUb",
        "outputId": "30ecd0c8-b5b0-4db8-9eee-26a30db140c9"
      },
      "execution_count": null,
      "outputs": [
        {
          "output_type": "stream",
          "name": "stdout",
          "text": [
            "False\n",
            "True\n"
          ]
        }
      ]
    },
    {
      "cell_type": "code",
      "source": [
        "def block_correct(sudoku: list,row_no: int,col_no: int):\n",
        "  seen = set()\n",
        "  for row in range(row_no, row_no + 3):\n",
        "    for col in range(col_no, col_no + 3):\n",
        "      if sudoku[row][col] != 0:\n",
        "        if sudoku[row][col] in seen:\n",
        "          return False\n",
        "        seen.add(sudoku[row][col])\n",
        "  return True\n",
        "\n",
        "if __name__ == \"__main__\":\n",
        "  sudoku = [\n",
        "  [9, 0, 0, 0, 8, 0, 3, 0, 0],\n",
        "  [2, 0, 0, 2, 5, 0, 7, 0, 0],\n",
        "  [0, 2, 0, 3, 0, 0, 0, 0, 4],\n",
        "  [2, 9, 4, 0, 0, 0, 0, 0, 0],\n",
        "  [0, 0, 0, 7, 3, 0, 5, 6, 0],\n",
        "  [7, 0, 5, 0, 6, 0, 4, 0, 0],\n",
        "  [0, 0, 7, 8, 0, 3, 9, 0, 0],\n",
        "  [0, 0, 1, 0, 0, 0, 0, 0, 3],\n",
        "  [3, 0, 0, 0, 0, 0, 0, 0, 2]\n",
        "]\n",
        "\n",
        "print(block_correct(sudoku, 0, 0))\n",
        "print(block_correct(sudoku, 1, 2))\n"
      ],
      "metadata": {
        "colab": {
          "base_uri": "https://localhost:8080/"
        },
        "id": "UKa2jeuXT_mf",
        "outputId": "ae07f63a-9d2a-4e4f-9d39-df6038513ddf"
      },
      "execution_count": null,
      "outputs": [
        {
          "output_type": "stream",
          "name": "stdout",
          "text": [
            "False\n",
            "True\n"
          ]
        }
      ]
    },
    {
      "cell_type": "code",
      "source": [
        "def sudoku_grid_correct(sudoku: list):\n",
        "\n",
        "  def row_correct(sudoku: list,row_no: int):\n",
        "    seen = set()\n",
        "    for i in sudoku[row_no]:\n",
        "      if i != 0:\n",
        "        if i in seen:\n",
        "          return False\n",
        "        seen.add(i)\n",
        "    return True\n",
        "\n",
        "  def col_correct(sudoku: list, col_no: int):\n",
        "    seen = set()\n",
        "    for row in sudoku:\n",
        "      value = row[col_no]\n",
        "      if value != 0:\n",
        "        if value in seen:\n",
        "          return False\n",
        "        seen.add(value)\n",
        "    return True\n",
        "\n",
        "  def block_correct(sudoku: list, row_no: int, col_no: int):\n",
        "    seen = set()\n",
        "    for row in range(row_no,row_no+3):\n",
        "      for col in range(col_no,col_no+3):\n",
        "        if sudoku[row][col] != 0:\n",
        "          if sudoku[row][col] in seen:\n",
        "            return False\n",
        "          seen.add(sudoku[row][col])\n",
        "    return True\n",
        "\n",
        "  for i in range(9):\n",
        "    if not row_correct(sudoku,i) or not col_correct(sudoku,i):\n",
        "      return False\n",
        "\n",
        "  for row in range(0,9,3):\n",
        "    for col in range(0,9,3):\n",
        "      if not block_correct(sudoku,row,col):\n",
        "        return False\n",
        "\n",
        "  return True\n",
        "\n",
        "if __name__ ==  \"__main__\":\n",
        "  sudoku1 = [\n",
        "  [9, 0, 0, 0, 8, 0, 3, 0, 0],\n",
        "  [2, 0, 0, 2, 5, 0, 7, 0, 0],\n",
        "  [0, 2, 0, 3, 0, 0, 0, 0, 4],\n",
        "  [2, 9, 4, 0, 0, 0, 0, 0, 0],\n",
        "  [0, 0, 0, 7, 3, 0, 5, 6, 0],\n",
        "  [7, 0, 5, 0, 6, 0, 4, 0, 0],\n",
        "  [0, 0, 7, 8, 0, 3, 9, 0, 0],\n",
        "  [0, 0, 1, 0, 0, 0, 0, 0, 3],\n",
        "  [3, 0, 0, 0, 0, 0, 0, 0, 2]\n",
        "]\n",
        "\n",
        "  print(sudoku_grid_correct(sudoku1))\n",
        "  sudoku2 = [\n",
        "  [2, 6, 7, 8, 3, 9, 5, 0, 4],\n",
        "  [9, 0, 3, 5, 1, 0, 6, 0, 0],\n",
        "  [0, 5, 1, 6, 0, 0, 8, 3, 9],\n",
        "  [5, 1, 9, 0, 4, 6, 3, 2, 8],\n",
        "  [8, 0, 2, 1, 0, 5, 7, 0, 6],\n",
        "  [6, 7, 4, 3, 2, 0, 0, 0, 5],\n",
        "  [0, 0, 0, 4, 5, 7, 2, 6, 3],\n",
        "  [3, 2, 0, 0, 8, 0, 0, 5, 7],\n",
        "  [7, 4, 5, 0, 0, 3, 9, 0, 1]\n",
        "]\n",
        "\n",
        "  print(sudoku_grid_correct(sudoku2))"
      ],
      "metadata": {
        "colab": {
          "base_uri": "https://localhost:8080/"
        },
        "id": "whhyI5quGSKN",
        "outputId": "6da6c05c-66f8-47ec-e49d-f71bfa2c5edc"
      },
      "execution_count": null,
      "outputs": [
        {
          "output_type": "stream",
          "name": "stdout",
          "text": [
            "False\n",
            "True\n"
          ]
        }
      ]
    },
    {
      "cell_type": "code",
      "source": [
        "def double_items(number: list):\n",
        "  numbers = number.copy()\n",
        "  for num in range(len(numbers)):\n",
        "    numbers[num] = numbers[num] * 2\n",
        "  return numbers\n",
        "\n",
        "if __name__ == \"__main__\":\n",
        "    numbers = [2, 4, 5, 3, 11, -4]\n",
        "    numbers_doubled = double_items(numbers)\n",
        "    print(\"original:\", numbers)\n",
        "    print(\"doubled:\", numbers_doubled)"
      ],
      "metadata": {
        "colab": {
          "base_uri": "https://localhost:8080/"
        },
        "id": "xwxZJ3G_KOBo",
        "outputId": "5968f5c1-2c62-497e-82f4-063380cf09df"
      },
      "execution_count": null,
      "outputs": [
        {
          "output_type": "stream",
          "name": "stdout",
          "text": [
            "original: [2, 4, 5, 3, 11, -4]\n",
            "doubled: [4, 8, 10, 6, 22, -8]\n"
          ]
        }
      ]
    },
    {
      "cell_type": "code",
      "source": [
        "def remove_smallest(numbers: list):\n",
        "  minimum = min(numbers)\n",
        "  numbers.remove(minimum)\n",
        "  return numbers\n",
        "\n",
        "if __name__ == \"__main__\":\n",
        "  numbers = [2, 4, 6, 1, 3, 5]\n",
        "  remove_smallest(numbers)\n",
        "  print(numbers)\n"
      ],
      "metadata": {
        "colab": {
          "base_uri": "https://localhost:8080/"
        },
        "id": "1w036ngTiV7a",
        "outputId": "b6f6f84e-68ca-4c61-d836-1369c7beece9"
      },
      "execution_count": null,
      "outputs": [
        {
          "output_type": "stream",
          "name": "stdout",
          "text": [
            "[2, 4, 6, 3, 5]\n"
          ]
        }
      ]
    },
    {
      "cell_type": "code",
      "source": [
        "import copy\n",
        "\n",
        "def print_sudoku(sudoku: list):\n",
        "  for i, row in enumerate(sudoku):\n",
        "    for j,col in enumerate(row):\n",
        "      if col == 0:\n",
        "        print(\"_\",end = ' ')\n",
        "      else:\n",
        "        print(col,end = \" \")\n",
        "      if (j + 1) % 3 == 0 and j < 8:\n",
        "        print(\" \",end = \"\")\n",
        "    print()\n",
        "    if (i + 1) % 3 == 0 and i < 8:\n",
        "        print()\n",
        "\n",
        "def add_number(sudoku: list,row: int,col: int,value: int):\n",
        "  sudoku[row][col] = value\n",
        "\n",
        "if __name__ == '__main__':\n",
        "  sudoku  = [\n",
        "    [0, 0, 0, 0, 0, 0, 0, 0, 0],\n",
        "    [0, 0, 0, 0, 0, 0, 0, 0, 0],\n",
        "    [0, 0, 0, 0, 0, 0, 0, 0, 0],\n",
        "    [0, 0, 0, 0, 0, 0, 0, 0, 0],\n",
        "    [0, 0, 0, 0, 0, 0, 0, 0, 0],\n",
        "    [0, 0, 0, 0, 0, 0, 0, 0, 0],\n",
        "    [0, 0, 0, 0, 0, 0, 0, 0, 0],\n",
        "    [0, 0, 0, 0, 0, 0, 0, 0, 0],\n",
        "    [0, 0, 0, 0, 0, 0, 0, 0, 0]\n",
        "]\n",
        "\n",
        "print_sudoku(sudoku)\n",
        "add_number(sudoku, 0, 0, 2)\n",
        "add_number(sudoku, 1, 2, 7)\n",
        "add_number(sudoku, 5, 7, 3)\n",
        "print()\n",
        "print(\"Three numbers added:\")\n",
        "print()\n",
        "print_sudoku(sudoku)"
      ],
      "metadata": {
        "colab": {
          "base_uri": "https://localhost:8080/"
        },
        "id": "OK8OrUX8jIZ3",
        "outputId": "8c873c78-9dc7-460a-c845-3be4ebd7ce88"
      },
      "execution_count": null,
      "outputs": [
        {
          "output_type": "stream",
          "name": "stdout",
          "text": [
            "_ _ _  _ _ _  _ _ _ \n",
            "_ _ _  _ _ _  _ _ _ \n",
            "_ _ _  _ _ _  _ _ _ \n",
            "\n",
            "_ _ _  _ _ _  _ _ _ \n",
            "_ _ _  _ _ _  _ _ _ \n",
            "_ _ _  _ _ _  _ _ _ \n",
            "\n",
            "_ _ _  _ _ _  _ _ _ \n",
            "_ _ _  _ _ _  _ _ _ \n",
            "_ _ _  _ _ _  _ _ _ \n",
            "\n",
            "Three numbers added:\n",
            "\n",
            "2 _ _  _ _ _  _ _ _ \n",
            "_ _ 7  _ _ _  _ _ _ \n",
            "_ _ _  _ _ _  _ _ _ \n",
            "\n",
            "_ _ _  _ _ _  _ _ _ \n",
            "_ _ _  _ _ _  _ _ _ \n",
            "_ _ _  _ _ _  _ 3 _ \n",
            "\n",
            "_ _ _  _ _ _  _ _ _ \n",
            "_ _ _  _ _ _  _ _ _ \n",
            "_ _ _  _ _ _  _ _ _ \n"
          ]
        }
      ]
    },
    {
      "cell_type": "code",
      "source": [
        "import copy\n",
        "\n",
        "def print_sudoku(sudoku: list):\n",
        "  for i, row in enumerate(sudoku):\n",
        "    for j,col in enumerate(row):\n",
        "      if col == 0:\n",
        "        print(\"_\",end = ' ')\n",
        "      else:\n",
        "        print(col,end = \" \")\n",
        "      if (j + 1) % 3 == 0 and j < 8:\n",
        "        print(\" \",end = \"\")\n",
        "    print()\n",
        "    if (i + 1) % 3 == 0 and i < 8:\n",
        "        print()\n",
        "\n",
        "def copy_and_add_number(sudo: list,row: int,col: int,value: int):\n",
        "  sudoku = copy.deepcopy(sudo)\n",
        "  sudoku[row][col] = value\n",
        "  return sudoku\n",
        "\n",
        "if __name__ == '__main__':\n",
        "  sudoku  = [\n",
        "    [0, 0, 0, 0, 0, 0, 0, 0, 0],\n",
        "    [0, 0, 0, 0, 0, 0, 0, 0, 0],\n",
        "    [0, 0, 0, 0, 0, 0, 0, 0, 0],\n",
        "    [0, 0, 0, 0, 0, 0, 0, 0, 0],\n",
        "    [0, 0, 0, 0, 0, 0, 0, 0, 0],\n",
        "    [0, 0, 0, 0, 0, 0, 0, 0, 0],\n",
        "    [0, 0, 0, 0, 0, 0, 0, 0, 0],\n",
        "    [0, 0, 0, 0, 0, 0, 0, 0, 0],\n",
        "    [0, 0, 0, 0, 0, 0, 0, 0, 0]\n",
        "]\n",
        "\n",
        "\n",
        "grid_copy = copy_and_add_number(sudoku, 0, 0, 2)\n",
        "grid_copy_1 = copy_and_add_number(grid_copy, 1, 2, 7)\n",
        "grid_copy_2 = copy_and_add_number(grid_copy_1, 5, 7, 3)\n",
        "print()\n",
        "print(\"Copy:\")\n",
        "print()\n",
        "print_sudoku(grid_copy_2)\n",
        "print(\"\\n\\nOriginal: \")\n",
        "print_sudoku(sudoku)"
      ],
      "metadata": {
        "id": "yun-ILV_wky7",
        "colab": {
          "base_uri": "https://localhost:8080/"
        },
        "outputId": "fc9e2a28-ff07-4d08-e299-eccb92e982ca"
      },
      "execution_count": null,
      "outputs": [
        {
          "output_type": "stream",
          "name": "stdout",
          "text": [
            "\n",
            "Copy:\n",
            "\n",
            "2 _ _  _ _ _  _ _ _ \n",
            "_ _ 7  _ _ _  _ _ _ \n",
            "_ _ _  _ _ _  _ _ _ \n",
            "\n",
            "_ _ _  _ _ _  _ _ _ \n",
            "_ _ _  _ _ _  _ _ _ \n",
            "_ _ _  _ _ _  _ 3 _ \n",
            "\n",
            "_ _ _  _ _ _  _ _ _ \n",
            "_ _ _  _ _ _  _ _ _ \n",
            "_ _ _  _ _ _  _ _ _ \n",
            "\n",
            "\n",
            "Original: \n",
            "_ _ _  _ _ _  _ _ _ \n",
            "_ _ _  _ _ _  _ _ _ \n",
            "_ _ _  _ _ _  _ _ _ \n",
            "\n",
            "_ _ _  _ _ _  _ _ _ \n",
            "_ _ _  _ _ _  _ _ _ \n",
            "_ _ _  _ _ _  _ _ _ \n",
            "\n",
            "_ _ _  _ _ _  _ _ _ \n",
            "_ _ _  _ _ _  _ _ _ \n",
            "_ _ _  _ _ _  _ _ _ \n"
          ]
        }
      ]
    },
    {
      "cell_type": "code",
      "source": [
        "def play_turn(game_board: list,col: int,row: int,piece: str):\n",
        "    if game_board[row][col] in [\"X\",\"O\"]:\n",
        "      print(\"Square was occupied\")\n",
        "      return False\n",
        "    elif game_board[row][col] == \"\":\n",
        "      game_board[row][col] = piece\n",
        "      return True\n",
        "    return False\n",
        "\n",
        "if __name__ == \"__main__\":\n",
        "  game_board = [[\"\", \"\", \"\"], [\"\", \"\", \"\"], [\"\", \"\", \"\"]]\n",
        "  print(play_turn(game_board, 2, 0, \"X\"))\n",
        "  print(game_board)\n"
      ],
      "metadata": {
        "colab": {
          "base_uri": "https://localhost:8080/"
        },
        "id": "wThbhnRhQc-I",
        "outputId": "cfd5b3a3-b55f-4c06-920c-fc0af7d65336"
      },
      "execution_count": null,
      "outputs": [
        {
          "output_type": "stream",
          "name": "stdout",
          "text": [
            "True\n",
            "[['', '', 'X'], ['', '', ''], ['', '', '']]\n"
          ]
        }
      ]
    },
    {
      "cell_type": "code",
      "source": [
        "def transpose(matrix: list)-> list:\n",
        "  return [list(rows) for rows in zip(*matrix)]\n",
        "\n",
        "if __name__ == '__main__':\n",
        "  matrix = [[1,2,3],[4,5,6],[7,8,9]]\n",
        "  result = transpose(matrix)\n",
        "  print(result)"
      ],
      "metadata": {
        "colab": {
          "base_uri": "https://localhost:8080/"
        },
        "id": "Pv6Kc_lBUwfh",
        "outputId": "0d24a1cc-1d12-4217-d90b-8cfdc9b8444c"
      },
      "execution_count": null,
      "outputs": [
        {
          "output_type": "stream",
          "name": "stdout",
          "text": [
            "[[1, 4, 7], [2, 5, 8], [3, 6, 9]]\n"
          ]
        }
      ]
    },
    {
      "cell_type": "code",
      "source": [
        "def time_ten(start_index: int,end_index: int):\n",
        "  data = {}\n",
        "  for i in range(start_index,end_index+1):\n",
        "    data[i] = 10 * i\n",
        "\n",
        "  return data\n",
        "\n",
        "if __name__ == \"__main__\":\n",
        "  result = time_ten(3,6)\n",
        "  print(result)"
      ],
      "metadata": {
        "colab": {
          "base_uri": "https://localhost:8080/"
        },
        "id": "8pXM6btUm-ev",
        "outputId": "08324fbb-74a0-43dd-ea45-db1fc627fa89"
      },
      "execution_count": null,
      "outputs": [
        {
          "output_type": "stream",
          "name": "stdout",
          "text": [
            "{3: 30, 4: 40, 5: 50, 6: 60}\n"
          ]
        }
      ]
    },
    {
      "cell_type": "code",
      "source": [
        "def factorial(n: int):\n",
        "  data = {1:1}\n",
        "  for i in range(2,n+1):\n",
        "    data[i] = data[i-1] * i\n",
        "  return data\n",
        "\n",
        "if __name__ == \"__main__\":\n",
        "  result = factorial(5)\n",
        "  print(result[2])\n",
        "  print(result[3])\n",
        "  print(result[4])"
      ],
      "metadata": {
        "colab": {
          "base_uri": "https://localhost:8080/"
        },
        "id": "N-a0NTfdoQa8",
        "outputId": "eb58934b-b102-459d-eee6-648dc9b2ce49"
      },
      "execution_count": null,
      "outputs": [
        {
          "output_type": "stream",
          "name": "stdout",
          "text": [
            "2\n",
            "6\n",
            "24\n",
            "{1: 1, 2: 2, 3: 6, 4: 24, 5: 120}\n"
          ]
        }
      ]
    },
    {
      "cell_type": "code",
      "source": [
        "word_list = [\n",
        "  \"banana\", \"milk\", \"beer\", \"cheese\", \"sourmilk\", \"juice\", \"sausage\",\n",
        "  \"tomato\", \"cucumber\", \"butter\", \"margarine\", \"cheese\", \"sausage\",\n",
        "  \"beer\", \"sourmilk\", \"sourmilk\", \"butter\", \"beer\", \"chocolate\"\n",
        "]\n",
        "\n",
        "def count():\n",
        "  global word_list\n",
        "  data = {}\n",
        "  for word in word_list:\n",
        "    if word not in data:\n",
        "      data[word] = 0\n",
        "\n",
        "    data[word] += 1\n",
        "  return data\n",
        "\n",
        "if __name__ == \"__main__\":\n",
        "  result = count()\n",
        "  print(result)\n"
      ],
      "metadata": {
        "colab": {
          "base_uri": "https://localhost:8080/"
        },
        "id": "GFjIFIB5Xmja",
        "outputId": "79a1c4b9-d255-4c2a-d6ea-67171616f63a"
      },
      "execution_count": null,
      "outputs": [
        {
          "output_type": "stream",
          "name": "stdout",
          "text": [
            "{'banana': 1, 'milk': 1, 'beer': 3, 'cheese': 2, 'sourmilk': 3, 'juice': 1, 'sausage': 2, 'tomato': 1, 'cucumber': 1, 'butter': 2, 'margarine': 1, 'chocolate': 1}\n"
          ]
        }
      ]
    },
    {
      "cell_type": "code",
      "source": [
        "def catagorize_by_initial():\n",
        "  global word_list\n",
        "\n",
        "  groups = {}\n",
        "\n",
        "  for word in word_list:\n",
        "    initial = word[0]\n",
        "\n",
        "    if initial not in groups:\n",
        "      groups[initial] = []\n",
        "\n",
        "    groups[initial].append(word)\n",
        "\n",
        "  return groups\n",
        "\n",
        "result = catagorize_by_initial()\n",
        "for key,value in result.items():\n",
        "  print(f\"Words starting with letter {key}: \")\n",
        "  for i in value:\n",
        "    print(i)\n"
      ],
      "metadata": {
        "colab": {
          "base_uri": "https://localhost:8080/"
        },
        "id": "_hnGNA4dXqsp",
        "outputId": "787ed35c-97cf-4500-9a9b-1242d14a1717"
      },
      "execution_count": null,
      "outputs": [
        {
          "output_type": "stream",
          "name": "stdout",
          "text": [
            "Words starting with letter b: \n",
            "banana\n",
            "beer\n",
            "butter\n",
            "beer\n",
            "butter\n",
            "beer\n",
            "Words starting with letter m: \n",
            "milk\n",
            "margarine\n",
            "Words starting with letter c: \n",
            "cheese\n",
            "cucumber\n",
            "cheese\n",
            "chocolate\n",
            "Words starting with letter s: \n",
            "sourmilk\n",
            "sausage\n",
            "sausage\n",
            "sourmilk\n",
            "sourmilk\n",
            "Words starting with letter j: \n",
            "juice\n",
            "Words starting with letter t: \n",
            "tomato\n"
          ]
        }
      ]
    },
    {
      "cell_type": "code",
      "source": [
        "def histogram(word):\n",
        "  data = {}\n",
        "  for letter in word:\n",
        "    if letter not in data:\n",
        "      data[letter] = 0\n",
        "    data[letter] += 1\n",
        "\n",
        "  return data\n",
        "\n",
        "if __name__ == \"__main__\":\n",
        "  result = histogram(\"statistically\")\n",
        "  for key,value in result.items():\n",
        "    print(key,value * \"*\")"
      ],
      "metadata": {
        "colab": {
          "base_uri": "https://localhost:8080/"
        },
        "id": "O0K449WMbbUN",
        "outputId": "8dbf9bc2-a196-4107-818c-d2ff32c2daeb"
      },
      "execution_count": null,
      "outputs": [
        {
          "output_type": "stream",
          "name": "stdout",
          "text": [
            "s **\n",
            "t ***\n",
            "a **\n",
            "i **\n",
            "c *\n",
            "l **\n",
            "y *\n"
          ]
        }
      ]
    },
    {
      "cell_type": "code",
      "source": [
        "from ast import NotIn\n",
        "#PhoneBook version 1\n",
        "storage = dict()\n",
        "def search():\n",
        "  search = input(\"name: \")\n",
        "  if not storage.get(search):\n",
        "    print(\"no number\")\n",
        "  else:\n",
        "    print(storage[search])\n",
        "\n",
        "def add():\n",
        "  global storage\n",
        "  name = input(\"name: \")\n",
        "  number = int(input(\"number: \"))\n",
        "  storage[name] = number\n",
        "  print(\"ok\")\n",
        "\n",
        "while True:\n",
        "  choice = int(input(\"command (1 search, 2 add, 3 quit): \"))\n",
        "  if choice == 1:\n",
        "    search()\n",
        "  elif choice == 2:\n",
        "    add()\n",
        "  elif choice == 3:\n",
        "    print(\"quitting...\")\n",
        "    break\n",
        "  else:\n",
        "    print(\"Invalid Choice\")\n"
      ],
      "metadata": {
        "id": "AH8lK28abt3w",
        "colab": {
          "base_uri": "https://localhost:8080/"
        },
        "outputId": "ab263f7a-e939-4ea6-e604-790226c09ed0"
      },
      "execution_count": null,
      "outputs": [
        {
          "name": "stdout",
          "output_type": "stream",
          "text": [
            "command (1 search, 2 add, 3 quit): 2\n",
            "name: ALPHA\n",
            "number: 112\n",
            "ok\n",
            "command (1 search, 2 add, 3 quit): 2\n",
            "name: charlie\n",
            "number: 890\n",
            "ok\n",
            "command (1 search, 2 add, 3 quit): 2\n",
            "name: onion\n",
            "number: 1000\n",
            "ok\n",
            "command (1 search, 2 add, 3 quit): 1\n",
            "name: charlie\n",
            "890\n",
            "command (1 search, 2 add, 3 quit): 1\n",
            "name: onion\n",
            "1000\n",
            "command (1 search, 2 add, 3 quit): 3\n"
          ]
        }
      ]
    },
    {
      "cell_type": "code",
      "source": [
        "#PhoneBook Version 2\n",
        "storage = dict()\n",
        "def search():\n",
        "  search = input(\"name: \")\n",
        "  if not storage.get(search):\n",
        "    print(\"no number\")\n",
        "  else:\n",
        "    for i in storage[search]:\n",
        "      print(i)\n",
        "\n",
        "def add():\n",
        "  global storage\n",
        "  name = input(\"name: \")\n",
        "  number = int(input(\"number: \"))\n",
        "  if name not in storage:\n",
        "    storage[name] = []\n",
        "  storage[name].append(number)\n",
        "  print(\"ok\")\n",
        "\n",
        "while True:\n",
        "  choice = int(input(\"command (1 search, 2 add, 3 quit): \"))\n",
        "  if choice == 1:\n",
        "    search()\n",
        "  elif choice == 2:\n",
        "    add()\n",
        "  elif choice == 3:\n",
        "    print(\"quitting...\")\n",
        "    break\n",
        "  else:\n",
        "    print(\"Invalid Choice\")\n"
      ],
      "metadata": {
        "colab": {
          "base_uri": "https://localhost:8080/"
        },
        "id": "RA97VQ3TR7LP",
        "outputId": "418aab78-2856-4209-80a1-d7bbbb67af92"
      },
      "execution_count": null,
      "outputs": [
        {
          "output_type": "stream",
          "name": "stdout",
          "text": [
            "command (1 search, 2 add, 3 quit): 2\n",
            "name: onion\n",
            "number: 112\n",
            "ok\n",
            "command (1 search, 2 add, 3 quit): 2\n",
            "name: onion\n",
            "number: 222\n",
            "ok\n",
            "command (1 search, 2 add, 3 quit): 1\n",
            "name: onion\n",
            "112\n",
            "222\n",
            "command (1 search, 2 add, 3 quit): 1\n",
            "name: alpha\n",
            "no number\n",
            "command (1 search, 2 add, 3 quit): 3\n",
            "quitting...\n"
          ]
        }
      ]
    },
    {
      "cell_type": "code",
      "source": [
        "def invert(data: dict):\n",
        "  new_data = dict()\n",
        "  for key,value in data.items():\n",
        "    new_data[value] = key\n",
        "\n",
        "  return new_data\n",
        "\n",
        "if __name__ == \"__main__\":\n",
        "  s = {1: \"first\", 2: \"second\", 3: \"third\", 4: \"fourth\"}\n",
        "  result = invert(s)\n",
        "  print(result)"
      ],
      "metadata": {
        "colab": {
          "base_uri": "https://localhost:8080/"
        },
        "id": "_g3Vb-nRXWaA",
        "outputId": "031ad495-4caa-49ab-9a4c-d6b23442f73b"
      },
      "execution_count": null,
      "outputs": [
        {
          "output_type": "stream",
          "name": "stdout",
          "text": [
            "{'first': 1, 'second': 2, 'third': 3, 'fourth': 4}\n"
          ]
        }
      ]
    },
    {
      "cell_type": "code",
      "source": [
        "def dict_of_numbers(number: int):\n",
        "  ones = {0: \"zero\", 1: \"one\", 2: \"two\", 3: \"three\", 4: \"four\",\n",
        "          5: \"five\", 6: \"six\", 7: \"seven\", 8: \"eight\", 9: \"nine\"}\n",
        "\n",
        "  teens = {10: \"ten\", 11: \"eleven\", 12: \"twelve\", 13: \"thirteen\",\n",
        "            14: \"fourteen\", 15: \"fifteen\", 16: \"sixteen\",\n",
        "            17: \"seventeen\", 18: \"eighteen\", 19: \"nineteen\"}\n",
        "\n",
        "  tens = {20: \"twenty\", 30: \"thirty\", 40: \"forty\", 50: \"fifty\",\n",
        "          60: \"sixty\", 70: \"seventy\", 80: \"eighty\", 90: \"ninety\"}\n",
        "\n",
        "  numbers = dict()\n",
        "\n",
        "  numbers.update(ones)\n",
        "  numbers.update(teens)\n",
        "\n",
        "\n",
        "  for i in tens:\n",
        "    for j in ones:\n",
        "      numbers[i+j] = (tens[i]+ \"-\" + ones[j])\n",
        "\n",
        "  print(numbers[number])\n",
        "if __name__ == \"__main__\":\n",
        "  dict_of_numbers(13)\n",
        "  dict_of_numbers(36)\n",
        "  dict_of_numbers(0)\n",
        "  dict_of_numbers(43)\n"
      ],
      "metadata": {
        "colab": {
          "base_uri": "https://localhost:8080/"
        },
        "id": "AIRYnaWfYTJD",
        "outputId": "6c0f8726-7c0a-42d4-bce7-94373a15e371"
      },
      "execution_count": null,
      "outputs": [
        {
          "output_type": "stream",
          "name": "stdout",
          "text": [
            "thirteen\n",
            "thirty-six\n",
            "zero\n",
            "forty-three\n"
          ]
        }
      ]
    },
    {
      "cell_type": "code",
      "source": [
        "def add_movie(database: list, name: str, director: str, year: int, runtime: int):\n",
        "  data = {\"name\" : name, \"director\": director, \"year\" : year, \"runtime\" : runtime}\n",
        "  database.append(data)\n",
        "\n",
        "def find_movies(database: list, search_term: str):\n",
        "  result = []\n",
        "  for movie in database:\n",
        "    if search_term.lower() in movie[\"name\"].lower():\n",
        "      result.append(movie[\"name\"])\n",
        "  return result\n",
        "\n",
        "if __name__ == \"__main__\":\n",
        "  database = []\n",
        "  add_movie(database, \"Gone with the Python\", \"Victor Pything\", 2017, 116)\n",
        "  add_movie(database, \"Pythons on a Plane\", \"Renny Pytholin\", 2001, 94)\n",
        "  print(database)\n",
        "\n",
        "  my_movies = find_movies(database, \"python\")\n",
        "  print(my_movies)"
      ],
      "metadata": {
        "colab": {
          "base_uri": "https://localhost:8080/"
        },
        "id": "3S7sHCbjaNvS",
        "outputId": "9e471383-e257-4893-89eb-89d45567dda4"
      },
      "execution_count": null,
      "outputs": [
        {
          "output_type": "stream",
          "name": "stdout",
          "text": [
            "[{'name': 'Gone with the Python', 'director': 'Victor Pything', 'year': 2017, 'runtime': 116}, {'name': 'Pythons on a Plane', 'director': 'Renny Pytholin', 'year': 2001, 'runtime': 94}]\n",
            "['Gone with the Python', 'Pythons on a Plane']\n"
          ]
        }
      ]
    },
    {
      "cell_type": "code",
      "source": [
        "def create_tuple(x: int,y: int,z: int):\n",
        "  a = [x,y,z]\n",
        "  result = min(a),max(a),sum(a)\n",
        "  return tuple(result)\n",
        "\n",
        "if __name__ == \"__main__\":\n",
        "  print(create_tuple(5, 3, -1))"
      ],
      "metadata": {
        "colab": {
          "base_uri": "https://localhost:8080/"
        },
        "id": "kNIyc7k5hqOX",
        "outputId": "fbcf6fe1-1685-4ea5-9717-82ae4dee496c"
      },
      "execution_count": null,
      "outputs": [
        {
          "output_type": "stream",
          "name": "stdout",
          "text": [
            "(-1, 5, 7)\n"
          ]
        }
      ]
    },
    {
      "cell_type": "code",
      "source": [
        "def oldest_person(people: list):\n",
        "  minimum = float(\"inf\")\n",
        "  name_chaser = None #XD\n",
        "  for i in people:\n",
        "    if i[1] < minimum:\n",
        "      minimum = i[1]\n",
        "      name_chaser = i[0]\n",
        "  return name_chaser\n",
        "\n",
        "if __name__ == \"__main__\":\n",
        "  p1 = (\"Adam\", 1977)\n",
        "  p2 = (\"Ellen\", 1985)\n",
        "  p3 = (\"Mary\", 1953)\n",
        "  p4 = (\"Ernest\", 1997)\n",
        "  people = [p1, p2, p3, p4]\n",
        "\n",
        "  print(oldest_person(people))"
      ],
      "metadata": {
        "colab": {
          "base_uri": "https://localhost:8080/"
        },
        "id": "mVO_2IuMmNdW",
        "outputId": "91522a46-331f-43c9-ab58-89d21051f677"
      },
      "execution_count": null,
      "outputs": [
        {
          "output_type": "stream",
          "name": "stdout",
          "text": [
            "Mary\n"
          ]
        }
      ]
    },
    {
      "cell_type": "code",
      "source": [
        "def older_people(people: list, year: int):\n",
        "  result = []\n",
        "  for i in people:\n",
        "    if i[1] < year:\n",
        "      result.append(i[0])\n",
        "  return result\n",
        "\n",
        "if __name__ == \"__main__\":\n",
        "  p1 = (\"Adam\", 1977)\n",
        "  p2 = (\"Ellen\", 1985)\n",
        "  p3 = (\"Mary\", 1953)\n",
        "  p4 = (\"Ernest\", 1997)\n",
        "  people = [p1, p2, p3, p4]\n",
        "\n",
        "  older = older_people(people, 1979)\n",
        "  print(older)\n"
      ],
      "metadata": {
        "colab": {
          "base_uri": "https://localhost:8080/"
        },
        "id": "KGXIHrJQn3tA",
        "outputId": "8e057752-f103-41bb-f74d-26ed0e7e30c0"
      },
      "execution_count": null,
      "outputs": [
        {
          "output_type": "stream",
          "name": "stdout",
          "text": [
            "['Adam', 'Mary']\n"
          ]
        }
      ]
    },
    {
      "cell_type": "code",
      "source": [
        "# student database\n",
        "\n",
        "def add_student(database, student: str ,arg = None) -> None:\n",
        "  database[student] = arg if arg is not None else []\n",
        "\n",
        "def print_student(database,student: str) -> None:\n",
        "\n",
        "  if student not in database:\n",
        "    print(f\"{student}: no such person exists in the the database\")\n",
        "  elif not database[student]:\n",
        "    print(f\"{student}:\")\n",
        "    print(\"no completed course\")\n",
        "  else:\n",
        "    print(f\"{student}:\")\n",
        "\n",
        "    for courses,ratings in database[student]:\n",
        "      print(f\"{courses} {ratings}\")\n",
        "\n",
        "    credits = [scores for _ , scores in database[student]]\n",
        "    average = sum(credits)/len(credits)\n",
        "    print(f\"Average grade: {average:.1f}\")\n",
        "\n",
        "\n",
        "def add_course(database,student: str, arg : tuple) -> None:\n",
        "  if student in database:\n",
        "    for i,(course,credit) in enumerate(database[student]):\n",
        "      if arg[0] == course:\n",
        "        if arg[1] > credit:\n",
        "          database[student][i] = arg\n",
        "        return\n",
        "\n",
        "    if arg[1] != 0:\n",
        "      database[student].append(arg)\n",
        "\n",
        "  else:\n",
        "      print(f\"{student} does not exist in the database.\")\n",
        "\n",
        "def summary(database: dict) -> None:\n",
        "  students = list(database.keys())\n",
        "\n",
        "  most_course_completed = 0\n",
        "  most_courses_completed_std = \"\"\n",
        "  result = {}\n",
        "  for i in range(len(students)):\n",
        "    if len(database[students[i]]) > most_course_completed:\n",
        "      most_course_completed = len(database[students[i]])\n",
        "      most_courses_completed_std = students[i]\n",
        "\n",
        "    length = len(database[students[i]])\n",
        "    total_sum = 0\n",
        "    for data in database[students[i]]:\n",
        "      total_sum += data[1]\n",
        "    average = total_sum / length\n",
        "    result[students[i]] = average\n",
        "\n",
        "  student = students[0]\n",
        "  highest_gpa = result[student]\n",
        "\n",
        "  for k,v in result.items():\n",
        "    if v > highest_gpa:\n",
        "      highest_gpa = v\n",
        "      student = k\n",
        "\n",
        "  print(\"students\",len(database))\n",
        "  print(f\"most course completed {most_course_completed} {most_courses_completed_std}\")\n",
        "  print(f\"Best average grade {highest_gpa} {student}\")\n",
        "\n",
        "\n",
        "if __name__ == \"__main__\":\n",
        "  students = {}\n",
        "  add_student(students, \"Peter\")\n",
        "  add_student(students, \"Eliza\")\n",
        "  add_course(students, \"Peter\", (\"Data Structures and Algorithms\", 1))\n",
        "  add_course(students, \"Peter\", (\"Introduction to Programming\", 1))\n",
        "  add_course(students, \"Peter\", (\"Advanced Course in Programming\", 1))\n",
        "  add_course(students, \"Eliza\", (\"Introduction to Programming\", 5))\n",
        "  add_course(students, \"Eliza\", (\"Introduction to Computer Science\", 4))\n",
        "  summary(students)\n"
      ],
      "metadata": {
        "colab": {
          "base_uri": "https://localhost:8080/"
        },
        "id": "C6PP_6ZHuKiI",
        "outputId": "a930324c-9b2c-4801-82c9-fa188f9078b0"
      },
      "execution_count": null,
      "outputs": [
        {
          "output_type": "stream",
          "name": "stdout",
          "text": [
            "students 2\n",
            "most course completed 3 Peter\n",
            "Best average grade 4.5 Eliza\n"
          ]
        }
      ]
    },
    {
      "cell_type": "markdown",
      "source": [
        "# Reading Files\n"
      ],
      "metadata": {
        "id": "G58sQnNthZfL"
      }
    },
    {
      "cell_type": "code",
      "source": [
        "from google.colab import drive\n",
        "import shutil\n",
        "import os\n",
        "\n",
        "drive.mount('/content/drive')\n",
        "# shutil.copytree(\"/content/Reading_Files\", \"/content/drive/MyDrive/Reading_Files\", dirs_exist_ok=True)\n",
        "\n",
        "folder_path = \"/content/drive/MyDrive/Reading_Files\"\n",
        "\n",
        "files = os.listdir(folder_path)\n",
        "print(files)\n"
      ],
      "metadata": {
        "colab": {
          "base_uri": "https://localhost:8080/"
        },
        "id": "rmcjBpuF3ylY",
        "outputId": "a9458e0f-d89f-4eba-c881-d83c462bcdf2"
      },
      "execution_count": null,
      "outputs": [
        {
          "output_type": "stream",
          "name": "stdout",
          "text": [
            "Mounted at /content/drive\n",
            "['.ipynb_checkpoints', 'Copy of Example.txt', 'names.csv', 'people.csv', 'fruits.csv', 'my_matrix.txt', 'Example.txt', 'numbers.txt', 'grades.csv', 'combination of files', 'course grading part 1', 'course grading part 2']\n"
          ]
        }
      ]
    },
    {
      "cell_type": "code",
      "source": [
        "with open(\"/content/drive/MyDrive/Reading_Files/Example.txt\") as file:\n",
        "  content = file.read()\n",
        "  print(content)"
      ],
      "metadata": {
        "id": "JLM5tFBsZjPE",
        "colab": {
          "base_uri": "https://localhost:8080/"
        },
        "outputId": "b3cb8d9b-51c5-4832-e199-2777d0582eb7"
      },
      "execution_count": null,
      "outputs": [
        {
          "output_type": "stream",
          "name": "stdout",
          "text": [
            "Hello there!\n",
            "This example file contains three lines of text.\n",
            "This is the last line.\n"
          ]
        }
      ]
    },
    {
      "cell_type": "code",
      "source": [
        "with open(\"/content/drive/MyDrive/Reading_Files/Example.txt\") as new_file:\n",
        "  count = 0\n",
        "  total_length = 0\n",
        "  for line in new_file:\n",
        "    line = line.replace(\"\\n\",\"\")\n",
        "    count += 1\n",
        "    print(\"line\",count,line)\n",
        "    total_length += len(line)\n",
        "  print(\"Total length of lines\",total_length)"
      ],
      "metadata": {
        "colab": {
          "base_uri": "https://localhost:8080/"
        },
        "id": "8ALDPvH7PZFT",
        "outputId": "2d0d7443-b058-427f-822d-f7d5ab43ff1d"
      },
      "execution_count": null,
      "outputs": [
        {
          "output_type": "stream",
          "name": "stdout",
          "text": [
            "line 1 Hello there!\n",
            "line 2 This example file contains three lines of text.\n",
            "line 3 This is the last line.\n",
            "Total length of lines 81\n"
          ]
        }
      ]
    },
    {
      "cell_type": "code",
      "source": [
        "def largest():\n",
        "  with open(\"/content/drive/MyDrive/Reading_Files/numbers.txt\") as file:\n",
        "    data = [int(line.strip()) for line in file]\n",
        "    print(max(data))\n",
        "\n",
        "largest()"
      ],
      "metadata": {
        "id": "9bYFP6zDP3Md",
        "colab": {
          "base_uri": "https://localhost:8080/"
        },
        "outputId": "8a8f3f86-a2f4-4f9d-c2c4-0a08e9e03b9e"
      },
      "execution_count": null,
      "outputs": [
        {
          "output_type": "stream",
          "name": "stdout",
          "text": [
            "1100\n"
          ]
        }
      ]
    },
    {
      "cell_type": "code",
      "source": [
        "with open(\"/content/drive/MyDrive/Reading_Files/grades.csv\") as file:\n",
        "  for line in file:\n",
        "    line = line.strip()\n",
        "    parts = line.split(\";\")\n",
        "    print(\"name:\",parts[0])\n",
        "    print(\"Grades:\",parts[1:])"
      ],
      "metadata": {
        "colab": {
          "base_uri": "https://localhost:8080/"
        },
        "id": "EyJ2zpl8t1Y8",
        "outputId": "e003a855-cf52-489e-c436-ac7268c167fc"
      },
      "execution_count": null,
      "outputs": [
        {
          "output_type": "stream",
          "name": "stdout",
          "text": [
            "name: Paul\n",
            "Grades: ['5', '4', '5', '3', '4', '5', '5', '4', '2', '4']\n",
            "name: Beth\n",
            "Grades: ['3', '4', '2', '4', '4', '2', '3', '1', '3', '3']\n",
            "name: Ruth\n",
            "Grades: ['4', '5', '5', '4', '5', '5', '4', '5', '4', '4']\n"
          ]
        }
      ]
    },
    {
      "cell_type": "code",
      "source": [
        "def read_fruits():\n",
        "  result = dict()\n",
        "  with open(\"/content/drive/MyDrive/Reading_Files/fruits.csv\") as file:\n",
        "    for line in file:\n",
        "      line = line.strip()\n",
        "      parts = line.split(\";\")\n",
        "      result[parts[0]] = parts[1]\n",
        "  print(result)\n",
        "\n",
        "if __name__ == \"__main__\":\n",
        "  read_fruits()"
      ],
      "metadata": {
        "colab": {
          "base_uri": "https://localhost:8080/"
        },
        "id": "pJpSxLKMvd4N",
        "outputId": "72dc4505-a438-4868-e246-310008289957"
      },
      "execution_count": null,
      "outputs": [
        {
          "output_type": "stream",
          "name": "stdout",
          "text": [
            "{'banana': '6.50', 'apple': '4.95', 'orange': '8.0'}\n"
          ]
        }
      ]
    },
    {
      "cell_type": "code",
      "source": [
        "def matrix_sum():\n",
        "  total = 0\n",
        "  with open(\"/content/drive/MyDrive/Reading_Files/my_matrix.txt\") as file:\n",
        "    for line in file:\n",
        "      line = line.strip()\n",
        "      result = [int(i) for i in line.split(\",\")]\n",
        "      total += sum(result)\n",
        "  print(\"Total sum of the matrix is\",total)\n",
        "\n",
        "def matrix_max():\n",
        "  new_list = []\n",
        "  with open(\"/content/drive/MyDrive/Reading_Files/my_matrix.txt\") as file:\n",
        "    for line in file:\n",
        "      line = line.strip()\n",
        "      new_list.extend([int(i) for i in line.split(\",\")])\n",
        "  print(\"Largest value of the matrix is\",max(new_list))\n",
        "\n",
        "def row_sum():\n",
        "  data = []\n",
        "  with open(\"/content/drive/MyDrive/Reading_Files/my_matrix.txt\") as file:\n",
        "    for line in file:\n",
        "      line = line.strip()\n",
        "      result = [int(i) for i in line.split(\",\")]\n",
        "      data.append(sum(result))\n",
        "  print(\"Row sum of the matrix are\",data)\n",
        "\n",
        "def main():\n",
        "  matrix_sum()\n",
        "  matrix_max()\n",
        "  row_sum()\n",
        "\n",
        "if __name__ == \"__main__\":\n",
        "  main()"
      ],
      "metadata": {
        "colab": {
          "base_uri": "https://localhost:8080/"
        },
        "id": "5YlhPqVy0D1t",
        "outputId": "23e00eb8-5523-4bf3-9a7f-d195b7f59d99"
      },
      "execution_count": null,
      "outputs": [
        {
          "output_type": "stream",
          "name": "stdout",
          "text": [
            "Total sum of the matrix is 79\n",
            "Largest value of the matrix is 10\n",
            "Row sum of the matrix are [30, 49]\n"
          ]
        }
      ]
    },
    {
      "cell_type": "code",
      "source": [
        "peoples = []\n",
        "with open(\"/content/drive/MyDrive/Reading_Files/people.csv\") as file:\n",
        "  for line in file:\n",
        "    line = line.strip()\n",
        "    data = line.split(\";\")\n",
        "    peoples.append((data[0],data[1],data[2]))\n",
        "\n",
        "oldest = -1\n",
        "name = ''\n",
        "for person in peoples:\n",
        "  if int(person[1]) > oldest:\n",
        "    oldest = int(person[1])\n",
        "    name = person[0]\n",
        "print(\"Oldest is {}\".format(name))"
      ],
      "metadata": {
        "colab": {
          "base_uri": "https://localhost:8080/"
        },
        "id": "-jE-KLLv9owb",
        "outputId": "5c9c62c6-5e97-49b4-9b8f-44ea1ecae6f8"
      },
      "execution_count": null,
      "outputs": [
        {
          "output_type": "stream",
          "name": "stdout",
          "text": [
            "Oldest is Adam\n"
          ]
        }
      ]
    },
    {
      "cell_type": "code",
      "source": [
        "data = dict()\n",
        "with open(\"/content/drive/MyDrive/Reading_Files/grades.csv\") as file:\n",
        "  for line in file:\n",
        "    line = line.strip()\n",
        "    parts = line.split(\";\")\n",
        "    data[parts[0]] = [int(i) for i in parts[1:]]\n",
        "\n",
        "for names,grade_list in data.items():\n",
        "  best = max(grade_list)\n",
        "  average = sum(grade_list) / len(grade_list)\n",
        "  print(f\"Name: {names} grade {best} average {average}\")\n"
      ],
      "metadata": {
        "colab": {
          "base_uri": "https://localhost:8080/"
        },
        "id": "oYfnFRwgJWYC",
        "outputId": "5d170790-86e2-4c3c-c7a4-7bcb2f8bb8b8"
      },
      "execution_count": null,
      "outputs": [
        {
          "output_type": "stream",
          "name": "stdout",
          "text": [
            "Name: Paul grade 5 average 4.1\n",
            "Name: Beth grade 4 average 2.9\n",
            "Name: Ruth grade 5 average 4.5\n"
          ]
        }
      ]
    },
    {
      "cell_type": "code",
      "source": [
        "names = dict()\n",
        "with open(\"/content/drive/MyDrive/Reading_Files/combination of files/employees.csv\") as file:\n",
        "  for line in file:\n",
        "    line = line.split(\";\")\n",
        "    if line[0] == \"pic\":\n",
        "      continue\n",
        "    names[line[0]] = line[1]\n",
        "\n",
        "salaries = dict()\n",
        "with open(\"/content/drive/MyDrive/Reading_Files/combination of files/salaries.csv\") as file:\n",
        "  for line in file:\n",
        "    line = line.split(\";\")\n",
        "    if line[0] == \"pic\":\n",
        "      continue\n",
        "    salaries[line[0]] = int(line[1]) + int(line[2])\n",
        "\n",
        "print(\"income: \")\n",
        "for i,v in names.items():\n",
        "  if i in salaries:\n",
        "    salary = salaries[i]\n",
        "    print(v,salary,\"euros\")\n",
        "print(v,0,\"euros\")"
      ],
      "metadata": {
        "id": "V5p7FCi8gW33",
        "colab": {
          "base_uri": "https://localhost:8080/"
        },
        "outputId": "fcffaa86-6032-4a78-869f-e0967b20a20e"
      },
      "execution_count": null,
      "outputs": [
        {
          "output_type": "stream",
          "name": "stdout",
          "text": [
            "income: \n",
            "Pekka Mikkola 3300 euros\n",
            "Liisa Marttinen 4350 euros\n",
            "Arto Vihavainen 2500 euros\n",
            "Leevi Hellas 0 euros\n"
          ]
        }
      ]
    },
    {
      "cell_type": "code",
      "source": [
        "if False:\n",
        "    student_info = input(\"Student information: \")\n",
        "    exercise_data = input(\"Exercises completed: \")\n",
        "else:\n",
        "\n",
        "    student_info = \"/content/drive/MyDrive/Reading_Files/course grading part 1/students.csv\"\n",
        "    exercise_data = \"/content/drive/MyDrive/Reading_Files/course grading part 1/exercises.csv\"\n",
        "\n",
        "data = dict()\n",
        "\n",
        "with open(student_info) as file:\n",
        "  next(file)\n",
        "  for line in file:\n",
        "    line = line.strip().split(\";\")\n",
        "    data[line[0]] = line[1] + \" \" + line[2]\n",
        "\n",
        "with open(exercise_data) as file:\n",
        "  next(file)\n",
        "  for line in file:\n",
        "    line = line.strip().split(\";\")\n",
        "    student_id = line[0]\n",
        "    exercises = sum([int(i) for i in line[1:]])\n",
        "\n",
        "    id = data.get(student_id,\"unknown student\")\n",
        "    print(id,exercises)\n"
      ],
      "metadata": {
        "colab": {
          "base_uri": "https://localhost:8080/"
        },
        "id": "VhHZg8dAi1xw",
        "outputId": "0c689b69-0d4f-4740-cce0-0b1d1fd09c51"
      },
      "execution_count": null,
      "outputs": [
        {
          "output_type": "stream",
          "name": "stdout",
          "text": [
            "peter pythons 21\n",
            "jean javanese 27\n",
            "alice adder 35\n"
          ]
        }
      ]
    },
    {
      "cell_type": "code",
      "source": [
        "if False:\n",
        "    student_info = input(\"Student information: \")\n",
        "    exercise_data = input(\"Exercises completed: \")\n",
        "    exam_points = input(\"Exams points: \")\n",
        "else:\n",
        "\n",
        "    student_info = \"/content/drive/MyDrive/Reading_Files/course grading part 1/students.csv\"\n",
        "    exercise_data = \"/content/drive/MyDrive/Reading_Files/course grading part 1/exercises.csv\"\n",
        "    exam_points = \"/content/drive/MyDrive/Reading_Files/course grading part 2/exam_points.csv\"\n",
        "\n",
        "student_data = dict()\n",
        "with open(student_info) as file:\n",
        "  next(file)\n",
        "  for line in file:\n",
        "    line = line.strip().split(\";\")\n",
        "    student_data[line[0]] = line[1] + \" \" + line[2]\n",
        "\n",
        "exercises_completed = dict()\n",
        "with open(exercise_data) as file:\n",
        "  next(file)\n",
        "  for line in file:\n",
        "    line = line.strip().split(\";\")\n",
        "    student_id = line[0]\n",
        "    exercises = sum([int(i) for i in line[1:]])\n",
        "    exercises_points = int(exercises / 40 * 10)\n",
        "\n",
        "    id = student_data.get(student_id,\"unknown student\")\n",
        "    exercises_completed[student_id] = [id,exercises,exercises_points]\n",
        "\n",
        "\n",
        "result = dict()\n",
        "with open(exam_points) as file:\n",
        "  next(file)\n",
        "  for line in file:\n",
        "    line = line.strip().split(\";\")\n",
        "    student_id = line[0]\n",
        "    exam_points = sum([int(i) for i in line[1:]])\n",
        "\n",
        "\n",
        "    id = exercises_completed.get(student_id,\"unknown student\")\n",
        "\n",
        "    source = id[2]+exam_points\n",
        "\n",
        "    if 0 <= source <= 14:\n",
        "      print(id[0],0)\n",
        "    elif 15 <= source <= 17:\n",
        "      print(id[0],1)\n",
        "    elif 18 <= source <= 20:\n",
        "      print(id[0],2)\n",
        "    elif 21 <= source <= 23:\n",
        "      print(id[0],3)\n",
        "    elif 24 <= source <= 27:\n",
        "      print(id[0],4)\n",
        "    else:\n",
        "      print(id[0],5)\n",
        "\n"
      ],
      "metadata": {
        "colab": {
          "base_uri": "https://localhost:8080/"
        },
        "id": "nZgj6loTy5nZ",
        "outputId": "2949659f-a398-4a45-975e-09185739745c"
      },
      "execution_count": null,
      "outputs": [
        {
          "output_type": "stream",
          "name": "stdout",
          "text": [
            "peter pythons 0\n",
            "jean javanese 1\n",
            "alice adder 3\n"
          ]
        }
      ]
    },
    {
      "cell_type": "code",
      "source": [
        "import copy\n",
        "\n",
        "if False:\n",
        "    student_info = input(\"Student information: \")\n",
        "    exercise_data = input(\"Exercises completed: \")\n",
        "    exam_points = input(\"Exams points: \")\n",
        "else:\n",
        "\n",
        "    student_info = \"/content/drive/MyDrive/Reading_Files/course grading part 1/students.csv\"\n",
        "    exercise_data = \"/content/drive/MyDrive/Reading_Files/course grading part 1/exercises.csv\"\n",
        "    exam_points = \"/content/drive/MyDrive/Reading_Files/course grading part 2/exam_points.csv\"\n",
        "\n",
        "student_data = dict()\n",
        "with open(student_info) as file:\n",
        "  next(file)\n",
        "  for line in file:\n",
        "    line = line.strip().split(\";\")\n",
        "    student_data[line[0]] = line[1] + \" \" + line[2]\n",
        "\n",
        "exercises_completed = dict()\n",
        "with open(exercise_data) as file:\n",
        "  next(file)\n",
        "  for line in file:\n",
        "    line = line.strip().split(\";\")\n",
        "    student_id = line[0]\n",
        "    exercises = sum([int(i) for i in line[1:]])\n",
        "    exercises_points = int(exercises / 40 * 10)\n",
        "\n",
        "    id = student_data.get(student_id,\"unknown student\")\n",
        "    exercises_completed[student_id] = [id,exercises,exercises_points]\n",
        "\n",
        "\n",
        "result = dict()\n",
        "final_result = exercises_completed.copy()\n",
        "with open(exam_points) as file:\n",
        "  next(file)\n",
        "  for line in file:\n",
        "    line = line.strip().split(\";\")\n",
        "    student_id = line[0]\n",
        "    exam_points = sum([int(i) for i in line[1:]])\n",
        "\n",
        "\n",
        "    id = exercises_completed.get(student_id,\"unknown student\")\n",
        "    source = id[2]+exam_points\n",
        "\n",
        "    if 0 <= source <= 14:\n",
        "      grade = 0\n",
        "    elif 15 <= source <= 17:\n",
        "      grade = 1\n",
        "    elif 18 <= source <= 20:\n",
        "      grade = 2\n",
        "    elif 21 <= source <= 23:\n",
        "      grade = 3\n",
        "    elif 24 <= source <= 27:\n",
        "      grade = 4\n",
        "    else:\n",
        "      grade = 5\n",
        "\n",
        "    final_result[student_id].append(exam_points)\n",
        "    final_result[student_id].append(source)\n",
        "    final_result[student_id].append(grade)\n",
        "\n",
        "\n",
        "print(f\"{'name':<30}{'exec_num':<10}{'exec_pnts.':<10}{'exm_pnts.':<10}{'tot_pnts.':<10}{'grade':<10}\")\n",
        "\n",
        "for v in final_result.values():\n",
        "    print(f\"{v[0]:<30}{str(v[1]):<10}{str(v[2]):<10}{str(v[3]):<10}{str(v[4]):<10}{str(v[5]):<10}\")\n"
      ],
      "metadata": {
        "colab": {
          "base_uri": "https://localhost:8080/"
        },
        "id": "3H1YF8OAm_Dr",
        "outputId": "b5f57534-7062-4676-e696-97371eeb78e6"
      },
      "execution_count": null,
      "outputs": [
        {
          "output_type": "stream",
          "name": "stdout",
          "text": [
            "name                          exec_num  exec_pnts.exm_pnts. tot_pnts. grade     \n",
            "peter pythons                 21        5         9         14        0         \n",
            "jean javanese                 27        6         11        17        1         \n",
            "alice adder                   35        8         14        22        3         \n"
          ]
        }
      ]
    },
    {
      "cell_type": "code",
      "source": [
        "with open(\"/content/drive/MyDrive/Reading_Files/spell checker/word_list.txt\") as file:\n",
        "  data = set(word.strip().lower() for word in file)\n",
        "text = input(\"Write text: \")\n",
        "text_data = text.lower().split()\n",
        "cleaned = []\n",
        "for word in text_data:\n",
        "  if word in data:\n",
        "    cleaned.append(word)\n",
        "  else:\n",
        "    cleaned.append(f\"*{word}*\")\n",
        "print(\" \".join(cleaned))"
      ],
      "metadata": {
        "colab": {
          "base_uri": "https://localhost:8080/"
        },
        "id": "UG8ULxCxmOE2",
        "outputId": "0e683229-e229-4092-be1e-a94e9537ede1"
      },
      "execution_count": null,
      "outputs": [
        {
          "output_type": "stream",
          "name": "stdout",
          "text": [
            "Write text: Pythonn is good actually\n",
            "*pythonn* is good actually\n"
          ]
        }
      ]
    },
    {
      "cell_type": "code",
      "source": [
        "def search_by_name(filename: str, dish: str):\n",
        "  with open(filename) as file:\n",
        "    content = file.read().strip()\n",
        "    data = content.split(\"\\n\\n\")\n",
        "    recipe_names = []\n",
        "    for recipe in data:\n",
        "      recipe = recipe.split(\"\\n\")\n",
        "      recipe_names.append(recipe[0])\n",
        "\n",
        "    result = []\n",
        "    for names in recipe_names:\n",
        "      if dish.lower() in names.lower():\n",
        "        result.append(names)\n",
        "\n",
        "    return result\n",
        "\n",
        "if __name__ == \"__main__\":\n",
        "  if True:\n",
        "    file_name = \"/content/drive/MyDrive/Reading_Files/Recipe search part 1/recipes.txt\"\n",
        "    dish =  \"cake\"\n",
        "  else:\n",
        "    file_name = input(\"Enter file: \")\n",
        "    dish = input(\"Enter recipe name: \")\n",
        "\n",
        "\n",
        "  found_recipes = search_by_name(file_name, dish)\n",
        "\n",
        "  for recipe in found_recipes:\n",
        "    print(recipe)\n",
        "\n"
      ],
      "metadata": {
        "colab": {
          "base_uri": "https://localhost:8080/"
        },
        "id": "kAnYyePUx6GF",
        "outputId": "98d5da02-09c1-4d41-fb64-7826d7c9623d"
      },
      "execution_count": null,
      "outputs": [
        {
          "output_type": "stream",
          "name": "stdout",
          "text": [
            "Banana Pancakes\n",
            "Pancakes\n",
            "Cake pops\n"
          ]
        }
      ]
    },
    {
      "cell_type": "code",
      "source": [
        "from google.colab import drive\n",
        "\n",
        "drive.mount(\"/content/drive\")"
      ],
      "metadata": {
        "id": "J5Ka2Byw2eej",
        "colab": {
          "base_uri": "https://localhost:8080/"
        },
        "outputId": "1b0db8f2-a9ac-4cbf-9381-2b4eb0824c2d"
      },
      "execution_count": null,
      "outputs": [
        {
          "output_type": "stream",
          "name": "stdout",
          "text": [
            "Mounted at /content/drive\n"
          ]
        }
      ]
    },
    {
      "cell_type": "code",
      "source": [
        "def search_by_time(filename: str, time: int):\n",
        "  with open(filename) as file:\n",
        "    content = file.read().strip()\n",
        "    data = content.split(\"\\n\\n\")\n",
        "    recipe_names_times =  dict()\n",
        "    for recipe in data:\n",
        "      recipe = recipe.split(\"\\n\")\n",
        "      recipe_names_times[recipe[0]] = recipe[1]\n",
        "\n",
        "    result = []\n",
        "    for names,duration in recipe_names_times.items():\n",
        "      if time == int(duration):\n",
        "        result.append([names,duration])\n",
        "\n",
        "\n",
        "    return result\n",
        "\n",
        "if __name__ == \"__main__\":\n",
        "  if True:\n",
        "    file_name = \"/content/drive/MyDrive/Reading_Files/Recipe search part 2/recipes.txt\"\n",
        "    time =  10\n",
        "  else:\n",
        "    file_name = input(\"Enter file: \")\n",
        "    time = int(input(\"Enter recipe time: \"))\n",
        "\n",
        "\n",
        "  found_recipes = search_by_time(file_name, time)\n",
        "\n",
        "  for recipe,duration in found_recipes:\n",
        "    print(recipe,duration)\n"
      ],
      "metadata": {
        "colab": {
          "base_uri": "https://localhost:8080/"
        },
        "id": "N27qz9sTG1bw",
        "outputId": "38fbdffe-5b01-4052-94ac-055531c135c3"
      },
      "execution_count": null,
      "outputs": [
        {
          "output_type": "stream",
          "name": "stdout",
          "text": [
            "Grilled Cheese 10\n",
            "Banana Pancakes 10\n"
          ]
        }
      ]
    },
    {
      "cell_type": "code",
      "source": [
        "def search_by_ingredient(filename: str, ing: str):\n",
        "  with open(filename) as file:\n",
        "    content = file.read().strip()\n",
        "    data = content.split(\"\\n\\n\")\n",
        "    ingredients =  dict()\n",
        "    for recipe in data:\n",
        "      recipe = recipe.split(\"\\n\")\n",
        "      ingredients[recipe[0]] = [recipe[1],\"\\n\".join(recipe[2:]).lower()]\n",
        "\n",
        "    # print(ingredients)\n",
        "    result = []\n",
        "    for names,materials in ingredients.items():\n",
        "      if ing in materials[1]:\n",
        "        result.append([names,materials[0],materials[1]])\n",
        "\n",
        "    return result\n",
        "\n",
        "if __name__ == \"__main__\":\n",
        "  if True:\n",
        "    file_name = \"/content/drive/MyDrive/Reading_Files/Recipe search part 3/recipes.txt\"\n",
        "    ing =  \"butter\".lower()\n",
        "  else:\n",
        "    file_name = input(\"Enter file: \").lower()\n",
        "    time = int(input(\"Enter recipe time: \"))\n",
        "\n",
        "\n",
        "  found_recipes = search_by_ingredient(file_name, ing)\n",
        "\n",
        "  print(f\"{'Recipes':<15} {'preperation time':>20} \")\n",
        "  for recipe,duration,ingredient in found_recipes:\n",
        "    print(f\"{recipe:<15}  {duration:>5} minutes\")\n"
      ],
      "metadata": {
        "colab": {
          "base_uri": "https://localhost:8080/"
        },
        "id": "M7nhs2b1P1Lr",
        "outputId": "773652f6-ff5d-42a0-d032-85a042975b12"
      },
      "execution_count": null,
      "outputs": [
        {
          "output_type": "stream",
          "name": "stdout",
          "text": [
            "Recipes             preperation time \n",
            "Grilled Cheese      10 minutes\n",
            "Garlic Bread        15 minutes\n",
            "Banana Pancakes     10 minutes\n",
            "Pancakes            15 minutes\n",
            "Cake pops           60 minutes\n"
          ]
        }
      ]
    },
    {
      "cell_type": "code",
      "source": [
        "import math\n",
        "\n",
        "def get_station_data(filename: str):\n",
        "  station_data = dict()\n",
        "  with open(filename) as file:\n",
        "    next(file)\n",
        "    for line in file:\n",
        "      line = line.strip().split(\";\")\n",
        "      station_data[line[3]] = (float(line[0]),float(line[1]))\n",
        "  return station_data\n",
        "\n",
        "def distance(stations: dict, station1: str, station2: str):\n",
        "  if station1 not in stations or station2 not in stations:\n",
        "    print(\"one or both station name do not exist in station's data\")\n",
        "    return None\n",
        "\n",
        "  longitude1,latitude1 = stations[station1]\n",
        "  longitude2,latitude2 = stations[station2]\n",
        "\n",
        "  x_km = (longitude1 - longitude2) * 55.26\n",
        "  y_km = (latitude1 - latitude2) * 111.2\n",
        "  distance_km = math.sqrt(x_km**2 + y_km**2)\n",
        "\n",
        "  return distance_km\n",
        "\n",
        "if __name__ == \"__main__\":\n",
        "  if True:\n",
        "    stations = get_station_data(\"/content/drive/MyDrive/Reading_Files/city bikes part 1/city_bikes.csv\")\n",
        "    d = distance(stations, \"Kaivopuisto\", \"Laivasillankatu\")\n",
        "  else:\n",
        "    file_name = input(\"Enter the file: \")\n",
        "    stations = get_station_data(file_name)\n",
        "    station1 = input(\"Enter the name of the station1: \")\n",
        "    station2 = input(\"Enter the name of the station2: \")\n",
        "    d = distance(stations, station1, station2)\n",
        "  print(d)\n",
        "\n"
      ],
      "metadata": {
        "id": "Hu6OLvSxQxXV",
        "colab": {
          "base_uri": "https://localhost:8080/"
        },
        "outputId": "ea9c586e-ab22-4f83-9111-0a3da3e694a1"
      },
      "execution_count": null,
      "outputs": [
        {
          "output_type": "stream",
          "name": "stdout",
          "text": [
            "0.6985294572684413\n"
          ]
        }
      ]
    },
    {
      "cell_type": "code",
      "source": [
        "import math\n",
        "\n",
        "def get_station_data(filename: str):\n",
        "  station_data = dict()\n",
        "  with open(filename) as file:\n",
        "    next(file)\n",
        "    for line in file:\n",
        "      line = line.strip().split(\";\")\n",
        "      station_data[line[3]] = (float(line[0]),float(line[1]))\n",
        "  return station_data\n",
        "\n",
        "def greatest_distance(stations: dict):\n",
        "  greatest_dist = 0\n",
        "  station_one = \"\"\n",
        "  station_two = \"\"\n",
        "  station_names = list(stations.keys())\n",
        "  for i in range(len(stations)):\n",
        "    for j in range(i+1,len(stations)):\n",
        "      station1 = station_names[i]\n",
        "      station2 = station_names[j]\n",
        "\n",
        "      longitude1,latitude1 = stations[station1]\n",
        "      longitude2,latitude2 = stations[station2]\n",
        "\n",
        "      x_km = (longitude1 - longitude2) * 55.26\n",
        "      y_km = (latitude1 - latitude2) * 111.2\n",
        "      distance_km = math.sqrt(x_km**2 + y_km**2)\n",
        "\n",
        "      if distance_km > greatest_dist:\n",
        "        greatest_dist = distance_km\n",
        "        station_one = station1\n",
        "        station_two = station2\n",
        "\n",
        "\n",
        "  return station_one,station_two,greatest_dist\n",
        "\n",
        "if __name__ == \"__main__\":\n",
        "  if True:\n",
        "    stations = get_station_data(\"/content/drive/MyDrive/Reading_Files/city bikes part 1/city_bikes.csv\")\n",
        "    station1, station2, greatest = greatest_distance(stations)\n",
        "    print(station1, station2, greatest)\n",
        "  else:\n",
        "    file_name = input(\"Enter the file: \")\n",
        "    stations = get_station_data(file_name)\n"
      ],
      "metadata": {
        "colab": {
          "base_uri": "https://localhost:8080/"
        },
        "id": "MxGUggWy28fx",
        "outputId": "a9bfd853-7a9d-4df9-f035-916bcd9645ae"
      },
      "execution_count": null,
      "outputs": [
        {
          "output_type": "stream",
          "name": "stdout",
          "text": [
            "Laivasillankatu Kapteeninpuistikko 0.7022284848835603\n"
          ]
        }
      ]
    },
    {
      "cell_type": "markdown",
      "source": [
        "# Writing Files\n"
      ],
      "metadata": {
        "id": "vHQeL-Sd9Kwg"
      }
    },
    {
      "cell_type": "code",
      "source": [
        "with open(\"/content/drive/MyDrive/Writing_Files/myfile.txt\",\"w\") as file:\n",
        "  file.write(\"hello there\\n\")\n",
        "  file.write(\"My name is onion\\n\")\n",
        "  file.write(\"and i love eyes\\n\")"
      ],
      "metadata": {
        "id": "Wd43zHvj9Mw-"
      },
      "execution_count": null,
      "outputs": []
    },
    {
      "cell_type": "code",
      "source": [
        "name = input(\"Whom should i sign this to: \")\n",
        "folder_path = \"/content/drive/MyDrive/Writing_Files/\"\n",
        "file_name = input(\"Where shall i save it: \")\n",
        "full_path = folder_path + file_name\n",
        "\n",
        "with open(full_path,\"w\") as file:\n",
        "  file.write(f\"Hi {name}, we hope you enjoy learning Python with us! Best, onion Team\")\n",
        "\n",
        "with open(full_path) as file:\n",
        "  content = file.read()\n",
        "  print(content)"
      ],
      "metadata": {
        "colab": {
          "base_uri": "https://localhost:8080/"
        },
        "id": "8kR033EgHf2w",
        "outputId": "3afdd74b-d181-4be0-c12d-fda8cb35506d"
      },
      "execution_count": null,
      "outputs": [
        {
          "output_type": "stream",
          "name": "stdout",
          "text": [
            "Whom should i sign this to: charlie\n",
            "Where shall i save it: Inscription.txt\n",
            "Hi charlie, we hope you enjoy learning Python with us! Best, onion Team\n"
          ]
        }
      ]
    },
    {
      "cell_type": "code",
      "source": [
        "from google.colab import drive\n",
        "\n",
        "drive.mount(\"/content/drive\")"
      ],
      "metadata": {
        "id": "VFRd1ZujIpMO",
        "colab": {
          "base_uri": "https://localhost:8080/"
        },
        "outputId": "4bf4c6e1-5ccb-4e3e-86c3-bf75019df09c"
      },
      "execution_count": null,
      "outputs": [
        {
          "output_type": "stream",
          "name": "stdout",
          "text": [
            "Mounted at /content/drive\n"
          ]
        }
      ]
    },
    {
      "cell_type": "code",
      "source": [
        "while True:\n",
        "  choice = int(input(\"1 - add an entry, 2 - read entries, 0 - quit\\nFunction: \"))\n",
        "  if choice == 1:\n",
        "    with open(\"/content/drive/MyDrive/Writing_Files/Diary/diary.txt\",\"a\") as file:\n",
        "      file.write(input(\"Diary entry: \")+\"\\n\")\n",
        "      print(\"entry added!\")\n",
        "  elif choice == 2:\n",
        "    with open(\"/content/drive/MyDrive/Writing_Files/Diary/diary.txt\") as file:\n",
        "      content = file.read()\n",
        "      print(content.strip())\n",
        "  elif choice == 0:\n",
        "    break\n",
        "  else:\n",
        "    print(\"Invalid choice\")\n",
        "print(\"bye now\")"
      ],
      "metadata": {
        "colab": {
          "base_uri": "https://localhost:8080/"
        },
        "id": "yjVbyATt7a1p",
        "outputId": "6a36d78e-467c-4925-ddb8-f2a4704ed794"
      },
      "execution_count": null,
      "outputs": [
        {
          "name": "stdout",
          "output_type": "stream",
          "text": [
            "1 - add an entry, 2 - read entries, 0 - quit\n",
            "Function: 1\n",
            "Diary entry: bonjoure madame\n",
            "entry added!\n",
            "1 - add an entry, 2 - read entries, 0 - quit\n",
            "Function: 1\n",
            "Diary entry: ello thee\n",
            "entry added!\n",
            "1 - add an entry, 2 - read entries, 0 - quit\n",
            "Function: 2\n",
            "bonjoure madame\n",
            "ello thee\n",
            "1 - add an entry, 2 - read entries, 0 - quit\n",
            "Function: 0\n"
          ]
        }
      ]
    },
    {
      "cell_type": "code",
      "source": [
        "import csv\n",
        "def filter_solution():\n",
        "  with open(\"/content/drive/MyDrive/Writing_Files/Filtering the content of the file/solution.csv\",newline = \"\") as source_file,\\\n",
        "      open(\"/content/drive/MyDrive/Writing_Files/Filtering the content of the file/correct.csv\",\"w\",newline = \"\") as correct_file,\\\n",
        "      open(\"/content/drive/MyDrive/Writing_Files/Filtering the content of the file/incorrect.csv\",\"w\",newline = \"\") as incorrect_file:\n",
        "\n",
        "    content = csv.reader(source_file,delimiter = \";\")\n",
        "    correct = csv.writer(correct_file)\n",
        "    incorrect = csv.writer(incorrect_file)\n",
        "\n",
        "    for row in content:\n",
        "      # print(repr(row))\n",
        "      if eval(row[1]) == int(row[2]):\n",
        "        correct.writerow(row)\n",
        "      else:\n",
        "        incorrect.writerow(row)\n",
        "\n",
        "if __name__ == \"__main__\":\n",
        "  filter_solution()\n",
        "  filter_solution()\n",
        "  filter_solution()\n"
      ],
      "metadata": {
        "id": "W8Ysow0fFRQq"
      },
      "execution_count": null,
      "outputs": []
    },
    {
      "cell_type": "code",
      "source": [
        "import csv\n",
        "\n",
        "def store_personal_data(*person: tuple):\n",
        "  with open(\"/content/drive/MyDrive/Writing_Files/store personal data/people.csv\",\"a\",newline = \"\") as file:\n",
        "    writer = csv.writer(file,delimiter = \";\")\n",
        "    writer.writerow(person)\n",
        "\n",
        "if __name__ == \"__main__\":\n",
        "  store_personal_data(\"onion\",3,\"special\")\n"
      ],
      "metadata": {
        "id": "ml7dR0qaFtOQ"
      },
      "execution_count": null,
      "outputs": []
    },
    {
      "cell_type": "code",
      "source": [
        "import copy\n",
        "import csv\n",
        "\n",
        "def student_data(filename: str) -> dict:\n",
        "  students = {}\n",
        "  with open(filename) as file:\n",
        "    next(file)\n",
        "    for line in file:\n",
        "      line = line.strip().split(\";\")\n",
        "      students[line[0]] = line[1] + \" \" + line[2]\n",
        "  return students\n",
        "\n",
        "def exercise(filename: str) -> dict:\n",
        "  exercise_data = dict()\n",
        "  with open(filename) as file:\n",
        "    next(file)\n",
        "    for line in file:\n",
        "      line = line.strip().split(\";\")\n",
        "      student_id = line[0]\n",
        "      exercises = sum([int(i) for i in line[1:]])\n",
        "      exercises_points = int(exercises / 40 * 10)\n",
        "\n",
        "      id = student_data.get(student_id,\"unknown student\")\n",
        "      exercise_data[student_id] = [id,exercises,exercises_points]\n",
        "\n",
        "  return exercise_data\n",
        "\n",
        "def get_grade(source : int) -> int:\n",
        "  if 0 <= source <= 14:\n",
        "    grade = 0\n",
        "  elif 15 <= source <= 17:\n",
        "    grade = 1\n",
        "  elif 18 <= source <= 20:\n",
        "    grade = 2\n",
        "  elif 21 <= source <= 23:\n",
        "    grade = 3\n",
        "  elif 24 <= source <= 27:\n",
        "    grade = 4\n",
        "  else:\n",
        "    grade = 5\n",
        "\n",
        "  return grade\n",
        "\n",
        "def result_calculation(filename: str,exercise_data :dict) -> dict:\n",
        "  result = exercise_data.copy()\n",
        "  with open(filename) as file:\n",
        "    next(file)\n",
        "    for line in file:\n",
        "      line = line.strip().split(\";\")\n",
        "      student_id = line[0]\n",
        "      exam_point = sum([int(i) for i in line[1:]])\n",
        "      data = exercises_completed.get(student_id,\"unknown student\")\n",
        "      total_points = data[2]+exam_point\n",
        "\n",
        "      grade = get_grade(total_points)\n",
        "\n",
        "      result[student_id].append(exam_point)\n",
        "      result[student_id].append(total_points)\n",
        "      result[student_id].append(grade)\n",
        "\n",
        "  return result\n",
        "\n",
        "def display_result(result_data: dict) -> None:\n",
        "  print(f\"{'name':<30}{'exec_num':<10}{'exec_pnts.':<10}{'exm_pnts.':<10}{'tot_pnts.':<10}{'grade':<10}\")\n",
        "\n",
        "  for data in result_data.values():\n",
        "      print(f\"{data[0]:<30}{str(data[1]):<10}{str(data[2]):<10}{str(data[3]):<10}{str(data[4]):<10}{str(data[5]):<10}\")\n",
        "\n",
        "def save_result(result_data: dict) -> None:\n",
        "  name = input(\"name: \")\n",
        "  credits = input(\"study credits: \")\n",
        "\n",
        "  with open(\"/content/drive/MyDrive/Writing_Files/course grading part 4/result.txt\",\"w\",newline = \"\") as text_file:\n",
        "    header = f\"{name}, {credits} credits\"\n",
        "    text_file.write(f\"{header}\\n\")\n",
        "    text_file.write(\"=\" * len(header) + \"\\n\")\n",
        "    text_file.write(f\"{'name':30} {'exec_nbr':<10} {'exec_pts.':<10} {'exm_pts.':<10} {'tot_pts.':<10} {'grade'}\\n\")\n",
        "\n",
        "    for data in result_data.values():\n",
        "        full_name = data[0]\n",
        "        exec_nbr = data[1]\n",
        "        exec_pts = data[2]\n",
        "        exam_pts = data[3]\n",
        "        total_pts = data[4]\n",
        "        grade = data[5]\n",
        "        text_file.write(f\"{full_name:30} {exec_nbr:<10} {exec_pts:<10} {exam_pts:<10} {total_pts:<10} {grade}\\n\")\n",
        "\n",
        "  with open(\"/content/drive/MyDrive/Writing_Files/course grading part 4/result.csv\",\"w\",newline = \"\") as file:\n",
        "    writer = csv.writer(file,delimiter = \";\")\n",
        "    writer.writerow([\"Id\", \"Name\", \"Exercise_Numbers\", \"Exercise_points\", \"Exam_points\", \"Total_points\", \"Grade\"])\n",
        "\n",
        "    for student_id,exam_data in result_data.items():\n",
        "      writer.writerow([student_id]+exam_data)\n",
        "\n",
        "  print(\"results written to the files result.csv and result.txt\")\n",
        "\n",
        "\n",
        "if __name__ == \"__main__\":\n",
        "  if False:\n",
        "    student_info = input(\"Student file: \")\n",
        "    exercise_data = input(\"Exercise file: \")\n",
        "    exam_points = input(\"Exams_points file: \")\n",
        "  else:\n",
        "    student_info = \"/content/drive/MyDrive/Reading_Files/course grading part 1/students.csv\"\n",
        "    exercise_data = \"/content/drive/MyDrive/Reading_Files/course grading part 1/exercises.csv\"\n",
        "    exam_points = \"/content/drive/MyDrive/Reading_Files/course grading part 2/exam_points.csv\"\n",
        "\n",
        "  student_data = student_data(student_info)\n",
        "  exercises_completed = exercise(exercise_data)\n",
        "  final_result = result_calculation(exam_points,exercises_completed)\n",
        "  save_result(final_result)"
      ],
      "metadata": {
        "colab": {
          "base_uri": "https://localhost:8080/"
        },
        "id": "j5EpReTyHP6H",
        "outputId": "0e27726d-fcd5-440f-f288-7fff1a02f319"
      },
      "execution_count": null,
      "outputs": [
        {
          "output_type": "stream",
          "name": "stdout",
          "text": [
            "name: Introduction to programming\n",
            "study credits: 5\n",
            "results written to the files result.csv and result.txt\n"
          ]
        }
      ]
    },
    {
      "cell_type": "code",
      "source": [
        "from google.colab import drive\n",
        "\n",
        "drive.mount(\"/content/drive\")"
      ],
      "metadata": {
        "id": "njg-rWNnLHIr",
        "colab": {
          "base_uri": "https://localhost:8080/"
        },
        "outputId": "632fe945-eb13-4ed6-8be8-96ad25e07913"
      },
      "execution_count": null,
      "outputs": [
        {
          "output_type": "stream",
          "name": "stdout",
          "text": [
            "Mounted at /content/drive\n"
          ]
        }
      ]
    },
    {
      "cell_type": "code",
      "source": [
        "def find_words(search_term: str,myfile: str):\n",
        "  result = []\n",
        "  with open(myfile) as file:\n",
        "    for line in file:\n",
        "      word = line.strip()\n",
        "\n",
        "      if \"*\" in search_term:\n",
        "\n",
        "        if search_term.startswith(\"*\"):\n",
        "          ending = search_term[1:]\n",
        "          if word.endswith(ending):\n",
        "            result.append(word)\n",
        "        elif search_term.endswith(\"*\"):\n",
        "          starting = search_term[:-1]\n",
        "          if word.startswith(starting):\n",
        "            result.append(word)\n",
        "\n",
        "      elif \".\" in search_term:\n",
        "\n",
        "        if len(search_term) == len(word):\n",
        "          mark = True\n",
        "        for sc,wc in zip(search_term,word):\n",
        "          if sc != \".\" and wc != sc:\n",
        "            mark = False\n",
        "            break\n",
        "        if mark:\n",
        "          result.append(word)\n",
        "\n",
        "      else:\n",
        "        if search_term == word:\n",
        "          result.append(word)\n",
        "\n",
        "  return result\n",
        "if __name__ == \"__main__\":\n",
        "  file = \"/content/drive/MyDrive/Writing_Files/Word search/words.txt\"\n",
        "  result = find_words(\"c.r\",file)\n",
        "  print(result)\n",
        "  result = find_words(\"ca*\",file)\n",
        "  print(result)\n"
      ],
      "metadata": {
        "colab": {
          "base_uri": "https://localhost:8080/"
        },
        "id": "nIPDPWGX79Rx",
        "outputId": "2661d36b-508a-47e6-e0a4-77ead20f5bb2"
      },
      "execution_count": null,
      "outputs": [
        {
          "output_type": "stream",
          "name": "stdout",
          "text": [
            "['car', 'cartoon', 'care']\n",
            "['cat', 'car', 'cartoon', 'care', 'cane', 'can', 'camera', 'california', 'calibrate']\n"
          ]
        }
      ]
    },
    {
      "cell_type": "code",
      "source": [
        "def add(filename : str) -> None:\n",
        "  english = input(\"The word in english: \").lower()\n",
        "  urdu = input(\"The word in urdu: \").lower()\n",
        "  with open(filename) as file:\n",
        "    for line in file:\n",
        "      if line.strip().lower() == f\"{english};{urdu}\":\n",
        "        print(\"The entry already exists.\")\n",
        "        return\n",
        "\n",
        "  with open(filename,\"a\") as file:\n",
        "    file.write(f\"{english};{urdu}\"+\"\\n\")\n",
        "\n",
        "def search(filename : str) -> None:\n",
        "  word = input(\"Search term: \").lower()\n",
        "  with open(filename) as file:\n",
        "    for line in file:\n",
        "      line = line.strip().lower().split(\";\")\n",
        "      if word in line:\n",
        "        print(*line)\n",
        "\n",
        "def main(file: str):\n",
        "  while True:\n",
        "    choice = int(input(\"1 - Add word, 2 - Search, 3 - Quit Function: \"))\n",
        "    if choice == 1:\n",
        "      add(file)\n",
        "    elif choice == 2:\n",
        "      search(file)\n",
        "    elif choice == 3:\n",
        "      print(\"bye\")\n",
        "      break\n",
        "\n",
        "if __name__ == \"__main__\":\n",
        "  file = \"/content/drive/MyDrive/Writing_Files/Dictionary stored in a file/dictionary.txt\"\n",
        "  main(file)"
      ],
      "metadata": {
        "colab": {
          "base_uri": "https://localhost:8080/"
        },
        "id": "BmHcsY_D-M7g",
        "outputId": "1164fd31-acfc-4927-eed6-6e0fe53858ff"
      },
      "execution_count": null,
      "outputs": [
        {
          "output_type": "stream",
          "name": "stdout",
          "text": [
            "1 - Add word, 2 - Search, 3 - Quit Function: 2\n",
            "Search term: goat\n",
            "goat bakhri\n",
            "1 - Add word, 2 - Search, 3 - Quit Function: 2\n",
            "Search term: bakhri\n",
            "goat bakhri\n",
            "1 - Add word, 2 - Search, 3 - Quit Function: 2\n",
            "Search term: spoon\n",
            "spoon chamach\n",
            "1 - Add word, 2 - Search, 3 - Quit Function: 3\n",
            "bye\n"
          ]
        }
      ]
    },
    {
      "cell_type": "code",
      "source": [
        "def read_input(text: str, low: int, high: int) -> int:\n",
        "  while True:\n",
        "    try:\n",
        "      number = int(input(text))\n",
        "      if number >= 5 and number <= 10:\n",
        "        return number\n",
        "      else:\n",
        "        print(\"You must type in an integer between 5 and 10 Please type in a number\")\n",
        "    except ValueError:\n",
        "      print(\"You must type in an integer between 5 and 10 Please type in a number\")\n",
        "\n",
        "\n",
        "if __name__ == \"__main__\":\n",
        "  number = read_input(\"Please type in a number: \", 5, 10)\n",
        "  print(\"You typed in:\", number)"
      ],
      "metadata": {
        "colab": {
          "base_uri": "https://localhost:8080/"
        },
        "id": "5Ok7TldvHbsb",
        "outputId": "b3f4a3b8-b90c-4713-9ffd-11734fca2c20"
      },
      "execution_count": null,
      "outputs": [
        {
          "output_type": "stream",
          "name": "stdout",
          "text": [
            "Please type in a number: five\n",
            "You must type in an integer between 5 and 10 Please type in a number\n",
            "Please type in a number: 5\n",
            "You typed in: 5\n"
          ]
        }
      ]
    },
    {
      "cell_type": "code",
      "source": [
        "def new_person(name: str, age: int):\n",
        "  if type(name) != str or type(age) != int:\n",
        "    raise ValueError(\"Wrong type of parameter are given\")\n",
        "  if  len(name) < 40:\n",
        "    raise ValueError(\"The length of the name must be greater than 40\")\n",
        "  if name == \"\":\n",
        "    raise ValueError(\"Name cannot be empty\")\n",
        "\n",
        "  if len(name.strip().split()) < 2:\n",
        "    raise ValueError(\"Name must have atleast two words\")\n",
        "  if 0 > age >= 150:\n",
        "    raise ValueError(\"Age is out of range\")\n",
        "\n",
        "  return (name,age)\n",
        "if __name__ == \"__main__\":\n",
        "  result = new_person(\"Garlic chessy sause onion ketchup with sprite apple lemonade\",15)\n",
        "  print(result)"
      ],
      "metadata": {
        "id": "qYGuBjVLRyaB",
        "colab": {
          "base_uri": "https://localhost:8080/"
        },
        "outputId": "a3d2f53c-a869-41dc-869b-e9f5eafb62e7"
      },
      "execution_count": null,
      "outputs": [
        {
          "output_type": "stream",
          "name": "stdout",
          "text": [
            "('Garlic chessy sause onion ketchup with sprite apple lemonade', 15)\n"
          ]
        }
      ]
    },
    {
      "cell_type": "code",
      "source": [
        "from google.colab import drive\n",
        "\n",
        "drive.mount(\"/content/drive\")"
      ],
      "metadata": {
        "colab": {
          "base_uri": "https://localhost:8080/"
        },
        "id": "pyXYmdquVtvs",
        "outputId": "9ad24f48-2614-466b-e73a-1ded04805fb1"
      },
      "execution_count": null,
      "outputs": [
        {
          "output_type": "stream",
          "name": "stdout",
          "text": [
            "Mounted at /content/drive\n"
          ]
        }
      ]
    },
    {
      "cell_type": "code",
      "source": [
        "import csv\n",
        "\n",
        "def Incorrect_lottery_numbers(infile):\n",
        "  with open(infile,newline = \"\") as file,\\\n",
        "       open(\"/content/drive/MyDrive/Writing_Files/Incorrect lottery numbers/correct.csv\",\"w\",newline = \"\") as outfile:\n",
        "\n",
        "    reader = csv.reader(file,delimiter = \";\")\n",
        "    writer = csv.writer(outfile,delimiter = \";\")\n",
        "\n",
        "    for row in reader:\n",
        "      if len(row) != 2:\n",
        "        print(\"Invalid format\",row)\n",
        "        continue\n",
        "\n",
        "      week_data,lottery_data = row\n",
        "\n",
        "      week_data = week_data.strip().split()\n",
        "\n",
        "      if len(week_data) != 2 or week_data[0].lower() != \"week\":\n",
        "        print(\"Invalid format\")\n",
        "        continue\n",
        "      try:\n",
        "        week_num = int(week_data[1])\n",
        "      except ValueError:\n",
        "        print(\"week_num must be interger\")\n",
        "        continue\n",
        "\n",
        "      lottery_data = lottery_data.strip().split(\",\")\n",
        "      if len(lottery_data) != 7:\n",
        "        print(\"Too few Numbers\")\n",
        "        continue\n",
        "\n",
        "      seen = set()\n",
        "      valid = True\n",
        "      for num in lottery_data:\n",
        "        try:\n",
        "          num = int(num)\n",
        "          if not(num >= 1 and num <= 39):\n",
        "            print(\"The numbers are too small or large\")\n",
        "\n",
        "          if num in seen:\n",
        "            print(\"Dublicate number found\")\n",
        "            valid = False\n",
        "          seen.add(num)\n",
        "        except ValueError:\n",
        "          print(\"One or more value are not correct\")\n",
        "          valid = False\n",
        "\n",
        "      if valid:\n",
        "        breakpoint()\n",
        "        writer.writerow(row)\n",
        "\n",
        "\n",
        "if __name__ == \"__main__\":\n",
        "  file = \"/content/drive/MyDrive/Writing_Files/Incorrect lottery numbers/lottery numbers.csv\"\n",
        "  Incorrect_lottery_numbers(file)"
      ],
      "metadata": {
        "colab": {
          "base_uri": "https://localhost:8080/"
        },
        "id": "nJfdnIqjN-D4",
        "outputId": "14b6a826-96da-4d56-ed02-c5ae6957f64f"
      },
      "execution_count": null,
      "outputs": [
        {
          "output_type": "stream",
          "name": "stdout",
          "text": [
            "week_num must be interger\n",
            "Dublicate number found\n",
            "One or more value are not correct\n",
            "The numbers are too small or large\n",
            "The numbers are too small or large\n",
            "The numbers are too small or large\n",
            "Invalid format\n",
            "Too few Numbers\n",
            "The numbers are too small or large\n",
            "The numbers are too small or large\n",
            "The numbers are too small or large\n",
            "Dublicate number found\n",
            "One or more value are not correct\n",
            "Dublicate number found\n",
            "Too few Numbers\n",
            "The numbers are too small or large\n",
            "The numbers are too small or large\n",
            "week_num must be interger\n",
            "Invalid format ['week 16', '', '', '']\n",
            "One or more value are not correct\n",
            "One or more value are not correct\n",
            "One or more value are not correct\n",
            "One or more value are not correct\n",
            "One or more value are not correct\n",
            "One or more value are not correct\n",
            "One or more value are not correct\n",
            "Dublicate number found\n"
          ]
        }
      ]
    },
    {
      "cell_type": "code",
      "source": [
        "import string\n",
        "\n",
        "def seperate_characters(my_string : str) -> tuple:\n",
        "  ascii_characters = \"\"\n",
        "  punctuation = \"\"\n",
        "  others = \"\"\n",
        "  for char in my_string:\n",
        "    if char in string.ascii_letters:\n",
        "      ascii_characters += char\n",
        "    elif char in string.punctuation:\n",
        "      punctuation += char\n",
        "    else:\n",
        "      others += char\n",
        "  return (ascii_characters,punctuation,others)\n",
        "if __name__ == \"__main__\":\n",
        "  result = seperate_characters(\"Olé!!! Hey, are ümläüts wörking?\")\n",
        "  for i in result:\n",
        "    print(i)\n"
      ],
      "metadata": {
        "id": "TcGFESb8mz9H",
        "colab": {
          "base_uri": "https://localhost:8080/"
        },
        "outputId": "c17ab042-769f-477a-b780-9133d9d5924e"
      },
      "execution_count": null,
      "outputs": [
        {
          "output_type": "stream",
          "name": "stdout",
          "text": [
            "OlHeyaremltswrking\n",
            "!!!,?\n",
            "é   üäü ö\n"
          ]
        }
      ]
    },
    {
      "cell_type": "code",
      "source": [
        "from random import sample,seed\n",
        "\n",
        "def lottery_numbers(amount: int, lower: int, upper: int) -> list:\n",
        "  seed(41)\n",
        "  numbers = list(range(lower,upper+1))\n",
        "  result = sample(numbers,amount)\n",
        "  return result\n",
        "\n",
        "if __name__ == \"__main__\":\n",
        "  for i in lottery_numbers(7, 1, 40):\n",
        "    print(i)"
      ],
      "metadata": {
        "id": "SSXsIjuIo-fx",
        "colab": {
          "base_uri": "https://localhost:8080/"
        },
        "outputId": "3cf911de-c4dc-4ca1-fad5-e15b8d6d3f33"
      },
      "execution_count": null,
      "outputs": [
        {
          "output_type": "stream",
          "name": "stdout",
          "text": [
            "25\n",
            "22\n",
            "15\n",
            "11\n",
            "40\n",
            "19\n",
            "18\n"
          ]
        }
      ]
    },
    {
      "cell_type": "code",
      "source": [
        "from random import choices\n",
        "\n",
        "def generate_password(length: int) -> str:\n",
        "  letters = \"abcdefghijklmnopqrstuvwxyz\"\n",
        "  password = choices(letters,k = length)\n",
        "  return \"\".join(password)\n",
        "\n",
        "if __name__ == \"__main__\":\n",
        "  for i in range(10):\n",
        "      print(generate_password(8))"
      ],
      "metadata": {
        "colab": {
          "base_uri": "https://localhost:8080/"
        },
        "id": "K9gWY6ahRezW",
        "outputId": "af9772f5-2a51-47af-9a2c-7d8da1544b26"
      },
      "execution_count": null,
      "outputs": [
        {
          "output_type": "stream",
          "name": "stdout",
          "text": [
            "moseemtu\n",
            "wlsckbvz\n",
            "rtjucjjw\n",
            "eecvixiv\n",
            "fxzwrxxz\n",
            "hwuiexmn\n",
            "xmgrnhrx\n",
            "gvtnfrhg\n",
            "whcvzhko\n",
            "taqgykyl\n"
          ]
        }
      ]
    },
    {
      "cell_type": "code",
      "source": [
        "from random import choices\n",
        "\n",
        "def generate_strong_password(length: int,numbers: bool,schar: bool) -> str:\n",
        "  letters = \"abcdefghijklmnopqrstuvwxyz\"\n",
        "  num = \"0123456789\"\n",
        "  sc = \"!?=+-()#\"\n",
        "  charset = letters\n",
        "\n",
        "  if numbers:\n",
        "    charset += num\n",
        "  if schar:\n",
        "    charset += sc\n",
        "\n",
        "  if len(charset) == 0:\n",
        "    raise ValueError(\"Character set cannot be empty\")\n",
        "\n",
        "  return \"\".join(choices(charset,k = length))\n",
        "\n",
        "\n",
        "if __name__ == \"__main__\":\n",
        "  for i in range(10):\n",
        "    print(generate_strong_password(8, True, True))"
      ],
      "metadata": {
        "colab": {
          "base_uri": "https://localhost:8080/"
        },
        "id": "WxkXpVaZTGx1",
        "outputId": "27f7b747-327a-4635-95eb-8e74ec066dca"
      },
      "execution_count": null,
      "outputs": [
        {
          "output_type": "stream",
          "name": "stdout",
          "text": [
            "n(6iuxlj\n",
            "dwspvpq7\n",
            "getmu?(9\n",
            "-kpemlko\n",
            "(w+x630-\n",
            "0wkesrf(\n",
            "atkr!)r5\n",
            "+mrt!n+i\n",
            "31bo!rcu\n",
            "xus(3tt7\n"
          ]
        }
      ]
    },
    {
      "cell_type": "code",
      "source": [
        "from random import choice\n",
        "\n",
        "def roll(dice: str) -> int:\n",
        "  A = [3,3,3,3,3,6]\n",
        "  B = [2,2,2,5,5,5]\n",
        "  C = [1,4,4,4,4,4]\n",
        "\n",
        "  if dice == \"A\":\n",
        "    return choice(A)\n",
        "  elif dice == \"B\":\n",
        "    return choice(B)\n",
        "  elif dice == \"C\":\n",
        "    return choice(C)\n",
        "  else:\n",
        "    raise ValueError(\"Invalid dice. Choose A,B or C\")\n",
        "\n",
        "def play(die1: str, die2: str, times: int) -> tuple:\n",
        "  dice1 = 0\n",
        "  dice2 = 0\n",
        "  tie = 0\n",
        "  for i in range(times):\n",
        "    a = roll(die1)\n",
        "    b = roll(die2)\n",
        "\n",
        "    if a > b:\n",
        "      dice1 += 1\n",
        "    elif b > a:\n",
        "      dice2 += 1\n",
        "    else:\n",
        "      tie += 1\n",
        "\n",
        "  return (dice1,dice2,tie)\n",
        "if __name__ == \"__main__\":\n",
        "  result = play(\"A\", \"C\", 1000)\n",
        "  print(result)\n",
        "  result = play(\"B\", \"B\", 1000)\n",
        "  print(result)\n"
      ],
      "metadata": {
        "colab": {
          "base_uri": "https://localhost:8080/"
        },
        "id": "WZ2wp_kIVv8V",
        "outputId": "c94897f9-9149-4d08-df1e-7750457e5b0c"
      },
      "execution_count": null,
      "outputs": [
        {
          "output_type": "stream",
          "name": "stdout",
          "text": [
            "(310, 690, 0)\n",
            "(277, 240, 483)\n"
          ]
        }
      ]
    },
    {
      "cell_type": "code",
      "source": [
        "from google.colab import drive\n",
        "\n",
        "drive.mount(\"/content/drive\")"
      ],
      "metadata": {
        "colab": {
          "base_uri": "https://localhost:8080/"
        },
        "id": "5Z1AY5FhXLuZ",
        "outputId": "b40e5926-cdb3-4e0b-c7b2-769ea3cf64c2"
      },
      "execution_count": null,
      "outputs": [
        {
          "output_type": "stream",
          "name": "stdout",
          "text": [
            "Mounted at /content/drive\n"
          ]
        }
      ]
    },
    {
      "cell_type": "code",
      "source": [
        "from random import sample\n",
        "\n",
        "def words(n: int, beginning: str):\n",
        "  result = []\n",
        "  with open(\"/content/drive/MyDrive/Writing_Files/Random Words/Words.txt\") as file:\n",
        "    for line in file:\n",
        "      line = line.strip()\n",
        "      if line.startswith(beginning):\n",
        "        result.append(line)\n",
        "\n",
        "  if len(result) < n:\n",
        "    raise ValueError(\"not enough words in dictionary\")\n",
        "\n",
        "  return sample(result,n)\n",
        "\n",
        "if __name__ == \"__main__\":\n",
        "  word_list = words(3, \"ca\")\n",
        "  for word in word_list:\n",
        "      print(word)"
      ],
      "metadata": {
        "colab": {
          "base_uri": "https://localhost:8080/"
        },
        "id": "a_B90-vkb2ZV",
        "outputId": "341bf4bb-339e-4d65-913d-4ebc5227e09a"
      },
      "execution_count": null,
      "outputs": [
        {
          "output_type": "stream",
          "name": "stdout",
          "text": [
            "candle\n",
            "cabin\n",
            "castle\n"
          ]
        }
      ]
    },
    {
      "cell_type": "code",
      "source": [
        "from datetime import datetime,timedelta\n",
        "\n",
        "date_of_birth = datetime(2005,3,7)\n",
        "print(date_of_birth.year)\n",
        "print(date_of_birth.month)\n",
        "print(date_of_birth.day)\n",
        "\n",
        "time_here = datetime(2025,6,29,21,5)\n",
        "print(time_here)\n",
        "\n",
        "mid_summer = datetime(2025,6,26)\n",
        "\n",
        "if time_here > mid_summer:\n",
        "  print(\"it is past mid summer\")\n",
        "elif time_here < mid_summer:\n",
        "  print(\"it is not mid summer yet\")\n",
        "else:\n",
        "  print(\"Happy mid summer!\")\n",
        "\n",
        "\n",
        "remaining_time =  mid_summer - time_here\n",
        "print(\"Mid Summer is\",remaining_time.days,\"days away\")\n",
        "\n",
        "present = datetime.now()\n",
        "future = present + timedelta(days = 30)\n",
        "past = present - timedelta(hours = 12)\n",
        "\n",
        "print(present)\n",
        "print(future)\n",
        "print(past)\n",
        "\n",
        "\n",
        "midnight = datetime(2025,6,29)\n",
        "difference = midnight - present\n",
        "print(\"mid night is\",difference.seconds,\"seconds away\")\n"
      ],
      "metadata": {
        "colab": {
          "base_uri": "https://localhost:8080/"
        },
        "id": "DSTYimNkc5TV",
        "outputId": "880719a2-4622-45ea-b74d-3809efd2d7dc"
      },
      "execution_count": null,
      "outputs": [
        {
          "output_type": "stream",
          "name": "stdout",
          "text": [
            "2005\n",
            "3\n",
            "7\n",
            "2025-06-29 21:05:00\n",
            "it is past mid summer\n",
            "Mid Summer is -4 days away\n",
            "2025-06-29 16:21:47.013174\n",
            "2025-07-29 16:21:47.013174\n",
            "2025-06-29 04:21:47.013174\n",
            "mid night is 27492 seconds away\n"
          ]
        }
      ]
    },
    {
      "cell_type": "code",
      "source": [
        "from datetime import datetime,timedelta\n",
        "\n",
        "def old(day: int,month: int,year: int) -> None :\n",
        "  date_of_birth = datetime(year,month,day)\n",
        "  millinium = datetime(1999, 12, 31, 23, 59, 59)\n",
        "\n",
        "  difference = millinium - date_of_birth\n",
        "\n",
        "  if date_of_birth > millinium:\n",
        "    print(\"You weren't born yet on the eve of the new millennium\")\n",
        "  else:\n",
        "    age = difference.days //365\n",
        "    print(\"you were\",age,\"old on the eve of the new millenium\")\n",
        "\n",
        "if __name__ == \"__main__\":\n",
        "  year = int(input(\"Enter the year: \"))\n",
        "  month = int(input(\"Enter the month: \"))\n",
        "  day = int(input(\"Enter the day: \"))\n",
        "  old(day,month,year)"
      ],
      "metadata": {
        "colab": {
          "base_uri": "https://localhost:8080/"
        },
        "id": "ZtvKCraRZ235",
        "outputId": "c0c82811-e16c-4584-a53c-1757aa6a58a4"
      },
      "execution_count": null,
      "outputs": [
        {
          "output_type": "stream",
          "name": "stdout",
          "text": [
            "Enter the year: 1970\n",
            "Enter the month: 3\n",
            "Enter the day: 27\n",
            "you were 29 old on the eve of the new millenium\n"
          ]
        }
      ]
    },
    {
      "cell_type": "code",
      "source": [
        "from datetime import datetime,timedelta\n",
        "\n",
        "def record_screen_time():\n",
        "  path = \"/content/drive/MyDrive/Writing_Files/Screen time/\"\n",
        "  filename = input(\"Filename: \")\n",
        "  file = path + filename\n",
        "  start_date = input(\"Starting date: \")\n",
        "  how_many = int(input(\"How many days: \"))\n",
        "\n",
        "  date = datetime.strptime(start_date,\"%Y.%m.%d\")\n",
        "  data = []\n",
        "  for i in range(how_many):\n",
        "    data.append(date)\n",
        "    date += timedelta(days = 1)\n",
        "\n",
        "  print(\"Please type in screen time in minutes on each day (TV computer mobile):\")\n",
        "  result = []\n",
        "  for date in data:\n",
        "    date = datetime.strftime(date,\"%d.%m.%Y\")\n",
        "    info = input(f\"Screen time {date}: \")\n",
        "\n",
        "    result.append(f\"Screen time {date}:{info.replace(' ','/')}\")\n",
        "\n",
        "  with open(file,\"a\") as file:\n",
        "    file.write(\"\\n\".join(result)+\"\\n\")\n",
        "  print(\"data stored in file\",filename)\n",
        "if __name__ == \"__main__\":\n",
        "  record_screen_time()\n"
      ],
      "metadata": {
        "id": "g5sTxu2_jETL",
        "colab": {
          "base_uri": "https://localhost:8080/"
        },
        "outputId": "12db9fd4-b0da-4265-fdab-21abf005ca6b"
      },
      "execution_count": null,
      "outputs": [
        {
          "output_type": "stream",
          "name": "stdout",
          "text": [
            "Filename: late_june.txt\n",
            "Starting date: 2025.6.30\n",
            "How many days: 5\n",
            "Please type in screen time in minutes on each day (TV computer mobile):\n",
            "Screen time 30.06.2025: 0 300 120\n",
            "Screen time 01.07.2025: 0 360 0\n",
            "Screen time 02.07.2025: 60 300 0\n",
            "Screen time 03.07.2025: 15 120 300\n",
            "Screen time 04.07.2025: 0 0 0\n",
            "data stored in file late_june.txt\n"
          ]
        }
      ]
    },
    {
      "cell_type": "code",
      "source": [
        "import json\n",
        "\n",
        "with open(\"/content/drive/MyDrive/Writing_Files/courses.json\") as file:\n",
        "  content = file.read()\n",
        "\n",
        "courses = json.loads(content)\n",
        "for course in courses:\n",
        "  print(course[\"name\"])"
      ],
      "metadata": {
        "colab": {
          "base_uri": "https://localhost:8080/"
        },
        "id": "UYUhWCVkVk0d",
        "outputId": "ef219023-8c2c-424a-eb5c-3894a7a1d512"
      },
      "execution_count": null,
      "outputs": [
        {
          "output_type": "stream",
          "name": "stdout",
          "text": [
            "Introduction to Programming\n",
            "Advanced Course in Programming\n",
            "Database Application\n"
          ]
        }
      ]
    },
    {
      "cell_type": "code",
      "source": [
        "def print_persons(filename: str):\n",
        "  with open(filename) as file:\n",
        "    content = file.read()\n",
        "\n",
        "  data = json.loads(content)\n",
        "\n",
        "  for info in data:\n",
        "    name = info[\"name\"]\n",
        "    age = info[\"age\"]\n",
        "    hobbies = info[\"hobbies\"]\n",
        "\n",
        "    print((f\"{name} {age} ({','.join(hobbies)})\"))\n",
        "\n",
        "\n",
        "if __name__ == \"__main__\":\n",
        "  if False:\n",
        "    filename = input(\"Enter file: \")\n",
        "    print_persons(filename)\n",
        "  else:\n",
        "    filename = \"/content/drive/MyDrive/Writing_Files/Handling json files/data.json\"\n",
        "    print_persons(filename)\n"
      ],
      "metadata": {
        "colab": {
          "base_uri": "https://localhost:8080/"
        },
        "id": "l4YvoKutmwxc",
        "outputId": "7c66824a-fbda-496f-ba04-f793bd363c1a"
      },
      "execution_count": null,
      "outputs": [
        {
          "output_type": "stream",
          "name": "stdout",
          "text": [
            "Peter Pythons 27 (coding,knitting)\n",
            "Jean Javanese 24 (coding,rock climbing,reading)\n"
          ]
        }
      ]
    },
    {
      "cell_type": "code",
      "source": [
        "import urllib.request\n",
        "\n",
        "response = urllib.request.urlopen(\"https://www.w3schools.com/\")\n",
        "print(response.read())"
      ],
      "metadata": {
        "colab": {
          "base_uri": "https://localhost:8080/"
        },
        "id": "53X0iD_cpGTf",
        "outputId": "9b1b5829-e3c4-4340-ac4c-734089ad3a88"
      },
      "execution_count": null,
      "outputs": [
        {
          "output_type": "stream",
          "name": "stdout",
          "text": [
            "b'\\n<!DOCTYPE html>\\n<html lang=\"en-US\">\\n<head>\\n<title>W3Schools Online Web Tutorials</title>\\n<meta charset=\"utf-8\">\\n<meta name=\"viewport\" content=\"width=device-width, initial-scale=1\">\\n<meta name=\"title\" property=\"og:title\" content=\"W3Schools.com\">\\n<meta name=\"Keywords\" content=\"HTML, Python, CSS, SQL, JavaScript, How to, PHP, Java, C, C++, C#, jQuery, Bootstrap, Colors, W3.CSS, XML, MySQL, Icons, NodeJS, React, Graphics, Angular, R, AI, Git, Data Science, Code Game, Tutorials, Programming, Web Development, Training, Learning, Quiz, Exercises, Courses, Lessons, References, Examples, Learn to code, Source code, Demos, Tips, Website\">\\n<meta name=\"Description\" content=\"Well organized and easy to understand Web building tutorials with lots of examples of how to use HTML, CSS, JavaScript, SQL, Python, PHP, Bootstrap, Java, XML and more.\">\\n<meta property=\"og:image\" content=\"https://www.w3schools.com/images/w3schools_logo_436_2.png\">\\n<meta property=\"og:image:type\" content=\"image/png\">\\n<meta property=\"og:image:width\" content=\"436\">\\n<meta property=\"og:image:height\" content=\"228\">\\n<meta property=\"og:description\" content=\"W3Schools offers free online tutorials, references and exercises in all the major languages of the web. Covering popular subjects like HTML, CSS, JavaScript, Python, SQL, Java, and many, many more.\">\\n<link rel=\"icon\" href=\"https://www.w3schools.com/favicon.ico\">\\n<link rel=\"apple-touch-icon\" sizes=\"180x180\" href=\"/apple-touch-icon.png\">\\n<link rel=\"icon\" type=\"image/png\" sizes=\"32x32\" href=\"/favicon-32x32.png\">\\n<link rel=\"icon\" type=\"image/png\" sizes=\"16x16\" href=\"/favicon-16x16.png\">\\n<link rel=\"manifest\" href=\"/site.webmanifest\" crossorigin=\"use-credentials\">\\n<link rel=\"mask-icon\" href=\"/safari-pinned-tab.svg\" color=\"#04aa6d\">\\n<meta name=\"msapplication-TileColor\" content=\"#00a300\">\\n<meta name=\"theme-color\" content=\"#ffffff\">\\n<link rel=\"preload\" href=\"/lib/fonts/fontawesome.woff2?14663396\" as=\"font\" type=\"font/woff2\" crossorigin> \\n<link rel=\"preload\" href=\"/lib/fonts/source-code-pro-v14-latin-regular.woff2\" as=\"font\" type=\"font/woff2\" crossorigin> \\n<link rel=\"preload\" href=\"/lib/fonts/roboto-mono-v13-latin-500.woff2\" as=\"font\" type=\"font/woff2\" crossorigin> \\n<link rel=\"preload\" href=\"/lib/fonts/source-sans-pro-v14-latin-700.woff2\" as=\"font\" type=\"font/woff2\" crossorigin> \\n<link rel=\"preload\" href=\"/lib/fonts/source-sans-pro-v14-latin-600.woff2\" as=\"font\" type=\"font/woff2\" crossorigin>\\n<link rel=\"preload\" href=\"/lib/fonts/SourceSansPro-Regular.woff2\" as=\"font\" type=\"font/woff2\" crossorigin>\\n<link rel=\"preload\" href=\"/lib/fonts/freckle-face-v9-latin-regular.woff2\" as=\"font\" type=\"font/woff2\" crossorigin> \\n<link rel=\"stylesheet\" href=\"/lib/topnav/main.css?v=1.0.54\">\\n<link rel=\"stylesheet\" href=\"/lib/my-learning/main.css?v=1.0.42\">\\n<link rel=\"stylesheet\" href=\"/lib/pathfinder/main.css?v=1.0.7\">\\n<link rel=\"stylesheet\" href=\"/lib/w3schools.css?v=1.0.0\">\\n<link rel=\"stylesheet\" href=\"/plus/plans/main.css\">\\n\\n<!-- Google Tag Manager -->\\n<script>\\n(function(w,d,s,l,i){w[l]=w[l]||[];w[l].push({\\'gtm.start\\':\\nnew Date().getTime(),event:\\'gtm.js\\'});var f=d.getElementsByTagName(s)[0],\\nj=d.createElement(s),dl=l!=\\'dataLayer\\'?\\'&l=\\'+l:\\'\\';j.async=true;j.src=\\n\\'https://www.googletagmanager.com/gtm.js?id=\\'+i+dl;f.parentNode.insertBefore(j,f);\\n})(window,document,\\'script\\',\\'dataLayer\\',\\'GTM-KTCFC3S\\');\\n\\nvar subjectFolder = location.pathname;\\nsubjectFolder = subjectFolder.replace(\"/\", \"\");\\nif (subjectFolder.startsWith(\"python/\") == true ) {\\n  if (subjectFolder.includes(\"/numpy/\") == true ) {\\n    subjectFolder = \"numpy/\"\\n  } else if (subjectFolder.includes(\"/pandas/\") == true ) {\\n      subjectFolder = \"pandas/\"\\n  } else if (subjectFolder.includes(\"/scipy/\") == true ) {\\n      subjectFolder = \"scipy/\"\\n  }\\n}\\nsubjectFolder = subjectFolder.substr(0, subjectFolder.indexOf(\"/\"));\\n</script>\\n<!-- End Google Tag Manager -->\\n<script src=\"/lib/uic.js?v=1.0.9\"></script>\\n<script src=\"/lib/uic_prov.js?v=1.2.8\"></script>\\n\\n<style>\\n.snigel-cmp-framework .sn-inner {background-color:#fffefe!important;}.snigel-cmp-framework .sn-b-def {border-color:#04aa6d!important;color:#04aa6d!important;}.snigel-cmp-framework .sn-b-def.sn-blue {color:#ffffff!important;background-color:#04aa6d!important;border-color:#04aa6d!important;}.snigel-cmp-framework .sn-selector ul li {color:#04aa6d!important;}.snigel-cmp-framework .sn-selector ul li:after {background-color:#04aa6d!important;}.snigel-cmp-framework .sn-footer-tab .sn-privacy a {color:#04aa6d!important;}.snigel-cmp-framework .sn-arrow:after,.snigel-cmp-framework .sn-arrow:before {background-color:#04aa6d!important;}.snigel-cmp-framework .sn-switch input:checked + span::before {background-color:#04aa6d!important;}#adconsent-usp-link {border: 1px solid #04aa6d!important;color:#04aa6d!important;}#adconsent-usp-banner-optout input:checked + .adconsent-usp-slider {background-color:#04aa6d!important;}#adconsent-usp-banner-btn {color:#ffffff;border: solid 1px #04aa6d!important;background-color:#04aa6d!important; }\\n</style>\\n<script data-cfasync=\"false\" type=\"text/javascript\">\\nuic_prov_pre(\"landing\", \"\", subjectFolder);\\n</script>\\n\\n<script src=\"/lib/common-deps/main.js?v=1.0.10\"></script>\\n<script src=\"/lib/user-session/main.js?v=1.0.40\"></script>\\n<script src=\"/lib/my-learning/main.js?v=1.0.42\"></script>\\n\\n<style>\\n/* Customize w3schools23.css */\\n#nav_tutorials,\\n#nav_references,\\n#nav_exercises {\\n  margin-top: 0;\\n}\\n\\n@media screen and (min-width: 769px) {\\n  .w3-bar-block .w3-button {\\n    padding: 0 16px !important;\\n  }\\n}\\n#belowtopnav {\\n padding:0;\\n}\\n\\n\\n#main {\\n  padding: 0;\\n  border-right: none;\\n  width:100%;\\n  margin-top:88px; \\n}\\n\\n#mypagediv2,#user-profile-bottom-wrapper {\\n  height:0px; overflow:hidden;display:block;\\n}\\n#footer {\\n  padding:0;\\n}\\n\\n.herosection {\\n  /*background-image:url(\\'/images/lynx_in_space.webp\\'), url(\\'/images/background_in_space.webp\\');\\n  background-repeat: no-repeat, repeat ;\\n  background-position: 90% 60%, center center;*/\\n  padding-top:90px;\\n  padding-bottom:90px;\\n}\\n/*\\n@media screen and (max-width: 992px) {\\n  .herosection {\\n    background-image:url(\\'/images/background_in_space.webp\\');\\n    background-position:center center /*left top*/;\\n  }\\n}\\n*/\\n\\n/* Customize W3.CSS */\\n.w3-col.l4 .w3-card-2 {\\n  padding: 15px 10px;\\n  height: 260px;\\n}\\n\\n\\nh1,\\nh2,\\nh3,\\nh4,\\nh5,\\nh6 {\\n  font-family: \\'Source Sans Pro\\', sans-serif;\\n}\\n\\nh1 {\\n  font-size: 80px;\\n  margin: 2px 0 -20px 0 !important;\\n}\\n\\n.learn h1  {\\n  margin: 10px 0 !important;\\n}\\n\\n\\n.green-border {\\n  border-left: 4px solid #04AA6D;\\n}\\n\\n.w3-round, .w3-round-medium {\\n  border-radius: 5px;\\n}\\n\\n.tryit-button {\\n  background-color: #04AA6D;\\n  color: white;\\n  border-radius: 25px;\\n  font-size: 18px;\\n  width:200px;\\n}\\n\\n.tut-button {\\n  background-color: #04AA6D;\\n  color: white;\\n  font-size: 18px;\\n  margin: auto;\\n  display: block;\\n  width: 200px;\\n  border-radius: 25px;\\n}\\n\\n.w3csstut {\\n  height: 390px;\\n}\\n\\n.tut-button:hover,.tryit-button:hover,.exercise-button:hover,#getdiploma a:hover {\\n  background-color: #059862 !important;\\n  color:white!important;\\n}\\n\\n.bar-item-hover:hover {\\n  background-color: #04AA6D!important;\\n  color:white!important;\\n}\\n\\n.bar-icon-hover:hover {\\n  background-color: black!important;\\n  color:white!important;\\n}\\n\\n.w3-bar .fa-logo:hover {\\n  color:#059862!important;\\n}\\n\\n.mystyle,.mystyle:hover {\\n  background-color: #282A35!important;\\n  color:white!important;\\n}\\n\\n.ref-button {\\n  background-color: white;\\n  font-size: 18px;\\n  margin: auto;\\n  display: block;\\n  width: 200px;\\n  border-radius: 25px;\\n  color: #000;\\n}\\n\\n.ref-button:hover {\\n  background-color: #E7E9EB!important;\\n  color: black;\\n}\\n\\n.black-color {\\n  background-color: #282A35;\\n  color: white;\\n}\\n\\n.black-color:hover {\\n  background-color: #000!important;\\n  color: white!important;\\n}\\n\\n.grey-color {\\n  background-color: #E7E9EB;\\n  color: black\\n}\\n\\n.exercise-button {\\n  padding: 70px 50px;\\n  font-size: 35px;\\n  width:87%;\\n  opacity:0.97;\\n}\\n@media screen and (max-width:768px) {\\n  h1,\\n  .w3-jumbo {\\n    font-size: 60px !important;\\n  }\\n}\\n#w3_cert_badge_default {\\n  position: absolute;\\n  right: 25px;\\n  width: 220px;\\n  transform: rotate(10deg);\\n  bottom: -130px;\\n}\\n\\n#w3_cert_arrow_default {\\n  position: absolute;\\n  right: 200px;\\n  width: 220px;\\n  transform: rotate(10deg);\\n  bottom: -50px;\\n  z-index: 1;\\n}\\n\\n#howto_padding {\\n  padding: 0px 24px 100px 24px\\n}\\n\\n#getdiploma {\\n  position: relative;\\n  padding: 0 60px 50px 60px;\\n  margin-bottom: 85px;\\n  background-color: #282A35;\\n  color: #FFC0C7;\\n  font-family: \\'Source Sans Pro\\', sans-serif;\\n}\\n\\n#getdiploma p {\\n  font-size: 52px;\\n  margin-top: 1em;\\n  margin-bottom: 1em;\\n  font-family: \\'Source Sans Pro\\', sans-serif;\\n}\\n\\n#getdiploma h2 {\\n  font-size: 62px;\\n  margin-top: 1em;\\n  margin-bottom: 1em;\\n  font-family: \\'Source Sans Pro\\', sans-serif;\\n}\\n\\n#getdiploma a {\\n  border-radius: 50px;\\n  font-size: 18px;\\n  background-color: #04AA6D;\\n  padding: 17px 55px\\n}\\n\\n\\n@media screen and (max-width: 992px) {\\n  #w3_cert_arrow_default {\\n    right:128px;\\n    bottom:-80px\\n  }\\n  .w3csstut {\\n  height: auto;\\n}\\n  #w3_cert_badge_default {\\n    width: 150px;\\n    right: 2%;\\n    bottom:-110px\\n  }\\n\\n}\\n\\n\\n@media screen and (max-width: 800px) {\\n  #w3_cert_arrow_default {\\n    display: none;\\n  }\\n  #getdiploma h2 {\\n    font-size: 55px;\\n  }\\n}\\n\\n\\n@media screen and (max-width: 600px) {\\n  #w3_cert_badge_default {\\n    top: -95px;\\n    right: 10px;\\n    width: 100px;\\n  }\\n  \\n  #howto_padding {\\n    padding: 0px 24px 90px 24px\\n  }\\n\\n  #getdiploma p {\\n    font-size: 40px;\\n  }\\n  #getdiploma a {\\n    width: 100%;\\n     margin-bottom:45px;\\n  }\\n  div.ext_icon_container {\\n    background-color:transparent!important;\\n  }\\n}\\n.tutbuttons a{\\n  text-decoration:none;\\n}\\n\\n.tutbuttons a div {\\n  opacity:0.9;\\n}\\n\\n.tutbuttons a:hover div {\\n  opacity:1;\\n}\\n\\n.ws-yellow-hover:hover {\\n  background-color:#fff080!important;\\n  color:black!important;\\n}\\n\\n.ws-pink-hover:hover {\\n  background-color:#ffb3bb!important;\\n  color:black!important;\\n}\\n\\n#google_translate_element {\\n  z-index:7!important;\\n}\\n\\n@media screen and (max-width: 860px) {\\n  .ws-hide-860 {\\n    display: none !important;\\n  }\\n \\n}\\n@media screen and (max-width: 1080px) {\\n  .ws-hide-1080 {\\n    display: none !important;\\n  }\\n}\\n@media screen and (max-width: 1160px) {\\n  .ws-hide-1160 {\\n    display: none !important;\\n  }\\n}\\n@media screen and (max-width: 1200px) {\\n  .ws-hide-1200 {\\n    display: none !important;\\n  }\\n}\\n@media screen and (max-width: 1300px) {\\n  .ws-hide-1300 {\\n    display: none !important;\\n  }\\n}\\n@media screen and (max-width: 1350px) {\\n  .ws-hide-1350 {\\n    display: none !important;\\n  }\\n}\\n\\n@media screen and (max-width: 950px) {\\n  .ws-hide-950 {\\n    display: none !important;\\n  }\\n}\\n#howto_iframe {\\n   width: 100%;\\n   border: 6px solid #e3e6e8;\\n   height: 400px;\\n   border-bottom-left-radius:4px;\\n   border-bottom-right-radius:4px;\\n}\\n\\n.vl-howto {\\n  border-left: 50px solid #282A35;\\n  height: 80px;\\n  position: absolute;\\n  top:-6px;\\n  left:50%;\\n  margin-left:-25px;\\n}\\n.vl-howtobtn {\\n  width:50%;\\n  margin-top:73px;\\n}\\n\\n@media screen and (max-width: 1400px) {\\n  .ws-hide-1400 {\\n    display: none !important;\\n  }\\n}\\n\\n@media screen and (max-width: 1250px) {\\n  .ws-hide-1250 {\\n    display: none !important;\\n  }\\n}\\n@media screen and (max-width: 900px) {\\n  #howto_iframe {\\n    height: 360px;\\n  }\\n}\\n@media screen and (max-width: 800px) {\\n  #howto_iframe {\\n    height: 320px;\\n  }\\n}\\n@media screen and (max-width: 700px) {\\n  #howto_iframe {\\n    height: 280px;\\n  }\\n  .codeeditorbr-input {\\n    margin-left: 15px;\\n  }\\n  .vl-howto {\\n    height:45px;\\n  }\\n.vl-howtobtn {\\n  margin-top:37px;\\n}\\n}\\n@media screen and (max-width:584px) {\\n  #howto_iframe {\\n    height: 245px;\\n  }\\n}\\n@media screen and (max-width:500px) {\\n  #howto_iframe {\\n    height: 215px;\\n  }\\n}\\n@media screen and (max-width:450px) {\\n  #howto_iframe {\\n    height: 203px;\\n  }\\n}\\n.codeeditorbr-container {\\n  border-top-left-radius: 4px;\\n  border-top-right-radius: 4px;\\n}\\n\\n.codeeditorbr-row {\\n  padding: 10px;\\n  background: #f1f1f1;\\n  border-top-left-radius: 4px;\\n  border-top-right-radius: 4px;\\n}\\n\\n.codeeditorbr-column {\\n  float: left;\\n}\\n\\n.codeeditorbr-left {\\n  width: 20%;\\n}\\n\\n.codeeditorbr-middle {\\n  width: 80%;\\n}\\n\\n@media screen and (max-width: 800px) {\\n  .codeeditorbr-left {\\n    width: 24%;\\n  }\\n\\n  .codeeditorbr-middle {\\n    width: 76%;\\n  }\\n}\\n\\n.codeeditorbr-row:after {\\n  content: \"\";\\n  display: table;\\n  clear: both;\\n}\\n\\n.codeeditorbr-dot {\\n  margin-top: 5px;\\n  height: 15px;\\n  width: 15px;\\n  background-color: #bbb;\\n  border-radius: 50%;\\n  display: inline-block;\\n  margin-left: 3px;\\n}\\n\\n.codeeditorbr-input {\\n  width: 80%;\\n  border-radius: 3px;\\n  border: none;\\n  background-color: white;\\n  margin-top: -8px;\\n  height: 22px;\\n  color: #666;\\n  font-size: 14px;\\n  padding: 5px;\\n}\\n\\n.hover-yellow:hover {\\n  background-color: #fff080 !important;\\n  color: black !important;\\n}\\n\\n.codeeditorbr-tablink {\\n  font-size: 17px;\\n  font-family: \\'Source Sans Pro\\', sans-serif;\\n  border: none;\\n  display: inline-block;\\n  padding: 6px 18px;\\n  vertical-align: middle;\\n  overflow: hidden;\\n  text-decoration: none;\\n  color: inherit;\\n  text-align: center;\\n  cursor: pointer;\\n  white-space: nowrap;\\n  -webkit-touch-callout: none;\\n  -webkit-user-select: none;\\n  -khtml-user-select: none;\\n  -moz-user-select: none;\\n  -ms-user-select: none;\\n  user-select: none;\\n  color: #ffffff;\\n}\\n\\n.codeeditorbr-tablink:hover {\\n  background-color: #E7E9EB !important\\n}\\n\\n.hover-yellow:hover {\\n  background-color:#fff080!important;\\n  color:black!important;\\n}\\n#bgcodeimg {\\n  background: #282A35 url(\"/about/w3codes.webp\") no-repeat fixed center;\\n}\\n#bgcodeimg2 {\\n  background: #282A35 url(\"https://www.w3schools.com/spaces/files/priscilla-du-preez-XkKCui44iM0-unsplash.921aa0c0.webp\") no-repeat fixed center;\\n}\\n\\nform.example {\\n  position:relative;\\n}\\nform.example input[type=text] {\\n  padding: 10px;\\n  font-size: 17px;\\n  border: 1px solid #282A35;\\n  border-radius:25px;\\n  float: left;\\n  width: 80%;\\n  padding-left:25px;\\n  background: white;\\n  border-top-right-radius:0;\\n  border-bottom-right-radius:0;\\n  border-right:0;\\n  border-right: 1px solid #04AA6D;\\n  outline:0;\\n}\\n\\nform.example button {\\n  border-radius:25px;\\n  float: left;\\n  width: 20%;\\n  padding: 10px;\\n  background:#04AA6D;\\n  color: white;\\n  font-size: 17px;\\n  border: 1px solid #282A35;\\n  border-left: none;\\n  cursor: pointer;\\n  border-top-left-radius:0;\\n  border-bottom-left-radius:0;\\n}\\n\\nform.example button:hover {\\n  background: #059862;\\n  color: white;\\n}\\n\\nform.example::after {\\n  content: \"\";\\n  clear: both;\\n  display: table;\\n}\\n\\n#listofsearchresults {\\n  display:none;\\n  position:absolute;\\n  background-color:#282A35;\\n  background-color:#fff;\\n  color:#000;\\n  width:80%;\\n  top:47px;\\n  border-left: 1px solid #282A35;\\n  border-right: 1px solid #282A35;\\n  border-bottom: 1px solid #282A35;\\n  text-align:left;\\n}\\n#listofsearchresults a {\\n  background-color:#e2e3e9;\\n  background-color:#fff;\\n  color:#777;\\n  text-decoration:none;\\n  display:block;\\n  padding:10px 30px;\\n  width:100%;\\n  opacity:0.95;\\n}\\n#listofsearchresults a:hover {\\n  color:#000;\\n  opacity:1;\\n}\\n.span_search {\\n  background-color:#ffecee;\\n}\\n.search_active {\\n  background-color:#ffecee!important;\\n  color:#000!important;\\n}\\n.search_active .span_search {\\n  background-color:#ffccd1;\\n}\\n\\n.learntocodeh1 {\\n  font-size:70px;\\n  font-weight:700;\\n}\\n\\n.learntocodeh3 {\\n  color:#FFF4A3;\\n  font-weight:700;\\n  margin-top:30px!important;\\n  font-size:23px;\\n}\\n.learntocodeh4 {\\n  color:white;\\n  font-size:23px;\\n  font-weight:700;\\n  margin-top:30px!important;\\n}\\n.learntocodeh4 a:hover,.learntocodeh4 a:active {\\n  color:#FFF4A3;\\n}\\n.learntocodecontent {\\n  padding-left:90px;\\n  padding-right:90px;\\n}\\n\\n@media screen and (max-width: 600px) {\\n  .learntocodeh1 {\\n    font-size:50px!important;\\n  }\\n  .learntocodeh3 {\\n    font-size:21px!important;\\n  }\\n  .learntocodecontent {\\n    padding-left:35px;\\n    padding-right:35px;\\n  }\\n  form.example input[type=text],form.example button {\\n  font-size: 16px;\\n }\\n   form.example input[type=text] {\\n   padding-left:16px;\\n }\\n}\\n\\n@media screen and (max-width: 1006px) and (min-width: 992px) {\\n  .ws-hide-special  {\\n    display:none;\\n  }\\n}\\n\\n.grey-color {\\n  background-color: #E7E9EB;\\n  color: #000;\\n}\\n.icons-right {\\n  color:#f1f1f1;\\n}\\nbody.darkpagetheme .grey-color {\\n  background-color: #38444d;\\n  color: #ddd;\\n}\\n\\nbody.darkpagetheme .bar-icon-hover:hover,body.darkpagetheme .fa-logo:hover {\\n  background-color: #1d2a35!important;\\n  color:white!important;\\n}\\n\\nbody.darkpagetheme #main {\\n  border-right:0;\\n}\\nbody.darkpagetheme #wavepath {\\n  fill: rgb(13,23,33)!important\\n}\\n\\ntable.gstl_50 {/*google search suggestions*/\\n  color:#000;\\n}\\n.topnavmain_pro {\\n  background-color:#9763f6;\\n  color:#fff;\\n}\\n.topnavmain_pro:hover {\\n  background-color:#7d53cc!important;\\n  color:#fff!important;\\n}\\n\\nbody.darkpagetheme .icons-right  {\\n    color: #eee;\\n}\\n\\n.pro-caption {\\n  padding: 78px 35px 96px 35px;\\n  text-align: center\\n}\\n\\n.pro-caption h1 {\\n  font-weight: 700;\\n  font-size: 52px;\\n  line-height: 55px;\\n  padding-top: 11px;\\n  padding-bottom: 20px;\\n  font-family: Source Sans Pro;\\n  color: #fff;\\n  margin: 0\\n}\\n\\n.pro-caption h3 {\\n  font-size: 25px;\\n  color: #FFC0C7;\\n  margin:19px 0;\\n}\\n\\n.pro-caption li {\\n  font-size:20px;\\n  line-height:36px;\\n  text-align:left;\\n  list-style-type:none;\\n}\\n\\n@media screen and (max-width:620px) {\\n  .pro-caption {padding: 70px 15px 70px 15px;}\\n  .pro-caption h1 {font-size:50px;}\\n  .pro-caption h3 {font-size:24px;}\\n  .pro-caption li {font-size:18px;}\\n}\\n\\n@media screen and (max-width:550px) {\\n  .pro-caption h1 {font-size:40px;}\\n  .pro-caption h3 {font-size:24px;}\\n  .pro-caption li {font-size:18px;}\\n}\\n#footer .w3-small,#footer a {\\n  font-family: Verdana,sans-serif;\\n}\\n\\n.belowtopnavcontainer {\\n  max-width:100%!important;\\n}\\n</style>\\n</head>\\n<body style=\"font-family: \\'Source Sans Pro\\', sans-serif;\">\\n\\n<div id=\"tnb-search-suggestions\"></div>\\n\\n<div id=\"top-nav-bar\" class=\"classic\">\\n  <div id=\"pagetop\" class=\"w3-bar notranslate w3-white\">\\n    <a\\n      \\n      id=\"w3-logo\"\\n      href=\"https://www.w3schools.com\"\\n      class=\"w3-bar-item w3-button w3-hover-none w3-left ga-top ga-top-w3home\"\\n      title=\"Home\"\\n      style=\"width: 75px\"\\n      aria-label=\"Home link\"\\n    >\\n      <i\\n        class=\"fa fa-logo ws-hover-text-green\"\\n        style=\"\\n          position: relative;\\n          z-index: 1;\\n          color: #04aa6d;\\n          font-size: 36px !important;\\n        \"\\n        aria-hidden=\"true\"\\n      ></i>\\n    </a>\\n\\n    <nav class=\"tnb-desktop-nav w3-bar-item\">\\n      <a\\n        onclick=\"TopNavBar.openNavItem(\\'tutorials\\')\"\\n        class=\"tnb-nav-btn w3-bar-item w3-button barex bar-item-hover w3-padding-16 ga-top ga-top-tut-and-ref\"\\n        href=\"javascript:void(0)\"\\n        id=\"navbtn_tutorials\"\\n        title=\"Tutorials and References\"\\n        role=\"button\"\\n      >\\n        Tutorials\\n        <i\\n          class=\"fa fa-caret-down\"\\n          style=\"font-size: 15px\"\\n          aria-hidden=\"true\"\\n        ></i>\\n        <i\\n          class=\"fa fa-caret-up\"\\n          style=\"display: none; font-size: 15px\"\\n          aria-hidden=\"true\"\\n        ></i>\\n      </a>\\n\\n      <a\\n        onclick=\"TopNavBar.openNavItem(\\'exercises\\')\"\\n        class=\"tnb-nav-btn w3-bar-item w3-button barex bar-item-hover w3-padding-16 ga-top ga-top-exc-and-quz\"\\n        href=\"javascript:void(0)\"\\n        id=\"navbtn_exercises\"\\n        title=\"Exercises and Quizzes\"\\n        role=\"button\"\\n      >\\n        Exercises\\n        <i\\n          class=\"fa fa-caret-down\"\\n          style=\"font-size: 15px\"\\n          aria-hidden=\"true\"\\n        ></i>\\n        <i\\n          class=\"fa fa-caret-up\"\\n          style=\"display: none; font-size: 15px\"\\n          aria-hidden=\"true\"\\n        ></i>\\n      </a>\\n\\n      <a\\n        onclick=\"TopNavBar.openNavItem(\\'certified\\')\"\\n        class=\"tnb-nav-btn w3-bar-item w3-button barex bar-item-hover w3-padding-16 tnb-paid-service ga-top ga-top-cert-and-course\"\\n        href=\"javascript:void(0)\"\\n        id=\"navbtn_certified\"\\n        title=\"Certificates\"\\n        role=\"button\"\\n      >\\n        Certificates\\n        <i\\n          class=\"fa fa-caret-down\"\\n          style=\"font-size: 15px\"\\n          aria-hidden=\"true\"\\n        ></i>\\n        <i\\n          class=\"fa fa-caret-up\"\\n          style=\"display: none; font-size: 15px\"\\n          aria-hidden=\"true\"\\n        ></i>\\n      </a>\\n\\n      <a\\n        onclick=\"TopNavBar.openNavItem(\\'services\\')\"\\n        class=\"tnb-nav-btn w3-bar-item w3-button barex bar-item-hover w3-padding-16 ga-top ga-top-services\"\\n        href=\"javascript:void(0)\"\\n        id=\"navbtn_services\"\\n        title=\"Our Services\"\\n        role=\"button\"\\n      >\\n        Services\\n        <i\\n          class=\"fa fa-caret-down\"\\n          style=\"font-size: 15px\"\\n          aria-hidden=\"true\"\\n        ></i>\\n        <i\\n          class=\"fa fa-caret-up\"\\n          style=\"display: none; font-size: 15px\"\\n          aria-hidden=\"true\"\\n        ></i>\\n      </a>\\n    </nav>\\n\\n    <a\\n      onclick=\"TopNavBar.openMenu()\"\\n      class=\"tnb-menu-btn w3-bar-item w3-button bar-item-hover w3-padding-16 ga-top ga-top-menu\"\\n      href=\"javascript:void(0)\"\\n      title=\"Menu\"\\n      aria-label=\"Menu\"\\n      role=\"button\"\\n    >\\n      Menu\\n      <i\\n        class=\"fa fa-caret-down\"\\n        style=\"font-size: 15px\"\\n        aria-hidden=\"true\"\\n      ></i>\\n      <i\\n        class=\"fa fa-caret-up\"\\n        style=\"display: none; font-size: 15px\"\\n        aria-hidden=\"true\"\\n      ></i>\\n    </a>\\n\\n    <div id=\"tnb-google-search-container\" class=\"w3-bar-item\">\\n      <div id=\"tnb-google-search-inner-container\">\\n        <label for=\"tnb-google-search-input\" class=\"tnb-soft-hide\">\\n          Search field\\n        </label>\\n\\n        <input\\n          id=\"tnb-google-search-input\"\\n          type=\"text\"\\n          placeholder=\"Search...\"\\n          autocomplete=\"off\"\\n          onkeydown=\"TopNavBar.googleSearchAttachKeyPressHandler(event)\"\\n          aria-label=\"Search field\"\\n          oninput=\"TopNavBar.searchWithSuggestions(this)\"\\n          onfocus=\"TopNavBar.searchWithSuggestions(this)\"\\n          onblur=\"TopNavBar.searchFieldLostFocus(event)\"\\n        />\\n\\n        <div\\n          id=\"tnb-google-search-submit-btn\"\\n          class=\"tnb-button-light\"\\n          role=\"button\"\\n          aria-label=\"Button to search\"\\n          onclick=\"TopNavBar.googleSearchSubmit()\"\\n        >\\n          <svg\\n            id=\"tnb-google-search-icon\"\\n            viewBox=\"0 0 17 16\"\\n            fill=\"none\"\\n            xmlns=\"http://www.w3.org/2000/svg\"\\n          >\\n            <path\\n              d=\"M11.8153 10.3439C12.6061 9.2673 13.0732 7.9382 13.0732 6.5C13.0732 2.91015 10.163 0 6.57318 0C2.98333 0 0.0731812 2.91015 0.0731812 6.5C0.0731812 10.0899 2.98333 13 6.57318 13C8.01176 13 9.3412 12.5327 10.4179 11.7415L10.4171 11.7422C10.4466 11.7822 10.4794 11.8204 10.5156 11.8566L14.3661 15.7071C14.7566 16.0976 15.3898 16.0976 15.7803 15.7071C16.1708 15.3166 16.1708 14.6834 15.7803 14.2929L11.9298 10.4424C11.8936 10.4062 11.8553 10.3734 11.8153 10.3439ZM12.0732 6.5C12.0732 9.53757 9.61075 12 6.57318 12C3.53561 12 1.07318 9.53757 1.07318 6.5C1.07318 3.46243 3.53561 1 6.57318 1C9.61075 1 12.0732 3.46243 12.0732 6.5Z\"\\n              fill=\"black\"\\n            ></path>\\n          </svg>\\n        </div>\\n      </div>\\n\\n      <div id=\"tnb-google-search-mobile-action-btns\">\\n        <div\\n          id=\"tnb-google-search-mobile-show\"\\n          class=\"tnb-button\"\\n          onclick=\"TopNavBar.googleSearchShowMobileContainer()\"\\n          aria-label=\"Button to open search field\"\\n          role=\"button\"\\n        >\\n          <svg\\n            viewBox=\"0 0 17 16\"\\n            fill=\"none\"\\n            xmlns=\"http://www.w3.org/2000/svg\"\\n          >\\n            <path\\n              d=\"M11.8153 10.3439C12.6061 9.2673 13.0732 7.9382 13.0732 6.5C13.0732 2.91015 10.163 0 6.57318 0C2.98333 0 0.0731812 2.91015 0.0731812 6.5C0.0731812 10.0899 2.98333 13 6.57318 13C8.01176 13 9.3412 12.5327 10.4179 11.7415L10.4171 11.7422C10.4466 11.7822 10.4794 11.8204 10.5156 11.8566L14.3661 15.7071C14.7566 16.0976 15.3898 16.0976 15.7803 15.7071C16.1708 15.3166 16.1708 14.6834 15.7803 14.2929L11.9298 10.4424C11.8936 10.4062 11.8553 10.3734 11.8153 10.3439ZM12.0732 6.5C12.0732 9.53757 9.61075 12 6.57318 12C3.53561 12 1.07318 9.53757 1.07318 6.5C1.07318 3.46243 3.53561 1 6.57318 1C9.61075 1 12.0732 3.46243 12.0732 6.5Z\"\\n              fill=\"currentColor\"\\n            ></path>\\n          </svg>\\n        </div>\\n\\n        <div\\n          id=\"tnb-google-search-mobile-close\"\\n          class=\"tnb-button\"\\n          onclick=\"TopNavBar.googleSearchHideMobileContainer()\"\\n          role=\"button\"\\n          aria-label=\"Close search field\"\\n        >\\n          <i>&times;</i>\\n        </div>\\n      </div>\\n    </div>\\n\\n    <div id=\"tnb-dark-mode-toggle-wrapper\" class=\"w3-bar-item\">\\n      <a\\n        onclick=\"TopNavBar.toggleUserPreferredTheme()\"\\n        id=\"tnb-dark-mode-toggle-btn\"\\n        href=\"javascript:void(0);\"\\n        class=\"tnb-button fa ga-nav ga-dark-mode-toggle\"\\n        role=\"button\"\\n        title=\"Toggle light/dark mode\"\\n        aria-label=\"Toggle light/dark mode\"\\n      >\\n        <i>&#xe80b;</i>\\n      </a>\\n    </div>\\n\\n    <div class=\"tnb-right-section\">\\n      <!-- < user-anonymous -->\\n      <div\\n        id=\"tnb-login-btn\"\\n        class=\"user-anonymous tnb-login-btn w3-bar-item w3-btn w3-hide bar-item-hover w3-right w3s-green ga-top ga-top-login\"\\n        title=\"Sign in to your account\" \\n        aria-label=\"Sign in to your account\"\\n        tabindex=\"0\"\\n        role=\"button\">\\n        <svg width=\"14\" height=\"14\" viewBox=\"0 0 14 14\" fill=\"none\" xmlns=\"http://www.w3.org/2000/svg\" class=\"tnb-sign-in-icon\">\\n          <path\\n            d=\"M7 7C8.933 7 10.5 5.433 10.5 3.5C10.5 1.567 8.933 0 7 0C5.067 0 3.5 1.567 3.5 3.5C3.5 5.433 5.067 7 7 7ZM9.33333 3.5C9.33333 4.78866 8.28866 5.83333 7 5.83333C5.71134 5.83333 4.66667 4.78866 4.66667 3.5C4.66667 2.21134 5.71134 1.16667 7 1.16667C8.28866 1.16667 9.33333 2.21134 9.33333 3.5Z\"\\n            fill=\"white\" />\\n          <path\\n            d=\"M14 12.8333C14 14 12.8333 14 12.8333 14H1.16667C1.16667 14 0 14 0 12.8333C0 11.6667 1.16667 8.16667 7 8.16667C12.8333 8.16667 14 11.6667 14 12.8333ZM12.8333 12.8293C12.8316 12.5414 12.6539 11.6789 11.8625 10.8875C11.1016 10.1265 9.67062 9.33333 6.99999 9.33333C4.32936 9.33333 2.89841 10.1265 2.13745 10.8875C1.34605 11.6789 1.16833 12.5414 1.16667 12.8293H12.8333Z\"\\n            fill=\"white\" />\\n        </svg>\\n        <span class=\"button-text\">Sign In</span>\\n        <span class=\"button-loader\"></span>\\n      </div> \\n      \\n      <!-- <div\\n        id=\"tnb-signup-btn\"\\n        class=\"user-anonymous tnb-signup-btn w3-bar-item w3-button w3-hide w3-right ws-green ws-hover-green ga-top ga-top-signup\"\\n        title=\"Sign Up to Improve Your Learning Experience\"\\n        aria-label=\"Sign Up to Improve Your Learning Experience\"\\n        tabindex=\"0\"\\n        role=\"button\"\\n      >\\n        Sign Up\\n      </div> -->\\n      <!-- > user-anonymous -->\\n\\n      <!-- < user-authenticated -->\\n      <a\\n        \\n        href=\"https://profile.w3schools.com/log-in\"\\n        class=\"user-authenticated user-profile-btn w3-alt-btn w3-hide ga-top ga-top-profile\"\\n        title=\"Your W3Schools Profile\"\\n        aria-label=\"Your W3Schools Profile\"\\n      >\\n\\n      <!-- <span class=\"loader\"></span> -->\\n        <svg\\n          xmlns=\"http://www.w3.org/2000/svg\"\\n          version=\"1.1\"\\n          viewBox=\"0 0 2048 2048\"\\n          class=\"user-profile-icon\"\\n          aria-label=\"Your W3Schools Profile Icon\"\\n        >\\n          <path\\n            d=\"M 843.500 1148.155 C 837.450 1148.515, 823.050 1149.334, 811.500 1149.975 C 742.799 1153.788, 704.251 1162.996, 635.391 1192.044 C 517.544 1241.756, 398.992 1352.262, 337.200 1470 C 251.831 1632.658, 253.457 1816.879, 340.500 1843.982 C 351.574 1847.431, 1696.426 1847.431, 1707.500 1843.982 C 1794.543 1816.879, 1796.169 1632.658, 1710.800 1470 C 1649.008 1352.262, 1530.456 1241.756, 1412.609 1192.044 C 1344.588 1163.350, 1305.224 1153.854, 1238.500 1150.039 C 1190.330 1147.286, 1196.307 1147.328, 1097 1149.035 C 1039.984 1150.015, 1010.205 1150.008, 950 1149.003 C 851.731 1147.362, 856.213 1147.398, 843.500 1148.155\"\\n            stroke=\"none\"\\n            fill=\"#2a93fb\"\\n            fill-rule=\"evenodd\"\\n          />\\n          <path\\n            d=\"M 1008 194.584 C 1006.075 194.809, 999.325 195.476, 993 196.064 C 927.768 202.134, 845.423 233.043, 786 273.762 C 691.987 338.184, 622.881 442.165, 601.082 552 C 588.496 615.414, 592.917 705.245, 611.329 760.230 C 643.220 855.469, 694.977 930.136, 763.195 979.321 C 810.333 1013.308, 839.747 1026.645, 913.697 1047.562 C 1010.275 1074.879, 1108.934 1065.290, 1221 1017.694 C 1259.787 1001.221, 1307.818 965.858, 1339.852 930.191 C 1460.375 795.998, 1488.781 609.032, 1412.581 451.500 C 1350.098 322.327, 1240.457 235.724, 1097.500 202.624 C 1072.356 196.802, 1025.206 192.566, 1008 194.584\"\\n            stroke=\"none\"\\n            fill=\"#0aaa8a\"\\n            fill-rule=\"evenodd\"\\n          />\\n        </svg>\\n\\n        <!-- <svg width=\"14\" height=\"14\" viewBox=\"0 0 14 14\" fill=\"none\" xmlns=\"http://www.w3.org/2000/svg\" class=\"tnb-user-profile-icon\">\\n          <path\\n            d=\"M7 7C8.933 7 10.5 5.433 10.5 3.5C10.5 1.567 8.933 0 7 0C5.067 0 3.5 1.567 3.5 3.5C3.5 5.433 5.067 7 7 7ZM9.33333 3.5C9.33333 4.78866 8.28866 5.83333 7 5.83333C5.71134 5.83333 4.66667 4.78866 4.66667 3.5C4.66667 2.21134 5.71134 1.16667 7 1.16667C8.28866 1.16667 9.33333 2.21134 9.33333 3.5Z\"\\n            fill=\"black\" />\\n          <path\\n            d=\"M14 12.8333C14 14 12.8333 14 12.8333 14H1.16667C1.16667 14 0 14 0 12.8333C0 11.6667 1.16667 8.16667 7 8.16667C12.8333 8.16667 14 11.6667 14 12.8333ZM12.8333 12.8293C12.8316 12.5414 12.6539 11.6789 11.8625 10.8875C11.1016 10.1265 9.67062 9.33333 6.99999 9.33333C4.32936 9.33333 2.89841 10.1265 2.13745 10.8875C1.34605 11.6789 1.16833 12.5414 1.16667 12.8293H12.8333Z\"\\n            fill=\"black\" />\\n        </svg> -->\\n\\n        <svg\\n          xmlns=\"http://www.w3.org/2000/svg\"\\n          class=\"user-progress\"\\n          aria-label=\"Your W3Schools Profile Progress\"\\n        >\\n          <path\\n            class=\"user-progress-circle1\"\\n            fill=\"none\"\\n            d=\"M 25.99650934151373 15.00000030461742 A 20 20 0 1 0 26 15\"\\n          ></path>\\n          <path\\n            class=\"user-progress-circle2\"\\n            fill=\"none\"\\n            d=\"M 26 15 A 20 20 0 0 0 26 15\"\\n          ></path>\\n        </svg>\\n\\n        <span class=\"user-progress-star\">&#x2605;</span>\\n\\n        <span class=\"user-progress-point\">+1</span>\\n      </a>\\n\\n      <!-- <div class=\"tnb-user-profile-btn-divider\"></div> -->\\n\\n      <!-- > \\n      <a\\n        \\n        href=\"https://pathfinder.w3schools.com\"\\n        class=\"user-authenticated tnb-dashboard-btn w3-bar-item w3-button w3-hide w3-right w3-white ga-top ga-top-dashboard\"\\n        title=\"Your W3Schools Dashboard\"\\n        aria-label=\"Your W3Schools Dashboard\"\\n      >\\n        My W3Schools\\n      </a>\\n      -->\\n      <!-- > user-authenticated -->\\n\\n      <!-- < user-anonymous - action-btn -->\\n      <a\\n        target=\"_blank\"\\n        href=\"https://campus.w3schools.com/collections/course-catalog\"\\n        class=\"user-anonymous tnb-certificates-btn w3-bar-item w3-button w3-hide w3-right w3-white ga-top ga-top-certificates\"\\n        title=\"W3Schools Certificates\"\\n        aria-label=\"W3Schools Certificates\"\\n      >\\n        <svg\\n          xmlns=\"http://www.w3.org/2000/svg\"\\n          height=\"1em\"\\n          viewBox=\"0 0 576 512\"\\n          aria-hidden=\"true\"\\n        >\\n          <path\\n            d=\"M24 0C10.7 0 0 10.7 0 24S10.7 48 24 48H69.5c3.8 0 7.1 2.7 7.9 6.5l51.6 271c6.5 34 36.2 58.5 70.7 58.5H488c13.3 0 24-10.7 24-24s-10.7-24-24-24H199.7c-11.5 0-21.4-8.2-23.6-19.5L170.7 288H459.2c32.6 0 61.1-21.8 69.5-53.3l41-152.3C576.6 57 557.4 32 531.1 32h-411C111 12.8 91.6 0 69.5 0H24zM131.1 80H520.7L482.4 222.2c-2.8 10.5-12.3 17.8-23.2 17.8H161.6L131.1 80zM176 512a48 48 0 1 0 0-96 48 48 0 1 0 0 96zm336-48a48 48 0 1 0 -96 0 48 48 0 1 0 96 0z\"\\n            fill=\"currentColor\"\\n          />\\n        </svg>\\n        Get Certified\\n      </a>\\n\\n      <a\\n        \\n        href=\"/academy/index.php\"\\n        class=\"user-anonymous tnb-for-teachers tnb-jobs-btn w3-bar-item w3-button w3-hide w3-right w3-white ga-top ga-top-teachers\"\\n        title=\"Contact us about W3Schools Academy for educational institutions\"\\n        aria-label=\"Contact us about W3Schools Academy for educational institutions\"\\n      >\\n        <svg\\n          stroke=\"currentColor\"\\n          fill=\"currentColor\"\\n          stroke-width=\"0\"\\n          viewBox=\"0 0 640 512\"\\n          focusable=\"false\"\\n          class=\"chakra-icon css-9gdywz\"\\n          height=\"1em\"\\n          width=\"1em\"\\n          xmlns=\"http://www.w3.org/2000/svg\"\\n        >\\n          <path\\n            d=\"M622.34 153.2L343.4 67.5c-15.2-4.67-31.6-4.67-46.79 0L17.66 153.2c-23.54 7.23-23.54 38.36 0 45.59l48.63 14.94c-10.67 13.19-17.23 29.28-17.88 46.9C38.78 266.15 32 276.11 32 288c0 10.78 5.68 19.85 13.86 25.65L20.33 428.53C18.11 438.52 25.71 448 35.94 448h56.11c10.24 0 17.84-9.48 15.62-19.47L82.14 313.65C90.32 307.85 96 298.78 96 288c0-11.57-6.47-21.25-15.66-26.87.76-15.02 8.44-28.3 20.69-36.72L296.6 284.5c9.06 2.78 26.44 6.25 46.79 0l278.95-85.7c23.55-7.24 23.55-38.36 0-45.6zM352.79 315.09c-28.53 8.76-52.84 3.92-65.59 0l-145.02-44.55L128 384c0 35.35 85.96 64 192 64s192-28.65 192-64l-14.18-113.47-145.03 44.56z\"\\n          ></path>\\n        </svg>\\n        For Teachers\\n      </a>\\n\\n      <a\\n        \\n        href=\"/spaces/index.php\"\\n        class=\"user-anonymous tnb-spaces-btn w3-bar-item w3-button w3-hide w3-right w3-white ga-top ga-top-spaces\"\\n        title=\"Get Your Own Website With W3Schools Spaces\"\\n        aria-label=\"Get Your Own Website With W3Schools Spaces\"\\n      >\\n        <svg\\n          xmlns=\"http://www.w3.org/2000/svg\"\\n          height=\"1em\"\\n          viewBox=\"0 0 640 512\"\\n          aria-hidden=\"true\"\\n        >\\n          <path\\n            d=\"M392.8 1.2c-17-4.9-34.7 5-39.6 22l-128 448c-4.9 17 5 34.7 22 39.6s34.7-5 39.6-22l128-448c4.9-17-5-34.7-22-39.6zm80.6 120.1c-12.5 12.5-12.5 32.8 0 45.3L562.7 256l-89.4 89.4c-12.5 12.5-12.5 32.8 0 45.3s32.8 12.5 45.3 0l112-112c12.5-12.5 12.5-32.8 0-45.3l-112-112c-12.5-12.5-32.8-12.5-45.3 0zm-306.7 0c-12.5-12.5-32.8-12.5-45.3 0l-112 112c-12.5 12.5-12.5 32.8 0 45.3l112 112c12.5 12.5 32.8 12.5 45.3 0s12.5-32.8 0-45.3L77.3 256l89.4-89.4c12.5-12.5 12.5-32.8 0-45.3z\"\\n            fill=\"currentColor\"\\n          />\\n        </svg>\\n        Spaces\\n      </a>\\n\\n      <a\\n        \\n        href=\"/plus/index.php\"\\n        class=\"user-anonymous tnb-jobs-btn w3-bar-item w3-button w3-hide w3-right w3-white ga-top ga-top-plus\"\\n        title=\"Become a PLUS user and unlock powerful features\"\\n        aria-label=\"Become a PLUS user and unlock powerful features\"\\n      >\\n        <svg\\n          xmlns=\"http://www.w3.org/2000/svg\"\\n          width=\"15\"\\n          height=\"36\"\\n          viewBox=\"0 0 12 16\"\\n          fill=\"none\"\\n          aria-hidden=\"true\"\\n        >\\n          <path\\n            d=\"M6.65723 6.24707C6.76704 5.91764 7.233 5.91765 7.34281 6.24707L7.98828 8.1835C8.276 9.04666 8.95332 9.72399 9.81648 10.0117L11.7529 10.6572C12.0824 10.767 12.0824 11.233 11.7529 11.3428L9.81649 11.9883C8.95332 12.276 8.27599 12.9533 7.98828 13.8165L7.34281 15.7529C7.233 16.0823 6.76704 16.0823 6.65723 15.7529L6.01173 13.8165C5.72401 12.9533 5.04669 12.276 4.18353 11.9883L2.24707 11.3428C1.91764 11.233 1.91764 10.767 2.24707 10.6572L4.18353 10.0117C5.04669 9.72399 5.72401 9.04667 6.01173 8.18352L6.65723 6.24707Z\"\\n            fill=\"#9763f6\"\\n          />\\n          <path\\n            d=\"M2.79434 1.14824C2.86023 0.950586 3.1398 0.950587 3.20569 1.14824L3.59297 2.3101C3.7656 2.828 4.172 3.2344 4.6899 3.40703L5.85177 3.79432C6.04942 3.86021 6.04942 4.13978 5.85177 4.20567L4.6899 4.59296C4.172 4.76559 3.7656 5.17199 3.59297 5.68989L3.20569 6.85176C3.13981 7.04941 2.86023 7.04942 2.79434 6.85176L2.40704 5.68988C2.23441 5.17198 1.82801 4.76559 1.31012 4.59296L0.148241 4.20567C-0.0494137 4.13978 -0.0494138 3.86021 0.148241 3.79432L1.31012 3.40703C1.82802 3.2344 2.23441 2.82801 2.40704 2.31011L2.79434 1.14824Z\"\\n            fill=\"#9763f6\"\\n          />\\n          <path\\n            d=\"M9.8629 0.0988265C9.90682 -0.032943 10.0932 -0.0329419 10.1371 0.098828L10.3953 0.873401C10.5104 1.21867 10.7813 1.4896 11.1266 1.60469L11.9012 1.86288C12.0329 1.9068 12.0329 2.09319 11.9012 2.13711L11.1266 2.39531C10.7813 2.51039 10.5104 2.78133 10.3953 3.12659L10.1371 3.90117C10.0932 4.03294 9.90682 4.03294 9.8629 3.90117L9.6047 3.12659C9.48961 2.78132 9.21868 2.5104 8.87342 2.39531L8.09883 2.13711C7.96706 2.09319 7.96706 1.9068 8.09883 1.86288L8.87342 1.60469C9.21868 1.4896 9.48961 1.21867 9.6047 0.873408L9.8629 0.0988265Z\"\\n            fill=\"#9763f6\"\\n          />\\n        </svg>\\n        Plus\\n      </a>\\n      <!-- > user-anonymous - action-btn -->\\n\\n      <!-- < user-authenticated - action-btn -->\\n      <a\\n        target=\"_blank\"\\n        href=\"https://campus.w3schools.com/collections/course-catalog\"\\n        class=\"user-authenticated tnb-certificates-btn w3-bar-item w3-button w3-hide w3-right w3-white ga-top ga-top-certificates\"\\n        title=\"W3Schools Certificates\"\\n        aria-label=\"W3Schools Certificates\"\\n      >\\n        <svg\\n          xmlns=\"http://www.w3.org/2000/svg\"\\n          height=\"1em\"\\n          viewBox=\"0 0 576 512\"\\n          aria-hidden=\"true\"\\n        >\\n          <path\\n            d=\"M24 0C10.7 0 0 10.7 0 24S10.7 48 24 48H69.5c3.8 0 7.1 2.7 7.9 6.5l51.6 271c6.5 34 36.2 58.5 70.7 58.5H488c13.3 0 24-10.7 24-24s-10.7-24-24-24H199.7c-11.5 0-21.4-8.2-23.6-19.5L170.7 288H459.2c32.6 0 61.1-21.8 69.5-53.3l41-152.3C576.6 57 557.4 32 531.1 32h-411C111 12.8 91.6 0 69.5 0H24zM131.1 80H520.7L482.4 222.2c-2.8 10.5-12.3 17.8-23.2 17.8H161.6L131.1 80zM176 512a48 48 0 1 0 0-96 48 48 0 1 0 0 96zm336-48a48 48 0 1 0 -96 0 48 48 0 1 0 96 0z\"\\n            fill=\"currentColor\"\\n          />\\n        </svg>\\n        Get Certified\\n      </a>\\n\\n      <a\\n        \\n        href=\"/academy/index.php\"\\n        class=\"user-authenticated tnb-for-teachers tnb-jobs-btn w3-bar-item w3-button w3-hide w3-right w3-white ga-top ga-top-teachers\"\\n        title=\"Contact us about W3Schools Academy for educational institutions\"\\n        aria-label=\"Contact us about W3Schools Academy for educational institutions\"\\n      >\\n        <svg\\n          stroke=\"currentColor\"\\n          fill=\"currentColor\"\\n          stroke-width=\"0\"\\n          viewBox=\"0 0 640 512\"\\n          focusable=\"false\"\\n          class=\"chakra-icon css-9gdywz\"\\n          height=\"1em\"\\n          width=\"1em\"\\n          xmlns=\"http://www.w3.org/2000/svg\"\\n        >\\n          <path\\n            d=\"M622.34 153.2L343.4 67.5c-15.2-4.67-31.6-4.67-46.79 0L17.66 153.2c-23.54 7.23-23.54 38.36 0 45.59l48.63 14.94c-10.67 13.19-17.23 29.28-17.88 46.9C38.78 266.15 32 276.11 32 288c0 10.78 5.68 19.85 13.86 25.65L20.33 428.53C18.11 438.52 25.71 448 35.94 448h56.11c10.24 0 17.84-9.48 15.62-19.47L82.14 313.65C90.32 307.85 96 298.78 96 288c0-11.57-6.47-21.25-15.66-26.87.76-15.02 8.44-28.3 20.69-36.72L296.6 284.5c9.06 2.78 26.44 6.25 46.79 0l278.95-85.7c23.55-7.24 23.55-38.36 0-45.6zM352.79 315.09c-28.53 8.76-52.84 3.92-65.59 0l-145.02-44.55L128 384c0 35.35 85.96 64 192 64s192-28.65 192-64l-14.18-113.47-145.03 44.56z\"\\n          ></path>\\n        </svg>\\n        For Teachers\\n      </a>\\n\\n      <a\\n        \\n        href=\"https://spaces.w3schools.com/space/\"\\n        class=\"user-authenticated tnb-spaces-btn w3-bar-item w3-button w3-hide w3-right w3-white ga-top ga-top-spaces\"\\n        title=\"Go to Your W3Schools Space\"\\n        aria-label=\"Go to Your W3Schools Space\"\\n      >\\n        <svg\\n          xmlns=\"http://www.w3.org/2000/svg\"\\n          height=\"1em\"\\n          viewBox=\"0 0 640 512\"\\n          aria-hidden=\"true\"\\n        >\\n          <path\\n            d=\"M392.8 1.2c-17-4.9-34.7 5-39.6 22l-128 448c-4.9 17 5 34.7 22 39.6s34.7-5 39.6-22l128-448c4.9-17-5-34.7-22-39.6zm80.6 120.1c-12.5 12.5-12.5 32.8 0 45.3L562.7 256l-89.4 89.4c-12.5 12.5-12.5 32.8 0 45.3s32.8 12.5 45.3 0l112-112c12.5-12.5 12.5-32.8 0-45.3l-112-112c-12.5-12.5-32.8-12.5-45.3 0zm-306.7 0c-12.5-12.5-32.8-12.5-45.3 0l-112 112c-12.5 12.5-12.5 32.8 0 45.3l112 112c12.5 12.5 32.8 12.5 45.3 0s12.5-32.8 0-45.3L77.3 256l89.4-89.4c12.5-12.5 12.5-32.8 0-45.3z\"\\n            fill=\"currentColor\"\\n          />\\n        </svg>\\n        Spaces\\n      </a>\\n\\n      <a\\n        \\n        href=\"/plus/index.php\"\\n        class=\"user-authenticated tnb-jobs-btn w3-bar-item w3-button w3-hide w3-right w3-white ga-top ga-top-goals\"\\n        title=\"Get personalized learning journey based on your current skills and goals\"\\n        aria-label=\"Get personalized learning journey based on your current skills and goals\"\\n      >\\n        <svg\\n          xmlns=\"http://www.w3.org/2000/svg\"\\n          width=\"15\"\\n          height=\"36\"\\n          viewBox=\"0 0 12 16\"\\n          fill=\"none\"\\n          aria-hidden=\"true\"\\n        >\\n          <path\\n            d=\"M6.65723 6.24707C6.76704 5.91764 7.233 5.91765 7.34281 6.24707L7.98828 8.1835C8.276 9.04666 8.95332 9.72399 9.81648 10.0117L11.7529 10.6572C12.0824 10.767 12.0824 11.233 11.7529 11.3428L9.81649 11.9883C8.95332 12.276 8.27599 12.9533 7.98828 13.8165L7.34281 15.7529C7.233 16.0823 6.76704 16.0823 6.65723 15.7529L6.01173 13.8165C5.72401 12.9533 5.04669 12.276 4.18353 11.9883L2.24707 11.3428C1.91764 11.233 1.91764 10.767 2.24707 10.6572L4.18353 10.0117C5.04669 9.72399 5.72401 9.04667 6.01173 8.18352L6.65723 6.24707Z\"\\n            fill=\"#9763f6\"\\n          />\\n          <path\\n            d=\"M2.79434 1.14824C2.86023 0.950586 3.1398 0.950587 3.20569 1.14824L3.59297 2.3101C3.7656 2.828 4.172 3.2344 4.6899 3.40703L5.85177 3.79432C6.04942 3.86021 6.04942 4.13978 5.85177 4.20567L4.6899 4.59296C4.172 4.76559 3.7656 5.17199 3.59297 5.68989L3.20569 6.85176C3.13981 7.04941 2.86023 7.04942 2.79434 6.85176L2.40704 5.68988C2.23441 5.17198 1.82801 4.76559 1.31012 4.59296L0.148241 4.20567C-0.0494137 4.13978 -0.0494138 3.86021 0.148241 3.79432L1.31012 3.40703C1.82802 3.2344 2.23441 2.82801 2.40704 2.31011L2.79434 1.14824Z\"\\n            fill=\"#9763f6\"\\n          />\\n          <path\\n            d=\"M9.8629 0.0988265C9.90682 -0.032943 10.0932 -0.0329419 10.1371 0.098828L10.3953 0.873401C10.5104 1.21867 10.7813 1.4896 11.1266 1.60469L11.9012 1.86288C12.0329 1.9068 12.0329 2.09319 11.9012 2.13711L11.1266 2.39531C10.7813 2.51039 10.5104 2.78133 10.3953 3.12659L10.1371 3.90117C10.0932 4.03294 9.90682 4.03294 9.8629 3.90117L9.6047 3.12659C9.48961 2.78132 9.21868 2.5104 8.87342 2.39531L8.09883 2.13711C7.96706 2.09319 7.96706 1.9068 8.09883 1.86288L8.87342 1.60469C9.21868 1.4896 9.48961 1.21867 9.6047 0.873408L9.8629 0.0988265Z\"\\n            fill=\"#9763f6\"\\n          />\\n        </svg>\\n        Plus\\n      </a>\\n      <!-- > user-authenticated - action-btn -->\\n    </div>\\n  </div>\\n\\n  <nav id=\"tnb-mobile-nav\" class=\"tnb-mobile-nav w3-hide\">\\n    <div class=\"w3-container\">\\n      <a\\n        \\n        href=\"https://pathfinder.w3schools.com\"\\n        class=\"user-authenticated w3-button w3-hide ga-top ga-top-dashboard\"\\n        title=\"My W3Schools\"\\n        aria-label=\"My W3Schools\"\\n      >\\n        <span class=\"tnb-title\">My W3Schools</span>\\n      </a>\\n\\n      <div class=\"tnb-mobile-nav-section\" data-section=\"tutorials\">\\n        <div\\n          class=\"tnb-mobile-nav-section-toggle-btn w3-button ga-top ga-top-menu-tut-and-ref\"\\n          onclick=\"TopNavBar.toggleMobileNav(event, \\'tutorials\\');\"\\n          aria-label=\"Tutorials\"\\n          role=\"button\"\\n        >\\n          <span class=\"tnb-title\">Tutorials</span>\\n          <i class=\"tnb-icon fa fa-caret-down\" aria-hidden=\"true\"></i>\\n        </div>\\n\\n        <div id=\"sectionxs_tutorials\" class=\"tnb-mobile-nav-section-body\">\\n          &nbsp;\\n        </div>\\n      </div>\\n\\n      <div class=\"tnb-mobile-nav-section\" data-section=\"exercises\">\\n        <div\\n          class=\"tnb-mobile-nav-section-toggle-btn w3-button ga-top ga-top-menu-exc-and-quz\"\\n          onclick=\"TopNavBar.toggleMobileNav(event, \\'exercises\\')\"\\n          aria-label=\"Exercises\"\\n          role=\"button\"\\n        >\\n          <span class=\"tnb-title\">Exercises</span>\\n          <i class=\"tnb-icon fa fa-caret-down\" aria-hidden=\"true\"></i>\\n        </div>\\n\\n        <div id=\"sectionxs_exercises\" class=\"tnb-mobile-nav-section-body\">\\n          &nbsp;\\n        </div>\\n      </div>\\n\\n      <div class=\"tnb-mobile-nav-section\" data-section=\"certified\">\\n        <div\\n          class=\"tnb-mobile-nav-section-toggle-btn tnb-paid-service w3-button ga-top ga-top-menu-cert-and-course\"\\n          onclick=\"TopNavBar.toggleMobileNav(event, \\'certified\\')\"\\n          aria-label=\"Certificates\"\\n          role=\"button\"\\n        >\\n          <span class=\"tnb-title\">Certificates</span>\\n          <i class=\"tnb-icon fa fa-caret-down\" aria-hidden=\"true\"></i>\\n        </div>\\n\\n        <div id=\"sectionxs_certified\" class=\"tnb-mobile-nav-section-body\">\\n          &nbsp;\\n        </div>\\n      </div>\\n\\n      <div class=\"tnb-mobile-nav-section\" data-section=\"services\">\\n        <div\\n          class=\"tnb-mobile-nav-section-toggle-btn w3-button ga-top ga-top-menu-services\"\\n          onclick=\"TopNavBar.toggleMobileNav(event, \\'services\\')\"\\n          aria-label=\"Services\"\\n          role=\"button\"\\n        >\\n          <span class=\"tnb-title\">Services</span>\\n          <i class=\"tnb-icon fa fa-caret-down\" aria-hidden=\"true\"></i>\\n        </div>\\n\\n        <div id=\"sectionxs_services\" class=\"tnb-mobile-nav-section-body\">\\n          &nbsp;\\n        </div>\\n      </div>\\n\\n      <a\\n        \\n        href=\"/spaces/index.php\"\\n        class=\"w3-button ga-top ga-top-menu-spaces\"\\n        title=\"Get Your Own Website With W3Schools Spaces\"\\n        aria-label=\"Get Your Own Website With W3Schools Spaces\"\\n      >\\n        <span class=\"tnb-title\">Spaces</span>\\n        <svg\\n          class=\"tnb-icon\"\\n          xmlns=\"http://www.w3.org/2000/svg\"\\n          viewBox=\"0 0 640 512\"\\n          aria-hidden=\"true\"\\n        >\\n          <path\\n            d=\"M392.8 1.2c-17-4.9-34.7 5-39.6 22l-128 448c-4.9 17 5 34.7 22 39.6s34.7-5 39.6-22l128-448c4.9-17-5-34.7-22-39.6zm80.6 120.1c-12.5 12.5-12.5 32.8 0 45.3L562.7 256l-89.4 89.4c-12.5 12.5-12.5 32.8 0 45.3s32.8 12.5 45.3 0l112-112c12.5-12.5 12.5-32.8 0-45.3l-112-112c-12.5-12.5-32.8-12.5-45.3 0zm-306.7 0c-12.5-12.5-32.8-12.5-45.3 0l-112 112c-12.5 12.5-12.5 32.8 0 45.3l112 112c12.5 12.5 32.8 12.5 45.3 0s12.5-32.8 0-45.3L77.3 256l89.4-89.4c12.5-12.5 12.5-32.8 0-45.3z\"\\n            fill=\"currentColor\"\\n          />\\n        </svg>\\n      </a>\\n\\n      <a\\n        target=\"_blank\"\\n        href=\"https://campus.w3schools.com/collections/course-catalog\"\\n        class=\"w3-button ga-top ga-top-menu-certificates\"\\n        title=\"W3Schools Certificates\"\\n        aria-label=\"W3Schools Certificates\"\\n      >\\n        <span class=\"tnb-title\">Get Certified</span>\\n        <svg\\n          class=\"tnb-icon\"\\n          xmlns=\"http://www.w3.org/2000/svg\"\\n          viewBox=\"0 0 576 512\"\\n          aria-hidden=\"true\"\\n        >\\n          <path\\n            d=\"M24 0C10.7 0 0 10.7 0 24S10.7 48 24 48H69.5c3.8 0 7.1 2.7 7.9 6.5l51.6 271c6.5 34 36.2 58.5 70.7 58.5H488c13.3 0 24-10.7 24-24s-10.7-24-24-24H199.7c-11.5 0-21.4-8.2-23.6-19.5L170.7 288H459.2c32.6 0 61.1-21.8 69.5-53.3l41-152.3C576.6 57 557.4 32 531.1 32h-411C111 12.8 91.6 0 69.5 0H24zM131.1 80H520.7L482.4 222.2c-2.8 10.5-12.3 17.8-23.2 17.8H161.6L131.1 80zM176 512a48 48 0 1 0 0-96 48 48 0 1 0 0 96zm336-48a48 48 0 1 0 -96 0 48 48 0 1 0 96 0z\"\\n            fill=\"currentColor\"\\n          />\\n        </svg>\\n      </a>\\n\\n      <a\\n        \\n        href=\"/plus/index.php\"\\n        class=\"w3-button ga-top ga-top-menu-plus\"\\n        title=\"Become a PLUS user and unlock powerful features\"\\n        aria-label=\"Become a PLUS user and unlock powerful features\"\\n      >\\n        <span class=\"tnb-title\">Plus</span>\\n        <svg\\n          class=\"tnb-icon\"\\n          xmlns=\"http://www.w3.org/2000/svg\"\\n          width=\"15\"\\n          height=\"36\"\\n          viewBox=\"0 0 12 16\"\\n          fill=\"none\"\\n          aria-hidden=\"true\"\\n        >\\n          <path\\n            d=\"M6.65723 6.24707C6.76704 5.91764 7.233 5.91765 7.34281 6.24707L7.98828 8.1835C8.276 9.04666 8.95332 9.72399 9.81648 10.0117L11.7529 10.6572C12.0824 10.767 12.0824 11.233 11.7529 11.3428L9.81649 11.9883C8.95332 12.276 8.27599 12.9533 7.98828 13.8165L7.34281 15.7529C7.233 16.0823 6.76704 16.0823 6.65723 15.7529L6.01173 13.8165C5.72401 12.9533 5.04669 12.276 4.18353 11.9883L2.24707 11.3428C1.91764 11.233 1.91764 10.767 2.24707 10.6572L4.18353 10.0117C5.04669 9.72399 5.72401 9.04667 6.01173 8.18352L6.65723 6.24707Z\"\\n            fill=\"currentColor\"\\n          />\\n          <path\\n            d=\"M2.79434 1.14824C2.86023 0.950586 3.1398 0.950587 3.20569 1.14824L3.59297 2.3101C3.7656 2.828 4.172 3.2344 4.6899 3.40703L5.85177 3.79432C6.04942 3.86021 6.04942 4.13978 5.85177 4.20567L4.6899 4.59296C4.172 4.76559 3.7656 5.17199 3.59297 5.68989L3.20569 6.85176C3.13981 7.04941 2.86023 7.04942 2.79434 6.85176L2.40704 5.68988C2.23441 5.17198 1.82801 4.76559 1.31012 4.59296L0.148241 4.20567C-0.0494137 4.13978 -0.0494138 3.86021 0.148241 3.79432L1.31012 3.40703C1.82802 3.2344 2.23441 2.82801 2.40704 2.31011L2.79434 1.14824Z\"\\n            fill=\"currentColor\"\\n          />\\n          <path\\n            d=\"M9.8629 0.0988265C9.90682 -0.032943 10.0932 -0.0329419 10.1371 0.098828L10.3953 0.873401C10.5104 1.21867 10.7813 1.4896 11.1266 1.60469L11.9012 1.86288C12.0329 1.9068 12.0329 2.09319 11.9012 2.13711L11.1266 2.39531C10.7813 2.51039 10.5104 2.78133 10.3953 3.12659L10.1371 3.90117C10.0932 4.03294 9.90682 4.03294 9.8629 3.90117L9.6047 3.12659C9.48961 2.78132 9.21868 2.5104 8.87342 2.39531L8.09883 2.13711C7.96706 2.09319 7.96706 1.9068 8.09883 1.86288L8.87342 1.60469C9.21868 1.4896 9.48961 1.21867 9.6047 0.873408L9.8629 0.0988265Z\"\\n            fill=\"currentColor\"\\n          />\\n        </svg>\\n      </a>\\n\\n      <a\\n        \\n        href=\"/academy/index.php\"\\n        class=\"w3-button ga-top ga-top-menu-academy\"\\n        title=\"W3Schools Academy\"\\n        aria-label=\"W3Schools Academy\"\\n      >\\n        <span class=\"tnb-title\">Academy</span>\\n      </a>\\n\\n      <a\\n        \\n        class=\"user-authenticated w3-hide w3-button ga-top ga-top-logout\"\\n        href=\"https://profile.w3schools.com/logout\"\\n        title=\"Logout\"\\n        aria-label=\"Logout\"\\n      >\\n        <span class=\"tnb-title\">Logout</span>\\n      </a>\\n\\n      <div class=\"tnb-social-network-btns\">\\n        <a\\n          target=\"_blank\"\\n          href=\"https://www.youtube.com/@w3schools\"\\n          title=\"W3Schools on YouTube\"\\n          class=\"w3-button w3-round ga-fp\"\\n        >\\n          <i class=\"tnb-icon fa fa-youtube\" aria-hidden=\"true\"></i>\\n        </a>\\n\\n        <a\\n          target=\"_blank\"\\n          href=\"https://www.linkedin.com/company/w3schools.com/\"\\n          title=\"W3Schools on LinkedIn\"\\n          class=\"w3-button w3-round ga-fp\"\\n        >\\n          <i class=\"tnb-icon fa\" aria-hidden=\"true\"> &#62220; </i>\\n        </a>\\n\\n        <a\\n          target=\"_blank\"\\n          href=\"https://discord.com/invite/w3schools\"\\n          title=\"Join the W3schools community on Discord\"\\n          class=\"w3-button w3-round ga-fp\"\\n        >\\n          <i class=\"tnb-icon fa -discord\" aria-hidden=\"true\"> &#59399; </i>\\n        </a>\\n\\n        <a\\n          target=\"_blank\"\\n          href=\"https://www.facebook.com/w3schoolscom/\"\\n          title=\"W3Schools on Facebook\"\\n          class=\"w3-button w3-round ga-fp\"\\n        >\\n          <i class=\"tnb-icon fa\" aria-hidden=\"true\"> &#59398; </i>\\n        </a>\\n\\n        <a\\n          target=\"_blank\"\\n          href=\"https://www.instagram.com/w3schools.com_official/\"\\n          title=\"W3Schools on Instagram\"\\n          class=\"w3-button w3-round ga-fp\"\\n        >\\n          <i class=\"tnb-icon fa\" aria-hidden=\"true\"> &#61805; </i>\\n        </a>\\n      </div>\\n    </div>\\n\\n    <div\\n      class=\"w3-button tnb-close-menu-btn w3-round ga-top ga-top-close-accordion\"\\n      tabindex=\"0\"\\n      onclick=\"TopNavBar.closeMenu()\"\\n      role=\"button\"\\n      aria-label=\"Close menu\"\\n    >\\n      <span>&times;</span>\\n    </div>\\n  </nav>\\n\\n  <div id=\"dropdown-nav-outer-wrapper\">\\n    <div id=\"dropdown-nav-inner-wrapper\">\\n      <nav\\n        id=\"nav_tutorials\"\\n        class=\"dropdown-nav w3-hide-small navex\"\\n        tabindex=\"-1\"\\n        aria-label=\"Menu for tutorials\"\\n      >\\n        <div class=\"w3-content menu-content\">\\n          <div id=\"tutorials_list\" class=\"w3-row-padding w3-bar-block\">\\n            <div class=\"nav-heading-container w3-container\">\\n              <div class=\"nav-heading-container-title\">\\n                <h2 style=\"color: #fff4a3\"><b>Tutorials</b></h2>\\n              </div>\\n\\n              <div data-section=\"tutorials\" class=\"filter-input-wrapper\">\\n                <div class=\"filter-input-inner-wrapper\">\\n                  <label for=\"filter-tutorials-input\" class=\"tnb-soft-hide\">\\n                    Tutorials filter input\\n                  </label>\\n                  <input\\n                    id=\"filter-tutorials-input\"\\n                    oninput=\"TopNavBar.filter(event, \\'nav_tutorials\\')\"\\n                    type=\"text\"\\n                    class=\"filter-input\"\\n                    placeholder=\"Filter...\"\\n                    aria-label=\"Tutorials filter input\"\\n                  />\\n\\n                  <div\\n                    class=\"filter-clear-btn tnb-button-dark-v2\"\\n                    role=\"button\"\\n                    aria-label=\"Filter clear button\"\\n                    onclick=\"TopNavBar.clearFilter(event, \\'nav_tutorials\\')\"\\n                  >\\n                    <span>&times;</span>\\n                  </div>\\n                </div>\\n              </div>\\n            </div>\\n\\n            <div class=\"w3-col l4 m6\">\\n              <div id=\"tutorials_html_css_links_list\">\\n                <h3\\n                  class=\"tnb-nav-section-title\"\\n                  data-heading=\"html_and_css_title\"\\n                >\\n                  HTML and CSS\\n                </h3>\\n                <div data-name=\"html\" data-category=\"html_and_css\">\\n                  <a\\n                    \\n                    class=\"w3-bar-item w3-button acctop-link ga-top-drop ga-top-drop-tut-html\"\\n                    href=\"/html/default.asp\"\\n                    title=\"HTML Tutorial\"\\n                  >\\n                    <span class=\"learn-span\">Learn</span>\\n                    HTML\\n                  </a>\\n                  <a\\n                    \\n                    class=\"ws-btn acclink-text ga-top-drop ga-top-drop-tut-html\"\\n                    href=\"/html/default.asp\"\\n                    title=\"HTML Tutorial\"\\n                  >\\n                    Tutorial\\n                  </a>\\n                  <a\\n                    \\n                    class=\"ws-btn acclink-text ga-top-drop ga-top-drop-ref-html\"\\n                    href=\"/tags/default.asp\"\\n                    title=\"HTML Reference\"\\n                  >\\n                    Reference\\n                  </a>\\n                </div>\\n                <div data-name=\"css\" data-category=\"html_and_css\">\\n                  <a\\n                    \\n                    class=\"w3-bar-item w3-button acctop-link ga-top-drop ga-top-drop-tut-css\"\\n                    href=\"/css/default.asp\"\\n                    title=\"CSS Tutorial\"\\n                  >\\n                    <span class=\"learn-span\">Learn</span>\\n                    CSS\\n                  </a>\\n                  <a\\n                    \\n                    class=\"ws-btn acclink-text ga-top-drop ga-top-drop-tut-css\"\\n                    href=\"/css/default.asp\"\\n                    title=\"CSS Tutorial\"\\n                  >\\n                    Tutorial\\n                  </a>\\n                  <a\\n                    \\n                    class=\"ws-btn acclink-text ga-top-drop ga-top-drop-ref-css\"\\n                    href=\"/cssref/default.asp\"\\n                    title=\"CSS Reference\"\\n                  >\\n                    Reference\\n                  </a>\\n                </div>\\n                <div data-name=\"rwd\" data-category=\"html_and_css\">\\n                  <a\\n                    \\n                    class=\"w3-bar-item w3-button acctop-link ga-top-drop ga-top-drop-tut-rwd\"\\n                    href=\"/css/css_rwd_intro.asp\"\\n                    title=\"Responsive Web Design Tutorial\"\\n                  >\\n                    <span class=\"learn-span\">Learn</span>\\n                    RWD\\n                  </a>\\n                  <a\\n                    \\n                    class=\"ws-btn acclink-text ga-top-drop ga-top-drop-tut-rwd\"\\n                    href=\"/css/css_rwd_intro.asp\"\\n                    title=\"Responsive Web Design Tutorial\"\\n                  >\\n                    Tutorial\\n                  </a>\\n                </div>\\n                <div data-name=\"bootstrap\" data-category=\"html_and_css\">\\n                  <a\\n                    \\n                    class=\"w3-bar-item w3-button acctop-link ga-top-drop ga-top-drop-tut-bs\"\\n                    href=\"/bootstrap/bootstrap_ver.asp\"\\n                    title=\"Bootstrap Tutorials\"\\n                  >\\n                    <span class=\"learn-span\">Learn</span>\\n                    Bootstrap\\n                  </a>\\n                  <a\\n                    \\n                    class=\"ws-btn acclink-text ga-top-drop ga-top-drop-tut-bs\"\\n                    href=\"/bootstrap/bootstrap_ver.asp\"\\n                    title=\"Bootstrap Tutorials\"\\n                  >\\n                    Overview\\n                  </a>\\n                </div>\\n                <div data-name=\"w3.css\" data-category=\"html_and_css\">\\n                  <a\\n                    \\n                    class=\"w3-bar-item w3-button acctop-link ga-top-drop ga-top-drop-tut-w3css\"\\n                    href=\"/w3css/default.asp\"\\n                    title=\"W3.CSS Tutorial\"\\n                  >\\n                    <span class=\"learn-span\">Learn</span>\\n                    W3.CSS\\n                  </a>\\n                  <a\\n                    \\n                    class=\"ws-btn acclink-text ga-top-drop ga-top-drop-tut-w3css\"\\n                    href=\"/w3css/default.asp\"\\n                    title=\"W3.CSS Tutorial\"\\n                  >\\n                    Tutorial\\n                  </a>\\n                  <a\\n                    \\n                    class=\"ws-btn acclink-text ga-top-drop ga-top-drop-ref-w3css\"\\n                    href=\"/w3css/w3css_references.asp\"\\n                    title=\"W3.CSS Reference\"\\n                  >\\n                    Reference\\n                  </a>\\n                </div>\\n                <div data-name=\"sass\" data-category=\"html_and_css\">\\n                  <a\\n                    \\n                    class=\"w3-bar-item w3-button acctop-link ga-top-drop ga-top-drop-tut-sass\"\\n                    href=\"/sass/default.php\"\\n                    title=\"SASS Tutorial\"\\n                  >\\n                    <span class=\"learn-span\">Learn</span>\\n                    Sass\\n                  </a>\\n                  <a\\n                    \\n                    class=\"ws-btn acclink-text ga-top-drop ga-top-drop-tut-sass\"\\n                    href=\"/sass/default.php\"\\n                    title=\"SASS Tutorial\"\\n                  >\\n                    Tutorial\\n                  </a>\\n                  <a\\n                    \\n                    class=\"ws-btn acclink-text ga-top-drop ga-top-drop-ref-sass\"\\n                    href=\"/sass/sass_functions_string.php\"\\n                    title=\"SASS Reference\"\\n                  >\\n                    Reference\\n                  </a>\\n                </div>\\n                <div data-name=\"colors\" data-category=\"html_and_css\">\\n                  <a\\n                    \\n                    class=\"w3-bar-item w3-button acctop-link ga-top-drop ga-top-drop-tut-colors\"\\n                    href=\"/colors/default.asp\"\\n                    title=\"Colors Tutorial\"\\n                  >\\n                    <span class=\"learn-span\">Learn</span>\\n                    Colors\\n                  </a>\\n                  <a\\n                    \\n                    class=\"ws-btn acclink-text ga-top-drop ga-top-drop-tut-colors\"\\n                    href=\"/colors/default.asp\"\\n                    title=\"Colors Tutorial\"\\n                  >\\n                    Tutorial\\n                  </a>\\n                  <a\\n                    \\n                    class=\"ws-btn acclink-text ga-top-drop ga-top-drop-ref-colors\"\\n                    href=\"/colors/colors_fs595.asp\"\\n                    title=\"Colors Reference\"\\n                  >\\n                    Reference\\n                  </a>\\n                </div>\\n                <div data-name=\"icons\" data-category=\"html_and_css\">\\n                  <a\\n                    \\n                    class=\"w3-bar-item w3-button acctop-link ga-top-drop ga-top-drop-tut-icons\"\\n                    href=\"/icons/default.asp\"\\n                    title=\"Icons Tutorial\"\\n                  >\\n                    <span class=\"learn-span\">Learn</span>\\n                    Icons\\n                  </a>\\n                  <a\\n                    \\n                    class=\"ws-btn acclink-text ga-top-drop ga-top-drop-tut-icons\"\\n                    href=\"/icons/default.asp\"\\n                    title=\"Icons Tutorial\"\\n                  >\\n                    Tutorial\\n                  </a>\\n                  <a\\n                    \\n                    class=\"ws-btn acclink-text ga-top-drop ga-top-drop-ref-icons\"\\n                    href=\"/icons/icons_reference.asp\"\\n                    title=\"Icons Reference\"\\n                  >\\n                    Reference\\n                  </a>\\n                </div>\\n                <div data-name=\"svg\" data-category=\"html_and_css\">\\n                  <a\\n                    \\n                    class=\"w3-bar-item w3-button acctop-link ga-top-drop ga-top-drop-tut-svg\"\\n                    href=\"/graphics/svg_intro.asp\"\\n                    title=\"SVG Tutorial\"\\n                  >\\n                    <span class=\"learn-span\">Learn</span>\\n                    SVG\\n                  </a>\\n                  <a\\n                    \\n                    class=\"ws-btn acclink-text ga-top-drop ga-top-drop-tut-svg\"\\n                    href=\"/graphics/svg_intro.asp\"\\n                    title=\"SVG Tutorial\"\\n                  >\\n                    Tutorial\\n                  </a>\\n                  <a\\n                    \\n                    class=\"ws-btn acclink-text ga-top-drop ga-top-drop-ref-svg\"\\n                    href=\"/graphics/svg_reference.asp\"\\n                    title=\"SVG Reference\"\\n                  >\\n                    Reference\\n                  </a>\\n                </div>\\n                <div data-name=\"canvas\" data-category=\"html_and_css\">\\n                  <a\\n                    \\n                    class=\"w3-bar-item w3-button acctop-link ga-top-drop ga-top-drop-tut-canvas\"\\n                    href=\"/graphics/canvas_intro.asp\"\\n                    title=\"Canvas Tutorial\"\\n                  >\\n                    <span class=\"learn-span\">Learn</span>\\n                    Canvas\\n                  </a>\\n                  <a\\n                    \\n                    class=\"ws-btn acclink-text ga-top-drop ga-top-drop-tut-canvas\"\\n                    href=\"/graphics/canvas_intro.asp\"\\n                    title=\"Canvas Tutorial\"\\n                  >\\n                    Tutorial\\n                  </a>\\n                  <a\\n                    \\n                    class=\"ws-btn acclink-text ga-top-drop ga-top-drop-ref-canvas\"\\n                    href=\"/graphics/canvas_reference.asp\"\\n                    title=\"Canvas Reference\"\\n                  >\\n                    Reference\\n                  </a>\\n                </div>\\n                <div data-name=\"graphics\" data-category=\"html_and_css\">\\n                  <a\\n                    \\n                    class=\"w3-bar-item w3-button acctop-link ga-top-drop ga-top-drop-tut-graphics\"\\n                    href=\"/graphics/default.asp\"\\n                    title=\"Graphics Tutorial\"\\n                  >\\n                    <span class=\"learn-span\">Learn</span>\\n                    Graphics\\n                  </a>\\n                  <a\\n                    \\n                    class=\"ws-btn acclink-text ga-top-drop ga-top-drop-tut-graphics\"\\n                    href=\"/graphics/default.asp\"\\n                    title=\"Graphics Tutorial\"\\n                  >\\n                    Tutorial\\n                  </a>\\n                </div>\\n                <div data-name=\"charsets\" data-category=\"html_and_css\">\\n                  <a\\n                    \\n                    class=\"w3-bar-item w3-button acctop-link ga-top-drop ga-top-drop-tut-charsets\"\\n                    href=\"/charsets/default.asp\"\\n                    title=\"Character Sets Reference\"\\n                  >\\n                    <span class=\"learn-span\">Learn</span>\\n                    Character Sets\\n                  </a>\\n                  <a\\n                    \\n                    class=\"ws-btn acclink-text ga-top-drop ga-top-drop-ref-canvas\"\\n                    href=\"/charsets/default.asp\"\\n                    title=\"Character Sets Reference\"\\n                  >\\n                    Reference\\n                  </a>\\n                </div>\\n                <div data-name=\"how to\" data-category=\"html_and_css\">\\n                  <a\\n                    \\n                    class=\"w3-bar-item w3-button acctop-link ga-top-drop ga-top-drop-tut-howto\"\\n                    href=\"/howto/default.asp\"\\n                    title=\"How To - Code Snippets\"\\n                  >\\n                    <span class=\"learn-span\">Learn</span>\\n                    How To\\n                  </a>\\n                  <a\\n                    \\n                    class=\"ws-btn acclink-text ga-top-drop ga-top-drop-tut-howto\"\\n                    href=\"/howto/default.asp\"\\n                    title=\"How To - Code Snippets\"\\n                  >\\n                    Tutorial\\n                  </a>\\n                </div>\\n              </div>\\n\\n              <div\\n                id=\"tutorials_data_analytics_links_list_desktop\"\\n                class=\"w3-hide-small\"\\n              >\\n                <h3\\n                  class=\"tnb-nav-section-title\"\\n                  data-heading=\"data_analytics_title\"\\n                >\\n                  Data Analytics\\n                </h3>\\n                <div data-name=\"ai\" data-category=\"data_analytics\">\\n                  <a\\n                    \\n                    class=\"w3-bar-item w3-button acctop-link ga-top-drop ga-top-drop-tut-ai\"\\n                    href=\"/ai/default.asp\"\\n                    title=\"Artificial Intelligence Tutorial\"\\n                  >\\n                    <span class=\"learn-span\">Learn</span>\\n                    AI\\n                  </a>\\n                  <a\\n                    \\n                    class=\"ws-btn acclink-text ga-top-drop ga-top-drop-tut-ai\"\\n                    href=\"/ai/default.asp\"\\n                    title=\"Artificial Intelligence Tutorial\"\\n                  >\\n                    Tutorial\\n                  </a>\\n                </div>\\n                <div data-name=\"generative ai\" data-category=\"data_analytics\">\\n                  <a\\n                    \\n                    class=\"w3-bar-item w3-button acctop-link ga-top-drop ga-top-drop-tut-genai\"\\n                    href=\"/gen_ai/index.php\"\\n                    title=\"Generative AI Tutorial\"\\n                  >\\n                    <span class=\"learn-span\">Learn</span>\\n                    Generative AI\\n                  </a>\\n                  <a\\n                    \\n                    class=\"ws-btn acclink-text ga-top-drop ga-top-drop-tut-genai\"\\n                    href=\"/gen_ai/index.php\"\\n                    title=\"Generative AI Tutorial\"\\n                  >\\n                    Tutorial\\n                  </a>\\n                </div>\\n                <div data-name=\"chatgpt-3.5\" data-category=\"data_analytics\">\\n                  <a\\n                    \\n                    href=\"/gen_ai/chatgpt-3-5/index.php\"\\n                    class=\"w3-bar-item w3-button acctop-link ga-top-drop ga-top-drop-tut-chatgpt35\"\\n                    title=\"ChatGPT-3.5 Tutorial\"\\n                  >\\n                    <span class=\"learn-span\">Learn</span>\\n                    ChatGPT-3.5\\n                  </a>\\n                  <a\\n                    \\n                    href=\"/gen_ai/chatgpt-3-5/index.php\"\\n                    class=\"ws-btn acclink-text ga-top-drop ga-top-drop-tut-chatgpt35\"\\n                    title=\"ChatGPT-3.5  Tutorial\"\\n                  >\\n                    Tutorial\\n                  </a>\\n                </div>\\n                <div data-name=\"chatgpt-4\" data-category=\"data_analytics\">\\n                  <a\\n                    \\n                    href=\"/gen_ai/chatgpt-4/index.php\"\\n                    class=\"w3-bar-item w3-button acctop-link ga-top-drop ga-top-drop-tut-chatgpt4\"\\n                    title=\"ChatGPT-4 Tutorial\"\\n                  >\\n                    <span class=\"learn-span\">Learn</span>\\n                    ChatGPT-4\\n                  </a>\\n                  <a\\n                    \\n                    href=\"/gen_ai/chatgpt-4/index.php\"\\n                    class=\"ws-btn acclink-text ga-top-drop ga-top-drop-tut-chatgpt35\"\\n                    title=\"ChatGPT-4 Tutorial\"\\n                  >\\n                    Tutorial\\n                  </a>\\n                </div>\\n                <div data-name=\"google bard\" data-category=\"data_analytics\">\\n                  <a\\n                    \\n                    href=\"/gen_ai/bard/index.php\"\\n                    class=\"w3-bar-item w3-button acctop-link ga-top-drop ga-top-drop-tut-bard\"\\n                    title=\"Google Bard Tutorial\"\\n                  >\\n                    <span class=\"learn-span\">Learn</span>\\n                    Google Bard\\n                  </a>\\n                  <a\\n                    \\n                    href=\"/gen_ai/bard/index.php\"\\n                    class=\"ws-btn acclink-text ga-top-drop ga-top-drop-tut-bard\"\\n                    title=\"Google Bard Tutorial\"\\n                  >\\n                    Tutorial\\n                  </a>\\n                </div>\\n                <div\\n                  data-name=\"machine learning\"\\n                  data-category=\"data_analytics\"\\n                >\\n                  <a\\n                    \\n                    class=\"w3-bar-item w3-button acctop-link ga-top-drop ga-top-drop-tut-ml\"\\n                    href=\"/python/python_ml_getting_started.asp\"\\n                    title=\"Machine Learning Tutorial\"\\n                  >\\n                    <span class=\"learn-span\">Learn</span>\\n                    Machine Learning\\n                  </a>\\n                  <a\\n                    \\n                    class=\"ws-btn acclink-text ga-top-drop ga-top-drop-tut-ml\"\\n                    href=\"/python/python_ml_getting_started.asp\"\\n                    title=\"Machine Learning Tutorial\"\\n                  >\\n                    Tutorial\\n                  </a>\\n                </div>\\n                <div data-name=\"dsa\" data-category=\"data_analytics\">\\n                  <a\\n                    \\n                    href=\"/dsa/index.php\"\\n                    class=\"w3-bar-item w3-button acctop-link ga-top-drop ga-top-drop-tut-dsa\"\\n                    title=\"DSA - Data Structures and Algorithms\"\\n                  >\\n                    <span class=\"learn-span\">Learn</span>\\n                    DSA\\n                  </a>\\n                  <a\\n                    \\n                    href=\"/dsa/index.php\"\\n                    class=\"ws-btn acclink-text ga-top-drop ga-top-drop-tut-dsa\"\\n                    title=\"DSA - Data Structures and Algorithms\"\\n                  >\\n                    Tutorial\\n                  </a>\\n                </div>\\n\\n                <div data-name=\"data science\" data-category=\"data_analytics\">\\n                  <a\\n                    \\n                    class=\"w3-bar-item w3-button acctop-link ga-top-drop ga-top-drop-tut-ds\"\\n                    href=\"/datascience/default.asp\"\\n                    title=\"Data Science Tutorial\"\\n                  >\\n                    <span class=\"learn-span\">Learn</span>\\n                    Data Science\\n                  </a>\\n                  <a\\n                    \\n                    class=\"ws-btn acclink-text ga-top-drop ga-top-drop-tut-ds\"\\n                    href=\"/datascience/default.asp\"\\n                    title=\"Data Science Tutorial\"\\n                  >\\n                    Tutorial\\n                  </a>\\n                </div>\\n                <div data-name=\"numpy\" data-category=\"data_analytics\">\\n                  <a\\n                    \\n                    class=\"w3-bar-item w3-button acctop-link ga-top-drop ga-top-drop-tut-numpy\"\\n                    href=\"/python/numpy/default.asp\"\\n                    title=\"NumPy Tutorial\"\\n                  >\\n                    <span class=\"learn-span\">Learn</span>\\n                    NumPy\\n                  </a>\\n                  <a\\n                    \\n                    class=\"ws-btn acclink-text ga-top-drop ga-top-drop-tut-numpy\"\\n                    href=\"/python/numpy/default.asp\"\\n                    title=\"NumPy Tutorial\"\\n                  >\\n                    Tutorial\\n                  </a>\\n                </div>\\n                <div data-name=\"pandas\" data-category=\"data_analytics\">\\n                  <a\\n                    \\n                    class=\"w3-bar-item w3-button acctop-link ga-top-drop ga-top-drop-tut-pandas\"\\n                    href=\"/python/pandas/default.asp\"\\n                    title=\"Pandas Tutorial\"\\n                  >\\n                    <span class=\"learn-span\">Learn</span>\\n                    Pandas\\n                  </a>\\n                  <a\\n                    \\n                    class=\"ws-btn acclink-text ga-top-drop ga-top-drop-tut-pandas\"\\n                    href=\"/python/pandas/default.asp\"\\n                    title=\"Pandas Tutorial\"\\n                  >\\n                    Tutorial\\n                  </a>\\n                </div>\\n                <div data-name=\"scipy\" data-category=\"data_analytics\">\\n                  <a\\n                    \\n                    class=\"w3-bar-item w3-button acctop-link ga-top-drop ga-top-drop-tut-scipy\"\\n                    href=\"/python/scipy/index.php\"\\n                    title=\"SciPy Tutorial\"\\n                  >\\n                    <span class=\"learn-span\">Learn</span>\\n                    SciPy\\n                  </a>\\n                  <a\\n                    \\n                    class=\"ws-btn acclink-text ga-top-drop ga-top-drop-tut-scipy\"\\n                    href=\"/python/scipy/index.php\"\\n                    title=\"SciPy Tutorial\"\\n                  >\\n                    Tutorial\\n                  </a>\\n                </div>\\n                <div data-name=\"matplotlib\" data-category=\"data_analytics\">\\n                  <a\\n                    \\n                    class=\"w3-bar-item w3-button acctop-link ga-top-drop ga-top-drop-tut-matplotlib\"\\n                    href=\"/python/matplotlib_intro.asp\"\\n                    title=\"Matplotlib Tutorial\"\\n                  >\\n                    <span class=\"learn-span\">Learn</span>\\n                    Matplotlib\\n                  </a>\\n                  <a\\n                    \\n                    class=\"ws-btn acclink-text ga-top-drop ga-top-drop-tut-matplotlib\"\\n                    href=\"/python/matplotlib_intro.asp\"\\n                    title=\"Matplotlib Tutorial\"\\n                  >\\n                    Tutorial\\n                  </a>\\n                </div>\\n                <div data-name=\"statistics\" data-category=\"data_analytics\">\\n                  <a\\n                    \\n                    class=\"w3-bar-item w3-button acctop-link ga-top-drop ga-top-drop-tut-stat\"\\n                    href=\"/statistics/index.php\"\\n                    title=\"Statistics Tutorial\"\\n                  >\\n                    <span class=\"learn-span\">Learn</span>\\n                    Statistics\\n                  </a>\\n                  <a\\n                    \\n                    class=\"ws-btn acclink-text ga-top-drop ga-top-drop-tut-stat\"\\n                    href=\"/statistics/index.php\"\\n                    title=\"Statistics Tutorial\"\\n                  >\\n                    Tutorial\\n                  </a>\\n                </div>\\n                <div data-name=\"excel\" data-category=\"data_analytics\">\\n                  <a\\n                    \\n                    class=\"w3-bar-item w3-button acctop-link ga-top-drop ga-top-drop-tut-excel\"\\n                    href=\"/excel/index.php\"\\n                    title=\"Excel Tutorial\"\\n                  >\\n                    <span class=\"learn-span\">Learn</span>\\n                    Excel\\n                  </a>\\n                  <a\\n                    \\n                    class=\"ws-btn acclink-text ga-top-drop ga-top-drop-tut-excel\"\\n                    href=\"/excel/index.php\"\\n                    title=\"Excel Tutorial\"\\n                  >\\n                    Tutorial\\n                  </a>\\n                </div>\\n                <div data-name=\"google sheet\" data-category=\"data_analytics\">\\n                  <a\\n                    \\n                    class=\"w3-bar-item w3-button acctop-link ga-top-drop ga-top-drop-tut-sheets\"\\n                    href=\"/googlesheets/index.php\"\\n                    title=\"Google Sheets Tutorial\"\\n                  >\\n                    <span class=\"learn-span\">Learn</span>\\n                    Google Sheets\\n                  </a>\\n                  <a\\n                    \\n                    class=\"ws-btn acclink-text ga-top-drop ga-top-drop-tut-sheets\"\\n                    href=\"/googlesheets/index.php\"\\n                    title=\"Google Sheets Tutorial\"\\n                  >\\n                    Tutorial\\n                  </a>\\n                </div>\\n              </div>\\n\\n              <div\\n                id=\"tutorials_web_building_links_list_tablet\"\\n                class=\"w3-hide-large w3-hide-small\"\\n              >\\n                <h3\\n                  class=\"tnb-nav-section-title\"\\n                  data-heading=\"web_building_title\"\\n                >\\n                  Web Building\\n                </h3>\\n                <div data-name=\"create a website\" data-category=\"web_building\">\\n                  <a\\n                    \\n                    class=\"w3-bar-item w3-button ga-top-drop ga-top-drop-tut-spaces fixpaddingsmallmenu\"\\n                    href=\"/spaces/index.php\"\\n                    title=\"Get Your Own Website With W3shools Spaces\"\\n                  >\\n                    Create a Website\\n                    <span\\n                      class=\"ribbon-topnav\"\\n                      style=\"background-color: #d9212c; color: white\"\\n                    >\\n                      HOT!\\n                    </span>\\n                  </a>\\n                </div>\\n                <div data-name=\"create a server\" data-category=\"web_building\">\\n                  <a\\n                    \\n                    class=\"w3-bar-item w3-button ga-top-drop ga-top-drop-tut-server fixpaddingsmallmenu\"\\n                    href=\"/spaces/index.php\"\\n                    title=\"Get Your Own Server With W3shools Spaces\"\\n                  >\\n                    Create a Server\\n                    <span class=\"ribbon-topnav ws-green\">NEW</span>\\n                  </a>\\n                </div>\\n                <div data-name=\"where to start\" data-category=\"web_building\">\\n                  <a\\n                    \\n                    class=\"w3-bar-item w3-button ga-top-drop ga-top-drop-tut-wheretostart fixpaddingsmallmenu\"\\n                    href=\"/where_to_start.asp\"\\n                    title=\"Where To Start - Web Development\"\\n                  >\\n                    Where To Start\\n                  </a>\\n                </div>\\n                <div data-name=\"web templates\" data-category=\"web_building\">\\n                  <a\\n                    \\n                    class=\"w3-bar-item w3-button ga-top-drop ga-top-drop-tut-templates fixpaddingsmallmenu\"\\n                    href=\"/w3css/w3css_templates.asp\"\\n                    title=\"Free Web Templates\"\\n                  >\\n                    Web Templates\\n                  </a>\\n                </div>\\n                <div data-name=\"web statistics\" data-category=\"web_building\">\\n                  <a\\n                    \\n                    class=\"w3-bar-item w3-button ga-top-drop ga-top-drop-tut-webstats fixpaddingsmallmenu\"\\n                    href=\"/browsers/default.asp\"\\n                    title=\"Web Statistics\"\\n                  >\\n                    Web Statistics\\n                  </a>\\n                </div>\\n                <div data-name=\"web certificates\" data-category=\"web_building\">\\n                  <a\\n                    target=\"_blank\"\\n                    href=\"https://campus.w3schools.com\"\\n                    class=\"w3-bar-item w3-button ga-top-drop ga-top-drop-tut-certificates fixpaddingsmallmenu\"\\n                    title=\"Certificates\"\\n                  >\\n                    Web Certificates\\n                  </a>\\n                </div>\\n                <div data-name=\"web development\" data-category=\"web_building\">\\n                  <a\\n                    \\n                    class=\"w3-bar-item w3-button ga-top-drop ga-top-drop-tut-web-development fixpaddingsmallmenu\"\\n                    href=\"/whatis/default.asp\"\\n                    title=\"Web Development Roadmaps\"\\n                  >\\n                    Web Development\\n                  </a>\\n                </div>\\n                <div data-name=\"programming\" data-category=\"web_building\">\\n                  <a\\n                    \\n                    class=\"w3-bar-item w3-button ga-top-drop ga-top-drop-tut-programming fixpaddingsmallmenu\"\\n                    href=\"/programming/index.php\"\\n                    title=\"Introduction to Programming\"\\n                  >\\n                    Introduction to Programming\\n                  </a>\\n                </div>\\n                <div data-name=\"code editor\" data-category=\"web_building\">\\n                  <a\\n                    \\n                    class=\"w3-bar-item w3-button ga-top-drop ga-top-drop-tut-code-editor fixpaddingsmallmenu\"\\n                    href=\"/tryit/default.asp\"\\n                    title=\"Try it - Code Editor\"\\n                  >\\n                    Code Editor\\n                  </a>\\n                </div>\\n                <div\\n                  data-name=\"test your typing speed\"\\n                  data-category=\"web_building\"\\n                >\\n                  <a\\n                    \\n                    class=\"w3-bar-item w3-button ga-top-drop ga-top-drop-tut-typingspeed fixpaddingsmallmenu\"\\n                    href=\"/typingspeed/default.asp\"\\n                    title=\"Test Your Typing Speed\"\\n                  >\\n                    Test Your Typing Speed\\n                  </a>\\n                </div>\\n                <div data-name=\"play a code game\" data-category=\"web_building\">\\n                  <a\\n                    \\n                    class=\"w3-bar-item w3-button ga-top-drop ga-top-drop-tut-codegame fixpaddingsmallmenu\"\\n                    href=\"/codegame/index.html\"\\n                    title=\"Play a Code Game\"\\n                  >\\n                    Play a Code Game\\n                  </a>\\n                </div>\\n                <div data-name=\"cyber security\" data-category=\"web_building\">\\n                  <a\\n                    \\n                    class=\"w3-bar-item w3-button ga-top-drop ga-top-drop-tut-cybersec fixpaddingsmallmenu\"\\n                    href=\"/cybersecurity/index.php\"\\n                    title=\"Cyber Security Tutorial\"\\n                  >\\n                    Cyber Security\\n                  </a>\\n                </div>\\n                <div data-name=\"accessibility\" data-category=\"web_building\">\\n                  <a\\n                    \\n                    class=\"w3-bar-item w3-button ga-top-drop ga-top-drop-tut-accessi fixpaddingsmallmenu\"\\n                    href=\"/accessibility/index.php\"\\n                    title=\"Accessibility Security Tutorial\"\\n                  >\\n                    Accessibility\\n                  </a>\\n                </div>\\n                <div\\n                  data-name=\"join our newsletter\"\\n                  data-category=\"web_building\"\\n                >\\n                  <a\\n                    target=\"_blank\"\\n                    href=\"https://campus.w3schools.com/pages/newsletter\"\\n                    class=\"w3-bar-item w3-button ga-top-drop ga-top-drop-tut-newsletter fixpaddingsmallmenu\"\\n                    title=\"W3Schools Newsletter\"\\n                  >\\n                    Join our Newsletter\\n                  </a>\\n                </div>\\n              </div>\\n            </div>\\n\\n            <div class=\"w3-col l4 m6\">\\n              <div id=\"tutorials_javascript_links_list\">\\n                <h3\\n                  class=\"tnb-nav-section-title\"\\n                  data-heading=\"javascript_title\"\\n                >\\n                  JavaScript\\n                </h3>\\n                <div data-name=\"javascript\" data-category=\"javascript\">\\n                  <a\\n                    \\n                    class=\"w3-bar-item w3-button acctop-link ga-top-drop ga-top-drop-tut-js\"\\n                    href=\"/js/default.asp\"\\n                    title=\"JavaScript Tutorial\"\\n                  >\\n                    <span class=\"learn-span\">Learn</span>\\n                    JavaScript\\n                  </a>\\n                  <a\\n                    \\n                    class=\"ws-btn acclink-text ga-top-drop ga-top-drop-tut-js\"\\n                    href=\"/js/default.asp\"\\n                    title=\"JavaScript Tutorial\"\\n                  >\\n                    Tutorial\\n                  </a>\\n                  <a\\n                    \\n                    class=\"ws-btn acclink-text ga-top-drop ga-top-drop-ref-js\"\\n                    href=\"/jsref/default.asp\"\\n                    title=\"JavaScript Reference\"\\n                  >\\n                    Reference\\n                  </a>\\n                </div>\\n                <div data-name=\"react\" data-category=\"javascript\">\\n                  <a\\n                    \\n                    class=\"w3-bar-item w3-button acctop-link ga-top-drop ga-top-drop-tut-react\"\\n                    href=\"/react/default.asp\"\\n                    title=\"React Tutorial\"\\n                  >\\n                    <span class=\"learn-span\">Learn</span>\\n                    React\\n                  </a>\\n                  <a\\n                    \\n                    class=\"ws-btn acclink-text ga-top-drop ga-top-drop-tut-react\"\\n                    href=\"/react/default.asp\"\\n                    title=\"React Tutorial\"\\n                  >\\n                    Tutorial\\n                  </a>\\n                </div>\\n                <div data-name=\"jquery\" data-category=\"javascript\">\\n                  <a\\n                    \\n                    class=\"w3-bar-item w3-button acctop-link ga-top-drop ga-top-drop-tut-jquery\"\\n                    href=\"/jquery/default.asp\"\\n                    title=\"jQuery Tutorial\"\\n                  >\\n                    <span class=\"learn-span\">Learn</span>\\n                    jQuery\\n                  </a>\\n                  <a\\n                    \\n                    class=\"ws-btn acclink-text ga-top-drop ga-top-drop-tut-jquery\"\\n                    href=\"/jquery/default.asp\"\\n                    title=\"jQuery Tutorial\"\\n                  >\\n                    Tutorial\\n                  </a>\\n                  <a\\n                    \\n                    class=\"ws-btn acclink-text ga-top-drop ga-top-drop-ref-jquery\"\\n                    href=\"/jquery/jquery_ref_overview.asp\"\\n                    title=\"jQuery Reference\"\\n                  >\\n                    Reference\\n                  </a>\\n                </div>\\n                <div data-name=\"vue\" data-category=\"javascript\">\\n                  <a\\n                    \\n                    class=\"w3-bar-item w3-button acctop-link ga-top-drop ga-top-drop-tut-vue\"\\n                    href=\"/vue/index.php\"\\n                    title=\"Vue Tutorial\"\\n                  >\\n                    <span class=\"learn-span\">Learn</span>\\n                    Vue\\n                  </a>\\n                  <a\\n                    \\n                    class=\"ws-btn acclink-text ga-top-drop ga-top-drop-tut-vue\"\\n                    href=\"/vue/index.php\"\\n                    title=\"Vue Tutorial\"\\n                  >\\n                    Tutorial\\n                  </a>\\n                  <a\\n                    \\n                    href=\"/vue/vue_ref_builtin-attributes.php\"\\n                    class=\"ws-btn acclink-text ga-top-drop ga-top-drop-ref-vue\"\\n                    title=\"Vue Reference\"\\n                  >\\n                    Reference\\n                  </a>\\n                </div>\\n                <div data-name=\"angularjs\" data-category=\"javascript\">\\n                  <a\\n                    \\n                    class=\"w3-bar-item w3-button acctop-link ga-top-drop ga-top-drop-tut-angularjs\"\\n                    href=\"/angular/default.asp\"\\n                    title=\"Angular Tutorial\"\\n                  >\\n                    <span class=\"learn-span\">Learn</span>\\n                    AngularJS\\n                  </a>\\n                  <a\\n                    \\n                    class=\"ws-btn acclink-text ga-top-drop ga-top-drop-tut-angularjs\"\\n                    href=\"/angular/default.asp\"\\n                    title=\"Angular Tutorial\"\\n                  >\\n                    Tutorial\\n                  </a>\\n                  <a\\n                    \\n                    class=\"ws-btn acclink-text ga-top-drop ga-top-drop-ref-angularjs\"\\n                    href=\"/angular/angular_ref_directives.asp\"\\n                    title=\"Angular Reference\"\\n                  >\\n                    Reference\\n                  </a>\\n                </div>\\n                <div data-name=\"json\" data-category=\"javascript\">\\n                  <a\\n                    \\n                    class=\"w3-bar-item w3-button acctop-link ga-top-drop ga-top-drop-tut-json\"\\n                    href=\"/js/js_json_intro.asp\"\\n                    title=\"JSON Tutorial\"\\n                  >\\n                    <span class=\"learn-span\">Learn</span>\\n                    JSON\\n                  </a>\\n                  <a\\n                    \\n                    class=\"ws-btn acclink-text ga-top-drop ga-top-drop-tut-json\"\\n                    href=\"/js/js_json_intro.asp\"\\n                    title=\"JSON Tutorial\"\\n                  >\\n                    Tutorial\\n                  </a>\\n                  <a\\n                    \\n                    class=\"ws-btn acclink-text ga-top-drop ga-top-drop-ref-json\"\\n                    href=\"/jsref/jsref_obj_json.asp\"\\n                    title=\"JSON Reference\"\\n                  >\\n                    Reference\\n                  </a>\\n                </div>\\n                <div data-name=\"ajax\" data-category=\"javascript\">\\n                  <a\\n                    \\n                    class=\"w3-bar-item w3-button acctop-link ga-top-drop ga-top-drop-tut-ajax\"\\n                    href=\"/js/js_ajax_intro.asp\"\\n                    title=\"AJAX Tutorial\"\\n                  >\\n                    <span class=\"learn-span\">Learn</span>\\n                    AJAX\\n                  </a>\\n                  <a\\n                    \\n                    class=\"ws-btn acclink-text ga-top-drop ga-top-drop-tut-ajax\"\\n                    href=\"/js/js_ajax_intro.asp\"\\n                    title=\"AJAX Tutorial\"\\n                  >\\n                    Tutorial\\n                  </a>\\n                </div>\\n                <div data-name=\"appml\" data-category=\"javascript\">\\n                  <a\\n                    \\n                    class=\"w3-bar-item w3-button acctop-link ga-top-drop ga-top-drop-tut-appml\"\\n                    href=\"/appml/default.asp\"\\n                    title=\"AppML Tutorial\"\\n                  >\\n                    <span class=\"learn-span\">Learn</span>\\n                    AppML\\n                  </a>\\n                  <a\\n                    \\n                    class=\"ws-btn acclink-text ga-top-drop ga-top-drop-tut-appml\"\\n                    href=\"/appml/default.asp\"\\n                    title=\"AppML Tutorial\"\\n                  >\\n                    Tutorial\\n                  </a>\\n                  <a\\n                    \\n                    class=\"ws-btn acclink-text ga-top-drop ga-top-drop-ref-appml\"\\n                    href=\"/appml/appml_reference.asp\"\\n                    title=\"AppML Reference\"\\n                  >\\n                    Reference\\n                  </a>\\n                </div>\\n                <div data-name=\"w3.js\" data-category=\"javascript\">\\n                  <a\\n                    \\n                    class=\"w3-bar-item w3-button acctop-link ga-top-drop ga-top-drop-tut-w3js\"\\n                    href=\"/w3js/default.asp\"\\n                    title=\"W3.JS Tutorial\"\\n                  >\\n                    <span class=\"learn-span\">Learn</span>\\n                    W3.JS\\n                  </a>\\n                  <a\\n                    \\n                    class=\"ws-btn acclink-text ga-top-drop ga-top-drop-tut-w3js\"\\n                    href=\"/w3js/default.asp\"\\n                    title=\"W3.JS Tutorial\"\\n                  >\\n                    Tutorial\\n                  </a>\\n                  <a\\n                    \\n                    class=\"ws-btn acclink-text ga-top-drop ga-top-drop-ref-w3js\"\\n                    href=\"/w3js/w3js_references.asp\"\\n                    title=\"W3.JS Reference\"\\n                  >\\n                    Reference\\n                  </a>\\n                </div>\\n              </div>\\n              <div\\n                id=\"tutorials_web_building_links_list_desktop\"\\n                class=\"w3-hide-medium w3-hide-small\"\\n              >\\n                <h3\\n                  class=\"tnb-nav-section-title\"\\n                  data-heading=\"web_building_title\"\\n                >\\n                  Web Building\\n                </h3>\\n                <div data-name=\"create a website\" data-category=\"web_building\">\\n                  <a\\n                    \\n                    class=\"w3-bar-item w3-button ga-top-drop ga-top-drop-tut-spaces\"\\n                    href=\"/spaces/index.php\"\\n                    title=\"Get Your Own Website With W3shools Spaces\"\\n                  >\\n                    Create a Website\\n                    <span\\n                      class=\"ribbon-topnav\"\\n                      style=\"background-color: #d9212c; color: white\"\\n                    >\\n                      HOT!\\n                    </span>\\n                  </a>\\n                </div>\\n                <div data-name=\"create a server\" data-category=\"web_building\">\\n                  <a\\n                    \\n                    class=\"w3-bar-item w3-button ga-top-drop ga-top-drop-tut-server\"\\n                    href=\"/spaces/index.php\"\\n                    title=\"Get Your Own Server With W3shools Spaces\"\\n                  >\\n                    Create a Server\\n                    <span class=\"ribbon-topnav ws-green\">NEW</span>\\n                  </a>\\n                </div>\\n                <div data-name=\"where to start\" data-category=\"web_building\">\\n                  <a\\n                    \\n                    class=\"w3-bar-item w3-button ga-top-drop ga-top-drop-tut-wheretostart\"\\n                    href=\"/where_to_start.asp\"\\n                    title=\"Where To Start - Web Development\"\\n                  >\\n                    Where To Start\\n                  </a>\\n                </div>\\n                <div data-name=\"web templates\" data-category=\"web_building\">\\n                  <a\\n                    \\n                    class=\"w3-bar-item w3-button ga-top-drop ga-top-drop-tut-templates\"\\n                    href=\"/w3css/w3css_templates.asp\"\\n                    title=\"Free Web Templates\"\\n                  >\\n                    Web Templates\\n                  </a>\\n                </div>\\n                <div data-name=\"web statistics\" data-category=\"web_building\">\\n                  <a\\n                    \\n                    class=\"w3-bar-item w3-button ga-top-drop ga-top-drop-tut-webstats\"\\n                    href=\"/browsers/default.asp\"\\n                    title=\"Web Statistics\"\\n                  >\\n                    Web Statistics\\n                  </a>\\n                </div>\\n                <div data-name=\"web certificates\" data-category=\"web_building\">\\n                  <a\\n                    target=\"_blank\"\\n                    href=\"https://campus.w3schools.com\"\\n                    class=\"w3-bar-item w3-button ga-top-drop ga-top-drop-tut-certificates\"\\n                    title=\"Certificates\"\\n                  >\\n                    Web Certificates\\n                  </a>\\n                </div>\\n                <div data-name=\"web development\" data-category=\"web_building\">\\n                  <a\\n                    \\n                    class=\"w3-bar-item w3-button ga-top-drop ga-top-drop-tut-web-development\"\\n                    href=\"/whatis/default.asp\"\\n                    title=\"Web Development Roadmaps\"\\n                  >\\n                    Web Development\\n                  </a>\\n                </div>\\n                <div data-name=\"programming\" data-category=\"web_building\">\\n                  <a\\n                    \\n                    class=\"w3-bar-item w3-button ga-top-drop ga-top-drop-tut-programming\"\\n                    href=\"/programming/index.php\"\\n                    title=\"Introduction to Programming\"\\n                  >\\n                    Introduction to Programming\\n                  </a>\\n                </div>\\n                <div data-name=\"code editor\" data-category=\"web_building\">\\n                  <a\\n                    \\n                    class=\"w3-bar-item w3-button ga-top-drop ga-top-drop-tut-code-editor\"\\n                    href=\"/tryit/default.asp\"\\n                    title=\"Try it - Code Editor\"\\n                  >\\n                    Code Editor\\n                  </a>\\n                </div>\\n                <div\\n                  data-name=\"test your typing speed\"\\n                  data-category=\"web_building\"\\n                >\\n                  <a\\n                    \\n                    class=\"w3-bar-item w3-button ga-top-drop ga-top-drop-tut-typingspeed\"\\n                    href=\"/typingspeed/default.asp\"\\n                    title=\"Test Your Typing Speed\"\\n                  >\\n                    Test Your Typing Speed\\n                  </a>\\n                </div>\\n                <div data-name=\"play a code game\" data-category=\"web_building\">\\n                  <a\\n                    \\n                    class=\"w3-bar-item w3-button ga-top-drop ga-top-drop-tut-codegame\"\\n                    href=\"/codegame/index.html\"\\n                    title=\"Play a Code Game\"\\n                  >\\n                    Play a Code Game\\n                  </a>\\n                </div>\\n                <div data-name=\"cyber security\" data-category=\"web_building\">\\n                  <a\\n                    \\n                    class=\"w3-bar-item w3-button ga-top-drop ga-top-drop-tut-cybersec\"\\n                    href=\"/cybersecurity/index.php\"\\n                    title=\"Cyber Security Tutorial\"\\n                  >\\n                    Cyber Security\\n                  </a>\\n                </div>\\n                <div data-name=\"accessibility\" data-category=\"web_building\">\\n                  <a\\n                    \\n                    class=\"w3-bar-item w3-button ga-top-drop ga-top-drop-tut-accessi\"\\n                    href=\"/accessibility/index.php\"\\n                    title=\"Accessibility Security Tutorial\"\\n                  >\\n                    Accessibility\\n                  </a>\\n                </div>\\n                <div\\n                  data-name=\"join our news letter\"\\n                  data-category=\"web_building\"\\n                >\\n                  <a\\n                    target=\"_blank\"\\n                    href=\"https://campus.w3schools.com/pages/newsletter\"\\n                    class=\"w3-bar-item w3-button ga-top-drop ga-top-drop-tut-newsletter\"\\n                    title=\"W3Schools Newsletter\"\\n                  >\\n                    Join our Newsletter\\n                  </a>\\n                </div>\\n              </div>\\n            </div>\\n\\n            <div class=\"w3-col l4 m6\">\\n              <div id=\"tutorials_backend_links_list\">\\n                <h3 class=\"tnb-nav-section-title\" data-heading=\"backend_title\">\\n                  Backend\\n                </h3>\\n                <div data-name=\"python\" data-category=\"backend\">\\n                  <a\\n                    \\n                    class=\"w3-bar-item w3-button acctop-link ga-top-drop ga-top-drop-tut-python\"\\n                    href=\"/python/default.asp\"\\n                    title=\"Python Tutorial\"\\n                  >\\n                    <span class=\"learn-span\">Learn</span>\\n                    Python\\n                  </a>\\n                  <a\\n                    \\n                    class=\"ws-btn acclink-text ga-top-drop ga-top-drop-tut-python\"\\n                    href=\"/python/default.asp\"\\n                    title=\"Python Tutorial\"\\n                  >\\n                    Tutorial\\n                  </a>\\n                  <a\\n                    \\n                    class=\"ws-btn acclink-text ga-top-drop ga-top-drop-ref-python\"\\n                    href=\"/python/python_reference.asp\"\\n                    title=\"Python Reference\"\\n                  >\\n                    Reference\\n                  </a>\\n                </div>\\n                <div data-name=\"sql\" data-category=\"backend\">\\n                  <a\\n                    \\n                    class=\"w3-bar-item w3-button acctop-link ga-top-drop ga-top-drop-tut-sql\"\\n                    href=\"/sql/default.asp\"\\n                    title=\"SQL Tutorial\"\\n                  >\\n                    <span class=\"learn-span\">Learn</span>\\n                    SQL\\n                  </a>\\n                  <a\\n                    \\n                    class=\"ws-btn acclink-text ga-top-drop ga-top-drop-tut-sql\"\\n                    href=\"/sql/default.asp\"\\n                    title=\"SQL Tutorial\"\\n                  >\\n                    Tutorial\\n                  </a>\\n                  <a\\n                    \\n                    class=\"ws-btn acclink-text ga-top-drop ga-top-drop-ref-sql\"\\n                    href=\"/sql/sql_ref_keywords.asp\"\\n                    title=\"SQL Reference\"\\n                  >\\n                    Reference\\n                  </a>\\n                </div>\\n                <div data-name=\"mysql\" data-category=\"backend\">\\n                  <a\\n                    \\n                    class=\"w3-bar-item w3-button acctop-link ga-top-drop ga-top-drop-tut-mysql\"\\n                    href=\"/mysql/default.asp\"\\n                    title=\"MySQL Tutorial\"\\n                  >\\n                    <span class=\"learn-span\">Learn</span>\\n                    MySQL\\n                  </a>\\n                  <a\\n                    \\n                    class=\"ws-btn acclink-text ga-top-drop ga-top-drop-tut-mysql\"\\n                    href=\"/mysql/default.asp\"\\n                    title=\"MySQL Tutorial\"\\n                  >\\n                    Tutorial\\n                  </a>\\n                  <a\\n                    \\n                    class=\"ws-btn acclink-text ga-top-drop ga-top-drop-ref-mysql\"\\n                    href=\"/mysql/mysql_datatypes.asp\"\\n                    title=\"MySQL Reference\"\\n                  >\\n                    Reference\\n                  </a>\\n                </div>\\n                <div data-name=\"php\" data-category=\"backend\">\\n                  <a\\n                    \\n                    class=\"w3-bar-item w3-button acctop-link ga-top-drop ga-top-drop-tut-php\"\\n                    href=\"/php/default.asp\"\\n                    title=\"PHP Tutorial\"\\n                  >\\n                    <span class=\"learn-span\">Learn</span>\\n                    PHP\\n                  </a>\\n                  <a\\n                    \\n                    class=\"ws-btn acclink-text ga-top-drop ga-top-drop-tut-php\"\\n                    href=\"/php/default.asp\"\\n                    title=\"PHP Tutorial\"\\n                  >\\n                    Tutorial\\n                  </a>\\n                  <a\\n                    \\n                    class=\"ws-btn acclink-text ga-top-drop ga-top-drop-ref-php\"\\n                    href=\"/php/php_ref_overview.asp\"\\n                    title=\"PHP Reference\"\\n                  >\\n                    Reference\\n                  </a>\\n                </div>\\n                <div data-name=\"java\" data-category=\"backend\">\\n                  <a\\n                    \\n                    class=\"w3-bar-item w3-button acctop-link ga-top-drop ga-top-drop-tut-java\"\\n                    href=\"/java/default.asp\"\\n                    title=\"Java Tutorial\"\\n                  >\\n                    <span class=\"learn-span\">Learn</span>\\n                    Java\\n                  </a>\\n                  <a\\n                    \\n                    class=\"ws-btn acclink-text ga-top-drop ga-top-drop-tut-java\"\\n                    href=\"/java/default.asp\"\\n                    title=\"Java Tutorial\"\\n                  >\\n                    Tutorial\\n                  </a>\\n                  <a\\n                    \\n                    class=\"ws-btn acclink-text ga-top-drop ga-top-drop-ref-java\"\\n                    href=\"/java/java_ref_reference.asp\"\\n                    title=\"Java Reference\"\\n                  >\\n                    Reference\\n                  </a>\\n                </div>\\n                <div data-name=\"c\" data-category=\"backend\">\\n                  <a\\n                    \\n                    class=\"w3-bar-item w3-button acctop-link ga-top-drop ga-top-drop-tut-c\"\\n                    href=\"/c/index.php\"\\n                    title=\"C Tutorial\"\\n                  >\\n                    <span class=\"learn-span\">Learn</span>\\n                    C\\n                  </a>\\n                  <a\\n                    \\n                    class=\"ws-btn acclink-text ga-top-drop ga-top-drop-tut-c\"\\n                    href=\"/c/index.php\"\\n                    title=\"C Tutorial\"\\n                  >\\n                    Tutorial\\n                  </a>\\n                  <a\\n                    \\n                    class=\"ws-btn acclink-text ga-top-drop ga-top-drop-tut-cpp\"\\n                    href=\"/c/c_ref_reference.php\"\\n                    title=\"C Reference\"\\n                  >\\n                    Reference\\n                  </a>\\n                </div>\\n                <div data-name=\"c++\" data-category=\"backend\">\\n                  <a\\n                    \\n                    class=\"w3-bar-item w3-button acctop-link ga-top-drop ga-top-drop-tut-cpp\"\\n                    href=\"/cpp/default.asp\"\\n                    title=\"C++ Tutorial\"\\n                  >\\n                    <span class=\"learn-span\">Learn</span>\\n                    C++\\n                  </a>\\n                  <a\\n                    \\n                    class=\"ws-btn acclink-text ga-top-drop ga-top-drop-tut-cpp\"\\n                    href=\"/cpp/default.asp\"\\n                    title=\"C++ Tutorial\"\\n                  >\\n                    Tutorial\\n                  </a>\\n                  <a\\n                    \\n                    class=\"ws-btn acclink-text ga-top-drop ga-top-drop-tut-cpp\"\\n                    href=\"/cpp/cpp_ref_reference.asp\"\\n                    title=\"C++ Reference\"\\n                  >\\n                    Reference\\n                  </a>\\n                </div>\\n                <div data-name=\"c#\" data-category=\"backend\">\\n                  <a\\n                    \\n                    class=\"w3-bar-item w3-button acctop-link ga-top-drop ga-top-drop-tut-cs\"\\n                    href=\"/cs/index.php\"\\n                    title=\"C# Tutorial\"\\n                  >\\n                    <span class=\"learn-span\">Learn</span>\\n                    C#\\n                  </a>\\n                  <a\\n                    \\n                    class=\"ws-btn acclink-text ga-top-drop ga-top-drop-tut-cs\"\\n                    href=\"/cs/index.php\"\\n                    title=\"C# Tutorial\"\\n                  >\\n                    Tutorial\\n                  </a>\\n                </div>\\n                <div data-name=\"r\" data-category=\"backend\">\\n                  <a\\n                    \\n                    class=\"w3-bar-item w3-button acctop-link ga-top-drop ga-top-drop ga-top-drop-tut-r\"\\n                    href=\"/r/default.asp\"\\n                    title=\"R Tutorial\"\\n                  >\\n                    <span class=\"learn-span\">Learn</span>\\n                    R\\n                  </a>\\n                  <a\\n                    \\n                    class=\"ws-btn acclink-text ga-top-drop ga-top-drop ga-top-drop-tut-r\"\\n                    href=\"/r/default.asp\"\\n                    title=\"R Tutorial\"\\n                  >\\n                    Tutorial\\n                  </a>\\n                </div>\\n                <div data-name=\"kotlin\" data-category=\"backend\">\\n                  <a\\n                    \\n                    class=\"w3-bar-item w3-button acctop-link ga-top-drop ga-top-drop-tut-kotlin\"\\n                    href=\"/kotlin/index.php\"\\n                    title=\"Kotlin Tutorial\"\\n                  >\\n                    <span class=\"learn-span\">Learn</span>\\n                    Kotlin\\n                  </a>\\n                  <a\\n                    \\n                    class=\"ws-btn acclink-text ga-top-drop ga-top-drop-tut-kotlin\"\\n                    href=\"/kotlin/index.php\"\\n                    title=\"Kotlin Tutorial\"\\n                  >\\n                    Tutorial\\n                  </a>\\n                </div>\\n                <div data-name=\"kotlin\" data-category=\"backend\">\\n                  <a\\n                    \\n                    class=\"w3-bar-item w3-button acctop-link ga-top-drop ga-top-drop-tut-rust\"\\n                    href=\"/rust/index.php\"\\n                    title=\"Rust Tutorial\"\\n                  >\\n                    <span class=\"learn-span\">Learn</span>\\n                    Rust\\n                  </a>\\n                  <a\\n                    \\n                    class=\"ws-btn acclink-text ga-top-drop ga-top-drop-tut-rust\"\\n                    href=\"/rust/index.php\"\\n                    title=\"Rust Tutorial\"\\n                  >\\n                    Tutorial\\n                  </a>\\n                </div>\\n                <div data-name=\"go\" data-category=\"backend\">\\n                  <a\\n                    \\n                    class=\"w3-bar-item w3-button acctop-link ga-top-drop ga-top-drop-tut-go\"\\n                    href=\"/go/index.php\"\\n                    title=\"Go Tutorial\"\\n                  >\\n                    <span class=\"learn-span\">Learn</span>\\n                    Go\\n                  </a>\\n                  <a\\n                    \\n                    class=\"ws-btn acclink-text ga-top-drop ga-top-drop-tut-go\"\\n                    href=\"/go/index.php\"\\n                    title=\"Go Tutorial\"\\n                  >\\n                    Tutorial\\n                  </a>\\n                </div>\\n                <div data-name=\"django\" data-category=\"backend\">\\n                  <a\\n                    \\n                    class=\"w3-bar-item w3-button acctop-link ga-top-drop ga-top-drop-tut-django\"\\n                    href=\"/django/index.php\"\\n                    title=\"Django Tutorial\"\\n                  >\\n                    <span class=\"learn-span\">Learn</span>\\n                    Django\\n                  </a>\\n                  <a\\n                    \\n                    class=\"ws-btn acclink-text ga-top-drop ga-top-drop-tut-django\"\\n                    href=\"/django/index.php\"\\n                    title=\"Django Tutorial\"\\n                  >\\n                    Tutorial\\n                  </a>\\n                  <a\\n                    \\n                    class=\"ws-btn acclink-text ga-top-drop ga-top-drop-ref-django\"\\n                    href=\"/django/django_ref_template_tags.php\"\\n                    title=\"Django Reference\"\\n                  >\\n                    Reference\\n                  </a>\\n                </div>\\n                <div data-name=\"postgresql\" data-category=\"backend\">\\n                  <a\\n                    \\n                    href=\"/postgresql/index.php\"\\n                    class=\"w3-bar-item w3-button acctop-link ga-top-drop ga-top-drop-tut-postgresql\"\\n                    title=\"PostgreSQL Tutorial\"\\n                  >\\n                    <span class=\"learn-span\">Learn</span>\\n                    PostgreSQL\\n                  </a>\\n                  <a\\n                    \\n                    href=\"/postgresql/index.php\"\\n                    class=\"ws-btn acclink-text ga-top-drop ga-top-drop-tut-postgresql\"\\n                    title=\"PostgreSQL Tutorial\"\\n                  >\\n                    Tutorial\\n                  </a>\\n                </div>\\n                <div data-name=\"typescript\" data-category=\"backend\">\\n                  <a\\n                    \\n                    class=\"w3-bar-item w3-button acctop-link ga-top-drop ga-top-drop-tut-typescript\"\\n                    href=\"/typescript/index.php\"\\n                    title=\"TypeScript Tutorial\"\\n                  >\\n                    <span class=\"learn-span\">Learn</span>\\n                    TypeScript\\n                  </a>\\n                  <a\\n                    \\n                    class=\"ws-btn acclink-text ga-top-drop ga-top-drop-tut-typescript\"\\n                    href=\"/typescript/index.php\"\\n                    title=\"TypeScript Reference\"\\n                  >\\n                    Tutorial\\n                  </a>\\n                </div>\\n                <div data-name=\"asp\" data-category=\"backend\">\\n                  <a\\n                    \\n                    class=\"w3-bar-item w3-button acctop-link ga-top-drop ga-top-drop-tut-asp\"\\n                    href=\"/asp/default.asp\"\\n                    title=\"ASP Tutorial\"\\n                  >\\n                    <span class=\"learn-span\">Learn</span>\\n                    ASP\\n                  </a>\\n                  <a\\n                    \\n                    class=\"ws-btn acclink-text ga-top-drop ga-top-drop-tut-asp\"\\n                    href=\"/asp/default.asp\"\\n                    title=\"ASP Tutorial\"\\n                  >\\n                    Tutorial\\n                  </a>\\n                  <a\\n                    \\n                    class=\"ws-btn acclink-text ga-top-drop ga-top-drop-ref-asp\"\\n                    href=\"/asp/asp_ref_vbscript_functions.asp\"\\n                    title=\"ASP Reference\"\\n                  >\\n                    Reference\\n                  </a>\\n                </div>\\n                <div data-name=\"node.js\" data-category=\"backend\">\\n                  <a\\n                    \\n                    class=\"w3-bar-item w3-button acctop-link ga-top-drop ga-top-drop-tut-nodejs\"\\n                    href=\"/nodejs/default.asp\"\\n                    title=\"Node.js Tutorial\"\\n                  >\\n                    <span class=\"learn-span\">Learn</span>\\n                    Node.js\\n                  </a>\\n                  <a\\n                    \\n                    class=\"ws-btn acclink-text ga-top-drop ga-top-drop-tut-nodejs\"\\n                    href=\"/nodejs/default.asp\"\\n                    title=\"Node.js Tutorial\"\\n                  >\\n                    Tutorial\\n                  </a>\\n                  <a\\n                    \\n                    class=\"ws-btn acclink-text ga-top-drop ga-top-drop-ref-nodejs\"\\n                    href=\"/nodejs/ref_modules.asp\"\\n                    title=\"Node.js Reference\"\\n                  >\\n                    Reference\\n                  </a>\\n                </div>\\n                <div data-name=\"raspberry pi\" data-category=\"backend\">\\n                  <a\\n                    \\n                    class=\"w3-bar-item w3-button acctop-link ga-top-drop ga-top-drop-tut-rpi\"\\n                    href=\"/nodejs/nodejs_raspberrypi.asp\"\\n                    title=\"Raspberry Pi Tutorial\"\\n                  >\\n                    <span class=\"learn-span\">Learn</span>\\n                    Raspberry Pi\\n                  </a>\\n                  <a\\n                    \\n                    class=\"ws-btn acclink-text ga-top-drop ga-top-drop-tut-rpi\"\\n                    href=\"/nodejs/nodejs_raspberrypi.asp\"\\n                    title=\"Raspberry Pi Tutorial\"\\n                  >\\n                    Tutorial\\n                  </a>\\n                </div>\\n                <div data-name=\"git\" data-category=\"backend\">\\n                  <a\\n                    \\n                    class=\"w3-bar-item w3-button acctop-link ga-top-drop ga-top-drop-tut-git\"\\n                    href=\"/git/default.asp\"\\n                    title=\"Git Tutorial\"\\n                  >\\n                    <span class=\"learn-span\">Learn</span>\\n                    Git\\n                  </a>\\n                  <a\\n                    \\n                    class=\"ws-btn acclink-text ga-top-drop ga-top-drop-tut-git\"\\n                    href=\"/git/default.asp\"\\n                    title=\"Git Tutorial\"\\n                  >\\n                    Tutorial\\n                  </a>\\n                </div>\\n                <div data-name=\"bash\" data-category=\"backend\">\\n                  <a\\n                    \\n                    class=\"w3-bar-item w3-button acctop-link ga-top-drop ga-top-drop-tut-bash\"\\n                    href=\"/bash/index.php\"\\n                    title=\"Bash Tutorial\"\\n                  >\\n                    <span class=\"learn-span\">Learn</span>\\n                    Bash\\n                  </a>\\n                  <a\\n                    \\n                    class=\"ws-btn acclink-text ga-top-drop ga-top-drop-tut-bash\"\\n                    href=\"/bash/index.php\"\\n                    title=\"Bash Tutorial\"\\n                  >\\n                    Tutorial\\n                  </a>\\n                </div>\\n                <div data-name=\"mongodb\" data-category=\"backend\">\\n                  <a\\n                    \\n                    class=\"w3-bar-item w3-button acctop-link ga-top-drop ga-top-drop-tut-mongodb\"\\n                    href=\"/mongodb/index.php\"\\n                    title=\"MongoDB Tutorial\"\\n                  >\\n                    <span class=\"learn-span\">Learn</span>\\n                    MongoDB\\n                  </a>\\n                  <a\\n                    \\n                    class=\"ws-btn acclink-text ga-top-drop ga-top-drop-tut-mongodb\"\\n                    href=\"/mongodb/index.php\"\\n                    title=\"MongoDB Tutorial\"\\n                  >\\n                    Tutorial\\n                  </a>\\n                </div>\\n                <!--\\n                <div\\n                  data-name=\"aws cloud\"\\n                  data-category=\"backend\"\\n                >\\n                  <a\\n                    \\n                    class=\"w3-bar-item w3-button acctop-link ga-top-drop ga-top-drop-tut-aws-cloud\"\\n                    href=\"/aws/index.php\"\\n                    title=\"AWS Cloud Tutorial\"\\n                  >\\n                    <span class=\"learn-span\">Learn</span>\\n                    AWS Cloud\\n                  </a>\\n                  <a\\n                    \\n                    class=\"ws-btn acclink-text ga-top-drop ga-top-drop-tut-aws-cloud\"\\n                    href=\"/aws/index.php\"\\n                    title=\"AWS Cloud Tutorial\"\\n                  >\\n                    Tutorial\\n                  </a>\\n                </div>\\n                -->\\n                <div data-name=\"xml\" data-category=\"backend\">\\n                  <a\\n                    \\n                    class=\"w3-bar-item w3-button acctop-link ga-top-drop ga-top-drop-tut-xml\"\\n                    href=\"/xml/default.asp\"\\n                    title=\"XML Tutorial\"\\n                  >\\n                    <span class=\"learn-span\">Learn</span>\\n                    XML\\n                  </a>\\n                  <a\\n                    \\n                    class=\"ws-btn acclink-text ga-top-drop ga-top-drop-tut-xml\"\\n                    href=\"/xml/default.asp\"\\n                    title=\"XML Tutorial\"\\n                  >\\n                    Tutorial\\n                  </a>\\n                  <a\\n                    \\n                    class=\"ws-btn acclink-text ga-top-drop ga-top-drop-ref-xml\"\\n                    href=\"/xml/dom_nodetype.asp\"\\n                    title=\"XML Reference\"\\n                  >\\n                    Reference\\n                  </a>\\n                </div>\\n              </div>\\n\\n              <div\\n                id=\"tutotials_data_analytics_links_list_mobile\"\\n                class=\"w3-hide-large w3-hide-medium\"\\n              >\\n                <h3\\n                  class=\"tnb-nav-section-title\"\\n                  data-heading=\"data_analytics_title\"\\n                >\\n                  Data Analytics\\n                </h3>\\n                <div data-name=\"ai\" data-category=\"data_analytics\">\\n                  <a\\n                    \\n                    class=\"w3-bar-item w3-button acctop-link ga-top-drop ga-top-drop-tut-ai\"\\n                    href=\"/ai/default.asp\"\\n                    title=\"Artificial Intelligence Tutorial\"\\n                  >\\n                    <span class=\"learn-span\">Learn</span>\\n                    AI\\n                  </a>\\n                  <a\\n                    \\n                    class=\"ws-btn acclink-text ga-top-drop ga-top-drop-tut-ai\"\\n                    href=\"/ai/default.asp\"\\n                    title=\"Artificial Intelligence Tutorial\"\\n                  >\\n                    Tutorial\\n                  </a>\\n                </div>\\n                <div data-name=\"generative ai\" data-category=\"data_analytics\">\\n                  <a\\n                    \\n                    class=\"w3-bar-item w3-button acctop-link ga-top-drop ga-top-drop-tut-genai\"\\n                    href=\"/gen_ai/index.php\"\\n                    title=\"Generative AI Tutorial\"\\n                  >\\n                    <span class=\"learn-span\">Learn</span>\\n                    Generative AI\\n                  </a>\\n                  <a\\n                    \\n                    class=\"ws-btn acclink-text ga-top-drop ga-top-drop-tut-genai\"\\n                    href=\"/gen_ai/index.php\"\\n                    title=\"Generative AI Tutorial\"\\n                  >\\n                    Tutorial\\n                  </a>\\n                </div>\\n                <div data-name=\"chatgpt-3.5\" data-category=\"data_analytics\">\\n                  <a\\n                    \\n                    href=\"/gen_ai/chatgpt-3-5/index.php\"\\n                    class=\"w3-bar-item w3-button acctop-link ga-top-drop ga-top-drop-tut-chatgpt35\"\\n                    title=\"ChatGPT-3.5 Tutorial\"\\n                  >\\n                    <span class=\"learn-span\">Learn</span>\\n                    ChatGPT-3.5\\n                  </a>\\n                  <a\\n                    \\n                    href=\"/gen_ai/chatgpt-3-5/index.php\"\\n                    class=\"ws-btn acclink-text ga-top-drop ga-top-drop-tut-chatgpt35\"\\n                    title=\"ChatGPT-3.5  Tutorial\"\\n                  >\\n                    Tutorial\\n                  </a>\\n                </div>\\n                <div data-name=\"chatgpt-4\" data-category=\"data_analytics\">\\n                  <a\\n                    \\n                    href=\"/gen_ai/chatgpt-4/index.php\"\\n                    class=\"w3-bar-item w3-button acctop-link ga-top-drop ga-top-drop-tut-chatgpt4\"\\n                    title=\"ChatGPT-4 Tutorial\"\\n                  >\\n                    <span class=\"learn-span\">Learn</span>\\n                    ChatGPT-4\\n                  </a>\\n                  <a\\n                    \\n                    href=\"/gen_ai/chatgpt-4/index.php\"\\n                    class=\"ws-btn acclink-text ga-top-drop ga-top-drop-tut-chatgpt35\"\\n                    title=\"ChatGPT-4 Tutorial\"\\n                  >\\n                    Tutorial\\n                  </a>\\n                </div>\\n                <div data-name=\"google bard\" data-category=\"data_analytics\">\\n                  <a\\n                    \\n                    href=\"/gen_ai/bard/index.php\"\\n                    class=\"w3-bar-item w3-button acctop-link ga-top-drop ga-top-drop-tut-bard\"\\n                    title=\"Google Bard Tutorial\"\\n                  >\\n                    <span class=\"learn-span\">Learn</span>\\n                    Google Bard\\n                  </a>\\n                  <a\\n                    \\n                    href=\"/gen_ai/bard/index.php\"\\n                    class=\"ws-btn acclink-text ga-top-drop ga-top-drop-tut-bard\"\\n                    title=\"Google Bard Tutorial\"\\n                  >\\n                    Tutorial\\n                  </a>\\n                </div>\\n                <div\\n                  data-name=\"machine learning\"\\n                  data-category=\"data_analytics\"\\n                >\\n                  <a\\n                    \\n                    class=\"w3-bar-item w3-button acctop-link ga-top-drop ga-top-drop-tut-ml\"\\n                    href=\"/python/python_ml_getting_started.asp\"\\n                    title=\"Machine Learning Tutorial\"\\n                  >\\n                    <span class=\"learn-span\">Learn</span>\\n                    Machine Learning\\n                  </a>\\n                  <a\\n                    \\n                    class=\"ws-btn acclink-text ga-top-drop ga-top-drop-tut-ml\"\\n                    href=\"/python/python_ml_getting_started.asp\"\\n                    title=\"Machine Learning Tutorial\"\\n                  >\\n                    Tutorial\\n                  </a>\\n                </div>\\n                <div data-name=\"dsa\" data-category=\"data_analytics\">\\n                  <a\\n                    \\n                    href=\"/dsa/index.php\"\\n                    class=\"w3-bar-item w3-button acctop-link ga-top-drop ga-top-drop-tut-dsa\"\\n                    title=\"DSA - Data Structures and Algorithms\"\\n                  >\\n                    <span class=\"learn-span\">Learn</span>\\n                    DSA\\n                  </a>\\n                  <a\\n                    \\n                    href=\"/dsa/index.php\"\\n                    class=\"ws-btn acclink-text ga-top-drop ga-top-drop-tut-dsa\"\\n                    title=\"DSA - Data Structures and Algorithms \"\\n                  >\\n                    Tutorial\\n                  </a>\\n                </div>\\n                <div data-name=\"data science\" data-category=\"data_analytics\">\\n                  <a\\n                    \\n                    class=\"w3-bar-item w3-button acctop-link ga-top-drop ga-top-drop-tut-ds\"\\n                    href=\"/datascience/default.asp\"\\n                    title=\"Data Science Tutorial\"\\n                  >\\n                    <span class=\"learn-span\">Learn</span>\\n                    Data Science\\n                  </a>\\n                  <a\\n                    \\n                    class=\"ws-btn acclink-text ga-top-drop ga-top-drop-tut-ds\"\\n                    href=\"/datascience/default.asp\"\\n                    title=\"Data Science Tutorial\"\\n                  >\\n                    Tutorial\\n                  </a>\\n                </div>\\n                <div data-name=\"numpy\" data-category=\"data_analytics\">\\n                  <a\\n                    \\n                    class=\"w3-bar-item w3-button acctop-link ga-top-drop ga-top-drop-tut-numpy\"\\n                    href=\"/python/numpy/default.asp\"\\n                    title=\"NumPy Tutorial\"\\n                  >\\n                    <span class=\"learn-span\">Learn</span>\\n                    NumPy\\n                  </a>\\n                  <a\\n                    \\n                    class=\"ws-btn acclink-text ga-top-drop ga-top-drop-tut-numpy\"\\n                    href=\"/python/numpy/default.asp\"\\n                    title=\"NumPy Tutorial\"\\n                  >\\n                    Tutorial\\n                  </a>\\n                </div>\\n                <div data-name=\"pandas\" data-category=\"data_analytics\">\\n                  <a\\n                    \\n                    class=\"w3-bar-item w3-button acctop-link ga-top-drop ga-top-drop-tut-pandas\"\\n                    href=\"/python/pandas/default.asp\"\\n                    title=\"Pandas Tutorial\"\\n                  >\\n                    <span class=\"learn-span\">Learn</span>\\n                    Pandas\\n                  </a>\\n                  <a\\n                    \\n                    class=\"ws-btn acclink-text ga-top-drop ga-top-drop-tut-pandas\"\\n                    href=\"/python/pandas/default.asp\"\\n                    title=\"Pandas Tutorial\"\\n                  >\\n                    Tutorial\\n                  </a>\\n                </div>\\n                <div data-name=\"scipy\" data-category=\"data_analytics\">\\n                  <a\\n                    \\n                    class=\"w3-bar-item w3-button acctop-link ga-top-drop ga-top-drop-tut-scipy\"\\n                    href=\"/python/scipy/index.php\"\\n                    title=\"SciPy Tutorial\"\\n                  >\\n                    <span class=\"learn-span\">Learn</span>\\n                    SciPy\\n                  </a>\\n                  <a\\n                    \\n                    class=\"ws-btn acclink-text ga-top-drop ga-top-drop-tut-scipy\"\\n                    href=\"/python/scipy/index.php\"\\n                    title=\"SciPy Tutorial\"\\n                  >\\n                    Tutorial\\n                  </a>\\n                </div>\\n                <div data-name=\"matplotlib\" data-category=\"data_analytics\">\\n                  <a\\n                    \\n                    class=\"w3-bar-item w3-button acctop-link ga-top-drop ga-top-drop-tut-matplotlib\"\\n                    href=\"/python/matplotlib_intro.asp\"\\n                    title=\"Matplotlib Tutorial\"\\n                  >\\n                    <span class=\"learn-span\">Learn</span>\\n                    Matplotlib\\n                  </a>\\n                  <a\\n                    \\n                    class=\"ws-btn acclink-text ga-top-drop ga-top-drop-tut-matplotlib\"\\n                    href=\"/python/matplotlib_intro.asp\"\\n                    title=\"Matplotlib Tutorial\"\\n                  >\\n                    Tutorial\\n                  </a>\\n                </div>\\n                <div data-name=\"statistics\" data-category=\"data_analytics\">\\n                  <a\\n                    \\n                    class=\"w3-bar-item w3-button acctop-link ga-top-drop ga-top-drop-tut-stat\"\\n                    href=\"/statistics/index.php\"\\n                    title=\"Statistics Tutorial\"\\n                  >\\n                    <span class=\"learn-span\">Learn</span>\\n                    Statistics\\n                  </a>\\n                  <a\\n                    \\n                    class=\"ws-btn acclink-text ga-top-drop ga-top-drop-tut-stat\"\\n                    href=\"/statistics/index.php\"\\n                    title=\"Statistics Tutorial\"\\n                  >\\n                    Tutorial\\n                  </a>\\n                </div>\\n                <div data-name=\"excel\" data-category=\"data_analytics\">\\n                  <a\\n                    \\n                    class=\"w3-bar-item w3-button acctop-link ga-top-drop ga-top-drop-tut-excel\"\\n                    href=\"/excel/index.php\"\\n                    title=\"Excel Tutorial\"\\n                  >\\n                    <span class=\"learn-span\">Learn</span>\\n                    Excel\\n                  </a>\\n                  <a\\n                    \\n                    class=\"ws-btn acclink-text ga-top-drop ga-top-drop-tut-excel\"\\n                    href=\"/excel/index.php\"\\n                    title=\"Excel Tutorial\"\\n                  >\\n                    Tutorial\\n                  </a>\\n                </div>\\n                <div data-name=\"google sheets\" data-category=\"data_analytics\">\\n                  <a\\n                    \\n                    class=\"w3-bar-item w3-button acctop-link ga-top-drop ga-top-drop-tut-sheets\"\\n                    href=\"/googlesheets/index.php\"\\n                    title=\"Google Sheets Tutorial\"\\n                  >\\n                    <span class=\"learn-span\">Learn</span>\\n                    Google Sheets\\n                  </a>\\n                  <a\\n                    \\n                    class=\"ws-btn acclink-text ga-top-drop ga-top-drop-tut-sheets\"\\n                    href=\"/googlesheets/index.php\"\\n                    title=\"Google Sheets Tutorial\"\\n                  >\\n                    Tutorial\\n                  </a>\\n                </div>\\n              </div>\\n\\n              <div\\n                id=\"tutorials_web_building_links_list_mobile\"\\n                class=\"w3-hide-large w3-hide-medium\"\\n              >\\n                <h3\\n                  class=\"tnb-nav-section-title\"\\n                  data-heading=\"web_building_title\"\\n                >\\n                  Web Building\\n                </h3>\\n                <div data-name=\"create a website\" data-category=\"web_building\">\\n                  <a\\n                    \\n                    class=\"w3-bar-item w3-button ga-top-drop ga-top-drop-tut-spaces fixpaddingsmallmenu\"\\n                    href=\"/spaces/index.php\"\\n                    title=\"Get Your Own Website With W3shools Spaces\"\\n                  >\\n                    Create a Website\\n                    <span\\n                      class=\"ribbon-topnav\"\\n                      style=\"background-color: #d9212c; color: white\"\\n                    >\\n                      HOT!\\n                    </span>\\n                  </a>\\n                </div>\\n                <div data-name=\"create a server\" data-category=\"web_building\">\\n                  <a\\n                    \\n                    class=\"w3-bar-item w3-button ga-top-drop ga-top-drop-tut-server fixpaddingsmallmenu\"\\n                    href=\"/spaces/index.php\"\\n                    title=\"Get Your Own Server With W3shools Spaces\"\\n                  >\\n                    Create a Server\\n                    <span class=\"ribbon-topnav ws-green\">NEW</span>\\n                  </a>\\n                </div>\\n                <div data-name=\"where to start\" data-category=\"web_building\">\\n                  <a\\n                    \\n                    class=\"w3-bar-item w3-button ga-top-drop ga-top-drop-tut-wheretostart fixpaddingsmallmenu\"\\n                    href=\"/where_to_start.asp\"\\n                    title=\"Where To Start - Web Development\"\\n                  >\\n                    Where To Start\\n                  </a>\\n                </div>\\n                <div data-name=\"web templates\" data-category=\"web_building\">\\n                  <a\\n                    \\n                    class=\"w3-bar-item w3-button ga-top-drop ga-top-drop-tut-templates fixpaddingsmallmenu\"\\n                    href=\"/w3css/w3css_templates.asp\"\\n                    title=\"Free Web Templates\"\\n                  >\\n                    Web Templates\\n                  </a>\\n                </div>\\n                <div data-name=\"web statistics\" data-category=\"web_building\">\\n                  <a\\n                    \\n                    class=\"w3-bar-item w3-button ga-top-drop ga-top-drop-tut-webstats fixpaddingsmallmenu\"\\n                    href=\"/browsers/default.asp\"\\n                    title=\"Web Statistics\"\\n                  >\\n                    Web Statistics\\n                  </a>\\n                </div>\\n                <div data-name=\"web certificates\" data-category=\"web_building\">\\n                  <a\\n                    target=\"_blank\"\\n                    href=\"https://campus.w3schools.com\"\\n                    class=\"w3-bar-item w3-button ga-top-drop ga-top-drop-tut-certificates fixpaddingsmallmenu\"\\n                    title=\"Certificates\"\\n                  >\\n                    Web Certificates\\n                  </a>\\n                </div>\\n                <div data-name=\"web development\" data-category=\"web_building\">\\n                  <a\\n                    \\n                    class=\"w3-bar-item w3-button ga-top-drop ga-top-drop-tut-web-development fixpaddingsmallmenu\"\\n                    href=\"/whatis/default.asp\"\\n                    title=\"Web Development Roadmaps\"\\n                  >\\n                    Web Development\\n                  </a>\\n                </div>\\n                <div data-name=\"programming\" data-category=\"web_building\">\\n                  <a\\n                    \\n                    class=\"w3-bar-item w3-button ga-top-drop ga-top-drop-tut-programming fixpaddingsmallmenu\"\\n                    href=\"/programming/index.php\"\\n                    title=\"Introduction to Programming\"\\n                  >\\n                    Introduction to Programming\\n                  </a>\\n                </div>\\n                <div data-name=\"code editor\" data-category=\"web_building\">\\n                  <a\\n                    \\n                    class=\"w3-bar-item w3-button ga-top-drop ga-top-drop-tut-code-editor fixpaddingsmallmenu\"\\n                    href=\"/tryit/default.asp\"\\n                    title=\"Try it - Code Editor\"\\n                  >\\n                    Code Editor\\n                  </a>\\n                </div>\\n                <div\\n                  data-name=\"test your typing speed\"\\n                  data-category=\"web_building\"\\n                >\\n                  <a\\n                    \\n                    class=\"w3-bar-item w3-button ga-top-drop ga-top-drop-tut-typingspeed fixpaddingsmallmenu\"\\n                    href=\"/typingspeed/default.asp\"\\n                    title=\"Test Your Typing Speed\"\\n                  >\\n                    Test Your Typing Speed\\n                  </a>\\n                </div>\\n                <div data-name=\"play a code game\" data-category=\"web_building\">\\n                  <a\\n                    \\n                    class=\"w3-bar-item w3-button ga-top-drop ga-top-drop-tut-codegame fixpaddingsmallmenu\"\\n                    href=\"/codegame/index.html\"\\n                    title=\"Play a Code Game\"\\n                  >\\n                    Play a Code Game\\n                  </a>\\n                </div>\\n                <div data-name=\"cyber security\" data-category=\"web_building\">\\n                  <a\\n                    \\n                    class=\"w3-bar-item w3-button ga-top-drop ga-top-drop-tut-cybersec fixpaddingsmallmenu\"\\n                    href=\"/cybersecurity/index.php\"\\n                    title=\"Cyber Security Tutorial\"\\n                  >\\n                    Cyber Security\\n                  </a>\\n                </div>\\n                <div data-name=\"accessibility\" data-category=\"web_building\">\\n                  <a\\n                    \\n                    class=\"w3-bar-item w3-button ga-top-drop ga-top-drop-tut-accessi fixpaddingsmallmenu\"\\n                    href=\"/accessibility/index.php\"\\n                    title=\"Accessibility Security Tutorial\"\\n                  >\\n                    Accessibility\\n                  </a>\\n                </div>\\n                <div\\n                  data-name=\"join our newsletter\"\\n                  data-category=\"web_building\"\\n                >\\n                  <a\\n                    target=\"_blank\"\\n                    href=\"https://campus.w3schools.com/pages/newsletter\"\\n                    class=\"w3-bar-item w3-button ga-top-drop ga-top-drop-tut-newsletter fixpaddingsmallmenu\"\\n                    title=\"W3Schools Newsletter\"\\n                  >\\n                    Join our Newsletter\\n                  </a>\\n                </div>\\n              </div>\\n            </div>\\n            <br />\\n          </div>\\n        </div>\\n\\n        <div\\n          class=\"w3-button tnb-close-nav-btn w3-round\"\\n          tabindex=\"0\"\\n          onclick=\"TopNavBar.closeNavItem(\\'tutorials\\')\"\\n          onkeydown=\"TopNavBar.mouseHandler(event, this, \\'tutorials\\')\"\\n          role=\"button\"\\n          aria-label=\"Close navigation\"\\n        >\\n          <span>&times;</span>\\n        </div>\\n      </nav>\\n\\n      <nav\\n        id=\"nav_exercises\"\\n        class=\"dropdown-nav w3-hide-small navex\"\\n        tabindex=\"-1\"\\n        aria-label=\"Exercises menu\"\\n      >\\n        <div class=\"w3-content menu-content\">\\n          <div id=\"exercises_list\" class=\"w3-row-padding w3-bar-block\">\\n            <div class=\"nav-heading-container w3-container\">\\n              <div class=\"nav-heading-container-title\">\\n                <h2 style=\"color: #fff4a3\"><b>Exercises</b></h2>\\n              </div>\\n              <div data-section=\"exercises\" class=\"filter-input-wrapper\">\\n                <div class=\"filter-input-inner-wrapper\">\\n                  <label for=\"filter-exercises-input\" class=\"tnb-soft-hide\">\\n                    Excercises filter input\\n                  </label>\\n                  <input\\n                    id=\"filter-exercises-input\"\\n                    oninput=\"TopNavBar.filter(event, \\'nav_exercises\\')\"\\n                    type=\"text\"\\n                    class=\"filter-input\"\\n                    placeholder=\"Filter...\"\\n                    aria-label=\"Exercises filter bar\"\\n                  />\\n\\n                  <div\\n                    class=\"filter-clear-btn tnb-button-dark-v2\"\\n                    role=\"button\"\\n                    aria-label=\"Filter clear button\"\\n                    onclick=\"TopNavBar.clearFilter(event, \\'nav_exercises\\')\"\\n                  >\\n                    <span>&times;</span>\\n                  </div>\\n                </div>\\n              </div>\\n            </div>\\n\\n            <div class=\"w3-col l4 m6\">\\n              <div id=\"exercises_html_css_links_list\">\\n                <h3\\n                  class=\"tnb-nav-section-title\"\\n                  data-heading=\"html_and_css_title\"\\n                >\\n                  HTML and CSS\\n                </h3>\\n                <div data-name=\"html\" data-category=\"html_and_css\">\\n                  <a\\n                    \\n                    class=\"w3-bar-item w3-button acctop-link ga-top-drop ga-top-drop-ex-html\"\\n                    href=\"/html/html_exercises.asp\"\\n                    title=\"HTML Exercises\"\\n                  >\\n                    HTML\\n                  </a>\\n                  <a\\n                    \\n                    class=\"ws-btn acclink-text ga-top-drop ga-top-drop-ex-html\"\\n                    href=\"/html/html_exercises.asp\"\\n                    title=\"HTML Exercises\"\\n                  >\\n                    Exercise\\n                  </a>\\n                  <a\\n                    \\n                    class=\"ws-btn acclink-text ga-top-drop ga-top-drop-qz-html\"\\n                    href=\"/html/html_quiz.asp\"\\n                    title=\"HTML Quizzes\"\\n                  >\\n                    Quiz\\n                  </a>\\n                </div>\\n                <div data-name=\"css\" data-category=\"html_and_css\">\\n                  <a\\n                    \\n                    class=\"w3-bar-item w3-button acctop-link ga-top-drop ga-top-drop-ex-css\"\\n                    href=\"/css/css_exercises.asp\"\\n                    title=\"CSS Exercises\"\\n                  >\\n                    CSS\\n                  </a>\\n                  <a\\n                    \\n                    class=\"ws-btn acclink-text ga-top-drop ga-top-drop-ex-css\"\\n                    href=\"/css/css_exercises.asp\"\\n                    title=\"CSS Exercises\"\\n                  >\\n                    Exercise\\n                  </a>\\n                  <a\\n                    \\n                    class=\"ws-btn acclink-text ga-top-drop ga-top-drop-qz-css\"\\n                    href=\"/css/css_quiz.asp\"\\n                    title=\"CSS Quizzes\"\\n                  >\\n                    Quiz\\n                  </a>\\n                </div>\\n                <div data-name=\"bootstrap3\" data-category=\"html_and_css\">\\n                  <a\\n                    \\n                    class=\"w3-bar-item w3-button acctop-link ga-top-drop ga-top-drop-ex-bs3\"\\n                    href=\"/bootstrap/bootstrap_exercises.asp\"\\n                    title=\"Bootstrap 3 Exercises\"\\n                  >\\n                    Bootstrap 3\\n                  </a>\\n                  <a\\n                    \\n                    class=\"ws-btn acclink-text ga-top-drop ga-top-drop-ex-bs3\"\\n                    href=\"/bootstrap/bootstrap_exercises.asp\"\\n                    title=\"Bootstrap 3 Exercises\"\\n                  >\\n                    Exercise\\n                  </a>\\n                  <a\\n                    \\n                    class=\"ws-btn acclink-text ga-top-drop ga-top-drop-qz-bs3\"\\n                    href=\"/bootstrap/bootstrap_quiz.asp\"\\n                    title=\"Bootstrap 3 Quizzes\"\\n                  >\\n                    Quiz\\n                  </a>\\n                </div>\\n                <div data-name=\"bootstrap4\" data-category=\"html_and_css\">\\n                  <a\\n                    \\n                    class=\"w3-bar-item w3-button acctop-link ga-top-drop ga-top-drop-ex-bs4\"\\n                    href=\"/bootstrap4/bootstrap_exercises.asp\"\\n                    title=\"Bootstrap 4 Exercises\"\\n                  >\\n                    Bootstrap 4\\n                  </a>\\n                  <a\\n                    \\n                    class=\"ws-btn acclink-text ga-top-drop ga-top-drop-ex-bs4\"\\n                    href=\"/bootstrap4/bootstrap_exercises.asp\"\\n                    title=\"Bootstrap 4 Exercises\"\\n                  >\\n                    Exercise\\n                  </a>\\n                  <a\\n                    \\n                    class=\"ws-btn acclink-text ga-top-drop ga-top-drop-qz-bs4\"\\n                    href=\"/bootstrap4/bootstrap_quiz.asp\"\\n                    title=\"Bootstrap 4 Quizzes\"\\n                  >\\n                    Quiz\\n                  </a>\\n                </div>\\n                <div data-name=\"bootstrap5\" data-category=\"html_and_css\">\\n                  <a\\n                    \\n                    class=\"w3-bar-item w3-button acctop-link ga-top-drop ga-top-drop-ex-bs5\"\\n                    href=\"/bootstrap5/bootstrap_exercises.php\"\\n                    title=\"Bootstrap 5 Exercises\"\\n                  >\\n                    Bootstrap 5\\n                  </a>\\n                  <a\\n                    \\n                    class=\"ws-btn acclink-text ga-top-drop ga-top-drop-ex-bs5\"\\n                    href=\"/bootstrap5/bootstrap_exercises.php\"\\n                    title=\"Bootstrap 5 Exercises\"\\n                  >\\n                    Exercise\\n                  </a>\\n                  <a\\n                    \\n                    class=\"ws-btn acclink-text ga-top-drop ga-top-drop-qz-bs5\"\\n                    href=\"/bootstrap5/bootstrap_quiz.php\"\\n                    title=\"Bootstrap 5 Quizzes\"\\n                  >\\n                    Quiz\\n                  </a>\\n                </div>\\n              </div>\\n              <div\\n                class=\"w3-hide-small\"\\n                id=\"exercises_data_analytics_links_list_desktop\"\\n              >\\n                <h3\\n                  class=\"tnb-nav-section-title\"\\n                  data-heading=\"data_analytics_title\"\\n                >\\n                  Data Analytics\\n                </h3>\\n                <div data-name=\"dsa\" data-category=\"data_analytics\">\\n                  <a\\n                    \\n                    href=\"/dsa/dsa_exercises.php\"\\n                    class=\"w3-bar-item w3-button acctop-link ga-top-drop ga-top-drop-ex-dsa\"\\n                    title=\"DSA Exercises\"\\n                  >\\n                    DSA\\n                  </a>\\n                  <a\\n                    \\n                    href=\"/dsa/dsa_exercises.php\"\\n                    class=\"ws-btn acclink-text ga-top-drop ga-top-drop-ex-dsa\"\\n                    title=\"DSA Exercises\"\\n                  >\\n                    Exercise\\n                  </a>\\n                  <a\\n                    \\n                    href=\"/dsa/dsa_quiz.php\"\\n                    class=\"ws-btn acclink-text ga-top-drop ga-top-drop-qz-dsa\"\\n                    title=\"DSA Quizzes\"\\n                  >\\n                    Quiz\\n                  </a>\\n                </div>\\n                <div data-name=\"numpy\" data-category=\"data_analytics\">\\n                  <a\\n                    \\n                    class=\"w3-bar-item w3-button acctop-link ga-top-drop ga-top-drop-ex-numpy\"\\n                    href=\"/python/numpy/numpy_exercises.asp\"\\n                    title=\"NumPy Exercises\"\\n                  >\\n                    NumPy\\n                  </a>\\n                  <a\\n                    \\n                    class=\"ws-btn acclink-text ga-top-drop ga-top-drop-ex-numpy\"\\n                    href=\"/python/numpy/numpy_exercises.asp\"\\n                    title=\"NumPy Exercises\"\\n                  >\\n                    Exercise\\n                  </a>\\n                  <a\\n                    \\n                    class=\"ws-btn acclink-text ga-top-drop ga-top-drop-qz-numpy\"\\n                    href=\"/python/numpy/numpy_quiz.asp\"\\n                    title=\"NumPy Quizzes\"\\n                  >\\n                    Quiz\\n                  </a>\\n                </div>\\n                <div data-name=\"pandas\" data-category=\"data_analytics\">\\n                  <a\\n                    \\n                    class=\"w3-bar-item w3-button acctop-link ga-top-drop ga-top-drop-ex-pandas\"\\n                    href=\"/python/pandas/pandas_exercises.asp\"\\n                    title=\"Pandas Exercises\"\\n                  >\\n                    Pandas\\n                  </a>\\n                  <a\\n                    \\n                    class=\"ws-btn acclink-text ga-top-drop ga-top-drop-ex-pandas\"\\n                    href=\"/python/pandas/pandas_exercises.asp\"\\n                    title=\"Pandas Exercises\"\\n                  >\\n                    Exercise\\n                  </a>\\n                  <a\\n                    \\n                    class=\"ws-btn acclink-text ga-top-drop ga-top-drop-qz-pandas\"\\n                    href=\"/python/pandas/pandas_quiz.asp\"\\n                    title=\"Pandas Quizzes\"\\n                  >\\n                    Quiz\\n                  </a>\\n                </div>\\n                <div data-name=\"scipy\" data-category=\"data_analytics\">\\n                  <a\\n                    \\n                    class=\"w3-bar-item w3-button acctop-link ga-top-drop ga-top-drop-ex-scipy\"\\n                    href=\"/python/scipy/scipy_exercises.php\"\\n                    title=\"SciPy Exercises\"\\n                  >\\n                    SciPy\\n                  </a>\\n                  <a\\n                    \\n                    class=\"ws-btn acclink-text ga-top-drop ga-top-drop-ex-scipy\"\\n                    href=\"/python/scipy/scipy_exercises.php\"\\n                    title=\"SciPy Exercises\"\\n                  >\\n                    Exercise\\n                  </a>\\n                  <a\\n                    \\n                    class=\"ws-btn acclink-text ga-top-drop ga-top-drop-qz-scipy\"\\n                    href=\"/python/scipy/scipy_quiz.php\"\\n                    title=\"SciPy Quizzes\"\\n                  >\\n                    Quiz\\n                  </a>\\n                </div>\\n                <div data-name=\"excel\" data-category=\"data_analytics\">\\n                  <a\\n                    \\n                    class=\"w3-bar-item w3-button acctop-link ga-top-drop ga-top-drop-ex-excel\"\\n                    href=\"/excel/excel_exercises.php\"\\n                    title=\"Excel Exercises\"\\n                  >\\n                    Excel\\n                  </a>\\n                  <a\\n                    \\n                    class=\"ws-btn acclink-text ga-top-drop ga-top-drop-ex-excel\"\\n                    href=\"/excel/excel_exercises.php\"\\n                    title=\"Excel Exercises\"\\n                  >\\n                    Exercise\\n                  </a>\\n                </div>\\n                <div class=\"black-box-container\">\\n                  <a\\n                    \\n                    class=\"w3-bar-item w3-button ga-top-drop w3-center w3-round ga-top-drop-exercises\"\\n                    href=\"/exercises/index.php\"\\n                    title=\"W3Schools Exercises\"\\n                    style=\"\\n                      display: block;\\n                      background-color: #21232c;\\n                      border: 1px solid grey;\\n                      width: 195px;\\n                      margin-bottom: 16px;\\n                    \"\\n                  >\\n                    What is an Exercise?\\n                  </a>\\n                  <a\\n                    \\n                    class=\"w3-bar-item w3-button ga-top-drop w3-center w3-round ga-top-drop-quiztest\"\\n                    href=\"/quiztest/default.asp\"\\n                    title=\"W3Schools Quizzes\"\\n                    style=\"\\n                      display: block;\\n                      background-color: #21232c;\\n                      border: 1px solid grey;\\n                      width: 195px;\\n                    \"\\n                  >\\n                    What is a Quiz?\\n                  </a>\\n                </div>\\n              </div>\\n            </div>\\n\\n            <div class=\"w3-col l4 m6\" id=\"exercises_javascript_links_list\">\\n              <h3 class=\"tnb-nav-section-title\" data-heading=\"javascript_title\">\\n                JavaScript\\n              </h3>\\n              <div data-name=\"javascript\" data-category=\"javascript\">\\n                <a\\n                  \\n                  class=\"w3-bar-item w3-button acctop-link ga-top-drop ga-top-drop-ex-js\"\\n                  href=\"/js/js_exercises.asp\"\\n                  title=\"JavaScript Exercises\"\\n                >\\n                  JavaScript\\n                </a>\\n                <a\\n                  \\n                  class=\"ws-btn acclink-text ga-top-drop ga-top-drop-ex-js\"\\n                  href=\"/js/js_exercises.asp\"\\n                  title=\"JavaScript Exercises\"\\n                >\\n                  Exercise\\n                </a>\\n                <a\\n                  \\n                  class=\"ws-btn acclink-text ga-top-drop ga-top-drop-qz-js\"\\n                  href=\"/js/js_quiz.asp\"\\n                  title=\"JavaScript Quizzes\"\\n                >\\n                  Quiz\\n                </a>\\n              </div>\\n              <div data-name=\"react\" data-category=\"javascript\">\\n                <a\\n                  \\n                  class=\"w3-bar-item w3-button acctop-link ga-top-drop ga-top-drop-ex-react\"\\n                  href=\"/react/react_exercises.asp\"\\n                  title=\"React Exercises\"\\n                >\\n                  React\\n                </a>\\n                <a\\n                  \\n                  class=\"ws-btn acclink-text ga-top-drop ga-top-drop-ex-react\"\\n                  href=\"/react/react_exercises.asp\"\\n                  title=\"React Exercises\"\\n                >\\n                  Exercise\\n                </a>\\n                <a\\n                  \\n                  class=\"ws-btn acclink-text ga-top-drop ga-top-drop-qz-react\"\\n                  href=\"/react/react_quiz.asp\"\\n                  title=\"React Quizzes\"\\n                >\\n                  Quiz\\n                </a>\\n              </div>\\n              <div data-name=\"jquery\" data-category=\"javascript\">\\n                <a\\n                  \\n                  class=\"w3-bar-item w3-button acctop-link ga-top-drop ga-top-drop-ex-jquery\"\\n                  href=\"/jquery/jquery_exercises.asp\"\\n                  title=\"jQuery Exercises\"\\n                >\\n                  jQuery\\n                </a>\\n                <a\\n                  \\n                  class=\"ws-btn acclink-text ga-top-drop ga-top-drop-ex-jquery\"\\n                  href=\"/jquery/jquery_exercises.asp\"\\n                  title=\"jQuery Exercises\"\\n                >\\n                  Exercise\\n                </a>\\n                <a\\n                  \\n                  class=\"ws-btn acclink-text ga-top-drop ga-top-drop-qz-jquery\"\\n                  href=\"/jquery/jquery_quiz.asp\"\\n                  title=\"jQuery Quizzes\"\\n                >\\n                  Quiz\\n                </a>\\n              </div>\\n              <div data-name=\"vue\" data-category=\"javascript\">\\n                <a\\n                  \\n                  class=\"w3-bar-item w3-button acctop-link ga-top-drop ga-top-drop-ex-vue\"\\n                  href=\"/vue/vue_exercises.php\"\\n                  title=\"Vue Exercises\"\\n                >\\n                  Vue\\n                </a>\\n                <a\\n                  \\n                  class=\"ws-btn acclink-text ga-top-drop ga-top-drop-ex-vue\"\\n                  href=\"/vue/vue_exercises.php\"\\n                  title=\"Vue Exercises\"\\n                >\\n                  Exercise\\n                </a>\\n                <a\\n                  \\n                  class=\"ws-btn acclink-text ga-top-drop ga-top-drop-qz-vue\"\\n                  href=\"/vue/vue_quiz.php\"\\n                  title=\"Vue Quizzes\"\\n                >\\n                  Quiz\\n                </a>\\n              </div>\\n            </div>\\n\\n            <div class=\"w3-col l4 m6\">\\n              <div id=\"exercises_backend_links_list\">\\n                <h3 class=\"tnb-nav-section-title\" data-heading=\"backend_title\">\\n                  Backend\\n                </h3>\\n                <div data-name=\"python\" data-category=\"backend\">\\n                  <a\\n                    \\n                    class=\"w3-bar-item w3-button acctop-link ga-top-drop ga-top-drop-ex-python\"\\n                    href=\"/python/python_exercises.asp\"\\n                    title=\"Python Exercises\"\\n                  >\\n                    Python\\n                  </a>\\n                  <a\\n                    \\n                    class=\"ws-btn acclink-text ga-top-drop ga-top-drop-ex-python\"\\n                    href=\"/python/python_exercises.asp\"\\n                    title=\"Python Exercises\"\\n                  >\\n                    Exercise\\n                  </a>\\n                  <a\\n                    \\n                    class=\"ws-btn acclink-text ga-top-drop ga-top-drop-qz-python\"\\n                    href=\"/python/python_quiz.asp\"\\n                    title=\"Python Quizzes\"\\n                  >\\n                    Quiz\\n                  </a>\\n                </div>\\n                <div data-name=\"sql\" data-category=\"backend\">\\n                  <a\\n                    \\n                    class=\"w3-bar-item w3-button acctop-link ga-top-drop ga-top-drop-ex-sql\"\\n                    href=\"/sql/sql_exercises.asp\"\\n                    title=\"SQL Exercises\"\\n                  >\\n                    SQL\\n                  </a>\\n                  <a\\n                    \\n                    class=\"ws-btn acclink-text ga-top-drop ga-top-drop-ex-sql\"\\n                    href=\"/sql/sql_exercises.asp\"\\n                    title=\"SQL Exercises\"\\n                  >\\n                    Exercise\\n                  </a>\\n                  <a\\n                    \\n                    class=\"ws-btn acclink-text ga-top-drop ga-top-drop-qz-sql\"\\n                    href=\"/sql/sql_quiz.asp\"\\n                    title=\"SQL Quizzes\"\\n                  >\\n                    Quiz\\n                  </a>\\n                </div>\\n                <div data-name=\"mysql\" data-category=\"backend\">\\n                  <a\\n                    \\n                    class=\"w3-bar-item w3-button acctop-link ga-top-drop ga-top-drop-ex-mysql\"\\n                    href=\"/mysql/mysql_exercises.asp\"\\n                    title=\"MySQL Exercises\"\\n                  >\\n                    MySQL\\n                  </a>\\n                  <a\\n                    \\n                    class=\"ws-btn acclink-text ga-top-drop ga-top-drop-ex-mysql\"\\n                    href=\"/mysql/mysql_exercises.asp\"\\n                    title=\"MySQL Exercises\"\\n                  >\\n                    Exercise\\n                  </a>\\n                  <a\\n                    \\n                    class=\"ws-btn acclink-text ga-top-drop ga-top-drop-qz-mysql\"\\n                    href=\"/mysql/mysql_quiz.asp\"\\n                    title=\"MySQL Quizzes\"\\n                  >\\n                    Quiz\\n                  </a>\\n                </div>\\n                <div data-name=\"php\" data-category=\"backend\">\\n                  <a\\n                    \\n                    class=\"w3-bar-item w3-button acctop-link ga-top-drop ga-top-drop-ex-php\"\\n                    href=\"/php/php_exercises.asp\"\\n                    title=\"PHP Exercises\"\\n                  >\\n                    PHP\\n                  </a>\\n                  <a\\n                    \\n                    class=\"ws-btn acclink-text ga-top-drop ga-top-drop-ex-php\"\\n                    href=\"/php/php_exercises.asp\"\\n                    title=\"PHP Exercises\"\\n                  >\\n                    Exercise\\n                  </a>\\n                  <a\\n                    \\n                    class=\"ws-btn acclink-text ga-top-drop ga-top-drop-qz-php\"\\n                    href=\"/php/php_quiz.asp\"\\n                    title=\"PHP Quizzes\"\\n                  >\\n                    Quiz\\n                  </a>\\n                </div>\\n                <div data-name=\"java\" data-category=\"backend\">\\n                  <a\\n                    \\n                    class=\"w3-bar-item w3-button acctop-link ga-top-drop ga-top-drop-ex-java\"\\n                    href=\"/java/java_exercises.asp\"\\n                    title=\"Java Exercises\"\\n                  >\\n                    Java\\n                  </a>\\n                  <a\\n                    \\n                    class=\"ws-btn acclink-text ga-top-drop ga-top-drop-ex-java\"\\n                    href=\"/java/java_exercises.asp\"\\n                    title=\"Java Exercises\"\\n                  >\\n                    Exercise\\n                  </a>\\n                  <a\\n                    \\n                    class=\"ws-btn acclink-text ga-top-drop ga-top-drop-qz-java\"\\n                    href=\"/java/java_quiz.asp\"\\n                    title=\"Java Quizzes\"\\n                  >\\n                    Quiz\\n                  </a>\\n                </div>\\n                <div data-name=\"c\" data-category=\"backend\">\\n                  <a\\n                    \\n                    class=\"w3-bar-item w3-button acctop-link ga-top-drop ga-top-drop-ex-c\"\\n                    href=\"/c/c_exercises.php\"\\n                    title=\"C Exercises\"\\n                  >\\n                    C\\n                  </a>\\n                  <a\\n                    \\n                    class=\"ws-btn acclink-text ga-top-drop ga-top-drop-ex-c\"\\n                    href=\"/c/c_exercises.php\"\\n                    title=\"C Exercises\"\\n                  >\\n                    Exercise\\n                  </a>\\n                  <a\\n                    \\n                    class=\"ws-btn acclink-text ga-top-drop ga-top-drop-qz-c\"\\n                    href=\"/c/c_quiz.php\"\\n                    title=\"C Quizzes\"\\n                  >\\n                    Quiz\\n                  </a>\\n                </div>\\n                <div data-name=\"c++\" data-category=\"backend\">\\n                  <a\\n                    \\n                    class=\"w3-bar-item w3-button acctop-link ga-top-drop ga-top-drop-ex-cpp\"\\n                    href=\"/cpp/cpp_exercises.asp\"\\n                    title=\"C++ Exercises\"\\n                  >\\n                    C++\\n                  </a>\\n                  <a\\n                    \\n                    class=\"ws-btn acclink-text ga-top-drop ga-top-drop-ex-cpp\"\\n                    href=\"/cpp/cpp_exercises.asp\"\\n                    title=\"C++ Exercises\"\\n                  >\\n                    Exercise\\n                  </a>\\n                  <a\\n                    \\n                    class=\"ws-btn acclink-text ga-top-drop ga-top-drop-qz-cpp\"\\n                    href=\"/cpp/cpp_quiz.asp\"\\n                    title=\"C++ Quizzes\"\\n                  >\\n                    Quiz\\n                  </a>\\n                </div>\\n                <div data-name=\"c#\" data-category=\"backend\">\\n                  <a\\n                    \\n                    class=\"w3-bar-item w3-button acctop-link ga-top-drop ga-top-drop-ex-cs\"\\n                    href=\"/cs/cs_exercises.php\"\\n                    title=\"C# Exercises\"\\n                  >\\n                    C#\\n                  </a>\\n                  <a\\n                    \\n                    class=\"ws-btn acclink-text ga-top-drop ga-top-drop-ex-cs\"\\n                    href=\"/cs/cs_exercises.php\"\\n                    title=\"C# Exercises\"\\n                  >\\n                    Exercise\\n                  </a>\\n                  <a\\n                    \\n                    class=\"ws-btn acclink-text ga-top-drop ga-top-drop-qz-cs\"\\n                    href=\"/cs/cs_quiz.php\"\\n                    title=\"C# Quizzes\"\\n                  >\\n                    Quiz\\n                  </a>\\n                </div>\\n                <div data-name=\"r\" data-category=\"backend\">\\n                  <a\\n                    \\n                    class=\"w3-bar-item w3-button acctop-link ga-top-drop ga-top-drop-ex-r\"\\n                    href=\"/r/r_exercises.asp\"\\n                    title=\"R Exercises\"\\n                  >\\n                    R\\n                  </a>\\n                  <a\\n                    \\n                    class=\"ws-btn acclink-text ga-top-drop ga-top-drop-ex-r\"\\n                    href=\"/r/r_exercises.asp\"\\n                    title=\"R Exercises\"\\n                  >\\n                    Exercise\\n                  </a>\\n                  <a\\n                    \\n                    class=\"ws-btn acclink-text ga-top-drop ga-top-drop-qz-r\"\\n                    href=\"/r/r_quiz.asp\"\\n                    title=\"R Quizzes\"\\n                  >\\n                    Quiz\\n                  </a>\\n                </div>\\n                <div data-name=\"kotlin\" data-category=\"backend\">\\n                  <a\\n                    \\n                    class=\"w3-bar-item w3-button acctop-link ga-top-drop ga-top-drop-ex-kotlin\"\\n                    href=\"/kotlin/kotlin_exercises.php\"\\n                    title=\"Kotlin Exercises\"\\n                  >\\n                    Kotlin\\n                  </a>\\n                  <a\\n                    \\n                    class=\"ws-btn acclink-text ga-top-drop ga-top-drop-ex-kotlin\"\\n                    href=\"/kotlin/kotlin_exercises.php\"\\n                    title=\"Kotlin Exercises\"\\n                  >\\n                    Exercise\\n                  </a>\\n                  <a\\n                    \\n                    class=\"ws-btn acclink-text ga-top-drop ga-top-drop-qz-kotlin\"\\n                    href=\"/kotlin/kotlin_quiz.php\"\\n                    title=\"Kotlin Quizzes\"\\n                  >\\n                    Quiz\\n                  </a>\\n                </div>\\n                <div data-name=\"django\" data-category=\"backend\">\\n                  <a\\n                    \\n                    class=\"w3-bar-item w3-button acctop-link ga-top-drop ga-top-drop-ex-django\"\\n                    href=\"/django/django_exercises.php\"\\n                    title=\"Django Exercises\"\\n                  >\\n                    Django\\n                  </a>\\n                  <a\\n                    \\n                    class=\"ws-btn acclink-text ga-top-drop ga-top-drop-ex-django\"\\n                    href=\"/django/django_exercises.php\"\\n                    title=\"Django Exercises\"\\n                  >\\n                    Exercise\\n                  </a>\\n                  <a\\n                    \\n                    class=\"ws-btn acclink-text ga-top-drop ga-top-drop-qz-django\"\\n                    href=\"/django/django_quiz.php\"\\n                    title=\"Django Quizzes\"\\n                  >\\n                    Quiz\\n                  </a>\\n                </div>\\n                <div data-name=\"nodejs\" data-category=\"backend\">\\n                  <a\\n                    \\n                    class=\"w3-bar-item w3-button acctop-link ga-top-drop ga-top-drop-ex-nodejs\"\\n                    href=\"/nodejs/nodejs_exercises.asp\"\\n                    title=\"Node.js Exercises\"\\n                  >\\n                    Node.js\\n                  </a>\\n                  <a\\n                    \\n                    class=\"ws-btn acclink-text ga-top-drop ga-top-drop-ex-nodejs\"\\n                    href=\"/nodejs/nodejs_exercises.asp\"\\n                    title=\"Node.js Exercises\"\\n                  >\\n                    Exercise\\n                  </a>\\n                  <a\\n                    \\n                    class=\"ws-btn acclink-text ga-top-drop ga-top-drop-qz-nodejs\"\\n                    href=\"/nodejs/nodejs_quiz.asp\"\\n                    title=\"Node.js Quizzes\"\\n                  >\\n                    Quiz\\n                  </a>\\n                </div>\\n                <div data-name=\"postgresql\" data-category=\"backend\">\\n                  <a\\n                    \\n                    href=\"/postgresql/postgresql_exercises.php\"\\n                    class=\"w3-bar-item w3-button acctop-link ga-top-drop ga-top-drop-ex-postgresql\"\\n                    title=\"PostgreSQL Exercises\"\\n                  >\\n                    PostgreSQL\\n                  </a>\\n                  <a\\n                    \\n                    href=\"/postgresql/postgresql_exercises.php\"\\n                    class=\"ws-btn acclink-text ga-top-drop ga-top-drop-ex-postgresql\"\\n                    title=\"PostgreSQL Exercises\"\\n                  >\\n                    Exercise\\n                  </a>\\n                  <a\\n                    \\n                    href=\"/postgresql/postgresql_quiz.php\"\\n                    class=\"ws-btn acclink-text ga-top-drop ga-top-drop-qz-postgresql\"\\n                    title=\"PostgreSQL Quizzes\"\\n                  >\\n                    Quiz\\n                  </a>\\n                </div>\\n                <div data-name=\"typescript\" data-category=\"backend\">\\n                  <a\\n                    \\n                    class=\"w3-bar-item w3-button acctop-link ga-top-drop ga-top-drop-ex-typescript\"\\n                    href=\"/typescript/typescript_exercises.php\"\\n                    title=\"TypeScript Exercises\"\\n                  >\\n                    TypeScript\\n                  </a>\\n                  <a\\n                    \\n                    class=\"ws-btn acclink-text ga-top-drop ga-top-drop-ex-typescript\"\\n                    href=\"/typescript/typescript_exercises.php\"\\n                    title=\"TypeScript Exercises\"\\n                  >\\n                    Exercise\\n                  </a>\\n                  <a\\n                    \\n                    class=\"ws-btn acclink-text ga-top-drop ga-top-drop-qz-typescript\"\\n                    href=\"/typescript/typescript_quiz.php\"\\n                    title=\"TypeScript Quizzes\"\\n                  >\\n                    Quiz\\n                  </a>\\n                </div>\\n                <div data-name=\"git\" data-category=\"backend\">\\n                  <a\\n                    \\n                    class=\"w3-bar-item w3-button acctop-link ga-top-drop ga-top-drop-ex-git\"\\n                    href=\"/git/git_exercises.asp\"\\n                    title=\"Git Exercises\"\\n                  >\\n                    Git\\n                  </a>\\n                  <a\\n                    \\n                    class=\"ws-btn acclink-text ga-top-drop ga-top-drop-ex-git\"\\n                    href=\"/git/git_exercises.asp\"\\n                    title=\"Git Exercises\"\\n                  >\\n                    Exercise\\n                  </a>\\n                  <a\\n                    \\n                    class=\"ws-btn acclink-text ga-top-drop ga-top-drop-qz-git\"\\n                    href=\"/git/git_quiz.asp\"\\n                    title=\"Git Quizzes\"\\n                  >\\n                    Quiz\\n                  </a>\\n                </div>\\n                <div data-name=\"bash\" data-category=\"backend\">\\n                  <a\\n                    \\n                    class=\"w3-bar-item w3-button acctop-link ga-top-drop ga-top-drop-ex-bash\"\\n                    href=\"/bash/bash_exercises.php\"\\n                    title=\"Bash Exercises\"\\n                  >\\n                    Bash\\n                  </a>\\n                  <a\\n                    \\n                    class=\"ws-btn acclink-text ga-top-drop ga-top-drop-ex-bash\"\\n                    href=\"/bash/bash_exercises.php\"\\n                    title=\"Bash Exercises\"\\n                  >\\n                    Exercise\\n                  </a>\\n                  <a\\n                    \\n                    class=\"ws-btn acclink-text ga-top-drop ga-top-drop-qz-bash\"\\n                    href=\"/bash/bash_quiz.php\"\\n                    title=\"Bash Quizzes\"\\n                  >\\n                    Quiz\\n                  </a>\\n                </div>\\n                <div data-name=\"go\" data-category=\"backend\">\\n                  <a\\n                    \\n                    class=\"w3-bar-item w3-button acctop-link ga-top-drop ga-top-drop-ex-go\"\\n                    href=\"/go/go_exercises.php\"\\n                    title=\"Go Exercises\"\\n                  >\\n                    Go\\n                  </a>\\n                  <a\\n                    \\n                    class=\"ws-btn acclink-text ga-top-drop ga-top-drop-ex-go\"\\n                    href=\"/go/go_exercises.php\"\\n                    title=\"Go Exercises\"\\n                  >\\n                    Exercise\\n                  </a>\\n                </div>\\n                <div data-name=\"mongodb\" data-category=\"backend\">\\n                  <a\\n                    \\n                    class=\"w3-bar-item w3-button acctop-link ga-top-drop ga-top-drop-ex-mongodb\"\\n                    href=\"/mongodb/mongodb_exercises.php\"\\n                    title=\"MongoDB Exercises\"\\n                  >\\n                    MongoDB\\n                  </a>\\n                  <a\\n                    \\n                    class=\"ws-btn acclink-text ga-top-drop ga-top-drop-ex-mongodb\"\\n                    href=\"/mongodb/mongodb_exercises.php\"\\n                    title=\"MongoDB Exercises\"\\n                  >\\n                    Exercise\\n                  </a>\\n                </div>\\n                <!--\\n                <div\\n                  data-name=\"aws cloud\"\\n                  data-category=\"backend\"\\n                >\\n                  <a\\n                    \\n                    class=\"w3-bar-item w3-button acctop-link ga-top-drop ga-top-drop-ex-aws-cloud\"\\n                    href=\"/aws/aws_exercises.php\"\\n                    title=\"AWS Cloud Exercises\"\\n                  >\\n                    AWS Cloud\\n                  </a>\\n                  <a\\n                    \\n                    class=\"ws-btn acclink-text ga-top-drop ga-top-drop-ex-aws-cloud\"\\n                    href=\"/aws/aws_exercises.php\"\\n                    title=\"AWS Cloud Exercises\"\\n                  >\\n                    Exercise\\n                  </a>\\n                  <a\\n                    \\n                    class=\"ws-btn acclink-text ga-top-drop ga-top-drop-qz-aws-cloud\"\\n                    href=\"/aws/aws_quiz.php\"\\n                    title=\"AWS Cloud Quizzes\"\\n                  >\\n                    Quiz\\n                  </a>\\n                </div>\\n                -->\\n              </div>\\n              <div\\n                class=\"w3-hide-large w3-hide-medium\"\\n                id=\"exercises_data_analytics_links_list\"\\n              >\\n                <h3\\n                  class=\"tnb-nav-section-title\"\\n                  data-heading=\"data_analytics_title\"\\n                >\\n                  Data Analytics\\n                </h3>\\n                <div data-name=\"dsa\" data-category=\"data_analytics\">\\n                  <a\\n                    \\n                    href=\"/dsa/dsa_exercises.php\"\\n                    class=\"w3-bar-item w3-button acctop-link ga-top-drop ga-top-drop-ex-dsa\"\\n                    title=\"DSA Exercises\"\\n                  >\\n                    DSA\\n                  </a>\\n                  <a\\n                    \\n                    href=\"/dsa/dsa_exercises.php\"\\n                    class=\"ws-btn acclink-text ga-top-drop ga-top-drop-ex-dsa\"\\n                    title=\"DSA Exercises\"\\n                  >\\n                    Exercise\\n                  </a>\\n                  <a\\n                    \\n                    href=\"/dsa/dsa_quiz.php\"\\n                    class=\"ws-btn acclink-text ga-top-drop ga-top-drop-qz-dsa\"\\n                    title=\"DSA Quizzes\"\\n                  >\\n                    Quiz\\n                  </a>\\n                </div>\\n                <div data-name=\"numpy\" data-category=\"data_analytics\">\\n                  <a\\n                    \\n                    class=\"w3-bar-item w3-button acctop-link ga-top-drop ga-top-drop-ex-numpy\"\\n                    href=\"/python/numpy/numpy_exercises.asp\"\\n                    title=\"NumPy Exercises\"\\n                  >\\n                    NumPy\\n                  </a>\\n                  <a\\n                    \\n                    class=\"ws-btn acclink-text ga-top-drop ga-top-drop-ex-numpy\"\\n                    href=\"/python/numpy/numpy_exercises.asp\"\\n                    title=\"NumPy Exercises\"\\n                  >\\n                    Exercise\\n                  </a>\\n                  <a\\n                    \\n                    class=\"ws-btn acclink-text ga-top-drop ga-top-drop-qz-numpy\"\\n                    href=\"/python/numpy/numpy_quiz.asp\"\\n                    title=\"NumPy Quizzes\"\\n                  >\\n                    Quiz\\n                  </a>\\n                </div>\\n                <div data-name=\"pandas\" data-category=\"data_analytics\">\\n                  <a\\n                    \\n                    class=\"w3-bar-item w3-button acctop-link ga-top-drop ga-top-drop-ex-pandas\"\\n                    href=\"/python/pandas/pandas_exercises.asp\"\\n                    title=\"Pandas Exercises\"\\n                  >\\n                    Pandas\\n                  </a>\\n                  <a\\n                    \\n                    class=\"ws-btn acclink-text ga-top-drop ga-top-drop-ex-pandas\"\\n                    href=\"/python/pandas/pandas_exercises.asp\"\\n                    title=\"Pandas Exercises\"\\n                  >\\n                    Exercise\\n                  </a>\\n                  <a\\n                    \\n                    class=\"ws-btn acclink-text ga-top-drop ga-top-drop-qz-pandas\"\\n                    href=\"/python/pandas/pandas_quiz.asp\"\\n                    title=\"Pandas Quizzes\"\\n                  >\\n                    Quiz\\n                  </a>\\n                </div>\\n                <div data-name=\"scipy\" data-category=\"data_analytics\">\\n                  <a\\n                    \\n                    class=\"w3-bar-item w3-button acctop-link ga-top-drop ga-top-drop-ex-scipy\"\\n                    href=\"/python/scipy/scipy_exercises.php\"\\n                    title=\"SciPy Exercises\"\\n                  >\\n                    SciPy\\n                  </a>\\n                  <a\\n                    \\n                    class=\"ws-btn acclink-text ga-top-drop ga-top-drop-ex-scipy\"\\n                    href=\"/python/scipy/scipy_exercises.php\"\\n                    title=\"SciPy Exercises\"\\n                  >\\n                    Exercise\\n                  </a>\\n                  <a\\n                    \\n                    class=\"ws-btn acclink-text ga-top-drop ga-top-drop-qz-scipy\"\\n                    href=\"/python/scipy/scipy_quiz.php\"\\n                    title=\"SciPy Quizzes\"\\n                  >\\n                    Quiz\\n                  </a>\\n                </div>\\n                <div data-name=\"excel\" data-category=\"data_analytics\">\\n                  <a\\n                    \\n                    class=\"w3-bar-item w3-button acctop-link ga-top-drop ga-top-drop-ex-excel\"\\n                    href=\"/excel/excel_exercises.php\"\\n                    title=\"Excel Exercises\"\\n                  >\\n                    Excel\\n                  </a>\\n                  <a\\n                    \\n                    class=\"ws-btn acclink-text ga-top-drop ga-top-drop-ex-excel\"\\n                    href=\"/excel/excel_exercises.php\"\\n                    title=\"Excel Exercises\"\\n                  >\\n                    Exercise\\n                  </a>\\n                </div>\\n                <div class=\"black-box-container\">\\n                  <a\\n                    \\n                    class=\"w3-bar-item w3-button ga-top-drop w3-center w3-round ga-top-drop-exercises\"\\n                    href=\"/exercises/index.php\"\\n                    title=\"W3Schools Exercises\"\\n                    style=\"\\n                      display: block;\\n                      background-color: #21232c;\\n                      border: 1px solid grey;\\n                      width: 195px;\\n                      margin-bottom: 16px;\\n                    \"\\n                  >\\n                    What is an Exercise?\\n                  </a>\\n                  <a\\n                    \\n                    class=\"w3-bar-item w3-button ga-top-drop w3-center w3-round ga-top-drop-quiztest\"\\n                    href=\"/quiztest/default.asp\"\\n                    title=\"W3Schools Quizzes\"\\n                    style=\"\\n                      display: block;\\n                      background-color: #21232c;\\n                      border: 1px solid grey;\\n                      width: 195px;\\n                    \"\\n                  >\\n                    What is a Quiz?\\n                  </a>\\n                </div>\\n              </div>\\n            </div>\\n          </div>\\n          <br />\\n        </div>\\n\\n        <div\\n          class=\"w3-button tnb-close-nav-btn w3-round\"\\n          tabindex=\"0\"\\n          onclick=\"TopNavBar.closeNavItem(\\'exercises\\')\"\\n          onkeydown=\"TopNavBar.mouseHandler(event, this, \\'exercises\\')\"\\n          role=\"button\"\\n          aria-label=\"Close navigation\"\\n        >\\n          <span>&times;</span>\\n        </div>\\n      </nav>\\n\\n      <nav\\n        id=\"nav_certified\"\\n        class=\"dropdown-nav w3-hide-small navex\"\\n        tabindex=\"-1\"\\n        aria-label=\"Certification menu\"\\n      >\\n        <div class=\"w3-content menu-content\">\\n          <div id=\"certified_list\" class=\"w3-row-padding w3-bar-block\">\\n            <div class=\"nav-heading-container w3-container\">\\n              <div class=\"nav-heading-container-title\">\\n                <h2 style=\"color: #fff4a3\"><b>Certificates</b></h2>\\n              </div>\\n              <div data-section=\"certificates\" class=\"filter-input-wrapper\">\\n                <div class=\"filter-input-inner-wrapper\">\\n                  <label for=\"filter-certified-input\" class=\"tnb-soft-hide\">\\n                    Filter field for certifications\\n                  </label>\\n                  <input\\n                    id=\"filter-certified-input\"\\n                    oninput=\"TopNavBar.filter(event, \\'nav_certified\\')\"\\n                    type=\"text\"\\n                    class=\"filter-input\"\\n                    placeholder=\"Filter...\"\\n                    aria-label=\"Certificate filter bar\"\\n                  />\\n\\n                  <div\\n                    class=\"filter-clear-btn tnb-button-dark-v2\"\\n                    role=\"button\"\\n                    aria-label=\"Filter clear button\"\\n                    onclick=\"TopNavBar.clearFilter(event, \\'nav_certified\\')\"\\n                  >\\n                    <span>&times;</span>\\n                  </div>\\n                </div>\\n              </div>\\n            </div>\\n\\n            <div class=\"w3-col l4 m6\">\\n              <div id=\"certified_html_css_links_list\">\\n                <h3\\n                  class=\"tnb-nav-section-title\"\\n                  data-heading=\"html_and_css_title\"\\n                >\\n                  HTML and CSS\\n                </h3>\\n                <div data-name=\"html\" data-category=\"html_and_css\">\\n                  <a\\n                    target=\"_blank\"\\n                    href=\"https://campus.w3schools.com/collections/certifications/products/html-certificate\"\\n                    class=\"w3-bar-item w3-button acctop-link ga-top-drop ga-top-drop-cert-html\"\\n                    title=\"HTML Certification Exam\"\\n                  >\\n                    HTML\\n                  </a>\\n                  <a\\n                    target=\"_blank\"\\n                    href=\"https://campus.w3schools.com/collections/certifications/products/html-certificate\"\\n                    class=\"ws-btn acclink-text ga-top-drop ga-top-drop-cert-html\"\\n                    title=\"HTML Certification Exam\"\\n                  >\\n                    Certificate\\n                  </a>\\n                  <a\\n                    target=\"_blank\"\\n                    href=\"https://campus.w3schools.com/collections/course-catalog/products/html-course\"\\n                    class=\"ws-btn acclink-text ga-top-dropga-top-drop-course-html\"\\n                    title=\"Paid HTML Course\"\\n                  >\\n                    Course\\n                  </a>\\n                </div>\\n                <div data-name=\"css\" data-category=\"html_and_css\">\\n                  <a\\n                    target=\"_blank\"\\n                    href=\"https://campus.w3schools.com/collections/certifications/products/css-certificate\"\\n                    class=\"w3-bar-item w3-button acctop-link ga-top-drop ga-top-drop-cert-css\"\\n                    title=\"CSS Certification Exam\"\\n                  >\\n                    CSS\\n                  </a>\\n                  <a\\n                    target=\"_blank\"\\n                    href=\"https://campus.w3schools.com/collections/certifications/products/css-certificate\"\\n                    class=\"ws-btn acclink-text ga-top-drop ga-top-drop-cert-css\"\\n                    title=\"CSS Certification Exam\"\\n                  >\\n                    Certificate\\n                  </a>\\n                  <a\\n                    target=\"_blank\"\\n                    href=\"https://campus.w3schools.com/collections/course-catalog/products/css-course\"\\n                    class=\"ws-btn acclink-text ga-top-drop ga-top-drop-course-css\"\\n                    title=\"Paid CSS Course\"\\n                  >\\n                    Course\\n                  </a>\\n                </div>\\n                <div data-name=\"bootstrap\" data-category=\"html_and_css\">\\n                  <a\\n                    target=\"_blank\"\\n                    href=\"https://campus.w3schools.com/collections/certifications/products/bootstrap-3-certificate\"\\n                    class=\"w3-bar-item w3-button acctop-link ga-top-drop ga-top-drop-cert-bs3\"\\n                    title=\"Bootstrap 3 Certification Exam\"\\n                  >\\n                    Bootstrap 3\\n                  </a>\\n                  <a\\n                    target=\"_blank\"\\n                    href=\"https://campus.w3schools.com/collections/certifications/products/bootstrap-3-certificate\"\\n                    class=\"ws-btn acclink-text ga-top-drop ga-top-drop-cert-bs3\"\\n                    title=\"Bootstrap 3 Certification Exam\"\\n                  >\\n                    Certificate\\n                  </a>\\n                  <a\\n                    target=\"_blank\"\\n                    href=\"https://campus.w3schools.com/collections/single-courses/products/bootstrap-course\"\\n                    class=\"ws-btn acclink-text ga-top-drop ga-top-drop-course-bs3\"\\n                    title=\"Paid Bootstrap 3 Course\"\\n                  >\\n                    Course\\n                  </a>\\n                </div>\\n                <div data-name=\"bootstrap4\" data-category=\"html_and_css\">\\n                  <a\\n                    target=\"_blank\"\\n                    href=\"https://campus.w3schools.com/collections/certifications/products/bootstrap-4-certificate\"\\n                    class=\"w3-bar-item w3-button acctop-link ga-top-drop ga-top-drop-cert-bs4\"\\n                    title=\"Bootstrap 4 Certification Exam\"\\n                  >\\n                    Bootstrap 4\\n                  </a>\\n                  <a\\n                    target=\"_blank\"\\n                    href=\"https://campus.w3schools.com/collections/certifications/products/bootstrap-4-certificate\"\\n                    class=\"ws-btn acclink-text ga-top-drop ga-top-drop-cert-bs4\"\\n                    title=\"Bootstrap 4 Certification Exam\"\\n                  >\\n                    Certificate\\n                  </a>\\n                  <a\\n                    target=\"_blank\"\\n                    href=\"https://campus.w3schools.com/collections/single-courses/products/bootstrap-4-course\"\\n                    class=\"ws-btn acclink-text ga-top-drop ga-top-drop-course-bs4\"\\n                    title=\"Paid Bootstrap 4 Course\"\\n                  >\\n                    Course\\n                  </a>\\n                </div>\\n                <div data-name=\"bootstrap5\" data-category=\"html_and_css\">\\n                  <a\\n                    target=\"_blank\"\\n                    href=\"https://campus.w3schools.com/collections/certifications/products/bootstrap-5-certificate\"\\n                    class=\"w3-bar-item w3-button acctop-link ga-top-drop ga-top-drop-cert-bs5\"\\n                    title=\"Bootstrap 5 Certification Exam\"\\n                  >\\n                    Bootstrap 5\\n                  </a>\\n                  <a\\n                    target=\"_blank\"\\n                    href=\"https://campus.w3schools.com/collections/certifications/products/bootstrap-5-certificate\"\\n                    class=\"ws-btn acclink-text ga-top-drop ga-top-drop-cert-bs5\"\\n                    title=\"Bootstrap 5 Certification Exam\"\\n                  >\\n                    Certificate\\n                  </a>\\n                </div>\\n              </div>\\n\\n              <div\\n                id=\"certified_data_analytics_links_list_desktop\"\\n                class=\"w3-hide-small\"\\n              >\\n                <h3\\n                  class=\"tnb-nav-section-title\"\\n                  data-heading=\"data_analytics_title\"\\n                >\\n                  Data Analytics\\n                </h3>\\n                <div data-name=\"dsa\" data-category=\"data_analytics\">\\n                  <a\\n                    target=\"_blank\"\\n                    href=\"https://campus.w3schools.com/products/dsa-certification-exam\"\\n                    class=\"w3-bar-item w3-button acctop-link ga-top-drop ga-top-drop-cert-dsa\"\\n                    title=\"DSA Certificate Exam\"\\n                  >\\n                    DSA\\n                  </a>\\n                  <a\\n                    target=\"_blank\"\\n                    href=\"https://campus.w3schools.com/products/dsa-certification-exam\"\\n                    class=\"ws-btn acclink-text ga-top-drop ga-top-drop-cert-dsa\"\\n                    title=\"DSA Certificate Exam\"\\n                  >\\n                    Certificate\\n                  </a>\\n                </div>\\n                <div data-name=\"data analytics\" data-category=\"data_analytics\">\\n                  <a\\n                    target=\"_blank\"\\n                    href=\"https://campus.w3schools.com/products/data-analytics-program\"\\n                    class=\"w3-bar-item w3-button acctop-link ga-top-drop ga-top-drop-course-data-analytic\"\\n                    title=\"Paid Data Analytics Course\"\\n                  >\\n                    Data Analytics\\n                  </a>\\n                  <a\\n                    target=\"_blank\"\\n                    href=\"https://campus.w3schools.com/products/data-analytics-program\"\\n                    class=\"ws-btn acclink-text ga-top-drop ga-top-drop-course-data-analytic\"\\n                    title=\"Paid Data Analytics Course\"\\n                  >\\n                    Course\\n                  </a>\\n                </div>\\n                <div data-name=\"numpy\" data-category=\"data_analytics\">\\n                  <a\\n                    target=\"_blank\"\\n                    href=\"https://campus.w3schools.com/products/numpy-certification-exam\"\\n                    class=\"w3-bar-item w3-button acctop-link ga-top-drop ga-top-drop-cert-numpy\"\\n                    title=\"NumPy Certification Exam\"\\n                  >\\n                    NumPy\\n                  </a>\\n                  <a\\n                    target=\"_blank\"\\n                    href=\"https://campus.w3schools.com/products/numpy-certification-exam\"\\n                    class=\"ws-btn acclink-text ga-top-drop ga-top-drop-cert-numpy\"\\n                    title=\"NumPy Certification Exam\"\\n                  >\\n                    Certificate\\n                  </a>\\n                  <a\\n                    target=\"_blank\"\\n                    href=\"https://campus.w3schools.com/products/numpy-course\"\\n                    class=\"ws-btn acclink-text ga-top-drop ga-top-drop-course-numpy\"\\n                    title=\"Paid NumPy Course\"\\n                  >\\n                    Course\\n                  </a>\\n                </div>\\n                <div data-name=\"pandas\" data-category=\"data_analytics\">\\n                  <a\\n                    target=\"_blank\"\\n                    href=\"https://campus.w3schools.com/products/pandas-certification-exam\"\\n                    class=\"w3-bar-item w3-button acctop-link ga-top-drop ga-top-drop-cert-pandas\"\\n                    title=\"Pandas Certification Exam\"\\n                  >\\n                    Pandas\\n                  </a>\\n                  <a\\n                    target=\"_blank\"\\n                    href=\"https://campus.w3schools.com/products/pandas-certification-exam\"\\n                    class=\"ws-btn acclink-text ga-top-drop ga-top-drop-cert-pandas\"\\n                    title=\"Pandas Certification Exam\"\\n                  >\\n                    Certificate\\n                  </a>\\n                  <a\\n                    target=\"_blank\"\\n                    href=\"https://campus.w3schools.com/products/pandas-course\"\\n                    class=\"ws-btn acclink-text ga-top-drop ga-top-drop-course-pandas\"\\n                    title=\"Paid Pandas Course\"\\n                  >\\n                    Course\\n                  </a>\\n                </div>\\n                <div data-name=\"excel\" data-category=\"data_analytics\">\\n                  <a\\n                    target=\"_blank\"\\n                    href=\"https://campus.w3schools.com/products/excel-certificate\"\\n                    class=\"w3-bar-item w3-button acctop-link ga-top-drop ga-top-drop-cert-excel\"\\n                    title=\"Excel Certification Exam\"\\n                  >\\n                    Excel\\n                  </a>\\n                  <a\\n                    target=\"_blank\"\\n                    href=\"https://campus.w3schools.com/products/excel-certificate\"\\n                    class=\"ws-btn acclink-text ga-top-drop ga-top-drop-cert-excel\"\\n                    title=\"Excel Certification Exam\"\\n                  >\\n                    Certificate\\n                  </a>\\n                </div>\\n                <div data-name=\"social media\" data-category=\"data_analytics\">\\n                  <a\\n                    target=\"_blank\"\\n                    href=\"https://campus.w3schools.com/collections/course-best-sellers/products/social-media-marketing-course\"\\n                    class=\"w3-bar-item w3-button acctop-link ga-top-drop ga-top-drop-course-some\"\\n                    title=\"Paid Social Media Course\"\\n                  >\\n                    Social Media\\n                  </a>\\n                  <a\\n                    target=\"_blank\"\\n                    href=\"https://campus.w3schools.com/collections/course-best-sellers/products/social-media-marketing-course\"\\n                    class=\"ws-btn acclink-text ga-top-drop ga-top-drop-course-some\"\\n                    title=\"Paid Social Media Course\"\\n                  >\\n                    Course\\n                  </a>\\n                </div>\\n                <div class=\"black-box-container\">\\n                  <a\\n                    target=\"_blank\"\\n                    href=\"https://campus.w3schools.com\"\\n                    class=\"w3-bar-item w3-button ga-top-drop w3-center w3-round ga-top-drop-campus\"\\n                    title=\"W3Schools Campus\"\\n                    style=\"\\n                      display: block;\\n                      background-color: #21232c;\\n                      border: 1px solid grey;\\n                      width: 195px;\\n                      margin-bottom: 16px;\\n                    \"\\n                  >\\n                    What is a Certificate?\\n                  </a>\\n                </div>\\n              </div>\\n\\n              <div\\n                class=\"certified_programs_links_list w3-hide-large w3-hide-small\"\\n              >\\n                <h3 class=\"tnb-nav-section-title\" data-heading=\"programs_title\">\\n                  Programs\\n                </h3>\\n                <div data-name=\"full access\" data-category=\"programs\">\\n                  <a\\n                    target=\"_blank\"\\n                    href=\"https://campus.w3schools.com/collections/course-catalog/products/w3schools-full-access-course\"\\n                    class=\"w3-bar-item w3-button acctop-link ga-top-drop ga-top-drop-course-fullaccess\"\\n                    title=\"Paid Full Access Course\"\\n                  >\\n                    Full Access\\n                    <span\\n                      class=\"ribbon-topnav ws-green\"\\n                      style=\"font-size: 13px; font-weight: normal\"\\n                    >\\n                      Best Value!\\n                    </span>\\n                  </a>\\n                </div>\\n                <div data-name=\"front end\" data-category=\"programs\">\\n                  <a\\n                    target=\"_blank\"\\n                    href=\"https://campus.w3schools.com/collections/certifications/products/front-end-course\"\\n                    class=\"w3-bar-item w3-button acctop-link ga-top-drop ga-top-drop-cert-front-end\"\\n                    title=\"Paid Front End Course\"\\n                  >\\n                    Front End\\n                  </a>\\n                  <a\\n                    target=\"_blank\"\\n                    href=\"https://campus.w3schools.com/collections/certifications/products/front-end-certificate\"\\n                    class=\"ws-btn acclink-text ga-top-drop ga-top-drop-cert-front-end\"\\n                    title=\"Front End Certification Exam\"\\n                  >\\n                    Certificate\\n                  </a>\\n                  <a\\n                    target=\"_blank\"\\n                    href=\"https://campus.w3schools.com/collections/course-catalog/products/front-end-course\"\\n                    class=\"ws-btn acclink-text ga-top-drop ga-top-drop-course-front-end\"\\n                    title=\"Paid Front End Development Course\"\\n                  >\\n                    Course\\n                  </a>\\n                </div>\\n                <div data-name=\"web design\" data-category=\"programs\">\\n                  <a\\n                    target=\"_blank\"\\n                    href=\"https://campus.w3schools.com/collections/certifications/products/modern-web-development-certification\"\\n                    class=\"w3-bar-item w3-button acctop-link ga-top-drop ga-top-drop-cert-web-dev\"\\n                    title=\"Web Development Certification\"\\n                  >\\n                    Web Dev.\\n                  </a>\\n                  <a\\n                    target=\"_blank\"\\n                    href=\"https://campus.w3schools.com/collections/certifications/products/modern-web-development-certification\"\\n                    class=\"ws-btn acclink-text ga-top-drop ga-top-drop-cert-web-dev\"\\n                    title=\"Web Development Certification\"\\n                  >\\n                    Certificate\\n                  </a>\\n                  <a\\n                    target=\"_blank\"\\n                    href=\"https://campus.w3schools.com/collections/course-best-sellers/products/learn-modern-web-development\"\\n                    class=\"ws-btn acclink-text ga-top-drop ga-top-drop-course-web-dev\"\\n                    title=\"Paid Web Development Course\"\\n                  >\\n                    Course\\n                  </a>\\n                </div>\\n                <div data-name=\"web development\" data-category=\"programs\">\\n                  <a\\n                    target=\"_blank\"\\n                    href=\"https://campus.w3schools.com/collections/certifications/products/web-application-development-certificates\"\\n                    class=\"w3-bar-item w3-button acctop-link ga-top-drop ga-top-drop-cert-web-app\"\\n                    title=\"Web Application Development Certification\"\\n                  >\\n                    Web App\\n                  </a>\\n                  <a\\n                    target=\"_blank\"\\n                    href=\"https://campus.w3schools.com/collections/certifications/products/web-application-development-certificates\"\\n                    class=\"ws-btn acclink-text ga-top-drop ga-top-drop-cert-web-app\"\\n                    title=\"Web Application Development Certification\"\\n                  >\\n                    Certificate\\n                  </a>\\n                  <a\\n                    target=\"_blank\"\\n                    href=\"https://campus.w3schools.com/collections/course-best-sellers/products/web-application-development-course\"\\n                    class=\"ws-btn acclink-text ga-top-drop ga-top-drop-course-web-app\"\\n                    title=\"Paid Web Application Course\"\\n                  >\\n                    Course\\n                  </a>\\n                </div>\\n                <div data-name=\"web app\" data-category=\"programs\">\\n                  <a\\n                    target=\"_blank\"\\n                    href=\"https://campus.w3schools.com/collections/certifications/products/web-design-certification\"\\n                    class=\"w3-bar-item w3-button acctop-link ga-top-drop ga-top-drop-cert-web-design\"\\n                    title=\"Web Design Certification Exam\"\\n                  >\\n                    Web Design\\n                  </a>\\n                  <a\\n                    target=\"_blank\"\\n                    href=\"https://campus.w3schools.com/collections/certifications/products/web-design-certification\"\\n                    class=\"ws-btn acclink-text ga-top-drop ga-top-drop-cert-web-design\"\\n                    title=\"Web Design Certification Exam\"\\n                  >\\n                    Certificate\\n                  </a>\\n                  <a\\n                    target=\"_blank\"\\n                    href=\"https://campus.w3schools.com/collections/course-best-sellers/products/learn-web-design\"\\n                    class=\"ws-btn acclink-text ga-top-drop ga-top-drop-course-web-design\"\\n                    title=\"Paid Web Design Course\"\\n                  >\\n                    Course\\n                  </a>\\n                </div>\\n              </div>\\n            </div>\\n\\n            <div class=\"w3-col l4 m6\">\\n              <div id=\"certified_javascript_links_list\">\\n                <h3\\n                  class=\"tnb-nav-section-title\"\\n                  data-heading=\"javascript_title\"\\n                >\\n                  JavaScript\\n                </h3>\\n                <div data-name=\"javascript\" data-category=\"javascript\">\\n                  <a\\n                    target=\"_blank\"\\n                    href=\"https://campus.w3schools.com/collections/certifications/products/javascript-certificate\"\\n                    class=\"w3-bar-item w3-button acctop-link ga-top-drop ga-top-drop-cert-js\"\\n                    title=\"JavaScript Certification Exam\"\\n                  >\\n                    JavaScript\\n                  </a>\\n                  <a\\n                    target=\"_blank\"\\n                    href=\"https://campus.w3schools.com/collections/certifications/products/javascript-certificate\"\\n                    class=\"ws-btn acclink-text ga-top-drop ga-top-drop-cert-js\"\\n                    title=\"JavaScript Certification Exam\"\\n                  >\\n                    Certificate\\n                  </a>\\n                  <a\\n                    target=\"_blank\"\\n                    href=\"https://campus.w3schools.com/collections/course-catalog/products/javascript-course\"\\n                    class=\"ws-btn acclink-text ga-top-drop ga-top-drop-course-js\"\\n                    title=\"Paid JavaScript Course\"\\n                  >\\n                    Course\\n                  </a>\\n                </div>\\n                <div data-name=\"react\" data-category=\"javascript\">\\n                  <a\\n                    target=\"_blank\"\\n                    href=\"https://campus.w3schools.com/collections/certifications/products/react-js-certificate\"\\n                    class=\"w3-bar-item w3-button acctop-link ga-top-drop ga-top-drop-cert-react\"\\n                    title=\"React.js Certification Exam\"\\n                  >\\n                    React\\n                  </a>\\n                  <a\\n                    target=\"_blank\"\\n                    href=\"https://campus.w3schools.com/collections/certifications/products/react-js-certificate\"\\n                    class=\"ws-btn acclink-text ga-top-drop ga-top-drop-cert-react\"\\n                    title=\"React.js Certification Exam\"\\n                  >\\n                    Certificate\\n                  </a>\\n                  <a\\n                    target=\"_blank\"\\n                    href=\"https://campus.w3schools.com/collections/course-catalog/products/react-js-course\"\\n                    class=\"ws-btn acclink-text ga-top-drop ga-top-drop-course-react\"\\n                    title=\"Paid React.js Course\"\\n                  >\\n                    Course\\n                  </a>\\n                </div>\\n                <div data-name=\"jquery\" data-category=\"javascript\">\\n                  <a\\n                    target=\"_blank\"\\n                    href=\"https://campus.w3schools.com/collections/certifications/products/jquery-certificate\"\\n                    class=\"w3-bar-item w3-button acctop-link ga-top-drop ga-top-drop-cert-jquery\"\\n                    title=\"jQuery Certification Exam\"\\n                  >\\n                    jQuery\\n                  </a>\\n                  <a\\n                    target=\"_blank\"\\n                    href=\"https://campus.w3schools.com/collections/certifications/products/jquery-certificate\"\\n                    class=\"ws-btn acclink-text ga-top-drop ga-top-drop-cert-jquery\"\\n                    title=\"jQuery Certification Exam\"\\n                  >\\n                    Certificate\\n                  </a>\\n                  <a\\n                    target=\"_blank\"\\n                    href=\"https://campus.w3schools.com/collections/course-catalog/products/jquery-course\"\\n                    class=\"ws-btn acclink-text ga-top-drop ga-top-drop-course-jquery\"\\n                    title=\"Paid jQuery Course\"\\n                  >\\n                    Course\\n                  </a>\\n                </div>\\n                <div data-name=\"vue\" data-category=\"javascript\">\\n                  <a\\n                    target=\"_blank\"\\n                    href=\"https://campus.w3schools.com/products/vue-js-certification-exam\"\\n                    class=\"w3-bar-item w3-button acctop-link ga-top-drop ga-top-drop-cert-vue\"\\n                    title=\"Vue Certification Exam\"\\n                  >\\n                    Vue\\n                  </a>\\n                  <a\\n                    target=\"_blank\"\\n                    href=\"https://campus.w3schools.com/products/vue-js-certification-exam\"\\n                    class=\"ws-btn acclink-text ga-top-drop ga-top-drop-cert-vue\"\\n                    title=\"Vue Certification Exam\"\\n                  >\\n                    Certificate\\n                  </a>\\n                </div>\\n              </div>\\n\\n              <div\\n                class=\"certified_programs_links_list w3-hide-medium w3-hide-large\"\\n              >\\n                <h3 class=\"tnb-nav-section-title\" data-heading=\"programs_title\">\\n                  Programs\\n                </h3>\\n                <div data-name=\"full access\" data-category=\"programs\">\\n                  <a\\n                    target=\"_blank\"\\n                    href=\"https://campus.w3schools.com/collections/course-catalog/products/w3schools-full-access-course\"\\n                    class=\"w3-bar-item w3-button acctop-link ga-top-drop ga-top-drop-course-fullaccess\"\\n                    title=\"Paid Full Access Course\"\\n                  >\\n                    Full Access\\n                    <span\\n                      class=\"ribbon-topnav ws-green\"\\n                      style=\"font-size: 13px; font-weight: normal\"\\n                    >\\n                      Best Value!\\n                    </span>\\n                  </a>\\n                </div>\\n                <div data-name=\"front end\" data-category=\"programs\">\\n                  <a\\n                    target=\"_blank\"\\n                    href=\"https://campus.w3schools.com/collections/certifications/products/front-end-certificate\"\\n                    class=\"w3-bar-item w3-button acctop-link ga-top-drop ga-top-drop-cert-front-end\"\\n                    title=\"Front End Certification Exam\"\\n                  >\\n                    Front End\\n                  </a>\\n                  <a\\n                    target=\"_blank\"\\n                    href=\"https://campus.w3schools.com/collections/certifications/products/front-end-certificate\"\\n                    class=\"ws-btn acclink-text ga-top-drop ga-top-drop-cert-front-end\"\\n                    title=\"Front End Certification Exam\"\\n                  >\\n                    Certificate\\n                  </a>\\n                  <a\\n                    target=\"_blank\"\\n                    href=\"https://campus.w3schools.com/collections/course-catalog/products/front-end-course\"\\n                    class=\"ws-btn acclink-text ga-top-drop ga-top-drop-course-front-end\"\\n                    title=\"Paid Front End Development Course\"\\n                  >\\n                    Course\\n                  </a>\\n                </div>\\n                <div data-name=\"web dev.\" data-category=\"programs\">\\n                  <a\\n                    target=\"_blank\"\\n                    href=\"https://campus.w3schools.com/collections/certifications/products/modern-web-development-certification\"\\n                    class=\"w3-bar-item w3-button acctop-link ga-top-drop ga-top-drop-cert-web-dev\"\\n                    title=\"Web Development Certification\"\\n                  >\\n                    Web Dev.\\n                  </a>\\n                  <a\\n                    target=\"_blank\"\\n                    href=\"https://campus.w3schools.com/collections/certifications/products/modern-web-development-certification\"\\n                    class=\"ws-btn acclink-text ga-top-drop ga-top-drop-cert-web-dev\"\\n                    title=\"Web Development Certification\"\\n                  >\\n                    Certificate\\n                  </a>\\n                  <a\\n                    target=\"_blank\"\\n                    href=\"https://campus.w3schools.com/collections/course-best-sellers/products/learn-modern-web-development\"\\n                    class=\"ws-btn acclink-text ga-top-drop ga-top-drop-course-web-dev\"\\n                    title=\"Paid Web Development Course\"\\n                  >\\n                    Course\\n                  </a>\\n                </div>\\n                <div data-name=\"web app\" data-category=\"programs\">\\n                  <a\\n                    target=\"_blank\"\\n                    href=\"https://campus.w3schools.com/collections/certifications/products/web-application-development-certificates\"\\n                    class=\"w3-bar-item w3-button acctop-link ga-top-drop ga-top-drop-cert-web-app\"\\n                    title=\"Web Application Development Certification\"\\n                  >\\n                    Web App\\n                  </a>\\n                  <a\\n                    target=\"_blank\"\\n                    href=\"https://campus.w3schools.com/collections/certifications/products/web-application-development-certificates\"\\n                    class=\"ws-btn acclink-text ga-top-drop ga-top-drop-cert-web-app\"\\n                    title=\"Web Application Development Certification\"\\n                  >\\n                    Certificate\\n                  </a>\\n                  <a\\n                    target=\"_blank\"\\n                    href=\"https://campus.w3schools.com/collections/course-best-sellers/products/web-application-development-course\"\\n                    class=\"ws-btn acclink-text ga-top-drop ga-top-drop-course-web-app\"\\n                    title=\"Paid Web Application Course\"\\n                  >\\n                    Course\\n                  </a>\\n                </div>\\n                <div data-name=\"web design\" data-category=\"programs\">\\n                  <a\\n                    target=\"_blank\"\\n                    href=\"https://campus.w3schools.com/collections/certifications/products/web-design-certification\"\\n                    class=\"w3-bar-item w3-button acctop-link ga-top-drop ga-top-drop-cert-web-design\"\\n                    title=\"Web Design Certification Exam\"\\n                  >\\n                    Web Design\\n                  </a>\\n                  <a\\n                    target=\"_blank\"\\n                    href=\"https://campus.w3schools.com/collections/certifications/products/web-design-certification\"\\n                    class=\"ws-btn acclink-text ga-top-drop ga-top-drop-cert-web-design\"\\n                    title=\"Web Design Certification Exam\"\\n                  >\\n                    Certificate\\n                  </a>\\n                  <a\\n                    target=\"_blank\"\\n                    href=\"https://campus.w3schools.com/collections/course-best-sellers/products/learn-web-design\"\\n                    class=\"ws-btn acclink-text ga-top-drop ga-top-drop-course-web-design\"\\n                    title=\"Paid Web Design Course\"\\n                  >\\n                    Course\\n                  </a>\\n                </div>\\n              </div>\\n              <div\\n                class=\"certified_programs_links_list w3-hide-medium w3-hide-small\"\\n                id=\"certified_programs_links_list_desktop\"\\n              >\\n                <h3 class=\"tnb-nav-section-title\" data-heading=\"programs_title\">\\n                  Programs\\n                </h3>\\n                <div data-name=\"full access\" data-category=\"programs\">\\n                  <a\\n                    target=\"_blank\"\\n                    href=\"https://campus.w3schools.com/collections/course-catalog/products/w3schools-full-access-course\"\\n                    class=\"w3-bar-item w3-button acctop-link ga-top-drop ga-top-drop-course-fullaccess\"\\n                    title=\"Paid Full Access Course\"\\n                  >\\n                    Full Access\\n                    <span\\n                      class=\"ribbon-topnav ws-green\"\\n                      style=\"font-size: 13px; font-weight: normal\"\\n                    >\\n                      Best Value!\\n                    </span>\\n                  </a>\\n                </div>\\n                <div data-name=\"front end\" data-category=\"programs\">\\n                  <a\\n                    target=\"_blank\"\\n                    href=\"https://campus.w3schools.com/collections/certifications/products/front-end-certificate\"\\n                    class=\"w3-bar-item w3-button acctop-link ga-top-drop ga-top-drop-cert-front-end\"\\n                    title=\"Front End Certification Exam\"\\n                  >\\n                    Front End\\n                  </a>\\n                  <a\\n                    target=\"_blank\"\\n                    href=\"https://campus.w3schools.com/collections/certifications/products/front-end-certificate\"\\n                    class=\"ws-btn acclink-text ga-top-drop ga-top-drop-cert-front-end\"\\n                    title=\"Front End Certification Exam\"\\n                  >\\n                    Certificate\\n                  </a>\\n                  <a\\n                    target=\"_blank\"\\n                    href=\"https://campus.w3schools.com/collections/course-catalog/products/front-end-course\"\\n                    class=\"ws-btn acclink-text ga-top-drop ga-top-drop-course-front-end\"\\n                    title=\"Paid Front End Development Course\"\\n                  >\\n                    Course\\n                  </a>\\n                </div>\\n                <div data-name=\"web dev.\" data-category=\"programs\">\\n                  <a\\n                    target=\"_blank\"\\n                    href=\"https://campus.w3schools.com/collections/certifications/products/modern-web-development-certification\"\\n                    class=\"w3-bar-item w3-button acctop-link ga-top-drop ga-top-drop-cert-web-dev\"\\n                    title=\"Web Development Certification\"\\n                  >\\n                    Web Dev.\\n                  </a>\\n                  <a\\n                    target=\"_blank\"\\n                    href=\"https://campus.w3schools.com/collections/certifications/products/modern-web-development-certification\"\\n                    class=\"ws-btn acclink-text ga-top-drop ga-top-drop-cert-web-dev\"\\n                    title=\"Web Development Certification\"\\n                  >\\n                    Certificate\\n                  </a>\\n                  <a\\n                    target=\"_blank\"\\n                    href=\"https://campus.w3schools.com/collections/course-best-sellers/products/learn-modern-web-development\"\\n                    class=\"ws-btn acclink-text ga-top-drop ga-top-drop-course-web-dev\"\\n                    title=\"Paid Web Development Course\"\\n                  >\\n                    Course\\n                  </a>\\n                </div>\\n                <div data-name=\"web app\" data-category=\"programs\">\\n                  <a\\n                    target=\"_blank\"\\n                    href=\"https://campus.w3schools.com/collections/certifications/products/web-application-development-certificates\"\\n                    class=\"w3-bar-item w3-button acctop-link ga-top-drop ga-top-drop-cert-web-app\"\\n                    title=\"Web Application Development Certification\"\\n                  >\\n                    Web App\\n                  </a>\\n                  <a\\n                    target=\"_blank\"\\n                    href=\"https://campus.w3schools.com/collections/certifications/products/web-application-development-certificates\"\\n                    class=\"ws-btn acclink-text ga-top-drop ga-top-drop-cert-web-app\"\\n                    title=\"Web Application Development Certification\"\\n                  >\\n                    Certificate\\n                  </a>\\n                  <a\\n                    target=\"_blank\"\\n                    href=\"https://campus.w3schools.com/collections/course-best-sellers/products/web-application-development-course\"\\n                    class=\"ws-btn acclink-text ga-top-drop ga-top-drop-course-web-app\"\\n                    title=\"Paid Web Application Course\"\\n                  >\\n                    Course\\n                  </a>\\n                </div>\\n                <div data-name=\"web design\" data-category=\"programs\">\\n                  <a\\n                    target=\"_blank\"\\n                    href=\"https://campus.w3schools.com/collections/certifications/products/web-design-certification\"\\n                    class=\"w3-bar-item w3-button acctop-link ga-top-drop ga-top-drop-cert-web-design\"\\n                    title=\"Web Design Certification Exam\"\\n                  >\\n                    Web Design\\n                  </a>\\n                  <a\\n                    target=\"_blank\"\\n                    href=\"https://campus.w3schools.com/collections/certifications/products/web-design-certification\"\\n                    class=\"ws-btn acclink-text ga-top-drop ga-top-drop-cert-web-design\"\\n                    title=\"Web Design Certification Exam\"\\n                  >\\n                    Certificate\\n                  </a>\\n                  <a\\n                    target=\"_blank\"\\n                    href=\"https://campus.w3schools.com/collections/course-best-sellers/products/learn-web-design\"\\n                    class=\"ws-btn acclink-text ga-top-drop ga-top-drop-course-web-design\"\\n                    title=\"Paid Web Design Course\"\\n                  >\\n                    Course\\n                  </a>\\n                </div>\\n              </div>\\n            </div>\\n\\n            <div class=\"w3-col l4 m6\">\\n              <div id=\"certified_backend_links_list\">\\n                <br class=\"w3-hide-large w3-hide-small\" />\\n                <h3 class=\"tnb-nav-section-title\" data-heading=\"backend_title\">\\n                  Backend\\n                </h3>\\n                <div data-name=\"python\" data-category=\"backend\">\\n                  <a\\n                    target=\"_blank\"\\n                    href=\"https://campus.w3schools.com/collections/certifications/products/python-certificate\"\\n                    class=\"w3-bar-item w3-button acctop-link ga-top-drop ga-top-drop-cert-python\"\\n                    title=\"Python Certification Exam\"\\n                  >\\n                    Python\\n                  </a>\\n                  <a\\n                    target=\"_blank\"\\n                    href=\"https://campus.w3schools.com/collections/certifications/products/python-certificate\"\\n                    class=\"ws-btn acclink-text ga-top-drop ga-top-drop-cert-python\"\\n                    title=\"Python Certification Exam\"\\n                  >\\n                    Certificate\\n                  </a>\\n                  <a\\n                    target=\"_blank\"\\n                    href=\"https://campus.w3schools.com/collections/course-catalog/products/python-course\"\\n                    class=\"ws-btn acclink-text ga-top-drop ga-top-drop-course-python\"\\n                    title=\"Paid Python Course\"\\n                  >\\n                    Course\\n                  </a>\\n                </div>\\n                <div data-name=\"sql\" data-category=\"backend\">\\n                  <a\\n                    target=\"_blank\"\\n                    href=\"https://campus.w3schools.com/collections/certifications/products/sql-certificate\"\\n                    class=\"w3-bar-item w3-button acctop-link ga-top-drop ga-top-drop-cert-sql\"\\n                    title=\"SQL Certification Exam\"\\n                  >\\n                    SQL\\n                  </a>\\n                  <a\\n                    target=\"_blank\"\\n                    href=\"https://campus.w3schools.com/collections/certifications/products/sql-certificate\"\\n                    class=\"ws-btn acclink-text ga-top-drop ga-top-drop-cert-sql\"\\n                    title=\"SQL Certification Exam\"\\n                  >\\n                    Certificate\\n                  </a>\\n                  <a\\n                    target=\"_blank\"\\n                    href=\"https://campus.w3schools.com/collections/course-catalog/products/sql-course\"\\n                    class=\"ws-btn acclink-text ga-top-drop ga-top-drop-course-sql\"\\n                    title=\"SQL Python Course\"\\n                  >\\n                    Course\\n                  </a>\\n                </div>\\n                <div data-name=\"mysql\" data-category=\"backend\">\\n                  <a\\n                    target=\"_blank\"\\n                    href=\"https://campus.w3schools.com/collections/certifications/products/mysql-certificate\"\\n                    class=\"w3-bar-item w3-button acctop-link ga-top-drop ga-top-drop-cert-mysql\"\\n                    title=\"MySQL Certification Exam\"\\n                  >\\n                    MySQL\\n                  </a>\\n                  <a\\n                    target=\"_blank\"\\n                    href=\"https://campus.w3schools.com/collections/certifications/products/mysql-certificate\"\\n                    class=\"ws-btn acclink-text ga-top-drop ga-top-drop-cert-mysql\"\\n                    title=\"MySQL Certification Exam\"\\n                  >\\n                    Certificate\\n                  </a>\\n                </div>\\n                <div data-name=\"php\" data-category=\"backend\">\\n                  <a\\n                    target=\"_blank\"\\n                    href=\"https://campus.w3schools.com/collections/certifications/products/php-certificate\"\\n                    class=\"w3-bar-item w3-button acctop-link ga-top-drop ga-top-drop-cert-php\"\\n                    title=\"PHP Certification Exam\"\\n                  >\\n                    PHP\\n                  </a>\\n                  <a\\n                    target=\"_blank\"\\n                    href=\"https://campus.w3schools.com/collections/certifications/products/php-certificate\"\\n                    class=\"ws-btn acclink-text ga-top-drop ga-top-drop-cert-php\"\\n                    title=\"PHP Certification Exam\"\\n                  >\\n                    Certificate\\n                  </a>\\n                  <a\\n                    target=\"_blank\"\\n                    href=\"https://campus.w3schools.com/collections/course-catalog/products/php-course\"\\n                    class=\"ws-btn acclink-text ga-top-drop ga-top-drop-course-php\"\\n                    title=\"Paid PHP Course\"\\n                  >\\n                    Course\\n                  </a>\\n                </div>\\n                <div data-name=\"java\" data-category=\"backend\">\\n                  <a\\n                    target=\"_blank\"\\n                    href=\"https://campus.w3schools.com/collections/certifications/products/java-certificate\"\\n                    class=\"w3-bar-item w3-button acctop-link ga-top-drop ga-top-drop-cert-java\"\\n                    title=\"Java Certification Exam\"\\n                  >\\n                    Java\\n                  </a>\\n                  <a\\n                    target=\"_blank\"\\n                    href=\"https://campus.w3schools.com/collections/certifications/products/java-certificate\"\\n                    class=\"ws-btn acclink-text ga-top-drop ga-top-drop-cert-java\"\\n                    title=\"Java Certification Exam\"\\n                  >\\n                    Certificate\\n                  </a>\\n                  <a\\n                    target=\"_blank\"\\n                    href=\"https://campus.w3schools.com/collections/course-catalog/products/java-course\"\\n                    class=\"ws-btn acclink-text ga-top-drop ga-top-drop-course-java\"\\n                    title=\"Paid Java Course\"\\n                  >\\n                    Course\\n                  </a>\\n                </div>\\n                <div data-name=\"c\" data-category=\"backend\">\\n                  <a\\n                    target=\"_blank\"\\n                    href=\"https://campus.w3schools.com/products/c-certification-exam\"\\n                    class=\"w3-bar-item w3-button acctop-link ga-top-drop ga-top-drop-cert-c\"\\n                    title=\"C Certification Exam\"\\n                  >\\n                    C\\n                  </a>\\n                  <a\\n                    target=\"_blank\"\\n                    href=\"https://campus.w3schools.com/products/c-certification-exam\"\\n                    class=\"ws-btn acclink-text ga-top-drop ga-top-drop-cert-c\"\\n                    title=\"C Certification Exam\"\\n                  >\\n                    Certificate\\n                  </a>\\n                </div>\\n                <div data-name=\"c++\" data-category=\"backend\">\\n                  <a\\n                    target=\"_blank\"\\n                    href=\"https://campus.w3schools.com/collections/certifications/products/c-certificate\"\\n                    class=\"w3-bar-item w3-button acctop-link ga-top-drop ga-top-drop-cert-cpp\"\\n                    title=\"C++ Certification Exam\"\\n                  >\\n                    C++\\n                  </a>\\n                  <a\\n                    target=\"_blank\"\\n                    href=\"https://campus.w3schools.com/collections/certifications/products/c-certificate\"\\n                    class=\"ws-btn acclink-text ga-top-drop ga-top-drop-cert-cpp\"\\n                    title=\"C++ Certification Exam\"\\n                  >\\n                    Certificate\\n                  </a>\\n                  <a\\n                    target=\"_blank\"\\n                    href=\"https://campus.w3schools.com/collections/course-catalog/products/c-course-1\"\\n                    class=\"ws-btn acclink-text ga-top-drop ga-top-drop-course-cpp\"\\n                    title=\"Paid C++ Course\"\\n                  >\\n                    Course\\n                  </a>\\n                </div>\\n                <div data-name=\"c#\" data-category=\"backend\">\\n                  <a\\n                    target=\"_blank\"\\n                    href=\"https://campus.w3schools.com/collections/certifications/products/c-certificate-1\"\\n                    class=\"w3-bar-item w3-button acctop-link ga-top-drop ga-top-drop-cert-cs\"\\n                    title=\"C# Certification Exam\"\\n                  >\\n                    C#\\n                  </a>\\n                  <a\\n                    target=\"_blank\"\\n                    href=\"https://campus.w3schools.com/collections/certifications/products/c-certificate-1\"\\n                    class=\"ws-btn acclink-text ga-top-drop ga-top-drop-cert-cs\"\\n                    title=\"C# Certification Exam\"\\n                  >\\n                    Certificate\\n                  </a>\\n                  <a\\n                    target=\"_blank\"\\n                    href=\"https://campus.w3schools.com/collections/course-catalog/products/c-course\"\\n                    class=\"ws-btn acclink-text ga-top-drop ga-top-drop-course-cs\"\\n                    title=\"Paid C# Course\"\\n                  >\\n                    Course\\n                  </a>\\n                </div>\\n                <div data-name=\"r\" data-category=\"backend\">\\n                  <a\\n                    target=\"_blank\"\\n                    href=\"https://campus.w3schools.com/collections/course-catalog/products/r-course\"\\n                    class=\"w3-bar-item w3-button acctop-link ga-top-drop ga-top-drop-cert-r\"\\n                    title=\"Paid R Course\"\\n                  >\\n                    R\\n                  </a>\\n                  <a\\n                    target=\"_blank\"\\n                    href=\"https://campus.w3schools.com/collections/course-catalog/products/r-course\"\\n                    class=\"ws-btn acclink-text ga-top-drop ga-top-drop-cert-r\"\\n                    title=\"Paid R Course\"\\n                  >\\n                    Course\\n                  </a>\\n                </div>\\n                <div data-name=\"django\" data-category=\"backend\">\\n                  <a\\n                    target=\"_blank\"\\n                    href=\"https://campus.w3schools.com/products/django-certification-exam\"\\n                    class=\"w3-bar-item w3-button acctop-link ga-top-drop ga-top-drop-cert-django\"\\n                    title=\"Django Certification Exam\"\\n                  >\\n                    Django\\n                  </a>\\n                  <a\\n                    target=\"_blank\"\\n                    href=\"https://campus.w3schools.com/products/django-certification-exam\"\\n                    class=\"ws-btn acclink-text ga-top-drop ga-top-drop-cert-django\"\\n                    title=\"Django Certification Exam\"\\n                  >\\n                    Certificate\\n                  </a>\\n                </div>\\n                <div data-name=\"nodejs\" data-category=\"backend\">\\n                  <a\\n                    target=\"_blank\"\\n                    href=\"https://campus.w3schools.com/products/nodejs-certificate\"\\n                    class=\"w3-bar-item w3-button acctop-link ga-top-drop ga-top-drop-cert-nodejs\"\\n                    title=\"NodeJS Certification Exam\"\\n                  >\\n                    NodeJS\\n                  </a>\\n                  <a\\n                    target=\"_blank\"\\n                    href=\"https://campus.w3schools.com/products/nodejs-certificate\"\\n                    class=\"ws-btn acclink-text ga-top-drop ga-top-drop-cert-nodejs\"\\n                    title=\"NodeJS Certification Exam\"\\n                  >\\n                    Certificate\\n                  </a>\\n                </div>\\n                <div data-name=\"typescript\" data-category=\"backend\">\\n                  <a\\n                    target=\"_blank\"\\n                    href=\"https://campus.w3schools.com/collections/certifications/products/typescript-certificate\"\\n                    class=\"w3-bar-item w3-button acctop-link ga-top-drop ga-top-drop-cert-typescript\"\\n                    title=\"TypeScript Certification Exam\"\\n                  >\\n                    TypeScript\\n                  </a>\\n                  <a\\n                    target=\"_blank\"\\n                    href=\"https://campus.w3schools.com/collections/certifications/products/typescript-certificate\"\\n                    class=\"ws-btn acclink-text ga-top-drop ga-top-drop-cert-typescript\"\\n                    title=\"TypeScript Certification Exam\"\\n                  >\\n                    Certificate\\n                  </a>\\n                  <a\\n                    target=\"_blank\"\\n                    href=\"https://campus.w3schools.com/products/learn-typescript\"\\n                    class=\"ws-btn acclink-text ga-top-drop ga-top-drop-course-typescript\"\\n                    title=\"Paid TypeScript Course\"\\n                  >\\n                    Course\\n                  </a>\\n                </div>\\n                <div data-name=\"xml\" data-category=\"backend\">\\n                  <a\\n                    target=\"_blank\"\\n                    href=\"https://campus.w3schools.com/collections/certifications/products/xml-certificate\"\\n                    class=\"w3-bar-item w3-button acctop-link ga-top-drop ga-top-drop-cert-xml\"\\n                    title=\"XML Certification Exam\"\\n                  >\\n                    XML\\n                  </a>\\n                  <a\\n                    target=\"_blank\"\\n                    href=\"https://campus.w3schools.com/collections/certifications/products/xml-certificate\"\\n                    class=\"ws-btn acclink-text ga-top-drop ga-top-drop-cert-xml\"\\n                    title=\"XML Certification Exam\"\\n                  >\\n                    Certificate\\n                  </a>\\n                  <a\\n                    target=\"_blank\"\\n                    href=\"https://campus.w3schools.com/collections/course-catalog/products/xml-course\"\\n                    class=\"ws-btn acclink-text ga-top-drop ga-top-drop-course-xml\"\\n                    title=\"Paid XML Course\"\\n                  >\\n                    Course\\n                  </a>\\n                </div>\\n                <div data-name=\"cyber security\" data-category=\"backend\">\\n                  <a\\n                    target=\"_blank\"\\n                    href=\"https://campus.w3schools.com/collections/certifications/products/cyber-security-certificate\"\\n                    class=\"w3-bar-item w3-button acctop-link ga-top-drop ga-top-drop-cert-cyber-sec\"\\n                    title=\"Cyber Security Certification Exam\"\\n                  >\\n                    Cyber Security\\n                  </a>\\n                  <a\\n                    target=\"_blank\"\\n                    href=\"https://campus.w3schools.com/collections/certifications/products/cyber-security-certificate\"\\n                    class=\"ws-btn acclink-text ga-top-drop ga-top-drop-cert-cyber-sec\"\\n                    title=\"Cyber Security Certification Exam\"\\n                  >\\n                    Certificate\\n                  </a>\\n                  <a\\n                    target=\"_blank\"\\n                    href=\"https://campus.w3schools.com/products/cyber-security-course\"\\n                    class=\"ws-btn acclink-text ga-top-drop ga-top-drop-course-cyber-sec\"\\n                    title=\"Paid Cyber Security Course\"\\n                  >\\n                    Course\\n                  </a>\\n                </div>\\n                <div data-name=\"accessibility\" data-category=\"backend\">\\n                  <a\\n                    target=\"_blank\"\\n                    href=\"https://campus.w3schools.com/collections/certifications/products/accessibility-certificate\"\\n                    class=\"w3-bar-item w3-button acctop-link ga-top-drop ga-top-drop-cert-accessi\"\\n                    title=\"Accessibility Certification Exam\"\\n                  >\\n                    Accessibility\\n                  </a>\\n                  <a\\n                    target=\"_blank\"\\n                    href=\"https://campus.w3schools.com/collections/certifications/products/accessibility-certificate\"\\n                    class=\"ws-btn acclink-text ga-top-drop ga-top-drop-cert-accessi\"\\n                    title=\"Accessibility Certification Exam\"\\n                  >\\n                    Certificate\\n                  </a>\\n                  <a\\n                    target=\"_blank\"\\n                    href=\"https://campus.w3schools.com/products/accessibility-course\"\\n                    class=\"ws-btn acclink-text ga-top-drop ga-top-drop-course-accessi\"\\n                    title=\"Paid Accessibility Course\"\\n                  >\\n                    Course\\n                  </a>\\n                </div>\\n                <!--\\n                <div\\n                  data-name=\"python apps on aws\"\\n                  data-category=\"backend\"\\n                >\\n                  <a\\n                    target=\"_blank\"\\n                    href=\"https://campus.w3schools.com/collections/course-best-sellers/products/building-modern-python-apps-on-aws\"\\n                    class=\"w3-bar-item w3-button acctop-link ga-top-drop ga-top-drop-course-python-apps-aws\"\\n                    title=\"Building Modern Python Apps on AWS\"\\n                  >\\n                    Python Apps on AWS\\n                  </a>\\n                  <a\\n                    target=\"_blank\"\\n                    href=\"https://campus.w3schools.com/collections/course-best-sellers/products/building-modern-python-apps-on-aws\"\\n                    class=\"ws-btn acclink-text ga-top-drop ga-top-drop-course-python-apps-aws\"\\n                    title=\"Building Modern Python Apps on AWS\"\\n                  >\\n                    Course\\n                  </a>\\n                </div>\\n                <div\\n                  data-name=\"aws training\"\\n                  data-category=\"backend\"\\n                >\\n                  <a\\n                    \\n                    class=\"w3-bar-item w3-button acctop-link ga-top-drop ga-top-drop-course-aws-training\"\\n                    href=\"/training/aws/home/\"\\n                    title=\"AWS Training\"\\n                  >\\n                    AWS Training\\n                  </a>\\n                  <a\\n                    \\n                    class=\"ws-btn acclink-text ga-top-drop ga-top-drop-course-aws-training\"\\n                    href=\"/training/aws/home/\"\\n                    title=\"AWS Training\"\\n                  >\\n                    Courses\\n                  </a>\\n                </div>\\n                -->\\n              </div>\\n              <div\\n                class=\"w3-hide-large w3-hide-medium\"\\n                id=\"certified_data_analytics_links_list\"\\n              >\\n                <h3\\n                  class=\"tnb-nav-section-title\"\\n                  data-heading=\"data_analytics_title\"\\n                >\\n                  Data Analytics\\n                </h3>\\n                <div data-name=\"dsa\" data-category=\"data_analytics\">\\n                  <a\\n                    target=\"_blank\"\\n                    href=\"https://campus.w3schools.com/products/dsa-certification-exam\"\\n                    class=\"w3-bar-item w3-button acctop-link ga-top-drop ga-top-drop-cert-dsa\"\\n                    title=\"DSA Certification Exam\"\\n                  >\\n                    DSA\\n                  </a>\\n                  <a\\n                    target=\"_blank\"\\n                    href=\"https://campus.w3schools.com/products/dsa-certification-exam\"\\n                    class=\"ws-btn acclink-text ga-top-drop ga-top-drop-cert-dsa\"\\n                    title=\"DSA Certification Exam\"\\n                  >\\n                    Exam\\n                  </a>\\n                </div>\\n                <div data-name=\"data analytics\" data-category=\"data_analytics\">\\n                  <a\\n                    target=\"_blank\"\\n                    href=\"https://campus.w3schools.com/products/data-analytics-program\"\\n                    class=\"w3-bar-item w3-button acctop-link ga-top-drop ga-top-drop-course-data-analytics\"\\n                    title=\"Paid Data Analytics Course\"\\n                  >\\n                    Data Analytics\\n                  </a>\\n                  <a\\n                    target=\"_blank\"\\n                    href=\"https://campus.w3schools.com/products/data-analytics-program\"\\n                    class=\"ws-btn acclink-text ga-top-drop ga-top-drop-course-data-analytics\"\\n                    title=\"Paid Data Analytics Course\"\\n                  >\\n                    Course\\n                  </a>\\n                </div>\\n                <div data-name=\"numpy\" data-category=\"data_analytics\">\\n                  <a\\n                    target=\"_blank\"\\n                    href=\"https://campus.w3schools.com/products/numpy-course\"\\n                    class=\"w3-bar-item w3-button acctop-link ga-top-drop ga-top-drop-course-numpy\"\\n                    title=\"Paid NumPy Course\"\\n                  >\\n                    NumPy\\n                  </a>\\n                  <a\\n                    target=\"_blank\"\\n                    href=\"https://campus.w3schools.com/products/numpy-course\"\\n                    class=\"ws-btn acclink-text ga-top-drop ga-top-drop-course-numpy\"\\n                    title=\"Paid NumPy Course\"\\n                  >\\n                    Course\\n                  </a>\\n                </div>\\n                <div data-name=\"pandas\" data-category=\"data_analytics\">\\n                  <a\\n                    target=\"_blank\"\\n                    href=\"https://campus.w3schools.com/products/pandas-course\"\\n                    class=\"w3-bar-item w3-button acctop-link ga-top-drop ga-top-drop-course-scipy\"\\n                    title=\"Paid SciPy Course\"\\n                  >\\n                    Pandas\\n                  </a>\\n                  <a\\n                    target=\"_blank\"\\n                    href=\"https://campus.w3schools.com/products/pandas-course\"\\n                    class=\"ws-btn acclink-text ga-top-drop ga-top-drop-course-scipy\"\\n                    title=\"Paid SciPy Course\"\\n                  >\\n                    Course\\n                  </a>\\n                </div>\\n                <div data-name=\"excel\" data-category=\"data_analytics\">\\n                  <a\\n                    target=\"_blank\"\\n                    href=\"https://campus.w3schools.com/products/excel-certificate\"\\n                    class=\"w3-bar-item w3-button acctop-link ga-top-drop ga-top-drop-cert-excel\"\\n                    title=\"Excel Certification Exam\"\\n                  >\\n                    Excel\\n                  </a>\\n                  <a\\n                    target=\"_blank\"\\n                    href=\"https://campus.w3schools.com/products/excel-certificate\"\\n                    class=\"ws-btn acclink-text ga-top-drop ga-top-drop-cert-excel\"\\n                    title=\"Excel Certification Exam\"\\n                  >\\n                    Certificate\\n                  </a>\\n                </div>\\n                <div data-name=\"social media\" data-category=\"data_analytics\">\\n                  <a\\n                    target=\"_blank\"\\n                    href=\"https://campus.w3schools.com/collections/course-best-sellers/products/social-media-marketing-course\"\\n                    class=\"w3-bar-item w3-button acctop-link ga-top-drop ga-top-drop-course-some\"\\n                    title=\"Paid Social Media Course\"\\n                  >\\n                    Social Media\\n                  </a>\\n                  <a\\n                    target=\"_blank\"\\n                    href=\"https://campus.w3schools.com/collections/course-best-sellers/products/social-media-marketing-course\"\\n                    class=\"ws-btn acclink-text ga-top-drop ga-top-drop-course-some\"\\n                    title=\"Paid Social Media Course\"\\n                  >\\n                    Course\\n                  </a>\\n                </div>\\n                <div class=\"black-box-container\">\\n                  <a\\n                    target=\"_blank\"\\n                    href=\"https://campus.w3schools.com\"\\n                    class=\"w3-bar-item w3-button ga-top-drop w3-center w3-round ga-top-drop-campus\"\\n                    title=\"W3Schools Campus\"\\n                    style=\"\\n                      display: block;\\n                      background-color: #21232c;\\n                      border: 1px solid grey;\\n                      width: 195px;\\n                      margin-bottom: 16px;\\n                    \"\\n                  >\\n                    What is a Certificate?\\n                  </a>\\n                </div>\\n              </div>\\n            </div>\\n          </div>\\n          <br />\\n        </div>\\n\\n        <div\\n          class=\"w3-button tnb-close-nav-btn w3-round\"\\n          tabindex=\"0\"\\n          onclick=\"TopNavBar.closeNavItem(\\'certified\\')\"\\n          onkeydown=\"TopNavBar.mouseHandler(event, this, \\'certified\\')\"\\n          role=\"button\"\\n          aria-label=\"Close navigation\"\\n        >\\n          <span>&times;</span>\\n        </div>\\n      </nav>\\n\\n      <nav\\n        id=\"nav_services\"\\n        class=\"dropdown-nav w3-hide-small navex\"\\n        tabindex=\"-1\"\\n        aria-label=\"Services menu\"\\n      >\\n        <div class=\"w3-content menu-content\">\\n          <div id=\"services_list\" class=\"w3-row-padding w3-bar-block\">\\n            <div class=\"nav-heading-container w3-container\">\\n              <div class=\"nav-heading-container-title\">\\n                <h2 style=\"color: #fff4a3\"><b>All Our Services</b></h2>\\n              </div>\\n\\n              <div data-section=\"services\" class=\"filter-input-wrapper\">\\n                <div class=\"filter-input-inner-wrapper\">\\n                  <label for=\"filter-services-input\" class=\"tnb-soft-hide\">\\n                    Services filter input\\n                  </label>\\n                  <input\\n                    id=\"filter-services-input\"\\n                    oninput=\"TopNavBar.filter(event, \\'nav_services\\')\"\\n                    type=\"text\"\\n                    class=\"filter-input\"\\n                    placeholder=\"Filter...\"\\n                    aria-label=\"Services filter bar\"\\n                  />\\n\\n                  <div\\n                    class=\"filter-clear-btn tnb-button-dark-v2\"\\n                    role=\"button\"\\n                    aria-label=\"Filter clear button\"\\n                    onclick=\"TopNavBar.clearFilter(event, \\'nav_services\\')\"\\n                  >\\n                    <span>&times;</span>\\n                  </div>\\n                </div>\\n              </div>\\n            </div>\\n\\n            <div class=\"nav-heading-container w3-container\">\\n              <p class=\"tnb-services-headlines\">\\n                W3Schools offers a wide range of services and products for\\n                beginners and professionals,\\n                <br />\\n                helping millions of people everyday to learn and master new\\n                skills.\\n              </p>\\n            </div>\\n\\n            <div class=\"serviceboxes\">\\n              <div class=\"servicebox\">\\n                <a\\n                  \\n                  href=\"/tutorials/index.php\"\\n                  class=\"serviceslink ga-top-drop ga-top-drop-services-tut\"\\n                  title=\"Tutorials\"\\n                  aria-label=\"Free tutorials\"\\n                >\\n                  <div class=\"w3-padding services w3-round\">\\n                    <h4>Free Tutorials</h4>\\n                    <p>\\n                      Enjoy our free tutorials like millions of other internet\\n                      users since 1999\\n                    </p>\\n                  </div>\\n                </a>\\n              </div>\\n\\n              <div class=\"servicebox\">\\n                <a\\n                  \\n                  href=\"/references/index.php\"\\n                  class=\"serviceslink ga-top-drop ga-top-drop-services-ref\"\\n                  title=\"References\"\\n                  aria-label=\"Tutorial references\"\\n                >\\n                  <div class=\"w3-padding services w3-round\">\\n                    <h4>References</h4>\\n                    <p>\\n                      Explore our selection of references covering all popular\\n                      coding languages\\n                    </p>\\n                  </div>\\n                </a>\\n              </div>\\n\\n              <div class=\"servicebox\">\\n                <a\\n                  \\n                  href=\"/spaces/index.php\"\\n                  class=\"serviceslink ga-top-drop ga-top-drop-services-spaces\"\\n                  title=\"Create a Website\"\\n                  aria-label=\"Create a website\"\\n                >\\n                  <div class=\"w3-padding services w3-round\">\\n                    <h4>Create a Website</h4>\\n                    <p>\\n                      Create your own website with\\n                      <strong>W3Schools Spaces</strong>\\n                      - no setup required\\n                    </p>\\n                  </div>\\n                </a>\\n              </div>\\n\\n              <div class=\"servicebox\">\\n                <a\\n                  \\n                  href=\"/exercises/index.php\"\\n                  class=\"serviceslink ga-top-drop ga-top-drop-services-ex\"\\n                  title=\"Test yourself with exercises\"\\n                  aria-label=\"Exercises\"\\n                >\\n                  <div class=\"w3-padding services w3-round\">\\n                    <h4>Exercises</h4>\\n                    <p>Test your skills with different exercises</p>\\n                  </div>\\n                </a>\\n              </div>\\n\\n              <div class=\"servicebox\">\\n                <a\\n                  \\n                  href=\"/quiztest/default.asp\"\\n                  class=\"serviceslink ga-top-drop ga-top-drop-services-qz\"\\n                  title=\"Test yourself with quizzes\"\\n                  aria-label=\"Quizzes\"\\n                >\\n                  <div class=\"w3-padding services w3-round\">\\n                    <h4>Quizzes</h4>\\n                    <p>Test yourself with multiple choice questions</p>\\n                  </div>\\n                </a>\\n              </div>\\n\\n              <div class=\"servicebox tnb-paid-service\">\\n                <a\\n                  target=\"_blank\"\\n                  href=\"https://campus.w3schools.com/collections/certifications\"\\n                  class=\"serviceslink ga-top-drop ga-top-drop-services-cert\"\\n                  title=\"Certificates\"\\n                  aria-label=\"Certificates\"\\n                >\\n                  <div\\n                    class=\"w3-padding services w3-round\"\\n                    style=\"position: relative\"\\n                  >\\n                    <h4>Get Certified</h4>\\n                    <p>Document your knowledge</p>\\n                    <svg\\n                      style=\"position: absolute; top: 15px; right: 25px\"\\n                      width=\"15\"\\n                      height=\"36\"\\n                      viewBox=\"0 0 12 16\"\\n                      fill=\"none\"\\n                      xmlns=\"http://www.w3.org/2000/svg\"\\n                      aria-hidden=\"true\"\\n                    >\\n                      <path\\n                        d=\"M6.65723 6.24707C6.76704 5.91764 7.233 5.91765 7.34281 6.24707L7.98828 8.1835C8.276 9.04666 8.95332 9.72399 9.81648 10.0117L11.7529 10.6572C12.0824 10.767 12.0824 11.233 11.7529 11.3428L9.81649 11.9883C8.95332 12.276 8.27599 12.9533 7.98828 13.8165L7.34281 15.7529C7.233 16.0823 6.76704 16.0823 6.65723 15.7529L6.01173 13.8165C5.72401 12.9533 5.04669 12.276 4.18353 11.9883L2.24707 11.3428C1.91764 11.233 1.91764 10.767 2.24707 10.6572L4.18353 10.0117C5.04669 9.72399 5.72401 9.04667 6.01173 8.18352L6.65723 6.24707Z\"\\n                        fill=\"#9763f6\"\\n                      ></path>\\n                      <path\\n                        d=\"M2.79434 1.14824C2.86023 0.950586 3.1398 0.950587 3.20569 1.14824L3.59297 2.3101C3.7656 2.828 4.172 3.2344 4.6899 3.40703L5.85177 3.79432C6.04942 3.86021 6.04942 4.13978 5.85177 4.20567L4.6899 4.59296C4.172 4.76559 3.7656 5.17199 3.59297 5.68989L3.20569 6.85176C3.13981 7.04941 2.86023 7.04942 2.79434 6.85176L2.40704 5.68988C2.23441 5.17198 1.82801 4.76559 1.31012 4.59296L0.148241 4.20567C-0.0494137 4.13978 -0.0494138 3.86021 0.148241 3.79432L1.31012 3.40703C1.82802 3.2344 2.23441 2.82801 2.40704 2.31011L2.79434 1.14824Z\"\\n                        fill=\"#9763f6\"\\n                      ></path>\\n                      <path\\n                        d=\"M9.8629 0.0988265C9.90682 -0.032943 10.0932 -0.0329419 10.1371 0.098828L10.3953 0.873401C10.5104 1.21867 10.7813 1.4896 11.1266 1.60469L11.9012 1.86288C12.0329 1.9068 12.0329 2.09319 11.9012 2.13711L11.1266 2.39531C10.7813 2.51039 10.5104 2.78133 10.3953 3.12659L10.1371 3.90117C10.0932 4.03294 9.90682 4.03294 9.8629 3.90117L9.6047 3.12659C9.48961 2.78132 9.21868 2.5104 8.87342 2.39531L8.09883 2.13711C7.96706 2.09319 7.96706 1.9068 8.09883 1.86288L8.87342 1.60469C9.21868 1.4896 9.48961 1.21867 9.6047 0.873408L9.8629 0.0988265Z\"\\n                        fill=\"#9763f6\"\\n                      ></path>\\n                    </svg>\\n                  </div>\\n                </a>\\n              </div>\\n\\n              <div class=\"servicebox\">\\n                <a\\n                  \\n                  href=\"https://profile.w3schools.com/sign-up\"\\n                  class=\"serviceslink ga-top-drop ga-top-drop-services-signup\"\\n                  title=\"Log in our Sign up\"\\n                  aria-label=\"Login or Sign up\"\\n                >\\n                  <div class=\"w3-padding services w3-round\">\\n                    <h4>Log in / Sign Up</h4>\\n                    <p>\\n                      Create a\\n                      <strong>free</strong>\\n                      W3Schools Account to Improve Your Learning Experience\\n                    </p>\\n                  </div>\\n                </a>\\n              </div>\\n\\n              <div class=\"servicebox\">\\n                <a\\n                  \\n                  href=\"https://profile.w3schools.com/sign-up\"\\n                  class=\"serviceslink ga-top-drop ga-top-drop-services-mylearn\"\\n                  title=\"Track Your Progress With My Learning\"\\n                  aria-label=\"My Learning\"\\n                >\\n                  <div class=\"w3-padding services w3-round\">\\n                    <h4>My Learning</h4>\\n                    <p>\\n                      Track your learning progress at W3Schools and collect\\n                      rewards\\n                    </p>\\n                  </div>\\n                </a>\\n              </div>\\n\\n              <div class=\"servicebox tnb-paid-service\">\\n                <a\\n                  \\n                  href=\"/plus/index.php\"\\n                  class=\"serviceslink ga-top-drop ga-top-drop-services-pro\"\\n                  title=\"Upgrade subscription\"\\n                  aria-label=\"Upgrade subscription\"\\n                >\\n                  <div\\n                    class=\"w3-padding services w3-round\"\\n                    style=\"position: relative\"\\n                  >\\n                    <h4>Upgrade</h4>\\n                    <p>\\n                      Become a PLUS user and unlock powerful features (ad-free,\\n                      hosting, support,..)\\n                    </p>\\n                    <svg\\n                      style=\"position: absolute; top: 15px; right: 25px\"\\n                      width=\"15\"\\n                      height=\"36\"\\n                      viewBox=\"0 0 12 16\"\\n                      fill=\"none\"\\n                      xmlns=\"http://www.w3.org/2000/svg\"\\n                      aria-hidden=\"true\"\\n                    >\\n                      <path\\n                        d=\"M6.65723 6.24707C6.76704 5.91764 7.233 5.91765 7.34281 6.24707L7.98828 8.1835C8.276 9.04666 8.95332 9.72399 9.81648 10.0117L11.7529 10.6572C12.0824 10.767 12.0824 11.233 11.7529 11.3428L9.81649 11.9883C8.95332 12.276 8.27599 12.9533 7.98828 13.8165L7.34281 15.7529C7.233 16.0823 6.76704 16.0823 6.65723 15.7529L6.01173 13.8165C5.72401 12.9533 5.04669 12.276 4.18353 11.9883L2.24707 11.3428C1.91764 11.233 1.91764 10.767 2.24707 10.6572L4.18353 10.0117C5.04669 9.72399 5.72401 9.04667 6.01173 8.18352L6.65723 6.24707Z\"\\n                        fill=\"#9763f6\"\\n                      ></path>\\n                      <path\\n                        d=\"M2.79434 1.14824C2.86023 0.950586 3.1398 0.950587 3.20569 1.14824L3.59297 2.3101C3.7656 2.828 4.172 3.2344 4.6899 3.40703L5.85177 3.79432C6.04942 3.86021 6.04942 4.13978 5.85177 4.20567L4.6899 4.59296C4.172 4.76559 3.7656 5.17199 3.59297 5.68989L3.20569 6.85176C3.13981 7.04941 2.86023 7.04942 2.79434 6.85176L2.40704 5.68988C2.23441 5.17198 1.82801 4.76559 1.31012 4.59296L0.148241 4.20567C-0.0494137 4.13978 -0.0494138 3.86021 0.148241 3.79432L1.31012 3.40703C1.82802 3.2344 2.23441 2.82801 2.40704 2.31011L2.79434 1.14824Z\"\\n                        fill=\"#9763f6\"\\n                      ></path>\\n                      <path\\n                        d=\"M9.8629 0.0988265C9.90682 -0.032943 10.0932 -0.0329419 10.1371 0.098828L10.3953 0.873401C10.5104 1.21867 10.7813 1.4896 11.1266 1.60469L11.9012 1.86288C12.0329 1.9068 12.0329 2.09319 11.9012 2.13711L11.1266 2.39531C10.7813 2.51039 10.5104 2.78133 10.3953 3.12659L10.1371 3.90117C10.0932 4.03294 9.90682 4.03294 9.8629 3.90117L9.6047 3.12659C9.48961 2.78132 9.21868 2.5104 8.87342 2.39531L8.09883 2.13711C7.96706 2.09319 7.96706 1.9068 8.09883 1.86288L8.87342 1.60469C9.21868 1.4896 9.48961 1.21867 9.6047 0.873408L9.8629 0.0988265Z\"\\n                        fill=\"#9763f6\"\\n                      ></path>\\n                    </svg>\\n                  </div>\\n                </a>\\n              </div>\\n\\n              <div class=\"servicebox\">\\n                <a\\n                  \\n                  href=\"/where_to_start.asp\"\\n                  class=\"serviceslink ga-top-drop ga-top-drop-services-wheretostart\"\\n                  title=\"Where To Start\"\\n                  aria-label=\"Where to start\"\\n                >\\n                  <div class=\"w3-padding services w3-round\">\\n                    <h4>Where To Start</h4>\\n                    <p>\\n                      Not sure where you want to start? Follow our guided path\\n                    </p>\\n                  </div>\\n                </a>\\n              </div>\\n\\n              <div class=\"servicebox\">\\n                <a\\n                  \\n                  href=\"/tryit/default.asp\"\\n                  class=\"serviceslink ga-top-drop ga-top-drop-services-code-editor\"\\n                  title=\"W3Schools Code Editor\"\\n                  aria-label=\"Code editor\"\\n                >\\n                  <div class=\"w3-padding services w3-round\">\\n                    <h4>Code Editor (Try it)</h4>\\n                    <p>\\n                      With our online code editor, you can edit code and view\\n                      the result in your browser\\n                    </p>\\n                  </div>\\n                </a>\\n              </div>\\n\\n              <div class=\"servicebox tnb-paid-service\">\\n                <a\\n                  \\n                  href=\"/videos/index.php\"\\n                  class=\"serviceslink ga-top-drop ga-top-drop-services-videos\"\\n                  title=\"HTML Video Tutorial\"\\n                  aria-label=\"Videos\"\\n                >\\n                  <div\\n                    class=\"w3-padding services w3-round\"\\n                    style=\"position: relative\"\\n                  >\\n                    <h4>Videos</h4>\\n                    <p>\\n                      Learn the basics of HTML in a fun and engaging video\\n                      tutorial\\n                    </p>\\n                    <svg\\n                      style=\"position: absolute; top: 15px; right: 25px\"\\n                      width=\"15\"\\n                      height=\"36\"\\n                      viewBox=\"0 0 12 16\"\\n                      fill=\"none\"\\n                      xmlns=\"http://www.w3.org/2000/svg\"\\n                      aria-hidden=\"true\"\\n                    >\\n                      <path\\n                        d=\"M6.65723 6.24707C6.76704 5.91764 7.233 5.91765 7.34281 6.24707L7.98828 8.1835C8.276 9.04666 8.95332 9.72399 9.81648 10.0117L11.7529 10.6572C12.0824 10.767 12.0824 11.233 11.7529 11.3428L9.81649 11.9883C8.95332 12.276 8.27599 12.9533 7.98828 13.8165L7.34281 15.7529C7.233 16.0823 6.76704 16.0823 6.65723 15.7529L6.01173 13.8165C5.72401 12.9533 5.04669 12.276 4.18353 11.9883L2.24707 11.3428C1.91764 11.233 1.91764 10.767 2.24707 10.6572L4.18353 10.0117C5.04669 9.72399 5.72401 9.04667 6.01173 8.18352L6.65723 6.24707Z\"\\n                        fill=\"#9763f6\"\\n                      ></path>\\n                      <path\\n                        d=\"M2.79434 1.14824C2.86023 0.950586 3.1398 0.950587 3.20569 1.14824L3.59297 2.3101C3.7656 2.828 4.172 3.2344 4.6899 3.40703L5.85177 3.79432C6.04942 3.86021 6.04942 4.13978 5.85177 4.20567L4.6899 4.59296C4.172 4.76559 3.7656 5.17199 3.59297 5.68989L3.20569 6.85176C3.13981 7.04941 2.86023 7.04942 2.79434 6.85176L2.40704 5.68988C2.23441 5.17198 1.82801 4.76559 1.31012 4.59296L0.148241 4.20567C-0.0494137 4.13978 -0.0494138 3.86021 0.148241 3.79432L1.31012 3.40703C1.82802 3.2344 2.23441 2.82801 2.40704 2.31011L2.79434 1.14824Z\"\\n                        fill=\"#9763f6\"\\n                      ></path>\\n                      <path\\n                        d=\"M9.8629 0.0988265C9.90682 -0.032943 10.0932 -0.0329419 10.1371 0.098828L10.3953 0.873401C10.5104 1.21867 10.7813 1.4896 11.1266 1.60469L11.9012 1.86288C12.0329 1.9068 12.0329 2.09319 11.9012 2.13711L11.1266 2.39531C10.7813 2.51039 10.5104 2.78133 10.3953 3.12659L10.1371 3.90117C10.0932 4.03294 9.90682 4.03294 9.8629 3.90117L9.6047 3.12659C9.48961 2.78132 9.21868 2.5104 8.87342 2.39531L8.09883 2.13711C7.96706 2.09319 7.96706 1.9068 8.09883 1.86288L8.87342 1.60469C9.21868 1.4896 9.48961 1.21867 9.6047 0.873408L9.8629 0.0988265Z\"\\n                        fill=\"#9763f6\"\\n                      ></path>\\n                    </svg>\\n                  </div>\\n                </a>\\n              </div>\\n\\n              <div class=\"servicebox\">\\n                <a\\n                  \\n                  href=\"/w3css/w3css_templates.asp\"\\n                  class=\"serviceslink ga-top-drop ga-top-drop-services-templates\"\\n                  title=\"Free Web Templates\"\\n                  aria-label=\"Templates\"\\n                >\\n                  <div class=\"w3-padding services w3-round\">\\n                    <h4>Templates</h4>\\n                    <p>\\n                      We have created a bunch of responsive website templates\\n                      you can use - for free!\\n                    </p>\\n                  </div>\\n                </a>\\n              </div>\\n\\n              <div class=\"servicebox\">\\n                <a\\n                  \\n                  href=\"/spaces/index.php\"\\n                  class=\"serviceslink ga-top-drop ga-top-drop-services-webhosting\"\\n                  title=\"Web Hosting with Spaces\"\\n                  aria-label=\"Web Hosting with Spaces\"\\n                >\\n                  <div class=\"w3-padding services w3-round\">\\n                    <h4>Web Hosting</h4>\\n                    <p>\\n                      Host your own website, and share it to the world with\\n                      <strong>W3Schools Spaces</strong>\\n                    </p>\\n                  </div>\\n                </a>\\n              </div>\\n\\n              <div class=\"servicebox tnb-paid-service\">\\n                <a\\n                  \\n                  href=\"/spaces/index.php\"\\n                  class=\"serviceslink ga-top-drop ga-top-drop-services-createserver\"\\n                  title=\"Get your own server\"\\n                  aria-label=\"Get your own server\"\\n                >\\n                  <div\\n                    class=\"w3-padding services w3-round\"\\n                    style=\"position: relative\"\\n                  >\\n                    <h4>Create a Server</h4>\\n                    <p>\\n                      Create your own server using Python, PHP, React.js,\\n                      Node.js, Java, C#, etc.\\n                    </p>\\n                    <svg\\n                      style=\"position: absolute; top: 15px; right: 25px\"\\n                      width=\"15\"\\n                      height=\"36\"\\n                      viewBox=\"0 0 12 16\"\\n                      fill=\"none\"\\n                      xmlns=\"http://www.w3.org/2000/svg\"\\n                      aria-hidden=\"true\"\\n                    >\\n                      <path\\n                        d=\"M6.65723 6.24707C6.76704 5.91764 7.233 5.91765 7.34281 6.24707L7.98828 8.1835C8.276 9.04666 8.95332 9.72399 9.81648 10.0117L11.7529 10.6572C12.0824 10.767 12.0824 11.233 11.7529 11.3428L9.81649 11.9883C8.95332 12.276 8.27599 12.9533 7.98828 13.8165L7.34281 15.7529C7.233 16.0823 6.76704 16.0823 6.65723 15.7529L6.01173 13.8165C5.72401 12.9533 5.04669 12.276 4.18353 11.9883L2.24707 11.3428C1.91764 11.233 1.91764 10.767 2.24707 10.6572L4.18353 10.0117C5.04669 9.72399 5.72401 9.04667 6.01173 8.18352L6.65723 6.24707Z\"\\n                        fill=\"#9763f6\"\\n                      ></path>\\n                      <path\\n                        d=\"M2.79434 1.14824C2.86023 0.950586 3.1398 0.950587 3.20569 1.14824L3.59297 2.3101C3.7656 2.828 4.172 3.2344 4.6899 3.40703L5.85177 3.79432C6.04942 3.86021 6.04942 4.13978 5.85177 4.20567L4.6899 4.59296C4.172 4.76559 3.7656 5.17199 3.59297 5.68989L3.20569 6.85176C3.13981 7.04941 2.86023 7.04942 2.79434 6.85176L2.40704 5.68988C2.23441 5.17198 1.82801 4.76559 1.31012 4.59296L0.148241 4.20567C-0.0494137 4.13978 -0.0494138 3.86021 0.148241 3.79432L1.31012 3.40703C1.82802 3.2344 2.23441 2.82801 2.40704 2.31011L2.79434 1.14824Z\"\\n                        fill=\"#9763f6\"\\n                      ></path>\\n                      <path\\n                        d=\"M9.8629 0.0988265C9.90682 -0.032943 10.0932 -0.0329419 10.1371 0.098828L10.3953 0.873401C10.5104 1.21867 10.7813 1.4896 11.1266 1.60469L11.9012 1.86288C12.0329 1.9068 12.0329 2.09319 11.9012 2.13711L11.1266 2.39531C10.7813 2.51039 10.5104 2.78133 10.3953 3.12659L10.1371 3.90117C10.0932 4.03294 9.90682 4.03294 9.8629 3.90117L9.6047 3.12659C9.48961 2.78132 9.21868 2.5104 8.87342 2.39531L8.09883 2.13711C7.96706 2.09319 7.96706 1.9068 8.09883 1.86288L8.87342 1.60469C9.21868 1.4896 9.48961 1.21867 9.6047 0.873408L9.8629 0.0988265Z\"\\n                        fill=\"#9763f6\"\\n                      ></path>\\n                    </svg>\\n                  </div>\\n                </a>\\n              </div>\\n\\n              <div class=\"servicebox\">\\n                <a\\n                  \\n                  href=\"/howto/default.asp\"\\n                  class=\"serviceslink ga-top-drop ga-top-drop-services-howto\"\\n                  title=\"How To Collection\"\\n                  aria-label=\"How To\\'s\"\\n                >\\n                  <div class=\"w3-padding services w3-round\">\\n                    <h4>How To\\'s</h4>\\n                    <p>\\n                      Large collection of code snippets for HTML, CSS and\\n                      JavaScript\\n                    </p>\\n                  </div>\\n                </a>\\n              </div>\\n\\n              <div class=\"servicebox\">\\n                <a\\n                  \\n                  href=\"/w3css/default.asp\"\\n                  class=\"serviceslink ga-top-drop ga-top-drop-services-w3css\"\\n                  title=\"W3.CSS Framework\"\\n                  aria-label=\"W3.CSS Framework\"\\n                >\\n                  <div class=\"w3-padding services w3-round\">\\n                    <h4>CSS Framework</h4>\\n                    <p>\\n                      Build fast and responsive sites using our free\\n                      <strong>W3.CSS</strong>\\n                      framework\\n                    </p>\\n                  </div>\\n                </a>\\n              </div>\\n\\n              <div class=\"servicebox\">\\n                <a\\n                  \\n                  href=\"/browsers/default.asp\"\\n                  class=\"serviceslink ga-top-drop ga-top-drop-services-browserstat\"\\n                  title=\"Browser Statistics\"\\n                  aria-label=\"Browser Statistics\"\\n                >\\n                  <div class=\"w3-padding services w3-round\">\\n                    <h4>Browser Statistics</h4>\\n                    <p>Read long term trends of browser usage</p>\\n                  </div>\\n                </a>\\n              </div>\\n\\n              <div class=\"servicebox\">\\n                <a\\n                  \\n                  href=\"/typingspeed/default.asp\"\\n                  class=\"serviceslink ga-top-drop ga-top-drop-services-typing\"\\n                  title=\"Test Your Typing speed\"\\n                  aria-label=\"Test Your Typing speed\"\\n                >\\n                  <div class=\"w3-padding services w3-round\">\\n                    <h4>Typing Speed</h4>\\n                    <p>Test your typing speed</p>\\n                  </div>\\n                </a>\\n              </div>\\n              <!--\\n              <div class=\"servicebox\">\\n                <a\\n                  \\n                  href=\"/training/aws/home/\"\\n                  class=\"serviceslink ga-top-drop ga-top-drop-services-aws-training\"\\n                  title=\"AWS Training\"\\n                  aria-label=\"AWS Training\"\\n                >\\n                  <div\\n                    class=\"w3-padding services w3-round\"\\n                    style=\"position: relative\"\\n                  >\\n                    <h4>AWS Training</h4>\\n                    <p>Learn Amazon Web Services</p>\\n                  </div>\\n                </a>\\n              </div>\\n-->\\n              <div class=\"servicebox\">\\n                <a\\n                  \\n                  href=\"/colors/colors_picker.asp\"\\n                  class=\"serviceslink ga-top-drop ga-top-drop-services-color-picker\"\\n                  title=\"Color Picker\"\\n                  aria-label=\"Color picker\"\\n                >\\n                  <div\\n                    class=\"w3-padding services w3-round\"\\n                    style=\"position: relative\"\\n                  >\\n                    <h4>Color Picker</h4>\\n                    <p>\\n                      Use our color picker to find different RGB, HEX and HSL\\n                      colors.\\n                      <img\\n                        class=\"w3-hide-medium\"\\n                        src=\"/images/colorpicker2000.png\"\\n                        alt=\"A circular color wheel showing the gradation of colors in the spectrum\"\\n                        loading=\"lazy\"\\n                        style=\"\\n                          margin-left: 15px;\\n                          width: 35px;\\n                          position: absolute;\\n                          top: 15px;\\n                          right: 15px;\\n                        \"\\n                      />\\n                    </p>\\n                  </div>\\n                </a>\\n              </div>\\n\\n              <div class=\"servicebox\">\\n                <a\\n                  \\n                  href=\"/codegame/index.html\"\\n                  class=\"serviceslink ga-top-drop ga-top-drop-services-code-game\"\\n                  title=\"Coding Game\"\\n                  aria-label=\"Code game\"\\n                >\\n                  <div\\n                    class=\"w3-padding services w3-round\"\\n                    style=\"position: relative\"\\n                  >\\n                    <h4>Code Game</h4>\\n                    <p style=\"margin-top: 15px\">\\n                      W3Schools Coding Game! Help the lynx collect pine cones\\n                      <img\\n                        class=\"w3-hide-medium\"\\n                        src=\"/signup/lynxlogo.svg\"\\n                        alt=\"Lynx logo\"\\n                        style=\"\\n                          margin-left: 15px;\\n                          width: 35px;\\n                          position: absolute;\\n                          top: 7px;\\n                          right: 15px;\\n                        \"\\n                      />\\n                    </p>\\n                  </div>\\n                </a>\\n              </div>\\n              <!--\\n              <div class=\"servicebox\">\\n                <a\\n                  \\n                  href=\"/pathfinder/pathfinder_goals.php\"\\n                  class=\"serviceslink ga-top-drop ga-top-drop-services-goals\"\\n                  title=\"Get personalized learning journey based on your current skills and goals\"\\n                  aria-label=\"Get personalized learning journey based on your current skills and goals\"\\n                >\\n                  <div class=\"w3-padding services w3-round\">\\n                    <h4>Set Goal</h4>\\n                    <p>Get personalized learning journey based on your current skills and goals</p>\\n                  </div>\\n                </a>\\n              </div>\\n-->\\n              <div class=\"servicebox\">\\n                <a\\n                  target=\"_blank\"\\n                  href=\"https://campus.w3schools.com/pages/newsletter\"\\n                  class=\"serviceslink ga-top-drop ga-top-drop-services-newsletter\"\\n                  title=\"Join Our Newsletter\"\\n                  aria-label=\"Newsletter\"\\n                >\\n                  <div class=\"w3-padding services w3-round\">\\n                    <h4>Newsletter</h4>\\n                    <p>\\n                      Join our newsletter and get access to exclusive content\\n                      every month\\n                    </p>\\n                  </div>\\n                </a>\\n              </div>\\n\\n              <div class=\"servicebox\">\\n                <a\\n                  \\n                  href=\"/academy/index.php\"\\n                  class=\"serviceslink ga-top-drop ga-top-drop-services-academy-teachers\"\\n                  title=\"W3Schools Academy / Classroom\"\\n                  aria-label=\"W3Schools Academy / Classroom\"\\n                >\\n                  <div class=\"w3-padding services w3-round\">\\n                    <h4>For Teachers</h4>\\n                    <p>\\n                      Contact us about W3Schools Academy for educational\\n                      institutions\\n                    </p>\\n                  </div>\\n                </a>\\n              </div>\\n\\n              <div class=\"servicebox\">\\n                <a\\n                  \\n                  href=\"/academy/index.php\"\\n                  class=\"serviceslink ga-top-drop ga-top-drop-services-academy-business\"\\n                  title=\"W3Schools Academy / Classroom\"\\n                  aria-label=\"W3Schools Academy / Classroom\"\\n                >\\n                  <div class=\"w3-padding services w3-round\">\\n                    <h4>For Businesses</h4>\\n                    <p>\\n                      Contact us about W3Schools Academy for your organization\\n                    </p>\\n                  </div>\\n                </a>\\n              </div>\\n\\n              <div class=\"servicebox\">\\n                <div\\n                  class=\"serviceslink ga-top-drop ga-top-drop-services-contact-us\"\\n                  title=\"Contact Us\"\\n                  aria-label=\"Contact Us\"\\n                >\\n                  <div class=\"w3-padding services w3-round\">\\n                    <h4>Contact Us</h4>\\n                    <p>\\n                      About sales:\\n                      <span style=\"float: right\">sales@w3schools.com</span>\\n                      <br />\\n                      About errors:\\n                      <span style=\"float: right\">help@w3schools.com</span>\\n                    </p>\\n                  </div>\\n                </div>\\n              </div>\\n\\n              <div class=\"tnb-social-network-btns w3-hide-small w3-hide-medium\">\\n                <a\\n                  target=\"_blank\"\\n                  href=\"https://www.youtube.com/@w3schools\"\\n                  title=\"W3Schools on YouTube\"\\n                  class=\"w3-button w3-round ga-fp\"\\n                >\\n                  <i class=\"tnb-icon fa fa-youtube\" aria-hidden=\"true\"></i>\\n                </a>\\n\\n                <a\\n                  target=\"_blank\"\\n                  href=\"https://www.linkedin.com/company/w3schools.com/\"\\n                  title=\"W3Schools on LinkedIn\"\\n                  class=\"w3-button w3-round ga-fp\"\\n                >\\n                  <i class=\"tnb-icon fa\" aria-hidden=\"true\"> &#62220; </i>\\n                </a>\\n\\n                <a\\n                  target=\"_blank\"\\n                  href=\"https://discord.com/invite/w3schools\"\\n                  title=\"Join the W3schools community on Discord\"\\n                  class=\"w3-button w3-round ga-fp\"\\n                >\\n                  <i class=\"tnb-icon fa -discord\" aria-hidden=\"true\">\\n                    &#59399;\\n                  </i>\\n                </a>\\n\\n                <a\\n                  target=\"_blank\"\\n                  href=\"https://www.facebook.com/w3schoolscom/\"\\n                  title=\"W3Schools on Facebook\"\\n                  class=\"w3-button w3-round ga-fp\"\\n                >\\n                  <i class=\"tnb-icon fa\" aria-hidden=\"true\"> &#59398; </i>\\n                </a>\\n\\n                <a\\n                  target=\"_blank\"\\n                  href=\"https://www.instagram.com/w3schools.com_official/\"\\n                  title=\"W3Schools on Instagram\"\\n                  class=\"w3-button w3-round ga-fp\"\\n                >\\n                  <i class=\"tnb-icon fa\" aria-hidden=\"true\"> &#61805; </i>\\n                </a>\\n              </div>\\n            </div>\\n\\n            <div\\n              class=\"w3-button tnb-close-nav-btn w3-round\"\\n              tabindex=\"0\"\\n              onclick=\"TopNavBar.closeNavItem(\\'services\\')\"\\n              onkeydown=\"TopNavBar.mouseHandler(event, this, \\'services\\')\"\\n              role=\"button\"\\n              aria-label=\"Close navigation\"\\n            >\\n              <span>&times;</span>\\n            </div>\\n          </div>\\n        </div>\\n      </nav>\\n    </div>\\n  </div>\\n\\n  <script>\\n    var array_search_suggestions = [\\n      [\\n        \"html\",\\n        \"/html/default.asp\",\\n        \"HTML Tutorial\",\\n      ],\\n      [\\n        \"css\",\\n        \"/css/default.asp\",\\n        \"CSS Tutorial\",\\n      ],\\n      [\\n        \"js\",\\n        \"/js/default.asp\",\\n        \"JavaScript Tutorial\",\\n      ],\\n      [\\n        \"python\",\\n        \"/python/default.asp\",\\n        \"Python Tutorial\",\\n      ],\\n      [\\n        \"sql\",\\n        \"/sql/default.asp\",\\n        \"SQL Tutorial\",\\n      ],\\n      [\\n        \"php\",\\n        \"/php/default.asp\",\\n        \"PHP Tutorial\",\\n      ],\\n      [\\n        \"java\",\\n        \"/java/default.asp\",\\n        \"JAVA Tutorial\",\\n      ],\\n      [\"c\", \"/c/index.php\", \"C Tutorial\"],\\n      [\\n        \"c++\",\\n        \"/cpp/default.asp\",\\n        \"C++ Tutorial\",\\n      ],\\n      [\"c#\", \"/cs/index.php\", \"C# Tutorial\"],\\n      [\\n        \"jquery\",\\n        \"/jquery/default.asp\",\\n        \"jQuery Tutorial\",\\n      ],\\n      [\\n        \"w3css\",\\n        \"/w3css/default.asp\",\\n        \"W3.CSS Tutorial\",\\n      ],\\n      [\\n        \"bootstrap 3\",\\n        \"/bootstrap/default.asp\",\\n        \"Bootstrap3 Tutorial\",\\n      ],\\n      [\\n        \"bootstrap 4\",\\n        \"/bootstrap4/default.asp\",\\n        \"Bootstrap4 Tutorial\",\\n      ],\\n      [\\n        \"bootstrap 5\",\\n        \"/bootstrap5/index.php\",\\n        \"Bootstrap5 Tutorial\",\\n      ],\\n      [\"r\", \"/r/default.asp\", \"R Tutorial\"],\\n      [\"rust\", \"/rust/index.php\", \"Rust Tutorial\"],\\n      [\\n        \"html lists\",\\n        \"/html/html_lists.asp\",\\n        \"HTML List Tutorial\",\\n        \"li\",\\n      ],\\n      [\\n        \"html lists\",\\n        \"/html/html_lists_ordered.asp\",\\n        \"HTML Ordered Lists\",\\n        [\"li\", \"or\"],\\n      ],\\n      [\\n        \"html lists\",\\n        \"/html/html_lists_unordered.asp\",\\n        \"HTML Unordered Lists\",\\n        [\"li\", \"or\"],\\n      ],\\n      [\\n        \"css lists\",\\n        \"/css/css_list.asp\",\\n        \"CSS Styling Lists\",\\n        \"li\",\\n      ],\\n      [\\n        \"\",\\n        \"/python/python_lists.asp\",\\n        \"Python Lists\",\\n        \"li\",\\n      ],\\n      [\\n        \"\",\\n        \"/js/js_arrays.asp\",\\n        \"JavaScript Array Tutorial\",\\n        \"ar\",\\n      ],\\n      [\\n        \"\",\\n        \"/jsref/jsref_obj_array.asp\",\\n        \"JavaScript Array Object\",\\n        \"ar\",\\n      ],\\n      [\\n        \"\",\\n        \"/js/js_array_methods.asp\",\\n        \"JavaScript Array Methods\",\\n        \"ar\",\\n      ],\\n      [\\n        \"\",\\n        \"/python/python_arrays.asp\",\\n        \"Python Arrays\",\\n        \"ar\",\\n      ],\\n      [\\n        \"\",\\n        \"/php/php_arrays.asp\",\\n        \"PHP Array Tutorial\",\\n        \"ar\",\\n      ],\\n      [\\n        \"\",\\n        \"/java/java_arrays.asp\",\\n        \"Java Array Tutorial\",\\n        \"ar\",\\n      ],\\n      [\\n        \"kotlin\",\\n        \"/kotlin/index.php\",\\n        \"KOTLIN Tutorial\",\\n      ],\\n      [\\n        \"mysql\",\\n        \"/mysql/default.asp\",\\n        \"MySQL Tutorial\",\\n      ],\\n      [\\n        \"postgresql\",\\n        \"/postgresql/index.php\",\\n        \"PostgreSQL Tutorial\",\\n      ],\\n      [\\n        \"nodejs\",\\n        \"/nodejs/default.asp\",\\n        \"Node.js Tutorial\",\\n      ],\\n      [\\n        \"react.js\",\\n        \"/react/default.asp\",\\n        \"REACT Tutorial\",\\n      ],\\n      [\\n        \"vuejs\",\\n        \"/vue/index.php\",\\n        \"Vue.js Tutorial\",\\n      ],\\n      [\\n        \"json\",\\n        \"/js/js_json.asp\",\\n        \"JSON Tutorial\",\\n      ],\\n      [\\n        \"angularjs\",\\n        \"/angular/default.asp\",\\n        \"AngularJS Tutorial\",\\n      ],\\n      [\\n        \"w3js\",\\n        \"/w3js/default.asp\",\\n        \"W3.JS Tutorial\",\\n      ],\\n      [\\n        \"xml\",\\n        \"/xml/default.asp\",\\n        \"XML Tutorial\",\\n      ],\\n      [\\n        \"sass\",\\n        \"/sass/default.php\",\\n        \"SASS Tutorial\",\\n      ],\\n      [\\n        \"icons\",\\n        \"/icons/default.asp\",\\n        \"Icons Tutorial\",\\n      ],\\n      [\\n        \"\",\\n        \"/icons/icons_reference.asp\",\\n        \"Font Awesome Icons\",\\n      ],\\n      [\\n        \"\",\\n        \"/howto/howto_google_fonts.asp\",\\n        \"Google Fonts\",\\n      ],\\n      [\\n        \"rwd\",\\n        \"/css/css_rwd_intro.asp\",\\n        \"Responsive Web Design Tutorial\",\\n      ],\\n      [\\n        \"graphics\",\\n        \"/graphics/default.asp\",\\n        \"Graphics Tutorial\",\\n      ],\\n      [\\n        \"graphics\",\\n        \"/graphics/svg_intro.asp\",\\n        \"SVG Tutorial\",\\n      ],\\n      [\\n        \"canvas\",\\n        \"/graphics/canvas_intro.asp\",\\n        \"Canvas Tutorial\",\\n      ],\\n      [\\n        \"raspberry pi\",\\n        \"/nodejs/nodejs_raspberrypi.asp\",\\n        \"RaspberryPi Tutorial\",\\n      ],\\n      [\\n        \"cybersecurity\",\\n        \"/cybersecurity/index.php\",\\n        \"Cyber Security Tutorial\",\\n      ],\\n      [\\n        \"colors\",\\n        \"/colors/default.asp\",\\n        \"Colors Tutorial\",\\n      ],\\n      [\\n        \"typescript\",\\n        \"/typescript/index.php\",\\n        \"TypeScript Tutorial\",\\n      ],\\n      [\\n        \"git\",\\n        \"/git/default.asp\",\\n        \"Git Tutorial\",\\n      ],\\n      [\\n        \"bash\",\\n        \"/bash/index.php\",\\n        \"Bash Tutorial\",\\n      ],\\n      [\\n        \"matplotlib\",\\n        \"/python/matplotlib_intro.asp\",\\n        \"Matplotlib Tutorial\",\\n      ],\\n      [\\n        \"numpy\",\\n        \"/python/numpy/default.asp\",\\n        \"NumPy Tutorial\",\\n      ],\\n      [\\n        \"pandas\",\\n        \"/python/pandas/default.asp\",\\n        \"Pandas Tutorial\",\\n      ],\\n      [\\n        \"scipy\",\\n        \"/python/scipy/index.php\",\\n        \"SciPy Tutorial\",\\n      ],\\n      [\\n        \"asp\",\\n        \"/asp/default.asp\",\\n        \"ASP Tutorial\",\\n      ],\\n      [\\n        \"accessibility\",\\n        \"/accessibility/index.php\",\\n        \"Accessibility Tutorial\",\\n      ],\\n      [\\n        \"appml\",\\n        \"/appml/default.asp\",\\n        \"AppML Tutorial\",\\n      ],\\n      [\"go\", \"/go/index.php\", \"GO Tutorial\"],\\n      [\\n        \"DSA\",\\n        \"/dsa/index.php\",\\n        \"Data Structures and Algorithms\",\\n      ],\\n      [\\n        \"excell\",\\n        \"/excel/index.php\",\\n        \"Excel Tutorial\",\\n      ],\\n      [\\n        \"google sheets\",\\n        \"/googlesheets/index.php\",\\n        \"Google Sheets Tutorial\",\\n      ],\\n      [\\n        \"ml\",\\n        \"/python/python_ml_getting_started.asp\",\\n        \"Machine Learning Tutorial\",\\n      ],\\n      [\\n        \" artificial intelligence\",\\n        \"/ai/default.asp\",\\n        \"AI Tutorial\",\\n      ],\\n      [\\n        \"statistics\",\\n        \"/statistics/index.php\",\\n        \"Statistics Tutorial\",\\n      ],\\n      [\\n        \"data science\",\\n        \"/datascience/default.asp\",\\n        \"Data Science Tutorial\",\\n      ],\\n      [\\n        \"code editor\",\\n        \"/tryit/tryit.asp?filename=tryhtml_hello\",\\n        \"Tryit Editor\",\\n      ],\\n      [\\n        \"color picker\",\\n        \"/colors/colors_picker.asp\",\\n        \"Color Picker\",\\n      ],\\n      [\\n        \"code game\",\\n        \"/codegame/index.html\",\\n        \"Code Game\",\\n      ],\\n      [\\n        \"exercises\",\\n        \"/exercises/index.php\",\\n        \"Exercises\",\\n      ],\\n      [\\n        \"quizzes\",\\n        \"/quiztest/default.asp\",\\n        \"Quizzes\",\\n      ],\\n      [\\n        \"templates\",\\n        \"/w3css/w3css_templates.asp\",\\n        \"W3.CSS Templates\",\\n      ],\\n      [\\n        \"courses\",\\n        \"https://shop.w3schools.com/collections/course-catalog\",\\n        \"Courses\",\\n      ],\\n      [\\n        \"certificates\",\\n        \"https://shop.w3schools.com/collections/certifications\",\\n        \"Certificates\",\\n      ],\\n      [\\n        \"spaces\",\\n        \"/spaces/index.php\",\\n        \"W3Schools Spaces\",\\n      ],\\n      [\\n        \"website\",\\n        \"/spaces/index.php\",\\n        \"Create website\",\\n      ],\\n      [\\n        \"how to\",\\n        \"/howto/default.asp\",\\n        \"How-To Library\",\\n      ],\\n      //      [\"aws cloud\", \"/aws/index.php\", \"AWS Cloud Tutorial\"],\\n      [\\n        \"btn\",\\n        \"/tags/tag_button.asp\",\\n        \"HTML Button Tag\",\\n        [\"bu\", \"btn\"],\\n      ],\\n      [\\n        \"btn\",\\n        \"/css/css3_buttons.asp\",\\n        \"CSS Buttons\",\\n        [\"bu\", \"btn\"],\\n      ],\\n      [\\n        \"btn\",\\n        \"/bootstrap5/bootstrap_buttons.php\",\\n        \"Bootstrap 5 Buttons\",\\n        [\"bu\", \"btn\"],\\n      ],\\n      [\\n        \"btn\",\\n        \"/bootstrap5/bootstrap_button_groups.php\",\\n        \"Bootstrap 5 Button Groups\",\\n        [\"bu\", \"btn\"],\\n      ],\\n      [\\n        \"btn\",\\n        \"/w3css/w3css_buttons.asp\",\\n        \"W3.CSS Buttons\",\\n        [\"bu\", \"btn\"],\\n      ],\\n      [\\n        \"btn\",\\n        \"/howto/howto_css_round_buttons.asp\",\\n        \"How to create round buttons\",\\n        [\"bu\", \"btn\"],\\n      ],\\n      [\\n        \"\",\\n        \"/html/html_links.asp\",\\n        \"HTML Button as a link\",\\n        [\"bu\", \"btn\"],\\n      ],\\n      [\\n        \"tbl\",\\n        \"/html/html_tables.asp\",\\n        \"HTML Tables\",\\n      ],\\n      [\\n        \"tbl\",\\n        \"/tags/tag_table.asp\",\\n        \"HTML Table Tag\",\\n        [\"ta\", \"tb\"],\\n      ],\\n      [\\n        \"tbl\",\\n        \"/css/css_table.asp\",\\n        \"CSS Styling Tables\",\\n        [\"ta\", \"tb\"],\\n      ],\\n      [\\n        \"tbl\",\\n        \"/sql/sql_create_table.asp\",\\n        \"SQL CREATE TABLE\",\\n        [\"ta\", \"tb\"],\\n      ],\\n      [\\n        \"tbl\",\\n        \"/html/html_table_borders.asp\",\\n        \"HTML Table Borders\",\\n        [\"ta\", \"tb\"],\\n      ],\\n      [\\n        \"tbl\",\\n        \"/html/html_table_headers.asp\",\\n        \"HTML Table Headers\",\\n        [\"ta\", \"tb\"],\\n      ],\\n      [\"\", \"/tags/tag_div.asp\", \"HTML div Tag\"],\\n      [\\n        \"div\",\\n        \"/html/html_div.asp\",\\n        \"HTML div Tutorial\",\\n        \"div\",\\n      ],\\n      [\\n        \"div\",\\n        \"/html/html_blocks.asp\",\\n        \"HTML Block Elements\",\\n        \"div\",\\n      ],\\n      [\\n        \"\",\\n        \"/html/html_form_input_types.asp\",\\n        \"HTML Input Types\",\\n        \"in\",\\n      ],\\n      [\\n        \"\",\\n        \"/tags/tag_input.asp\",\\n        \"HTML Input Tag\",\\n        \"in\",\\n      ],\\n      [\\n        \"\",\\n        \"/html/html_form_attributes.asp\",\\n        \"HTML Input Attributes\",\\n        \"in\",\\n      ],\\n      [\\n        \"\",\\n        \"/python/ref_func_input.asp\",\\n        \"Python input() Function\",\\n        [\"in\", \"us\"],\\n      ],\\n      [\\n        \"\",\\n        \"/c/c_user_input.php\",\\n        \"C User Input\",\\n        [\"in\", \"us\"],\\n      ],\\n      [\\n        \"\",\\n        \"/cpp/cpp_user_input.asp\",\\n        \"C++ User Input\",\\n        [\"in\", \"us\"],\\n      ],\\n      [\"\", \"/css/css_border.asp\", \"CSS Borders\"],\\n      [\\n        \"\",\\n        \"/cssref/pr_border.php\",\\n        \"CSS border Property\",\\n      ],\\n      [\\n        \"\",\\n        \"/html/html_table_borders.asp\",\\n        \"HTML Table Borders\",\\n        \"bo\",\\n      ],\\n      [\"\", \"/html/html_forms.asp\", \"HTML Forms\"],\\n      [\\n        \"\",\\n        \"/howto/howto_css_login_form.asp\",\\n        \"How to create a login form\",\\n      ],\\n      [\\n        \"\",\\n        \"/html/html_form_elements.asp\",\\n        \"HTML Form Elements\",\\n      ],\\n      [\\n        \"\",\\n        \"/tags/tag_form.asp\",\\n        \"HTML form Tag\",\\n      ],\\n      [\\n        \"\",\\n        \"/html/html_forms_attributes.asp\",\\n        \"HTML Form Attributes\",\\n      ],\\n      [\\n        \"\",\\n        \"/cssref/sel_hover.php\",\\n        \"CSS hover Selector\",\\n      ],\\n      [\\n        \"css hover\",\\n        \"/css/css3_transitions.asp\",\\n        \"CSS Transitions\",\\n      ],\\n      [\\n        \"img\",\\n        \"/html/html_images.asp\",\\n        \"HTML Images\",\\n      ],\\n      [\\n        \"img\",\\n        \"/css/css_background_image.asp\",\\n        \"CSS Background Images\",\\n      ],\\n      [\\n        \"img\",\\n        \"/cssref/pr_background-image.php\",\\n        \"CSS background-image Property\",\\n      ],\\n      [\\n        \"img\",\\n        \"/html/html_images_imagemap.asp\",\\n        \"HTML Image Map\",\\n      ],\\n      [\\n        \"img\",\\n        \"/howto/howto_css_image_overlay.asp\",\\n        \"How to create image hover effects\",\\n      ],\\n      [\\n        \"\",\\n        \"/css/css_background.asp\",\\n        \"CSS Backgrounds\",\\n      ],\\n      [\\n        \"\",\\n        \"/cssref/css3_pr_background.php\",\\n        \"CSS background Property\",\\n      ],\\n      [\\n        \"\",\\n        \"/html/html_images_background.asp\",\\n        \"HTML Background Images\",\\n      ],\\n      [\"\", \"/css/css_font.asp\", \"CSS Fonts\"],\\n      [\\n        \"\",\\n        \"/cssref/pr_font_font.php\",\\n        \"CSS font Property\",\\n      ],\\n      [\\n        \"\",\\n        \"/cssref/pr_font_font.php\",\\n        \"CSS font-family Property\",\\n      ],\\n      [\\n        \"\",\\n        \"/css/css3_fonts.asp\",\\n        \"CSS Web Fonts\",\\n      ],\\n      [\\n        \"\",\\n        \"/cssref/css3_pr_font-face_rule.php\",\\n        \"CSS @font-face Rule\",\\n      ],\\n      [\\n        \"\",\\n        \"/cssref/css_websafe_fonts.php\",\\n        \"Web Safe Fonts\",\\n      ],\\n      [\\n        \"\",\\n        \"/css/css_positioning.asp\",\\n        \"CSS Position\",\\n      ],\\n      [\\n        \"\",\\n        \"/cssref/pr_class_position.php\",\\n        \"CSS position Property\",\\n      ],\\n      [\\n        \"\",\\n        \"/cssref/pr_background-position.php\",\\n        \"CSS background-position Property\",\\n      ],\\n      [\\n        \"\",\\n        \"/sql/func_mysql_position.asp\",\\n        \"MySQL POSITION() Function\",\\n        \"pos\",\\n      ],\\n      [\\n        \"\",\\n        \"/css/css_padding.asp\",\\n        \"CSS Padding\",\\n      ],\\n      [\\n        \"\",\\n        \"/cssref/pr_padding.php\",\\n        \"CSS padding Property\",\\n      ],\\n      [\\n        \"\",\\n        \"/html/html_table_padding_spacing.asp\",\\n        \"HTML Table Cell Padding\",\\n      ],\\n      [\\n        \"\",\\n        \"/cssref/pr_padding-top.php\",\\n        \"CSS padding-top Property\",\\n      ],\\n      [\\n        \"\",\\n        \"/cssref/pr_padding-right.php\",\\n        \"CSS padding-right Property\",\\n      ],\\n      [\\n        \"\",\\n        \"/cssref/pr_padding-bottom.php\",\\n        \"CSS padding-bottom Property\",\\n      ],\\n      [\\n        \"\",\\n        \"/cssref/pr_padding-left.php\",\\n        \"CSS padding-left Property\",\\n      ],\\n      [\\n        \"\",\\n        \"/tags/tag_span.asp\",\\n        \"HTML span Tag\",\\n      ],\\n      [\\n        \"\",\\n        \"/html/html_table_colspan_rowspan.asp\",\\n        \"HTML Table Colspan/Rowspan\",\\n      ],\\n      [\\n        \"inline span\",\\n        \"/html/html_blocks.asp\",\\n        \"HTML Inline Elements\",\\n      ],\\n      [\\n        \"\",\\n        \"/html/html_colors.asp\",\\n        \"HTML Colors\",\\n      ],\\n      [\"\", \"/css/css_colors.asp\", \"CSS Colors\"],\\n      [\\n        \"\",\\n        \"/tags/ref_colornames.asp\",\\n        \"HTML Color Names\",\\n      ],\\n      [\\n        \"\",\\n        \"/cssref/pr_text_color.php\",\\n        \"CSS color Property\",\\n      ],\\n      [\\n        \"\",\\n        \"/css/css_display_visibility.asp\",\\n        \"CSS Display Tutorial\",\\n      ],\\n      [\\n        \"\",\\n        \"/cssref/pr_class_display.php\",\\n        \"CSS display Property\",\\n      ],\\n      [\\n        \"\",\\n        \"/howto/howto_css_display_element_hover.asp\",\\n        \"How to display elements on hover\",\\n        \"dis\",\\n      ],\\n      [\\n        \"\",\\n        \"/java/java_variables_print.asp\",\\n        \"Java display variables\",\\n      ],\\n      [\\n        \"\",\\n        \"/html/html_layout.asp\",\\n        \"HTML Footer\",\\n      ],\\n      [\\n        \"\",\\n        \"/tags/tag_footer.asp\",\\n        \"HTML footer Tag\",\\n      ],\\n      [\\n        \"\",\\n        \"/howto/howto_css_fixed_footer.asp\",\\n        \"How to create a fixed footer\",\\n        \"fo\",\\n      ],\\n      [\\n        \"\",\\n        \"/css/css_float.asp\",\\n        \"CSS Float Tutorial\",\\n      ],\\n      [\\n        \"\",\\n        \"/cssref/pr_class_float.php\",\\n        \"CSS float Property\",\\n      ],\\n      [\\n        \"\",\\n        \"/python/python_numbers.asp\",\\n        \"Python Float Numbers\",\\n      ],\\n      [\\n        \"\",\\n        \"/c/c_data_types.php\",\\n        \"C Float Data Type\",\\n      ],\\n      [\\n        \"\",\\n        \"/cpp/cpp_data_types.asp\",\\n        \"C++ Float Data Type\",\\n      ],\\n      [\\n        \"\",\\n        \"/cs/cs_data_types.php\",\\n        \"C# Float Data Type\",\\n      ],\\n      [\\n        \"\",\\n        \"/css/css_margin.asp\",\\n        \"CSS Margin Tutorial\",\\n      ],\\n      [\\n        \"\",\\n        \"/cssref/pr_margin.php\",\\n        \"CSS margin Property\",\\n      ],\\n      [\\n        \"\",\\n        \"/w3css/w3css_margins.asp\",\\n        \"W3.CSS Margins\",\\n      ],\\n      [\\n        \"css margins\",\\n        \"/css/css_boxmodel.asp\",\\n        \"CSS Box Model\",\\n      ],\\n      [\\n        \"\",\\n        \"/cssref/pr_margin-top.php\",\\n        \"CSS margin-top Property\",\\n      ],\\n      [\\n        \"\",\\n        \"/cssref/pr_margin-right.php\",\\n        \"CSS margin-right Property\",\\n      ],\\n      [\\n        \"\",\\n        \"/cssref/pr_margin-bottom.php\",\\n        \"CSS margin-bottom Property\",\\n      ],\\n      [\\n        \"\",\\n        \"/cssref/pr_margin-left.php\",\\n        \"CSS margin-left Property\",\\n      ],\\n      [\\n        \"\",\\n        \"/css/css3_flexbox.asp\",\\n        \"CSS Flexbox Tutorial\",\\n      ],\\n      [\\n        \"\",\\n        \"/cssref/css3_pr_flex.php\",\\n        \"CSS flex Property\",\\n      ],\\n      [\\n        \"\",\\n        \"/css/css3_flexbox_container.asp\",\\n        \"CSS Flex Container\",\\n      ],\\n      [\\n        \"\",\\n        \"/css/css3_flexbox_items.asp\",\\n        \"CSS Flex Items\",\\n      ],\\n      [\\n        \"\",\\n        \"/cssref/css3_pr_flex-direction.php\",\\n        \"CSS flex-direction Property\",\\n      ],\\n      [\\n        \"\",\\n        \"/cssref/css3_pr_flex-wrap.php\",\\n        \"CSS flext-wrap Property\",\\n      ],\\n      [\\n        \"\",\\n        \"/bootstrap5/bootstrap_flex.php\",\\n        \"Bootstrap 5 Flex Tutorial\",\\n        \"fle\",\\n      ],\\n      [\\n        \"css navbar\",\\n        \"/css/css_navbar.asp\",\\n        \"CSS Navigation Bar\",\\n      ],\\n      [\\n        \"css navbar\",\\n        \"/css/css_navbar_vertical.asp\",\\n        \"CSS Vertical Navigation Bar\",\\n      ],\\n      [\\n        \"css navbar\",\\n        \"/css/css_navbar_horizontal.asp\",\\n        \"CSS Horizontal Navigation Bar\",\\n      ],\\n      [\\n        \"bootstrap navbar\",\\n        \"/bootstrap5/bootstrap_navbar.php\",\\n        \"Bootstrap 5 Navigation Bar\",\\n        \"na\",\\n      ],\\n      [\\n        \"howto navigation\",\\n        \"/howto/howto_js_navbar_sticky.asp\",\\n        \"How to create a sticky navbar\",\\n        \"na\",\\n      ],\\n      [\\n        \"howto navigation\",\\n        \"/howto/howto_js_topnav.asp\",\\n        \"How to create a top navbar\",\\n        \"na\",\\n      ],\\n      [\\n        \"howto navigation\",\\n        \"/howto/howto_css_dropdown_navbar.asp\",\\n        \"How to create a dropdown navbar\",\\n        \"na\",\\n      ],\\n      [\\n        \"\",\\n        \"/css/css_grid.asp\",\\n        \"CSS Grid Tutorial\",\\n      ],\\n      [\\n        \"\",\\n        \"/css/css_grid_container.asp\",\\n        \"CSS Grid Container\",\\n      ],\\n      [\\n        \"\",\\n        \"/css/css_grid_item.asp\",\\n        \"CSS Grid Item\",\\n      ],\\n      [\\n        \"\",\\n        \"/bootstrap5/bootstrap_grid_basic.php\",\\n        \"Bootstrap 5 Grids\",\\n        \"gri\",\\n      ],\\n      [\\n        \"\",\\n        \"/howto/howto_css_image_grid_responsive.asp\",\\n        \"How to create a resonsive Image Grid\",\\n        \"gri\",\\n      ],\\n      [\\n        \"\",\\n        \"/cssref/pr_grid.php\",\\n        \"CSS grid Property\",\\n        \"gri\",\\n      ],\\n      [\\n        \"\",\\n        \"/html/html_links.asp\",\\n        \"HTML Link Tutorial\",\\n        \"li\",\\n      ],\\n      [\\n        \"html links\",\\n        \"/html/html_links_bookmarks.asp\",\\n        \"HTML Bookmarks\",\\n        \"li\",\\n      ],\\n      [\\n        \"html reference\",\\n        \"/tags/default.asp\",\\n        \"HTML Tag Reference\",\\n      ],\\n      [\\n        \"html certificate\",\\n        \"https://campus.w3schools.com/collections/certifications/products/html-certificate\",\\n        \"HTML Certificate\",\\n      ],\\n      [\\n        \"\",\\n        \"/tags/ref_html_browsersupport.asp\",\\n        \"HTML Browser Support\",\\n      ],\\n      [\\n        \"events reference\",\\n        \"/tags/ref_eventattributes.asp\",\\n        \"HTML Event Reference\",\\n      ],\\n      [\\n        \"color reference\",\\n        \"/colors/default.asp\",\\n        \"HTML Color Reference\",\\n      ],\\n      [\\n        \"attributes\",\\n        \"/tags/ref_attributes.asp\",\\n        \"HTML Attribute Reference\",\\n      ],\\n      [\\n        \"canvas reference\",\\n        \"/jsref/api_canvas.asp\",\\n        \"HTML Canvas Reference\",\\n      ],\\n      [\\n        \"svg reference\",\\n        \"/graphics/svg_reference.asp\",\\n        \"HTML SVG Reference\",\\n      ],\\n      [\\n        \"\",\\n        \"/graphics/google_maps_reference.asp\",\\n        \"Google Maps Reference\",\\n      ],\\n      [\"\", \"/cssref/index.php\", \"CSS Reference\"],\\n      [\\n        \"\",\\n        \"/cssref/css3_browsersupport.asp\",\\n        \"CSS Browser Support\",\\n      ],\\n      [\\n        \"\",\\n        \"/cssref/css_selectors.asp\",\\n        \"CSS Selector Reference\",\\n      ],\\n      [\\n        \"\",\\n        \"/bootstrap/bootstrap_ref_all_classes.asp\",\\n        \"Bootstrap 3 Reference\",\\n      ],\\n      [\\n        \"\",\\n        \"/bootstrap4/bootstrap_ref_all_classes.asp\",\\n        \"Bootstrap 4 Reference\",\\n      ],\\n      [\\n        \"\",\\n        \"/w3css/w3css_references.asp\",\\n        \"W3.CSS Reference\",\\n      ],\\n      [\\n        \"\",\\n        \"/icons/icons_reference.asp\",\\n        \"Icon Reference\",\\n      ],\\n      [\\n        \"\",\\n        \"/sass/sass_functions_string.php\",\\n        \"Sass Reference\",\\n      ],\\n      [\\n        \"\",\\n        \"/jsref/default.asp\",\\n        \"JavaScript Reference\",\\n      ],\\n      [\\n        \"\",\\n        \"/jsref/default.asp\",\\n        \"HTML DOM Reference\",\\n      ],\\n      [\\n        \"\",\\n        \"/jquery/jquery_ref_overview.asp\",\\n        \"jQuery Reference\",\\n      ],\\n      [\\n        \"\",\\n        \"/angular/angular_ref_directives.asp\",\\n        \"AngularJS Reference\",\\n      ],\\n      [\\n        \"\",\\n        \"/python/python_reference.asp\",\\n        \"Python Reference\",\\n      ],\\n      [\\n        \"\",\\n        \"/java/java_ref_reference.asp\",\\n        \"Java Reference\",\\n      ],\\n      [\\n        \"\",\\n        \"/sql/sql_ref_keywords.asp\",\\n        \"SQL Reference\",\\n      ],\\n      [\\n        \"\",\\n        \"/mysql/mysql_ref_functions.asp\",\\n        \"MySQL Reference\",\\n      ],\\n      [\\n        \"\",\\n        \"/php/php_ref_overview.asp\",\\n        \"PHP Reference\",\\n      ],\\n      [\\n        \"\",\\n        \"/asp/asp_ref_response.asp\",\\n        \"ASP Reference\",\\n      ],\\n      [\\n        \"\",\\n        \"/xml/dom_nodetype.asp\",\\n        \"XML DOM Reference\",\\n      ],\\n      [\\n        \"\",\\n        \"/xml/dom_http.asp\",\\n        \"XML Http Reference\",\\n      ],\\n      [\\n        \"\",\\n        \"/xml/xsl_elementref.asp\",\\n        \"XSLT Reference\",\\n      ],\\n      [\\n        \"\",\\n        \"/xml/schema_elements_ref.asp\",\\n        \"XML Schema Reference\",\\n      ],\\n      [\\n        \"\",\\n        \"/charsets/default.asp\",\\n        \"HTML Character Sets\",\\n      ],\\n      [\\n        \"\",\\n        \"/charsets/ref_html_ascii.asp\",\\n        \"HTML ASCII\",\\n      ],\\n      [\\n        \"\",\\n        \"/charsets/ref_html_ansi.asp\",\\n        \"HTML ANSI\",\\n      ],\\n      [\\n        \"\",\\n        \"/charsets/ref_html_ansi.asp\",\\n        \"HTML Windows-1252\",\\n      ],\\n      [\\n        \"\",\\n        \"/charsets/ref_html_8859.asp\",\\n        \"HTML ISO-8859-1\",\\n      ],\\n      [\\n        \"\",\\n        \"/charsets/ref_html_symbols.asp\",\\n        \"HTML Symbols\",\\n      ],\\n      [\\n        \"\",\\n        \"/charsets/ref_html_utf8.asp\",\\n        \"HTML UTF-8\",\\n      ],\\n      [\\n        \"django\",\\n        \"/django/index.php\",\\n        \"Django Tutorial\",\\n      ],\\n      [\\n        \"mongodb\",\\n        \"/mongodb/index.php\",\\n        \"MongoDB Tutorial\",\\n      ],\\n      [\\n        \"\",\\n        \"/typingspeed/default.asp\",\\n        \"Test your typing speed\",\\n      ],\\n      [\\n        \"css certificate\",\\n        \"https://campus.w3schools.com/collections/certifications/products/css-certificate\",\\n        \"CSS Certificate\",\\n      ],\\n      [\\n        \"js certificate\",\\n        \"https://campus.w3schools.com/collections/certifications/products/javascript-certificate\",\\n        \"JavaScript Certificate\",\\n      ],\\n      [\\n        \"front end certificate\",\\n        \"https://campus.w3schools.com/collections/certifications/products/front-end-certificate\",\\n        \"Front End Certificate\",\\n      ],\\n      [\\n        \"sql certificate\",\\n        \"https://campus.w3schools.com/collections/certifications/products/sql-certificate\",\\n        \"SQL Certificate\",\\n      ],\\n      [\\n        \"python certificate\",\\n        \"https://campus.w3schools.com/collections/certifications/products/python-certificate\",\\n        \"Python Certificate\",\\n      ],\\n      [\\n        \"php certificate\",\\n        \"https://campus.w3schools.com/collections/certifications/products/php-certificate\",\\n        \"PHP Certificate\",\\n      ],\\n      [\\n        \"jquery certificate\",\\n        \"https://campus.w3schools.com/collections/certifications/products/jquery-certificate\",\\n        \"jQuery Certificate\",\\n      ],\\n      [\\n        \"java certificate\",\\n        \"https://campus.w3schools.com/collections/certifications/products/java-certificate\",\\n        \"Java Certificate\",\\n      ],\\n      [\\n        \"c certificate\",\\n        \"https://campus.w3schools.com/products/c-certification-exam\",\\n        \"C Certificate\",\\n      ],\\n      [\\n        \"c++ certificate\",\\n        \"https://campus.w3schools.com/collections/certifications/products/c-certificate\",\\n        \"C++ Certificate\",\\n      ],\\n      [\\n        \"c# certificate\",\\n        \"https://campus.w3schools.com/collections/certifications/products/c-certificate-1\",\\n        \"C# Certificate\",\\n      ],\\n      [\\n        \"xml certificate\",\\n        \"https://campus.w3schools.com/collections/certifications/products/xml-certificate\",\\n        \"XML Certificate\",\\n      ],\\n      [\\n        \"hosting\",\\n        \"/spaces/index.php\",\\n        \"W3Schools Spaces\",\\n      ],\\n      [\\n        \"free website\",\\n        \"/spaces/index.php\",\\n        \"Free website with W3Schools Spaces\",\\n      ],\\n      [\\n        \"server\",\\n        \"/spaces/index.php\",\\n        \"W3Schools Spaces\",\\n      ],\\n      [\\n        \"handlebars server\",\\n        \"/spaces/spaces_handlebars.php\",\\n        \"Handlebars Server\",\\n      ],\\n      [\\n        \"rust server\",\\n        \"/spaces/spaces_rust.php\",\\n        \"Rust Server\",\\n      ],\\n      [\\n        \"vue server\",\\n        \"/vue/vue_server.php\",\\n        \"Vue.js Server\",\\n      ],\\n      [\\n        \"java server\",\\n        \"/java/java_server.asp\",\\n        \"Java Server\",\\n      ],\\n      [\\n        \"react server\",\\n        \"/react/react_server.asp\",\\n        \"React.js Server\",\\n      ],\\n      [\\n        \"sql server\",\\n        \"/sql/sql_server.asp\",\\n        \"SQL Server\",\\n      ],\\n      [\\n        \"php server\",\\n        \"/php/php_server.asp\",\\n        \"PHP Server\",\\n      ],\\n      [\\n        \"python server\",\\n        \"/python/python_server.asp\",\\n        \"Python Server\",\\n      ],\\n      [\\n        \"django server\",\\n        \"/django/django_server.php\",\\n        \"Django Server\",\\n      ],\\n      [\\n        \"node server\",\\n        \"/nodejs/nodejs_server.asp\",\\n        \"Node.js Server\",\\n      ],\\n      [\\n        \"c sharp server\",\\n        \"/cs/cs_server.php\",\\n        \"C# Server\",\\n      ],\\n      [\\n        \"vue server\",\\n        \"/vue/vue_server.php\",\\n        \"Vue.js Server\",\\n      ],\\n      [\\n        \"buy\",\\n        \"/plus/index.php\",\\n        \"W3Schools Plus User\",\\n      ],\\n      [\\n        \"subscription\",\\n        \"/plus/index.php\",\\n        \"W3Schools Plus User\",\\n      ],\\n      [\\n        \"upgrade\",\\n        \"/plus/index.php\",\\n        \"W3Schools Plus User\",\\n      ],\\n      [\\n        \"plus\",\\n        \"/plus/index.php\",\\n        \"W3Schools Plus User\",\\n      ],\\n      [\\n        \"pro\",\\n        \"/plus/index.php\",\\n        \"W3Schools Plus User\",\\n      ],\\n      [\\n        \"ad free\",\\n        \"/plus/index.php\",\\n        \"W3Schools without ads\",\\n      ],\\n      [\\n        \"videos\",\\n        \"/videos/index.php\",\\n        \"W3Schools Video\",\\n      ],\\n      [\\n        \"login\",\\n        \"https://profile.w3schools.com\",\\n        \"Log into your W3Schools account\",\\n      ],\\n      [\\n        \"sign up\",\\n        \"https://profile.w3schools.com\",\\n        \"Sign up - Create a W3Schools account\",\\n      ],\\n      //      [\"goals\", \"/pathfinder/pathfinder_goals.php\", \"Set Goals\"],\\n      [\\n        \"\",\\n        \"/tryit/tryit.asp?filename=tryhtml_hello\",\\n        \"HTML Compiler\",\\n      ],\\n      [\\n        \"\",\\n        \"/python/trypython.asp?filename=demo_default\",\\n        \"Python Compiler\",\\n      ],\\n      [\\n        \"\",\\n        \"/sql/trysql.asp?filename=trysql_select_where\",\\n        \"SQL Compiler\",\\n      ],\\n      [\\n        \"\",\\n        \"/php/phptryit.asp?filename=tryphp_intro\",\\n        \"PHP Compiler\",\\n      ],\\n      [\\n        \"\",\\n        \"/java/tryjava.asp?filename=demo_helloworld\",\\n        \"JAVA Compiler\",\\n      ],\\n      [\\n        \"\",\\n        \"/cpp/trycpp.asp?filename=demo_helloworld\",\\n        \"C++ Compiler\",\\n      ],\\n      [\\n        \"\",\\n        \"/c/tryc.php?filename=demo_helloworld\",\\n        \"C Compiler\",\\n      ],\\n      [\\n        \"\",\\n        \"/cs/trycs.php?filename=demo_helloworld\",\\n        \"C# Compiler\",\\n      ],\\n      [\\n        \"\",\\n        \"/r/tryr.asp?filename=demo_default\",\\n        \"R Compiler\",\\n      ],\\n      [\\n        \"\",\\n        \"/kotlin/trykotlin.php?filename=demo_helloworld\",\\n        \"Kotlin Compiler\",\\n      ],\\n      [\\n        \"\",\\n        \"/go/trygo.php?filename=demo_helloworld\",\\n        \"GO Compiler\",\\n      ],\\n      [\\n        \"\",\\n        \"/typescript/trytypescript.php?filename=demo_helloworld\",\\n        \"TypeScript Compiler\",\\n      ],\\n      [\\n        \"\",\\n        \"/tryit/trycompiler.asp?filename=demo_bash\",\\n        \"Bash Compiler\",\\n      ],\\n      [\\n        \"\",\\n        \"/tryit/trycompiler.asp?filename=demo_clojure\",\\n        \"Clojure Compiler\",\\n      ],\\n      [\\n        \"\",\\n        \"/tryit/trycompiler.asp?filename=demo_fortran\",\\n        \"Fortran Compiler\",\\n      ],\\n      [\\n        \"\",\\n        \"/tryit/trycompiler.asp?filename=demo_nodejs\",\\n        \"Node.js Compiler\",\\n      ],\\n      [\\n        \"\",\\n        \"/tryit/trycompiler.asp?filename=demo_perl\",\\n        \"Perl Compiler\",\\n      ],\\n      [\\n        \"\",\\n        \"/tryit/trycompiler.asp?filename=demo_ruby\",\\n        \"Ruby Compiler\",\\n      ],\\n      [\\n        \"\",\\n        \"/tryit/trycompiler.asp?filename=demo_scala\",\\n        \"Scala Compiler\",\\n      ],\\n      [\\n        \"\",\\n        \"/tryit/trycompiler.asp?filename=demo_swift\",\\n        \"Swift Compiler\",\\n      ],\\n      [\\n        \"\",\\n        \"/tryit/trycompiler.asp?filename=demo_vbnet\",\\n        \"VB.NET Compiler\",\\n      ],\\n      [\\n        \"\",\\n        \"/programming/index.php\",\\n        \"Introduction to Programming\",\\n      ],\\n      [\\n        \"\",\\n        \"/programming/prog_variables.php\",\\n        \"Understanding Variables\",\\n      ],\\n      [\\n        \"\",\\n        \"/programming/prog_arrays.php\",\\n        \"Understanding Arrays\",\\n      ],\\n      [\\n        \"\",\\n        \"/programming/prog_functions.php\",\\n        \"Understanding Functions\",\\n      ],\\n      [\\n        \"\",\\n        \"/programming/prog_loops.php\",\\n        \"Understanding Loops\",\\n      ],\\n      [\\n        \"\",\\n        \"/programming/prog_if.php\",\\n        \"Understanding The If Statement\",\\n      ],\\n    ];\\n  </script>\\n\\n\\n\\n  <div id=\"googleSearch\">\\n    <div class=\"gcse-search\"></div>\\n  </div>\\n\\n</div>\\n<!-- Google Tag Manager (noscript) -->\\n<noscript><iframe src=\"https://www.googletagmanager.com/ns.html?id=GTM-KTCFC3S\"\\nheight=\"0\" width=\"0\" style=\"display:none;visibility:hidden\"></iframe></noscript>\\n<!-- End Google Tag Manager (noscript) -->\\n\\n<script>\\n(\\nfunction setThemeMode() {\\n  var x = localStorage.getItem(\"preferredmode\");\\n  var y = localStorage.getItem(\"preferredpagemode\");  \\n  if (x == \"dark\") {\\n    document.body.className += \" darktheme\";\\n  }\\n  if (y == \"dark\") {\\n    document.body.className += \" darkpagetheme\";\\n  }\\n})();\\n</script>\\n<style>\\n#subtopnav {\\n  position:fixed;\\n  background-color: #282A35;\\n  color:#f1f1f1;\\n  padding:0;\\n  letter-spacing:1px;\\n  font-family: \\'Source Sans Pro Topnav\\', sans-serif;\\n  font-size:0;\\n  top:56px;\\n  z-index:2;\\n  width:100%;\\n  white-space:nowrap;\\n  overflow:auto;\\n  scrollbar-width: none;\\n  max-width:1750px;\\n  margin:auto;\\n  left:0;\\n  right:0;\\n}\\n#subtopnav a{\\n  display:inline-block;\\n  width:auto;\\n  margin:0!important;\\n  padding:5px 15px 5px 15px !important;\\n  font-size:15px!important;\\n  text-decoration: none;  \\n  line-height: 1.5;\\n}\\n#subtopnav a:hover,#subtopnav a:focus,#subtopnav a:active{\\n  background-color:#000000 !important;\\n  color:#ffffff !important;\\n}\\n#subtopnav a.active{\\n  background-color: #04AA6D!important;\\n  color:#fff!important;  \\n}\\n#btn_container_subtopnav {\\n  position:fixed;\\n  right:0;\\n  top:56px;\\n  font-size:0;\\n  xxborder-left:10px solid rgba(40, 42, 53,0.5);\\n  \\n}\\n#btn_container_subtopnav a{\\n  line-height:1.3!important;\\n  padding-top:7px!important;\\n  padding-bottom:6px!important; \\n  font-size:15px;\\n  background-color:#282A35;  \\n}\\n#scroll_left_btn {\\n  cursor:pointer;\\n  display:none;\\n  position:fixed;\\n  left:0;\\n  top:56px;\\n  font-size: 15px;\\n  xborder-right: 10px solid rgba(40, 42, 53,0.5);\\n  xbackground: red;\\n  }\\n#scroll_left_btn span {\\n  xbackground-color:#282A35;\\n  background: linear-gradient(to right, #282A35 70%, transparent 100%);\\n  display:block;\\n  padding-top:5px;\\n  padding-bottom:5px;  \\n}\\n#scroll_left_btn span:hover {\\n  background: linear-gradient(to right, #000 95%, transparent 100%);\\n}\\n#scroll_right_btn {\\n  cursor:pointer;\\n  float:left;\\n  font-size:15px;\\n  xxbackground-color:#282A35;\\n  background: linear-gradient(to left, #282A35 70%, transparent 100%);\\n  \\n  padding-top:5px;\\n  padding-bottom:5px;  \\n}\\n#scroll_right_btn:hover {\\n  background: linear-gradient(to left, #000 95%, transparent 100%);\\n}\\n#menubtn_container {\\n  position:fixed;\\n  left:0;\\n  top:56px;\\n  xborder-right:10px solid rgba(40, 42, 53,0.5);\\n  height:33px;\\n  color:white;\\n  font-size:15px;\\n}\\n#menubtn_container span {\\n  background-color:#282A35;  \\n}\\n#darkmodemenu {\\n  position:fixed!important;\\n  right:0;!important;  \\n}\\n#subtopnav::-webkit-scrollbar {\\n  display:none!important;\\n}\\n\\n#google_translate_element a{\\n  font-size:13px!important;\\n\\n  line-height: normal;\\n}\\n#google_translate_element a:hover{\\n  background-color:#fff!important;  \\n  color:#000!important;    \\n}\\n</style>\\n<script>\\nactivate_subtopnav_scroll = 0;\\nfrom_scrollpos = -1;\\ncurrent_scrollpos = -1;\\ngoto_tut = 1;\\nfunction startscrolling_subtopnav(event) {\\n  event.preventDefault();\\n  from_scrollpos = event.clientX;\\n  activate_subtopnav_scroll = 1;\\n}\\nfunction scrolling_subtopnav(event) {\\n  current_scrollpos = event.clientX;\\n  if (current_scrollpos == from_scrollpos) return false;\\n  event.preventDefault();\\n  if (event.buttons == 0) return false;\\n  var scrollspeed;\\n  if (activate_subtopnav_scroll == 1) {\\n    goto_tut = 0;\\n    scrollspeed = current_scrollpos - from_scrollpos;\\n    scrollspeed = Math.abs(scrollspeed);\\n    if (current_scrollpos < from_scrollpos) {\\n     document.getElementById(\"scroll_left_btn\").style.display = \"block\";     \\n     document.getElementById(\"subtopnav\").scrollLeft += scrollspeed;        \\n    } else {\\n      document.getElementById(\"subtopnav\").scrollLeft -= scrollspeed;        \\n    }\\n    scrollbtn_visible();\\n    from_scrollpos = current_scrollpos;\\n  }\\n}\\nfunction endscrolling_subtopnav(event) {\\n  event.preventDefault();\\n  activate_subtopnav_scroll = 0;\\n  from_scrollpos = -1;\\n  current_scrollpos = -1;\\n}\\nfunction pellessii(event) {\\n  if (goto_tut == 0) {\\n    event.preventDefault();  \\n    goto_tut = 1;\\n    return false;\\n  }\\n}\\nvar scrollspeed = 1;\\nvar scrollinterval\\nfunction scrollmenow(n) {\\n  scrollinterval = window.setInterval(function() {\\n    scrollspeed = scrollspeed * 1.1;\\n    if (scrollspeed > 10) {scrollspeed = 10;}\\n    if (n == 1) {\\n      document.getElementById(\"subtopnav\").scrollLeft += scrollspeed;  \\n    } else {\\n      document.getElementById(\"subtopnav\").scrollLeft -= scrollspeed;  \\n      \\n    }\\n    scrollbtn_visible();\\n  }, 10);\\n}\\n\\nvar p_s_l = 0;\\nvar x_s_l = 0;\\nfunction scrollbtn_visible() {\\n  var c_s_l = document.getElementById(\"subtopnav\").scrollLeft;\\n  if (c_s_l < 1) {\\n    document.getElementById(\"scroll_left_btn\").style.display = \"none\";    \\n  } else {\\n    document.getElementById(\"scroll_left_btn\").style.display = \"block\";    \\n  }\\n  if (c_s_l > 1 && c_s_l == p_s_l) {\\n    x_s_l++;\\n  } else {\\n    x_s_l = 0;  \\n  }\\n  if (x_s_l > 3) {\\n    document.getElementById(\"scroll_right_btn\").style.display = \"none\";    \\n  } else {\\n    document.getElementById(\"scroll_right_btn\").style.display = \"block\";  \\n  }\\n  p_s_l = document.getElementById(\"subtopnav\").scrollLeft;\\n}\\n\\nfunction stopscrollmenow() {\\n  scrollspeed = 1;\\n  window.clearInterval(scrollinterval);\\n}\\n\\nwindow.addEventListener(\"load\", scrollbtn_visible);\\n\\nfunction subtopnav_intoview() {\\n  var a, b, c, d, i = 0;\\n  a = document.getElementById(\"subtopnav\");\\n  if (!a || !a.getElementsByClassName) {return false;}\\n  var x = a.getElementsByTagName(\"A\");\\n  b = document.location.pathname;\\n  if (b.indexOf(\"/python/numpy/\") > -1 || b.indexOf(\"/python/pandas/\") > -1 || b.indexOf(\"/python/scipy/\") > -1) {\\n    for (i = 0; i < x.length; i++) {\\n      c = x[i].pathname;\\n      if ((b.indexOf(\"/python/numpy/\") > -1 && c == \"/python/numpy/default.asp\") || (b.indexOf(\"/python/pandas/\") > -1 && c == \"/python/pandas/default.asp\") || (b.indexOf(\"/python/scipy/\") > -1 && c == \"/python/scipy/index.php\")) {\\n        x[i].className += \" active\";\\n        break;\\n      }\\n    }\\n  } else {\\n    for (i = 0; i < x.length; i++) {\\n      c = x[i].pathname;\\n      if (c.indexOf(\"void(0)\") == -1 && b.substr(0, b.indexOf(\"/\",1)) ==  c.substr(0, c.indexOf(\"/\",1))) {\\n        x[i].className += \" active\";\\n        break;\\n      }\\n    }\\n  }\\n  d = a.getElementsByClassName(\"active\");\\n  if (d.length < 1) {return false;}  \\n  while (!amIIntoView(a, d[0])) {\\n    i++\\n    if (i > 1000) {break;}\\n    a.scrollLeft += 10;\\n    //console.log(i);\\n  }\\n  //scrollbtn_visible();\\n}\\n\\nfunction amIIntoView(x, y) {\\n  var a = x.scrollLeft;\\n  var width = Math.min(window.innerWidth, 1750);\\n  var b = a + width - 20;\\n  var ytop = y.offsetLeft;\\n  var c = y.offsetWidth;\\n  var d = 0;\\n  if (document.getElementById(\"btn_container_subtopnav\")) d = document.getElementById(\"btn_container_subtopnav\").offsetWidth;\\n  var ybottom = ytop + c + d + 20;\\n  return ((ybottom <= b) && (ytop >= a));\\n}\\n\\n</script>\\n<style>\\n.topnavcontainer {\\n  background-color: #282A35;\\n  width:100%;\\n  max-width:1750px;\\n  left:0;\\n  right:0;\\n  margin:auto;\\n  height:33px;\\n  top:56px;\\n  position:fixed;\\n  z-index:3;\\n}\\n#scroll_left_btn {\\n    cursor: pointer;\\n    display: none;\\n    position: fixed;\\n    left: auto;\\n    top: auto;\\n    font-size: 15px;\\n}\\n#scroll_right_btn {\\n    cursor: pointer;\\n    position: fixed;\\n    font-size: 15px;\\n    display:none;\\n}\\n.topnavbackground {\\n  background-color:#282A35;\\n  position:fixed;\\n  width:100%;\\n  height:33px;\\n  top:56px;\\n}\\nbody.darkpagetheme .topnavbackground, body.darkpagetheme .topnavcontainer, body.darkpagetheme #subtopnav  {\\n  background-color:rgb(13,23,33)!important\\n}\\n\\nbody.darkpagetheme #scroll_right_btn {\\n  background: linear-gradient(to left, rgb(13,23,33) 70%, transparent 100%)\\n}\\nbody.darkpagetheme #scroll_left_btn span {\\n  background: linear-gradient(to right, rgb(13,23,33) 70%, transparent 100%)\\n}\\n</style>\\n<div class=\"topnavbackground\"></div>\\n<div class=\"topnavcontainer\">\\n<div id=\"subtopnav\" onmousedown=\"startscrolling_subtopnav(event)\" onmousemove=\"scrolling_subtopnav(event)\" onmouseup=\"endscrolling_subtopnav(event)\" onclick=\"return pellessii(event)\">\\n\\n  <div id=\"scroll_left_btn\" class=\"w3-hide-medium w3-hide-small\">\\n    <span onmousedown=\"scrollmenow(-1)\" onmouseup=\"stopscrollmenow()\" onmouseout=\"stopscrollmenow()\">&nbsp;&nbsp;&nbsp;&#10094;&nbsp;&nbsp;&nbsp;&nbsp;&nbsp;</span>\\n  </div>\\n  <div id=\"scroll_right_btn\" style=\"display:none\" class=\"w3-hide-medium w3-hide-small\">\\n    <span onmousedown=\"scrollmenow(1)\" onmouseup=\"stopscrollmenow()\" onmouseout=\"stopscrollmenow()\">&nbsp;&nbsp;&nbsp;&nbsp;&nbsp;&#10095;&nbsp;&nbsp;&nbsp;</span>\\n  </div>\\n\\n  <div id=\"menubtn_container\">\\n    <span>\\n        \\n        <a href=\\'javascript:void(0);\\' class=\\'topnav-icons fa fa-menu w3-hide-large w3-hide-medium w3-hide-small w3-left w3-bar-item w3-button ga-nav\\' style=\"line-height:1.1;padding-top:3px!important;\" onclick=\\'open_menu()\\' title=\\'Menu\\'></a>      \\n        \\n    </span>      \\n  </div>\\n  <a href=\"/html/default.asp\" class=\"ga-nav subtopnav_firstitem\" title=\"HTML Tutorial\">HTML</a>\\n  <a href=\"/css/default.asp\" class=\"ga-nav\" title=\"CSS Tutorial\">CSS</a>\\n  <a href=\"/js/default.asp\" class=\"ga-nav\" title=\"JavaScript Tutorial\">JAVASCRIPT</a>\\n  <a href=\"/sql/default.asp\" class=\"ga-nav\" title=\"SQL Tutorial\">SQL</a>\\n  <a href=\"/python/default.asp\" class=\"ga-nav\" title=\"Python Tutorial\">PYTHON</a>\\n  <a href=\"/java/default.asp\" class=\"ga-nav\" title=\"Java Tutorial\">JAVA</a>\\n  <a href=\"/php/default.asp\" class=\"ga-nav\" title=\"PHP Tutorial\">PHP</a>\\n  <a href=\"/howto/default.asp\" class=\"ga-nav\" title=\"How to\">HOW TO</a>\\n  <a href=\"/w3css/default.asp\" class=\"ga-nav\" title=\"W3.CSS Tutorial\">W3.CSS</a>\\n  <a href=\"/c/index.php\" class=\"ga-nav\" title=\"C Tutorial\">C</a>\\n  <a href=\"/cpp/default.asp\" class=\"ga-nav\" title=\"C++ Tutorial\">C++</a>\\n  <a href=\"/cs/index.php\" class=\"ga-nav\" title=\"C# Tutorial\">C#</a>\\n  <a href=\"/bootstrap/bootstrap_ver.asp\" class=\"ga-nav\" title=\"Bootstrap Tutorial\">BOOTSTRAP</a>\\n  <a href=\"/react/default.asp\" class=\"ga-nav\" title=\"React Tutorial\">REACT</a>\\n  <a href=\"/mysql/default.asp\" class=\"ga-nav\" title=\"MySQL Tutorial\">MYSQL</a>\\n  <a href=\"/jquery/default.asp\" class=\"ga-nav\" title=\"JQuery Tutorial\">JQUERY</a>\\n  <a href=\"/excel/index.php\" class=\"ga-nav\" title=\"Excel Tutorial\">EXCEL</a>\\n  <a href=\"/xml/default.asp\" class=\"ga-nav\" title=\"XML Tutorial\">XML</a>\\n  <a href=\"/django/index.php\" class=\"ga-nav\" title=\"Django Tutorial\">DJANGO</a>\\n  <a href=\"/python/numpy/default.asp\" class=\"ga-nav\" title=\"NumPy Tutorial\">NUMPY</a>\\n  <a href=\"/python/pandas/default.asp\" class=\"ga-nav\" title=\"Pandas Tutorial\">PANDAS</a>\\n  <a href=\"/nodejs/default.asp\" class=\"ga-nav\" title=\"Node.js Tutorial\">NODEJS</a>\\n  <a href=\"/dsa/index.php\" class=\"ga-nav\" title=\"DSA Tutorial\">DSA</a>\\n  <a href=\"/typescript/index.php\" class=\"ga-nav\" title=\"TypeScript Tutorial\">TYPESCRIPT</a>\\n  <a href=\"/angular/default.asp\" class=\"ga-nav\" title=\"Angular.js Tutorial\">ANGULAR</a>\\n  <a href=\"/git/default.asp\" class=\"ga-nav\" title=\"Git Tutorial\">GIT</a>\\n  <a href=\"/postgresql/index.php\" class=\"ga-nav\" title=\"PostgreSQL Tutorial\">POSTGRESQL</a>\\n  <a href=\"/mongodb/index.php\" class=\"ga-nav\" title=\"MongoDB Tutorial\">MONGODB</a>\\n  <a href=\"/asp/default.asp\" class=\"ga-nav\" title=\"ASP Tutorial\">ASP</a>\\n  <a href=\"/ai/default.asp\" class=\"ga-nav\" title=\"A.I. Tutorial\">AI</a>\\n  <a href=\"/r/default.asp\" class=\"ga-nav\" title=\"R Tutorial\">R</a>\\n  <a href=\"/go/index.php\" class=\"ga-nav\" title=\"Go Tutorial\">GO</a>\\n  <a href=\"/kotlin/index.php\" class=\"ga-nav\" title=\"Kotlin Tutorial\">KOTLIN</a>\\n  <a href=\"/sass/default.php\" class=\"ga-nav\" title=\"Sass Tutorial\">SASS</a>\\n  <a href=\"/vue/index.php\" class=\"ga-nav\" title=\"Vue.js Tutorial\">VUE</a>\\n  <a href=\"/gen_ai/index.php\" class=\"ga-nav\" title=\"Gen A.I. Tutorial\">GEN AI</a>\\n  <a href=\"/python/scipy/index.php\" class=\"ga-nav\" title=\"SciPy Tutorial\">SCIPY</a>\\n<!--  <a href=\"/aws/index.php\" class=\"ga-nav\" title=\"AWS Tutorial\">AWS</a>-->\\n  <a href=\"/cybersecurity/index.php\" class=\"ga-nav\" title=\"Cyber security Tutorial\">CYBERSECURITY</a>\\n  <a href=\"/datascience/default.asp\" class=\"ga-nav\" title=\"Data science Tutorial\">DATA SCIENCE</a>\\n  <a href=\"/programming/index.php\" class=\"ga-nav\" title=\"Introduction to Programming\">INTRO TO PROGRAMMING</a>\\n  <a href=\"/bash/index.php\" class=\"ga-nav\" title=\"Bash Tutorial\">BASH</a>\\n  <a href=\"/rust/index.php\" class=\"ga-nav\" title=\"Rust Tutorial\">RUST</a>\\n  <a href=\"javascript:void(0)\" style=\"width:50px;visibility:hidden;\"></a>  \\n\\n</div>\\n</div>\\n<!--\\n<div class=\"topnav notranslate\" id=\\'topnav\\' style=\"position:fixed!important;top:56px\">\\n  <div style=\"overflow:auto;\">\\n    <div class=\"w3-bar w3-left topnavbar\" style=\"width:100%;overflow:hidden;height:32px\">\\n\\n      <a href=\\'javascript:void(0);\\' class=\\'topnav-icons fa fa-menu w3-hide-large w3-hide-medium w3-hide-small w3-left w3-bar-item w3-button ga-nav\\' style=\"line-height:1.1;padding-top:8px!important;padding-bottom:7px!important;\" onclick=\\'open_menu()\\' title=\\'Menu\\'></a>\\n\\n      <a href=\\'/default.asp\\' style=\"display:none\" class=\\'topnav-icons fa fa-home w3-left w3-bar-item w3-button ga-nav\\' title=\\'Home\\'></a>\\n      <a class=\"w3-bar-item w3-button ga-nav\" href=\\'/html/default.asp\\' title=\\'HTML Tutorial\\' style=\"padding-left:18px!important;padding-right:18px!important;\">HTML</a>\\n      <a class=\"w3-bar-item w3-button ga-nav\" href=\\'/css/default.asp\\' title=\\'CSS Tutorial\\'>CSS</a>\\n      <a class=\"w3-bar-item w3-button ga-nav\" href=\\'/js/default.asp\\' title=\\'JavaScript Tutorial\\'>JAVASCRIPT</a>\\n      <a class=\"w3-bar-item w3-button ga-nav\" href=\\'/sql/default.asp\\' title=\\'SQL Tutorial\\'>SQL</a>\\n      <a class=\"w3-bar-item w3-button ga-nav\" href=\\'/python/default.asp\\' title=\\'Python Tutorial\\'>PYTHON</a>\\n      <a class=\"w3-bar-item w3-button ga-nav\" href=\\'/java/default.asp\\' title=\\'Java Tutorial\\'>JAVA</a>\\n      <a class=\"w3-bar-item w3-button ga-nav\" href=\\'/php/default.asp\\' title=\\'PHP Tutorial\\'>PHP</a>\\n      <a class=\"w3-bar-item w3-button ga-nav\" href=\\'/bootstrap/bootstrap_ver.asp\\' title=\\'Bootstrap Tutorial\\'>BOOTSTRAP</a>\\n      <a class=\"w3-bar-item w3-button ga-nav\" href=\\'/howto/default.asp\\' title=\\'How To\\'>HOW TO</a>\\n      <a class=\"w3-bar-item w3-button ga-nav\" href=\\'/w3css/default.asp\\' title=\\'W3.CSS Tutorial\\'>W3.CSS</a>\\n      <a class=\"w3-bar-item w3-button ga-nav\" href=\\'/c/index.php\\' title=\\'C Tutorial\\'>C</a>\\n      <a class=\"w3-bar-item w3-button ga-nav\" href=\\'/cpp/default.asp\\' title=\\'C++ Tutorial\\'>C++</a>\\n      <a class=\"w3-bar-item w3-button ga-nav\" href=\\'/cs/index.php\\' title=\\'C# Tutorial\\'>C#</a>\\n      <a class=\"w3-bar-item w3-button ga-nav\" href=\\'/react/default.asp\\' title=\\'React Tutorial\\'>REACT</a>\\n      <a class=\"w3-bar-item w3-button ga-nav\" href=\\'/r/default.asp\\' title=\\'R Tutorial\\'>R</a>\\n      <a class=\"w3-bar-item w3-button ga-nav\" href=\\'/jquery/default.asp\\' title=\\'jQuery Tutorial\\'>JQUERY</a>\\n      <a class=\"w3-bar-item w3-button ga-nav\" href=\\'/django/index.php\\' title=\\'Django Tutorial\\'>DJANGO</a>\\n      <a class=\"w3-bar-item w3-button ga-nav\" href=\\'/typescript/index.php\\' title=\\'Typescript Tutorial\\'>TYPESCRIPT</a>\\n      <a class=\"w3-bar-item w3-button ga-nav\" href=\\'/nodejs/default.asp\\' title=\\'NodeJS Tutorial\\'>NODEJS</a>\\n      <a class=\"w3-bar-item w3-button ga-nav\" href=\\'/mysql/default.asp\\' title=\\'MySQL Tutorial\\'>MYSQL</a>\\n    </div>\\n  </div>\\n</div>\\n-->\\n<script>\\nsubtopnav_intoview();\\n</script>\\n<style>\\n.belowtopnavcontainer {\\n  max-width:1750px;\\n  margin:auto;\\n}\\n.contentcontainer {\\n   background-color: #f5f6f7;\\n}\\nbody.darkpagetheme .contentcontainer {\\n   background-color: #29353e;\\n}\\n</style>\\n<div class=\\'contentcontainer\\'>\\n<div class=\\'belowtopnavcontainer\\'>\\n\\n<div class=\\'w3-main w3-light-grey\\' id=\\'belowtopnav\\'>\\n\\n  <div class=\\'w3-row w3-white\\'>\\n\\n    <div class=\\'w3-col l12 m12\\' id=\\'main\\'>      \\n\\n<div class=\"ws-black w3-center herosection\">\\n  <div class=\"w3-content learntocodecontent\">\\n    <h1 class=\"learntocodeh1\">Learn to Code</h1>\\n    <h3 class=\"learntocodeh3\"> \\n      <i class=\"fa fa-logo w3-hide\" style=\"color:#FFC0C7!important;margin-right:20px;z-index:1;font-size:36px!important;vertical-align:bottom\"></i>\\n      With the world\\'s largest web developer site.\\n    </h3>\\n    <br>\\n    <form class=\"example\" action=\"/action_page.php\" style=\"margin:auto;max-width:500px\">\\n      <input type=\"text\" placeholder=\"Search our tutorials, e.g. HTML\" aria-label=\"Search our tutorials\" id=\"search2\" class=\"ga-fp\" autocomplete=\"off\" onkeydown=\"key_pressed_in_search(event)\" oninput=\"find_search_results(this)\" onfocus=\"find_search_results(this)\">\\n      <button type=\"button\" id=\"learntocode_searchbtn\" onclick=\"click_learntocode_search_btn()\"><i id=\"learntocode_searchicon\" class=\"fa fa-search ga-fp\" title=\"Search our tutorials\"></i></button>\\n      <div id=\"listofsearchresults\">\\n      </div>\\n    </form>  \\n    <h4 class=\"learntocodeh4\">\\n      <a href=\"where_to_start.asp\" class=\"ga-fp\">Not Sure Where To Begin?</a>\\n    </h4>\\n  </div>\\n</div>\\n\\n<svg style=\"background-color:#D9EEE1;\" width=\"100%\" height=\"70\" viewbox=\"0 0 100 100\" preserveAspectRatio=\"none\">\\n  <path id=\"wavepath\" d=\"M0,0  L110,0C35,150 35,0 0,100z\" fill=\"#282A35\" />\\n</svg>\\n\\n<div class=\"w3-row w3-padding-32 ws-light-green\" style=\"margin-top:-10px;\">\\n<div class=\"w3-content\">\\n\\n <div class=\"w3-col l6 w3-center\" style=\"padding:3%;\">\\n  <h1 style=\"font-size:100px;font-weight:700;margin-top:-18px!important;\">HTML</h1>\\n  <p style=\"font-size:19px;\">The language for building web pages</p>\\n  <a href=\"/html/default.asp\" class=\"w3-button ga-fp tut-button\" style=\"margin-bottom:2px;\">Learn HTML</a><br>\\n  <a style=\"position:relative;overflow:visible;margin-bottom:1px;\" href=\"https://www.w3schools.com/videos/index.php\" class=\"w3-button ga-fp ws-yellow tut-button ws-yellow-hover\" title=\"HTML video tutorial\">Video Tutorial</a><br>\\n  <a href=\"/tags/default.asp\" class=\"w3-button ga-fp w3-block ref-button black-color\">HTML Reference</a><br>\\n  <a href=\"https://campus.w3schools.com/collections/certifications/products/html-certificate\" target=\"_blank\" class=\"w3-button ga-fp w3-block ws-pink ref-button ws-pink-hover\" title=\"Add HTML Certification\">Get Certified</a><br>\\n  </div>\\n <div class=\"w3-col l6\" style=\"padding:3%\">\\n  <div class=\"w3-hide-small grey-color w3-card-2 w3-round\" style=\"padding:16px;\">\\n   <h3>HTML Example:</h3>\\n   <div class=\"w3-code htmlHigh notranslate green-border\" style=\"height:300px\">\\n&lt;!DOCTYPE html&gt;<br>\\n&lt;html&gt;<br>&lt;head&gt;<br>\\n&lt;title&gt;HTML Tutorial&lt;/title&gt;<br>&lt;/head&gt;<br>\\n&lt;body&gt;<br><br>\\n&lt;h1&gt;This is a heading&lt;/h1&gt;<br>\\n&lt;p&gt;This is a paragraph.&lt;/p&gt;<br><br>\\n&lt;/body&gt;<br>\\n&lt;/html&gt;\\n   </div>\\n   <a href=\"/html/tryit.asp?filename=tryhtml_default_default\" target=\"_blank\" class=\"w3-button ga-fp tryit-button\">Try it Yourself</a>\\n  </div>\\n </div>\\n </div>\\n</div>\\n\\n<div class=\"w3-row w3-padding-32 ws-yellow\">\\n<div class=\"w3-content\">\\n <div class=\"w3-col l6 w3-center\" style=\"padding:3%\">\\n  <h1 style=\"font-size:100px;font-weight:700\">CSS</h1>\\n  <p style=\"font-size:19px;\">The language for styling web pages</p>\\n  <a href=\"/css/default.asp\" class=\"w3-button ga-fp w3-block tut-button\">Learn CSS</a><br>\\n  <a href=\"/cssref/index.php\" class=\"w3-button ga-fp w3-block ref-button black-color\">CSS Reference</a><br>\\n  <a href=\"https://campus.w3schools.com/collections/certifications/products/css-certificate\" target=\"_blank\" class=\"w3-button ga-fp w3-block ws-pink ref-button ws-pink-hover\" title=\"Add CSS Certification\">Get Certified</a><br>\\n  </div>\\n <div class=\"w3-col l6\" style=\"padding:3%\">\\n  <div class=\"w3-hide-small grey-color w3-card-2 w3-round\" style=\"padding:16px;\">\\n  <h3>CSS Example:</h3>\\n  <div class=\"w3-code cssHigh notranslate green-border\">\\nbody {<br>\\n&nbsp; background-color: lightblue;<br>}<br><br>\\nh1 {<br>\\n&nbsp; color: white;<br>\\n&nbsp; text-align: center;<br>}<br><br>p {<br>&nbsp; font-family: verdana;<br>}</div>\\n  <a href=\"/css/tryit.asp?filename=trycss_default\" target=\"_blank\" class=\"w3-button ga-fp tryit-button\">Try it Yourself</a>\\n  </div>\\n </div>\\n </div>\\n</div>\\n\\n<div class=\"w3-row w3-padding-32 ws-black\">\\n<div class=\"w3-content\">\\n <div class=\"w3-col l6 w3-center\" style=\"padding:3%\">\\n  <h1 style=\"font-size:70px;font-weight:700;margin-bottom:18px!important\">JavaScript</h1>\\n  <p style=\"font-size:19px\">The language for programming web pages</p>\\n  <a href=\"/js/default.asp\" class=\"w3-button ga-fp w3-block tut-button\">Learn JavaScript</a><br>\\n  <a href=\"/jsref/default.asp\" class=\"w3-button ga-fp w3-block ref-button\">JavaScript Reference</a><br>\\n  <a href=\"https://campus.w3schools.com/collections/certifications/products/javascript-certificate\" target=\"_blank\" class=\"w3-button ga-fp w3-block ws-pink ref-button ws-pink-hover\" title=\"Add JavaScript Certification\">Get Certified</a><br>\\n </div>\\n <div class=\"w3-col l6\" style=\"padding:3%\">\\n  <div class=\"w3-hide-small w3-card-2 grey-color w3-round\" style=\"padding:16px;\">\\n   <h3>JavaScript Example:</h3>\\n   <div class=\"w3-code notranslate green-border\">\\n   <div class=\"htmlHigh\">\\n&lt;button onclick=&quot;myFunction()&quot;&gt;Click Me!&lt;/button&gt;<br><br>\\n&lt;script&gt;<br>\\nfunction myFunction() {<br>\\n     &nbsp; let x = document.getElementById(&quot;demo&quot;);<br>\\n&nbsp; x.style.fontSize = &quot;25px&quot;; <br>\\n&nbsp; x.style.color = &quot;red&quot;; <br>}<br>\\n&lt;/script&gt;\\n    </div>\\n   </div>\\n   <a href=\"/js/tryit.asp?filename=tryjs_default\" target=\"_blank\" class=\"w3-button ga-fp tryit-button\">Try it Yourself</a>\\n  </div>\\n </div>\\n </div>\\n</div>\\n\\n<div class=\"w3-row w3-padding-32 ws-light-pink\">\\n<div class=\"w3-content\">\\n <div class=\"w3-col l6 w3-center\" style=\"padding:3%\">\\n  <h1 style=\"font-weight:700\">Python</h1>\\n  <p style=\"font-size:19px\">A popular programming language</p>\\n  <a href=\"/python/default.asp\" class=\"w3-button ga-fp w3-block tut-button\">Learn Python</a><br>\\n  <a href=\"/python/python_reference.asp\" class=\"w3-button ga-fp ref-button black-color\">Python Reference</a><br>\\n  <a href=\"https://campus.w3schools.com/collections/certifications/products/python-certificate\" target=\"_blank\" class=\"w3-button ga-fp w3-block ws-pink ref-button ws-pink-hover\" title=\"Add Python Certification\">Get Certified</a><br>\\n </div>\\n <div class=\"w3-col l6\" style=\"padding:3%\">\\n  <div class=\"w3-hide-small w3-card-2 grey-color w3-round\" style=\"padding:16px;\">\\n  <h3>Python Example:</h3>\\n  <div class=\"w3-code jsHigh notranslate green-border\" style=\"height:210px\">\\n    if 5 &gt; 2:<br>&nbsp; print(\"Five is greater than two!\")\\n  </div>\\n  <a href=\"/python/trypython.asp?filename=demo_indentation\" target=\"_blank\" class=\"w3-button ga-fp tryit-button\">Try it Yourself</a>\\n  </div>\\n </div>\\n </div>\\n</div>\\n\\n<div class=\"w3-row w3-padding-32 ws-turquoise\">\\n<div class=\"w3-content\">\\n <div class=\"w3-col l6 w3-center\" style=\"padding:3%\">\\n  <h1 style=\"font-weight:700\">SQL</h1>\\n  <p style=\"font-size:19px\">A language for accessing databases</p>\\n  <a href=\"/sql/default.asp\" class=\"w3-button ga-fp w3-block tut-button\">Learn SQL</a><br>\\n  <a href=\"/sql/sql_ref_keywords.asp\" class=\"w3-button ga-fp ref-button black-color\">SQL Reference</a><br>\\n  <a href=\"https://campus.w3schools.com/collections/certifications/products/sql-certificate\" target=\"_blank\" class=\"w3-button ga-fp w3-block ws-pink ref-button ws-pink-hover\" title=\"Add SQL Certification\">Get Certified</a><br>\\n\\n </div>\\n <div class=\"w3-col l6\" style=\"padding:3%\">\\n  <div class=\"w3-hide-small w3-card-2 grey-color w3-round\" style=\"padding:16px;\">\\n  <h3>SQL Example:</h3>\\n  <div class=\"w3-code sqlHigh notranslate green-border\" style=\"height:210px\">\\n   SELECT * FROM Customers<br>\\n   WHERE Country=\\'Mexico\\';\\n  </div>\\n  <a href=\"/sql/trysql.asp?filename=trysql_select_where\" target=\"_blank\" class=\"w3-button ga-fp tryit-button\">Try it Yourself</a>\\n  </div>\\n </div>\\n</div>\\n</div>\\n\\n<div class=\"w3-row w3-padding-64 ws-black\">\\n  <div style=\"max-width:1400px;margin:auto\">\\n    <div class=\"w3-col l6 w3-center\" style=\"padding:2% 3%;\">\\n      <div class=\"w3-card-2 w3-round\" style=\"color:black;background-color:#FFC0C7;padding:24px\">\\n        <h2 style=\"font-size:45px;font-weight:700\">PHP</h2>\\n        <div style=\"height:70px;\">\\n          <h5 class=\"w3-text-dark-grey\">A web server programming language</h5>\\n        </div>\\n        <a href=\"/php/default.asp\" class=\"w3-button ga-fp tut-button black-color w3-margin-bottom\">Learn PHP</a>\\n      </div>\\n\\n    </div>\\n    <div class=\"w3-col l6 w3-center\" style=\"padding:2% 3%;\">\\n      <div class=\"w3-card-2 w3-round\" style=\"background-color: #FFF4A3;color:black;padding:24px\">\\n        <h2 style=\"font-size:45px;font-weight:700\">jQuery</h2>\\n        <div style=\"height:70px;\">\\n          <h5 class=\"w3-text-dark-grey\">A JS library for developing web pages</h5>\\n        </div>\\n        <a href=\"/jquery/default.asp\" class=\"w3-button ga-fp tut-button black-color w3-margin-bottom\">Learn jQuery</a>\\n      </div>\\n    </div>\\n\\n    <div class=\"w3-col l6 w3-center\" style=\"padding:2% 3%;\">\\n      <div class=\"w3-card-2 w3-round\" style=\"color:black;background-color:#F3ECEA;padding:24px\">\\n        <h2 style=\"font-size:45px;font-weight:700\">Java</h2>\\n        <div style=\"height:70px;\">\\n          <h5 class=\"w3-text-dark-grey\">A programming language</h5>\\n        </div>\\n        <a href=\"/java/default.asp\" class=\"w3-button ga-fp tut-button black-color w3-margin-bottom\">Learn Java</a>\\n      </div>\\n    </div>\\n\\n    <div class=\"w3-col l6 w3-center\" style=\"padding:2% 3%;\">\\n      <div class=\"w3-card-2 w3-round\" style=\"color:black;background-color:#D9EEE1;padding:24px\">\\n        <h2 style=\"font-size:45px;font-weight:700\">C++</h2>\\n        <div style=\"height:70px;\">\\n          <h5 class=\"w3-text-dark-grey\">A programming language</h5>\\n        </div>\\n        <a href=\"/cpp/default.asp\" class=\"w3-button ga-fp tut-button black-color w3-margin-bottom\">Learn C++</a>\\n      </div>\\n    </div>\\n\\n    <div class=\"w3-col l6 w3-center\" style=\"padding:2% 3%;\">\\n      <div class=\"w3-card-2 w3-round\" style=\"color:black;background-color:#96D4D4;padding:24px;\">\\n        <h2 style=\"font-size:45px;font-weight:700\">W3.CSS</h2>\\n        <div style=\"height:70px;\">\\n          <h5>A CSS framework for faster and better responsive web pages</h5>\\n        </div>\\n        <a href=\"/w3css/default.asp\" class=\"w3-button ga-fp tut-button black-color w3-margin-bottom\">Learn W3.CSS</a>\\n      </div>\\n    </div>\\n\\n    <div class=\"w3-col l6 w3-center\" style=\"padding:2% 3%;\">\\n      <div class=\"w3-card-2 w3-round\" style=\"color:black;background-color:#E7E9EB;padding:24px;\">\\n        <h2 style=\"font-size:45px;font-weight:700\">Bootstrap</h2>\\n        <div style=\"height:70px;\">\\n          <h5 class=\"w3-text-dark-grey\">A CSS framework for designing better web pages</h5>\\n        </div>\\n        <a href=\"/bootstrap/bootstrap_ver.asp\" class=\"w3-button ga-fp tut-button black-color w3-margin-bottom\">Learn Bootstrap</a>\\n      </div>\\n    </div>\\n  </div>\\n</div>\\n\\n<div class=\"w3-row ws-black tutbuttons\" style=\"padding-bottom:64px;\">\\n  <div style=\"max-width:1400px;margin:auto\">\\n    <div class=\"w3-col l6 s12 w3-center\" style=\"padding:2% 3%;height:auto;\">\\n      <a href=\"/c/index.php\" title=\"C Tutorial\" class=\"ga-fp\">\\n        <div class=\"w3-card-2 w3-round ws-pink\" style=\"padding:36px 24px\">\\n          <h2 style=\"font-size:30px;font-weight:500\">C</h2>\\n        </div>\\n      </a>\\n    </div>\\n    \\n    <div class=\"w3-col l6 s12 w3-center\" style=\"padding:2% 3%;height:auto;\">\\n      <a href=\"/cs/index.php\" title=\"C# Tutorial\" class=\"ga-fp\">\\n        <div class=\"w3-card-2 w3-round ws-yellow\" style=\"padding:36px 24px\">\\n          <h2 style=\"font-size:30px;font-weight:500\">C#</h2>\\n        </div>\\n      </a>\\n    </div>\\n  \\n    <div class=\"w3-col l3 m6 s12 w3-center\" style=\"padding:2% 3%;\">\\n      <a href=\"/r/default.asp\" title=\"R Tutorial\" class=\"ga-fp\">\\n        <div class=\"w3-card-2 w3-round ws-light-pink\" style=\"padding:24px\">\\n          <h2 style=\"font-size:30px;font-weight:500\">R</h2>\\n        </div>\\n      </a>\\n    </div>\\n\\n    <div class=\"w3-col l3 m6 s12 w3-center\" style=\"padding:2% 3%;\">\\n      <a href=\"/kotlin/index.php\" title=\"Kotlin Tutorial\" class=\"ga-fp\">\\n        <div class=\"w3-card-2 w3-round ws-light-green\" style=\"padding:24px 15px\">\\n          <h2 style=\"font-size:30px;font-weight:500\">Kotlin</h2>\\n        </div>\\n      </a>\\n    </div>\\n\\n\\n    <div class=\"w3-col l3 m6 s12 w3-center\" style=\"padding:2% 3%;\">\\n      <a href=\"/nodejs/default.asp\" title=\"Node.js Tutorial\" class=\"ga-fp\">\\n        <div class=\"w3-card-2 w3-round ws-turquoise\" style=\"padding:24px\">\\n          <h2 style=\"font-size:30px;font-weight:500\">Node.js</h2>\\n        </div>\\n      </a>\\n    </div>\\n\\n    <div class=\"w3-col l3 m6 s12 w3-center\" style=\"padding:2% 3%;\">\\n      <a href=\"/react/default.asp\" title=\"React Tutorial\" class=\"ga-fp\">\\n        <div class=\"w3-card-2 w3-round ws-pink\" style=\"padding:24px\">\\n          <h2 style=\"font-size:30px;font-weight:500\">React</h2>\\n        </div>\\n      </a>\\n    </div>\\n\\n    <div class=\"w3-col l3 m6 s12 w3-center\" style=\"padding:2% 3%;\">\\n      <a href=\"/js/js_json.asp\" title=\"JSON Tutorial\" class=\"ga-fp\">\\n        <div class=\"w3-card-2 w3-round ws-yellow\" style=\"padding:24px\">\\n          <h2 style=\"font-size:30px;font-weight:500\">JSON</h2>\\n        </div>\\n      </a>\\n    </div>\\n\\n    <div class=\"w3-col l3 m6 s12 w3-center\" style=\"padding:2% 3%;\">\\n      <a href=\"/vue/index.php\" title=\"Vue Tutorial\" class=\"ga-fp\">\\n        <div class=\"w3-card-2 w3-round ws-light-pink\" style=\"padding:24px\">\\n          <h2 style=\"font-size:30px;font-weight:500\">Vue</h2>\\n        </div>\\n      </a>\\n    </div>\\n    \\n    <div class=\"w3-col l3 m6 s12 w3-center\" style=\"padding:2% 3%;\">\\n      <a href=\"/mysql/default.asp\" title=\"MySQL Tutorial\" class=\"ga-fp\">\\n        <div class=\"w3-card-2 w3-round ws-light-green\" style=\"padding:24px\">\\n          <h2 style=\"font-size:30px;font-weight:500\">MySQL</h2>\\n        </div>\\n      </a>\\n    </div>\\n    \\n<!--\\n    <div class=\"w3-col l3 m6 s12 w3-center\" style=\"padding:2% 3%;\">\\n      <a href=\"/w3js/default.asp\" title=\"W3.JS Tutorial\" class=\"ga-fp\">\\n        <div class=\"w3-card-2 w3-round ws-light-green\" style=\"padding:24px\">\\n          <h2 style=\"font-size:30px;font-weight:500\">W3.JS</h2>\\n        </div>\\n      </a>\\n    </div>\\n    -->\\n\\n    <div class=\"w3-col l3 m6 s12 w3-center\" style=\"padding:2% 3%;\">\\n      <a href=\"/xml/default.asp\" title=\"XML Tutorial\" class=\"ga-fp\">\\n        <div class=\"w3-card-2 w3-round ws-turquoise\" style=\"padding:24px\">\\n          <h2 style=\"font-size:30px;font-weight:500\">XML</h2>\\n        </div>\\n      </a>\\n    </div>\\n\\n    <div class=\"w3-col l3 m6 s12 w3-center\" style=\"padding:2% 3%;\">\\n      <a href=\"/sass/default.php\" title=\"Sass Tutorial\" class=\"ga-fp\">\\n        <div class=\"w3-card-2 w3-round ws-pink\" style=\"padding:24px\">\\n          <h2 style=\"font-size:30px;font-weight:500\">Sass</h2>\\n        </div>\\n      </a>\\n    </div>\\n\\n    <div class=\"w3-col l3 m6 s12 w3-center\" style=\"padding:2% 3%;\">\\n      <a href=\"/icons/default.asp\" title=\"Icons Tutorial\" class=\"ga-fp\">\\n        <div class=\"w3-card-2 w3-round ws-yellow\" style=\"padding:24px\">\\n          <h2 style=\"font-size:30px;font-weight:500\">Icons</h2>\\n        </div>\\n      </a>\\n    </div>\\n\\n    <div class=\"w3-col l3 m6 s12 w3-center\" style=\"padding:2% 3%;\">\\n      <a href=\"/css/css_rwd_intro.asp\" title=\"Responsive Web Design Tutorial\" class=\"ga-fp\">\\n        <div class=\"w3-card-2 w3-round ws-light-pink\" style=\"padding:24px\">\\n          <h2 style=\"font-size:30px;font-weight:500\">RWD</h2>\\n        </div>\\n      </a>\\n    </div>\\n\\n    <div class=\"w3-col l3 m6 s12 w3-center\" style=\"padding:2% 3%;\">\\n      <a href=\"/graphics/default.asp\" title=\"Graphics Tutorial\" class=\"ga-fp\">\\n        <div class=\"w3-card-2 w3-round ws-light-green\" style=\"padding:24px\">\\n          <h2 style=\"font-size:30px;font-weight:500\">Graphics</h2>\\n        </div>\\n      </a>\\n    </div>\\n\\n    <div class=\"w3-col l3 m6 s12 w3-center\" style=\"padding:2% 3%;\">\\n      <a href=\"/graphics/svg_intro.asp\" title=\"SVG Tutorial\" class=\"ga-fp\">\\n        <div class=\"w3-card-2 w3-round ws-turquoise\" style=\"padding:24px\">\\n          <h2 style=\"font-size:30px;font-weight:500\">SVG</h2>\\n        </div>\\n      </a>\\n    </div>\\n\\n    <div class=\"w3-col l3 m6 s12 w3-center\" style=\"padding:2% 3%;\">\\n      <a href=\"/graphics/canvas_intro.asp\" title=\"Canvas Tutorial\" class=\"ga-fp\">\\n        <div class=\"w3-card-2 w3-round ws-pink\" style=\"padding:24px\">\\n          <h2 style=\"font-size:30px;font-weight:500\">Canvas</h2>\\n        </div>\\n      </a>\\n    </div>\\n\\n    <div class=\"w3-col l3 m6 s12 w3-center\" style=\"padding:2% 3%;\">\\n      <a href=\"/nodejs/nodejs_raspberrypi.asp\" title=\"Raspberry Pi Tutorial\" class=\"ga-fp\">\\n        <div class=\"w3-card-2 w3-round ws-yellow\" style=\"padding:24px 0\">\\n          <h2 style=\"font-size:30px;font-weight:500\">Raspberry Pi</h2>\\n        </div>\\n      </a>\\n    </div>\\n\\n    <div class=\"w3-col l3 m6 s12 w3-center\" style=\"padding:2% 3%;\">\\n      <a href=\"/cybersecurity/index.php\" title=\"Cyber Security Tutorial\" class=\"ga-fp\">\\n        <div class=\"w3-card-2 w3-round ws-light-pink\" style=\"padding:24px 0\">\\n          <h2 style=\"font-size:30px;font-weight:500\">Cyber<span class=\"ws-hide-special\"> Security</span></h2>\\n        </div>\\n      </a>\\n    </div>\\n\\n    <div class=\"w3-col l3 m6 s12 w3-center\" style=\"padding:2% 3%;\">\\n      <a href=\"/colors/default.asp\" title=\"Colors Tutorial\" class=\"ga-fp\">\\n        <div class=\"w3-card-2 w3-round ws-light-green\" style=\"padding:24px\">\\n          <h2 style=\"font-size:30px;font-weight:500\">Colors</h2>\\n        </div>\\n      </a>\\n    </div>\\n\\n    <div class=\"w3-col l3 m6 s12 w3-center\" style=\"padding:2% 3%;\">\\n      <a href=\"/git/default.asp\" title=\"Git Tutorial\" class=\"ga-fp\">\\n        <div class=\"w3-card-2 w3-round ws-turquoise\" style=\"padding:24px\">\\n          <h2 style=\"font-size:30px;font-weight:500\">Git</h2>\\n        </div>\\n      </a>\\n    </div>\\n\\n    <div class=\"w3-col l3 m6 s12 w3-center\" style=\"padding:2% 3%;\">\\n      <a href=\"/python/matplotlib_intro.asp\" title=\"Python Matplotlib Tutorial\" class=\"ga-fp\">\\n        <div class=\"w3-card-2 w3-round ws-pink\" style=\"padding:24px\">\\n          <h2 style=\"font-size:30px;font-weight:500\">Matplotlib</h2>\\n        </div>\\n      </a>\\n    </div>\\n\\n    <div class=\"w3-col l3 m6 s12 w3-center\" style=\"padding:2% 3%;\">\\n      <a href=\"/python/numpy/default.asp\" title=\"Python NumPy Tutorial\" class=\"ga-fp\">\\n        <div class=\"w3-card-2 w3-round ws-yellow\" style=\"padding:24px\">\\n          <h2 style=\"font-size:30px;font-weight:500\">NumPy</h2>\\n        </div>\\n      </a>\\n    </div>\\n\\n    <div class=\"w3-col l3 m6 s12 w3-center\" style=\"padding:2% 3%;\">\\n      <a href=\"/python/pandas/default.asp\" title=\"Python Pandas Tutorial\" class=\"ga-fp\">\\n        <div class=\"w3-card-2 w3-round ws-light-pink\" style=\"padding:24px\">\\n          <h2 style=\"font-size:30px;font-weight:500\">Pandas</h2>\\n        </div>\\n      </a>\\n    </div>\\n\\n    <div class=\"w3-col l3 m6 s12 w3-center\" style=\"padding:2% 3%;\">\\n      <a href=\"/python/scipy/index.php\" title=\"Python SciPy Tutorial\" class=\"ga-fp\">\\n        <div class=\"w3-card-2 w3-round ws-light-green\" style=\"padding:24px\">\\n          <h2 style=\"font-size:30px;font-weight:500\">SciPy</h2>\\n        </div>\\n      </a>\\n    </div>\\n\\n    <div class=\"w3-col l3 m6 s12 w3-center\" style=\"padding:2% 3%;\">\\n      <a href=\"/asp/default.asp\" title=\"ASP Tutorial\" class=\"ga-fp\">\\n        <div class=\"w3-card-2 w3-round ws-turquoise\" style=\"padding:24px\">\\n          <h2 style=\"font-size:30px;font-weight:500\">ASP</h2>\\n        </div>\\n      </a>\\n    </div>\\n\\n\\n    <div class=\"w3-col l3 m6 s12 w3-center\" style=\"padding:2% 3%;\">\\n      <a href=\"/angular/default.asp\" title=\"AngularJS Tutorial\" class=\"ga-fp\">\\n        <div class=\"w3-card-2 w3-round ws-pink\" style=\"padding:24px 0\">\\n          <h2 style=\"font-size:30px;font-weight:500\">AngularJS</h2>\\n        </div>\\n      </a>\\n    </div>\\n\\n\\n    <div class=\"w3-col l3 m6 s12 w3-center\" style=\"padding:2% 3%;\">\\n      <a href=\"/appml/default.asp\" title=\"AppML Tutorial\" class=\"ga-fp\">\\n        <div class=\"w3-card-2 w3-round ws-yellow\" style=\"padding:24px\">\\n          <h2 style=\"font-size:30px;font-weight:500\">AppML</h2>\\n        </div>\\n      </a>\\n    </div>\\n\\n\\n    <div class=\"w3-col l3 m6 s12 w3-center\" style=\"padding:2% 3%;\">\\n      <a href=\"/go/index.php\" title=\"Go Tutorial\" class=\"ga-fp\">\\n        <div class=\"w3-card-2 w3-round ws-light-pink\" style=\"padding:24px\">\\n          <h2 style=\"font-size:30px;font-weight:500\">Go</h2>\\n        </div>\\n      </a>\\n    </div>\\n    \\n    <div class=\"w3-col l3 m6 s12 w3-center\" style=\"padding:2% 3%;\">\\n      <a href=\"/typescript/index.php\" title=\"TypeScript Tutorial\" class=\"ga-fp\">\\n        <div class=\"w3-card-2 w3-round ws-light-green\" style=\"padding:24px\">\\n          <h2 style=\"font-size:30px;font-weight:500\">TypeScript</h2>\\n        </div>\\n      </a>\\n    </div>\\n\\n    <div class=\"w3-col l3 m6 s12 w3-center\" style=\"padding:2% 3%;\">\\n      <a href=\"/django/index.php\" title=\"Django Tutorial\" class=\"ga-fp\">\\n        <div class=\"w3-card-2 w3-round ws-turquoise\" style=\"padding:24px\">\\n          <h2 style=\"font-size:30px;font-weight:500\">Django</h2>\\n        </div>\\n      </a>\\n    </div>\\n    \\n    <div class=\"w3-col l3 m6 s12 w3-center\" style=\"padding:2% 3%;\">\\n      <a href=\"/mongodb/index.php\" title=\"MongoDB Tutorial\" class=\"ga-fp\">\\n        <div class=\"w3-card-2 w3-round ws-pink\" style=\"padding:24px\">\\n          <h2 style=\"font-size:30px;font-weight:500\">MongoDB</h2>\\n        </div>\\n      </a>\\n    </div>\\n\\n    <div class=\"w3-col l3 m6 s12 w3-center\" style=\"padding:2% 3%;\">\\n      <a href=\"/statistics/index.php\" title=\"Statistics Tutorial\" class=\"ga-fp\">\\n        <div class=\"w3-card-2 w3-round ws-yellow\" style=\"padding:24px\">\\n          <h2 style=\"font-size:30px;font-weight:500\">Statistics</h2>\\n        </div>\\n      </a>\\n    </div>\\n\\n    <div class=\"w3-col l3 m6 s12 w3-center\" style=\"padding:2% 3%;\">\\n      <a href=\"/datascience/default.asp\" title=\"Data Science Tutorial\" class=\"ga-fp\">\\n        <div class=\"w3-card-2 w3-round ws-light-pink\" style=\"padding:24px;padding-left:0;padding-right:0\">\\n          <h2 style=\"font-size:30px;font-weight:500;white-space:nowrap;\">Data Science</h2>\\n        </div>\\n      </a>\\n    </div>\\n\\n    <div class=\"w3-col l3 m6 s12 w3-center\" style=\"padding:2% 3%;\">\\n      <a href=\"/postgresql/index.php\" title=\"PostgrSQL Tutorial\" class=\"ga-fp\">\\n        <div class=\"w3-card-2 w3-round ws-light-pink\" style=\"padding:24px 0\">\\n          <h2 style=\"font-size:30px;font-weight:500\">PostgreSQL</h2>\\n        </div>\\n      </a>\\n    </div>\\n\\n    <div class=\"w3-col l3 m6 s12 w3-center\" style=\"padding:2% 3%;\">\\n      <a href=\"/howto/default.asp\" title=\"How To - Code snippets\" class=\"ga-fp\">\\n        <div class=\"w3-card-2 w3-round ws-turquoise\" style=\"padding:24px\">\\n          <h2 style=\"font-size:30px;font-weight:500\">HowTo</h2>\\n        </div>\\n      </a>\\n    </div>\\n\\n    <div class=\"w3-col l3 m6 s12 w3-center\" style=\"padding:2% 3%;\">\\n      <a href=\"/rust/index.php\" title=\"Rust Tutorial\" class=\"ga-fp\">\\n        <div class=\"w3-card-2 w3-round ws-pink\" style=\"padding:24px 0\">\\n          <h2 style=\"font-size:30px;font-weight:500\">Rust</h2>\\n        </div>\\n      </a>\\n    </div>\\n\\n    <div class=\"w3-col l3 m6 s12 w3-center\" style=\"padding:2% 3%;\">\\n      <a href=\"/spaces/index.php\" title=\"Spaces - free web hosting\" class=\"ga-fp\">\\n        <div class=\"w3-card-2 w3-round ws-yellow\" style=\"padding:24px 0\">\\n          <h2 style=\"font-size:30px;font-weight:500\">Spaces</h2>\\n        </div>\\n      </a>\\n    </div>\\n\\n    <div class=\"w3-col l3 m6 s12 w3-center\" style=\"padding:2% 3%;\">\\n      <a href=\"/typingspeed/default.asp\" title=\"Graphics Tutorial\" class=\"ga-fp\">\\n        <div class=\"w3-card-2 w3-round ws-light-green\" style=\"padding:24px;padding-left:0;padding-right:0\">\\n          <h2 style=\"font-size:30px;font-weight:500;white-space:nowrap\">Typing Speed</h2>\\n        </div>\\n      </a>\\n    </div>\\n    \\n    <!-- End small boxes -->\\n\\n    <!-- other boxes -->\\n    <div class=\"w3-col l6 s12 w3-center\" style=\"padding:2% 3%;height:auto;\">\\n      <a href=\"/excel/index.php\" title=\"Excel Tutorial\" class=\"ga-fp\">\\n        <div class=\"w3-card-2 w3-round ws-turquoise\" style=\"padding:24px\">\\n          <h2 style=\"font-size:30px;font-weight:500\">Excel</h2>\\n        </div>\\n      </a>\\n    </div>\\n\\n    <div class=\"w3-col l6 s12 w3-center\" style=\"padding:2% 3%;height:auto;\">\\n      <a href=\"/dsa/index.php\" title=\"DSA Tutorial\" class=\"ga-fp\">\\n        <div class=\"w3-card-2 w3-round ws-yellow\" style=\"padding:24px 0\">\\n          <h2 style=\"font-size:30px;font-weight:500\">DSA - D<span style=\"font-size:80%\">ata </span>S<span style=\"font-size:80%\">tructures and </span>A<span style=\"font-size:80%\">lgorithms</span></h2>\\n        </div>\\n      </a>\\n    </div>\\n   \\n    <div class=\"w3-col l6 s12 w3-center\" style=\"padding:2% 3%;height:auto;\">\\n      <a href=\"/python/python_ml_getting_started.asp\" title=\"Machine Learning Tutorial\" class=\"ga-fp\">\\n        <div class=\"w3-card-2 w3-round ws-pink\" style=\"padding:24px\">\\n          <h2 style=\"font-size:30px;font-weight:500\">Machine Learning</h2>\\n        </div>\\n      </a>\\n    </div>\\n    \\n    <div class=\"w3-col l6 s12 w3-center\" style=\"padding:2% 3%;height:auto;\">\\n      <a href=\"/ai/default.asp\" title=\"Artificial Intelligence Tutorial\" class=\"ga-fp\">\\n        <div class=\"w3-card-2 w3-round ws-light-pink\" style=\"padding:24px\">\\n          <h2 style=\"font-size:30px;font-weight:500\">Artificial Intelligence</h2>\\n        </div>\\n      </a>\\n    </div>\\n    \\n    <div class=\"w3-col l6 s12 w3-center\" style=\"padding:2% 3%;height:auto;\">\\n      <a href=\"/programming/index.php\" title=\"Introduction to Programming\" class=\"ga-fp\">\\n        <div class=\"w3-card-2 w3-round ws-light-green\" style=\"padding:24px\">\\n          <h2 style=\"font-size:30px;font-weight:500\">Introduction to Programming</h2>\\n        </div>\\n      </a>\\n    </div>\\n    \\n    <div class=\"w3-col l6 s12 w3-center\" style=\"padding:2% 3%;height:auto;\">\\n      <a href=\"/bash/index.php\" title=\"Bash Tutorial\" class=\"ga-fp\">\\n        <div class=\"w3-card-2 w3-round ws-turquoise\" style=\"padding:24px\">\\n          <h2 style=\"font-size:30px;font-weight:500\">Bash</h2>\\n        </div>\\n      </a>\\n    </div>\\n\\n  </div>\\n</div>\\n\\n<div class=\"w3-row ws-light-green\" style=\"background-color:white;color:#000;padding-top:65px;padding-bottom:70px\">\\n  <div class=\"w3-center w3-content w3-padding\">\\n      <h1 style=\"font-size:65px;font-weight:700;\">Log in <span class=\"w3-hide-small\">/ Sign Up</span></h1>\\n      <h4 style=\"margin-top:35px;margin-bottom:35px;\">Create a <strong>free</strong> account to track your progress, and get access to more features and learning materials.</h4>\\n      <picture>\\n        <source srcset=\"dashboard1.webp\" type=\"image/webp\" style=\"max-width:100%;\" />\\n        <img src=\"dashboard1.png\" alt=\"Dynamic Spaces\" style=\"max-width:100%;\" loading=\"lazy\" alt=\"Track your progress with at W3Schools.com\">\\n      </picture>\\n      <p><a href=\"https://profile.w3schools.com/sign-up\" target=\"_blank\" class=\"ws-btn tut-button\" style=\"margin-top:22px;font-size:20px;width:300px;padding: 11px 18px;\" id=\"myLearningFromDefault\" title=\"Sign up to try My Learning\">Sign Up for Free</a></p>\\n  </div>\\n</div>\\n\\n\\n<div class=\"ws-black\" style=\"padding:70px 3px 85px 3px\">\\n  <div class=\"w3-content w3-padding\" style=\"max-width:974px;padding-top:78px;padding-bottom:125px\">\\n    <h1 style=\"font-size:65px;font-weight:700;text-align:center\">Code Editor</h1>\\n    <h4 style=\"margin-top:25px;\" class=\"w3-center\">With our online code editor, you can edit code and view the result in your browser</h4>\\n    <br><br>\\n    <div class=\"codeeditorbr-container\">\\n      <div class=\"codeeditorbr-row\">\\n        <div class=\"codeeditorbr-column codeeditorbr-left\">\\n          <span class=\"codeeditorbr-dot\" style=\"background:#ED594A;\"></span>\\n          <span class=\"codeeditorbr-dot\" style=\"background:#FDD800;\"></span>\\n          <span class=\"codeeditorbr-dot\" style=\"background:#5AC05A;\"></span>\\n        </div>\\n\\n        <div class=\"codeeditorbr-column codeeditorbr-middle\">\\n          <input type=\"text\" disabled class=\"codeeditorbr-input\" value=\"www.w3schools.com/tryit/\" aria-label=\"w3schools.com/tryit\">\\n        </div>\\n      </div>\\n        <div class=\"w3-bar\" style=\"background-color:#f1f1f1\">\\n    <button class=\"w3-bar-item w3-button ga-fp codeeditorbr-tablink ws-grey\" style=\"color:black\" onclick=\"openLangTab(event,\\'Frontend\\')\">Frontend</button>\\n    <button class=\"w3-bar-item w3-button ga-fp codeeditorbr-tablink\" style=\"color:black\" onclick=\"openLangTab(event,\\'Backend\\')\">Backend</button>\\n  </div>\\n    <div id=\"Frontend\" class=\"proglang\">\\n      <picture>\\n       <source srcset=\"codeeditor.webp\" type=\"image/webp\" style=\"width:100%;height:auto;display:block;border-bottom-left-radius:4px;border-bottom-right-radius:4px;\" />\\n       <img src=\"codeeditor.gif\" loading=\"lazy\" alt=\"Frontend Code Editor\" style=\"width:100%;height:auto;display:block;border-bottom-left-radius:4px;border-bottom-right-radius:4px;\" >\\n      </picture>\\n    </div>\\n    <div id=\"Backend\" class=\"proglang\" style=\"display:none\">\\n      <picture>\\n        <source srcset=\"/tryit/best2.webp\" type=\"image/webp\" style=\"width:100%;height:auto;display:block;border-bottom-left-radius:4px;border-bottom-right-radius:4px;\" />\\n        <img src=\"/tryit/best2.gif\" loading=\"lazy\" alt=\"Backend Code Editor\" style=\"width:100%;height:auto;display:block;border-bottom-left-radius:4px;border-bottom-right-radius:4px;\">\\n      </picture>\\n    </div>\\n\\n    </div><br>\\n    <!--\\n    <a href=\"/tryit/tryit.asp?filename=tryhtml_default\" target=\"_blank\" class=\"ws-btn\" style=\"font-size:18px;text-align:left;width:325px;\">Try it Yourself (HTML/CSS/JS)</a><br><br>\\n    <a href=\"/tryit/trycompiler.asp?filename=demo_python\" target=\"_blank\" class=\"ws-btn ws-yellow hover-yellow\" style=\"font-size:18px;text-align:left;width:325px;\">Try it Yourself (Python/PHP/Java etc.)</a>\\n    -->\\n    <a href=\"/tryit/tryit.asp?filename=tryhtml_hello\" target=\"_blank\" class=\"ws-btn w3-mobile\" style=\"font-size:18px;text-align:left;\">Try Frontend Editor (HTML/CSS/JS)</a><br><br>\\n    <a href=\"/tryit/trycompiler.asp?filename=demo_python\" target=\"_blank\" class=\"ws-btn w3-mobile ws-yellow hover-yellow\" style=\"font-size:18px;text-align:left;\">Try Backend Editor (Python/PHP/Java/C..)</a>\\n  </div>\\n</div>\\n\\n<div class=\"w3-center\" style=\"color:black;background-color:#fff;\">  \\n  <div style=\"color:black;background-color:#fff;margin:auto;padding:75px 20px 80px 20px; max-width:1400px;\">\\n    <h1 style=\"font-size:65px;font-weight:700;\">W3Schools Spaces</h1>\\n    <h3 style=\"margin-top:35px;\">If you want to create your own website, check out <a href=\"/spaces/index.php\" class=\"ws-hover-text-green\" style=\"color: #04AA6D;\">W3Schools Spaces</a>.</h3>\\n    <h3>It is free to use, and does not require any setup:</h3>\\n    <br>\\n    <picture>\\n      <source srcset=\"/spaces/dynamicspaces.webp\" type=\"image/webp\" style=\"border:2px solid #f1f1f1;border-radius:5px;max-width:100%;width:850px;margin-bottom: 55px; margin-top: 20px;\" />\\n      <img src=\"/spaces/dynamicspaces.gif\" alt=\"Dynamic Spaces\" style=\"border:5px solid #f1f1f1;border-radius:5px;max-width:100%;width:850px;margin-bottom: 55px; margin-top: 20px;\" loading=\"lazy\">\\n    </picture>\\n    <a href=\"/spaces/index.php\" class=\"ws-btn tut-button\" style=\"margin-top:16px;font-size:21px;width:300px;padding: 11px 18px;\" title=\"Learn more about W3Schools Spaces\">Learn More</a><br>\\n  </div>\\n</div>\\n\\n<div class=\"pro-caption ws-black\">\\n  <h1>Become a Plus User</h1>\\n  <h3>And unlock powerful features:</h3>\\n\\n  <div style=\"text-align:center;margin:auto\">\\n    <ul style=\"display:inline-block\">\\n      <li><img src=\"/spaces/files/check3.db67d31e.svg\" style=\"margin-right:15px;\" alt=\"Checkmark\">Browse W3Schools <strong>without ads</strong></li>\\n      <li><img src=\"/spaces/files/check3.db67d31e.svg\" style=\"margin-right:15px;\" alt=\"Checkmark\">Build and host Websites</li>\\n      <li><img src=\"/spaces/files/check3.db67d31e.svg\" style=\"margin-right:15px;\" alt=\"Checkmark\">Unlimited challenges</li>\\n      <li><img src=\"/spaces/files/check3.db67d31e.svg\" style=\"margin-right:15px;\" alt=\"Checkmark\">Unlimited practice tests</li>\\n      <li><img src=\"/spaces/files/check3.db67d31e.svg\" style=\"margin-right:15px;\" alt=\"Checkmark\">Get extra credits</li>\\n      <li><img src=\"/spaces/files/check3.db67d31e.svg\" style=\"margin-right:15px;\" alt=\"Checkmark\">Priority support</li>\\n    </ul>\\n  </div>\\n  <a href=\"/plus/index.php\" class=\"ws-btn tut-button ga-fp\" style=\"margin-top:35px;font-size:20px;width:300px;padding: 11px 18px;\" id=\"proFromDefault\" title=\"Learn more about W3Schools Plus\">Learn More</a><br>\\n\\n</div>\\n<hr style=\"margin:0;border:2px solid grey;wixdth:50%;mxargin:auto;\">\\n<div class=\"pro-caption w3-row w3-padding-64 ws-black\">\\n  <div class=\"w3-content\">\\n   <div class=\"w3-col l6 w3-center\" style=\"padding:3%\">\\n    <h1 style=\"font-size:70px;font-weight:700;margin-bottom:18px!important\">For Teachers</h1>\\n    <p style=\"font-size:19px\">Streamline your teaching:</p>\\n    <div style=\"text-align:center;margin:auto\">\\n      <ul style=\"display:inline-block\">\\n        <li><img src=\"/spaces/files/check3.db67d31e.svg\" style=\"margin-right:15px;\" alt=\"Checkmark\">Manage your classroom</li>\\n        <li><img src=\"/spaces/files/check3.db67d31e.svg\" style=\"margin-right:15px;\" alt=\"Checkmark\">Ready-to-use learning materials</li>\\n        <li><img src=\"/spaces/files/check3.db67d31e.svg\" style=\"margin-right:15px;\" alt=\"Checkmark\">Customize study plans</li>\\n        <li><img src=\"/spaces/files/check3.db67d31e.svg\" style=\"margin-right:15px;\" alt=\"Checkmark\">Track student progress</li>\\n        <li><img src=\"/spaces/files/check3.db67d31e.svg\" style=\"margin-right:15px;\" alt=\"Checkmark\">Interactive coding challenges</li>\\n      </ul>\\n    </div> \\n    <a href=\"/academy/index.php\" class=\"w3-button ga-fp w3-block tut-button\" style=\"margin-top:20px\">Learn More</a><br>\\n   </div>\\n   <div class=\"w3-col l6\" style=\"padding:3%\">\\n      <a href=\"/academy/index.php\">\\n      <picture>\\n        <source srcset=\"/images/classroom.webp\" type=\"image/webp\" style=\"width:100%;max-width:500px;margin-top:16px;\" />\\n        <img style=\"width:100%;max-width:500px;margin-top:16px;\" src=\"/images/classroom.png\" alt=\"Classroom\" loading=\"lazy\">\\n      </picture>\\n      </a>\\n   </div>\\n   </div>\\n  </div>\\n\\n<div class=\"w3-center\" style=\"background-color:#F3ECEA;color:#000;padding-top:78px;padding-bottom:95px\">\\n<div class=\"w3-content\">\\n  <h1 style=\"font-size:65px;font-weight:700;\">Color Picker</h1>\\n  <h4 style=\"margin-top:25px;\">W3Schools\\' famous color picker:</h4>\\n  <a href=\"/colors/colors_picker.asp\" class=\"w3-hover-opacity ga-fp\">\\n    <picture>\\n      <source srcset=\"/images/colorpicker.webp\" type=\"image/webp\" style=\"width:150px;height:128px;margin-top:16px;\" />\\n      <img style=\"width:150px;height:128px;margin-top:16px;\" src=\"/images/colorpicker.png\" alt=\"Colorpicker\" loading=\"lazy\">\\n    </picture>\\n  </a>\\n</div>\\n</div>\\n\\n<div class=\"w3-row ws-turquoise\" style=\"padding-top:40px;padding-bottom:40px;\">\\n <div class=\"w3-col l12 w3-center\" style=\"padding:3%;\">\\n  <h1 style=\"font-family: \\'Freckle Face\\', cursive;font-size:48px\">Code Game</h1>\\n  <h2 style=\"font-family: \\'Freckle Face\\', cursive;\">Help the Lynx collect pine cones!</h2>\\n  <a href=\"/codegame/index.html\" target=\"_blank\" class=\"w3-hover-opacity\">\\n    <picture>\\n      <source style=\"margin:16px 0;\" srcset=\"/images/w3lynx_200.webp\" type=\"image/webp\" />\\n      <img style=\"margin:16px 0;\" src=\"/images/w3lynx_200.png\" alt=\"Code Game\" loading=\"lazy\">\\n    </picture>\\n  </a>\\n  <p><a class=\"w3-button ga-fp tut-button black-color\" href=\"/codegame/index.html\" target=\"_blank\" style=\"font-size:20px;padding: 11px 18px\">Play Game</a></p>\\n </div>\\n</div>\\n\\n<div class=\"w3-center w3-padding-64 ws-black\" style=\"padding-left:20px;padding-right:20px;background-color:#232434;color:white\">\\n  <h2 style=\"font-size:65px;font-weight:700\">Exercises and Quizzes</h2>\\n  <h4>Test your skills!</h4>\\n  <br>\\n  <div class=\"w3-row-padding w3-content\" style=\"max-width:1352px\">\\n    <div class=\"w3-half\" >\\n      <p><a class=\"w3-button ga-fp exercise-button w3-round ws-green\" href=\"/exercises/index.php\">Exercises</a></p>\\n    </div>\\n    <div class=\"w3-half\">\\n      <p><a class=\"w3-button ga-fp exercise-button w3-round ws-yellow hover-yellow\" href=\"/quiztest/default.asp\">Quizzes</a></p>\\n    </div>\\n  </div><br>\\n</div>\\n\\n<div class=\"w3-center ws-grey\" style=\"padding:64px 24px 90px 24px\">\\n  <h1 style=\"font-size:65px;font-weight:700;\">Web Templates</h1><br>\\n  <h4>Browse our selection of <strong>free</strong> responsive HTML Templates</h4>\\n  <div class=\"w3-content\">\\n    <a href=\"/w3css/w3css_templates.asp\">\\n      <picture>\\n        <source srcset=\"w3css_templates.webp\" type=\"image/webp\" style=\"width:100%;margin:16px 0 20px 0\" />\\n        <img src=\"w3css_templates.jpg\" loading=\"lazy\" style=\"width:100%;margin:16px 0 20px 0\" alt=\"W3.CSS Templates\">\\n      </picture>\\n    </a>\\n  </div>\\n  <p><a href=\"/w3css/w3css_templates.asp\" class=\"w3-button ga-fp tut-button black-color w3-padding-16 w3-mobile\" style=\"width:50%;font-size:20px;\">Browse Templates</a></p>\\n</div>\\n\\n<div class=\"w3-panel\" id=\"getdiploma\" style=\"margin-top:0;padding-bottom:64px;background-color:#282A35;\">\\n  <div style=\"max-width:1225px;margin:auto;position:relative\">\\n    <h2>Kickstart your career</h2>\\n    <p>Get certified by completing a course</p>\\n    <a class=\"w3-btn w3-margin-bottom\" href=\"https://campus.w3schools.com/collections/course-catalog\" target=\"_blank\" style=\"font-size:20px;\">Get started</a>  \\n    <svg id=\"w3_cert_arrow_default\" viewBox=\"0 0 170 143\" fill=\"none\" xmlns=\"http://www.w3.org/2000/svg\">\\n    <path d=\"M9.7747 42.7064C9.7747 42.7064 19.5575 77.2951 44.4558 84.8113C62.0225 90.1142 81.0061 80.1196 77.791 68.3309C76.0904 62.0955 69.0574 62.4735 65.5106 65.8444C59.1003 71.9368 67.8591 89.7423 77.9205 96.1324C112.816 118.295 161.943 84.5867 161.943 84.5867\" stroke=\"white\" stroke-width=\"2\" stroke-linecap=\"round\"/>\\n    <path d=\"M159.804 93.8429L162.704 84.4917L152.715 80.8293\" stroke=\"white\" stroke-width=\"2\" stroke-linecap=\"round\" stroke-linejoin=\"round\"/>\\n    </svg>\\n    <svg id=\"w3_cert_badge_default\" xmlns=\"http://www.w3.org/2000/svg\" viewBox=\"0 0 300 300\"><defs><style>.cls-1{fill:#04aa6b;}.cls-2{font-size:23px;}.cls-2,.cls-3,.cls-4{fill:#fff;}.cls-2,.cls-3{font-family:RobotoMono-Medium, Roboto Mono;font-weight:500;}.cls-3{font-size:20.08px;}</style></defs><circle class=\"cls-1\" cx=\"150\" cy=\"150\" r=\"146.47\" transform=\"translate(-62.13 150) rotate(-45)\"/><text class=\"cls-2\" transform=\"translate(93.54 63.89) rotate(-29.5)\">w</text><text class=\"cls-2\" transform=\"translate(107.13 56.35) rotate(-20.8)\">3</text><text class=\"cls-2\" transform=\"matrix(0.98, -0.21, 0.21, 0.98, 121.68, 50.97)\">s</text><text class=\"cls-2\" transform=\"translate(136.89 47.84) rotate(-3.47)\">c</text><text class=\"cls-2\" transform=\"translate(152.39 47.03) rotate(5.12)\">h</text><text class=\"cls-2\" transform=\"translate(167.85 48.54) rotate(13.72)\">o</text><text class=\"cls-2\" transform=\"translate(182.89 52.35) rotate(22.34)\">o</text><text class=\"cls-2\" transform=\"matrix(0.86, 0.52, -0.52, 0.86, 197.18, 58.36)\">l</text><text class=\"cls-2\" transform=\"matrix(0.77, 0.64, -0.64, 0.77, 210.4, 66.46)\">s</text><text class=\"cls-3\" transform=\"translate(35.51 186.66) rotate(69.37)\"> </text><text class=\"cls-3\" transform=\"matrix(0.47, 0.88, -0.88, 0.47, 41.27, 201.28)\">C</text><text class=\"cls-3\" transform=\"matrix(0.58, 0.81, -0.81, 0.58, 48.91, 215.03)\">E</text><text class=\"cls-3\" transform=\"matrix(0.67, 0.74, -0.74, 0.67, 58.13, 227.36)\">R</text><text class=\"cls-3\" transform=\"translate(69.16 238.92) rotate(39.44)\">T</text><text class=\"cls-3\" transform=\"matrix(0.85, 0.53, -0.53, 0.85, 81.47, 248.73)\">I</text><text class=\"cls-3\" transform=\"translate(94.94 256.83) rotate(24.36)\">F</text><text class=\"cls-3\" transform=\"translate(109.34 263.09) rotate(16.83)\">I</text><text class=\"cls-3\" transform=\"translate(124.46 267.41) rotate(9.34)\">E</text><text class=\"cls-3\" transform=\"translate(139.99 269.73) rotate(1.88)\">D</text><text class=\"cls-3\" transform=\"translate(155.7 270.01) rotate(-5.58)\"> </text><text class=\"cls-3\" transform=\"translate(171.32 268.24) rotate(-13.06)\"> </text><text class=\"cls-2\" transform=\"translate(187.55 266.81) rotate(-21.04)\">.</text><text class=\"cls-3\" transform=\"translate(203.27 257.7) rotate(-29.24)\"> </text><text class=\"cls-3\" transform=\"translate(216.84 249.83) rotate(-36.75)\"> </text><text class=\"cls-3\" transform=\"translate(229.26 240.26) rotate(-44.15)\">2</text><text class=\"cls-3\" transform=\"translate(240.39 229.13) rotate(-51.62)\">0</text><text class=\"cls-3\" transform=\"translate(249.97 216.63) rotate(-59.17)\">2</text><text class=\"cls-3\" transform=\"matrix(0.4, -0.92, 0.92, 0.4, 257.81, 203.04)\">5</text><path class=\"cls-4\" d=\"M196.64,136.31s3.53,3.8,8.5,3.8c3.9,0,6.75-2.37,6.75-5.59,0-4-3.64-5.81-8-5.81h-2.59l-1.53-3.48,6.86-8.13a34.07,34.07,0,0,1,2.7-2.85s-1.11,0-3.33,0H194.79v-5.86H217.7v4.28l-9.19,10.61c5.18.74,10.24,4.43,10.24,10.92s-4.85,12.3-13.19,12.3a17.36,17.36,0,0,1-12.41-5Z\"/><path class=\"cls-4\" d=\"M152,144.24l30.24,53.86,14.94-26.61L168.6,120.63H135.36l-13.78,24.53-13.77-24.53H77.93l43.5,77.46.15-.28.16.28Z\"/></svg>\\n  </div>\\n</div>\\n\\n<div class=\"w3-white w3-center w3-content\" id=\"howto_padding\">\\n  <h2 style=\"font-size:60px;font-weight:700\" class=\"textsmaller\">How To Section</h2>\\n  <h4 class=\"xxw3-text-dark-grey\">Code snippets for HTML, CSS and JavaScript</h4>\\n  <h6 style=\"margin-top:19px;\">For example, how to create a slideshow:</h6>\\n  <br>\\n  <div class=\"codeeditorbr-container\" style=\"text-align:left;\">\\n    <div class=\"codeeditorbr-row\">\\n      <div class=\"codeeditorbr-column codeeditorbr-left\">\\n        <span class=\"codeeditorbr-dot\" style=\"background:#ED594A;\"></span>\\n        <span class=\"codeeditorbr-dot\" style=\"background:#FDD800;\"></span>\\n        <span class=\"codeeditorbr-dot\" style=\"background:#5AC05A;\"></span>\\n      </div>\\n\\n      <div class=\"codeeditorbr-column codeeditorbr-middle\">\\n        <input type=\"text\" disabled class=\"codeeditorbr-input\" value=\"www.w3schools.com/howto/\" aria-label=\"Select template\">\\n      </div>\\n    </div>\\n    <iframe src=\"/howto/tryhow_js_slideshow_ifr.htm\" id=\"howto_iframe\" title=\"How To Selection\"></iframe>\\n  </div>\\n  <div style=\"position:relative\">\\n  <div class=\"vl-howto\"></div>\\n  </div>\\n  <a href=\"/howto/default.asp\" class=\"w3-button ga-fp tut-button ws-black w3-padding-16 w3-mobile vl-howtobtn\" style=\"font-size:20px;\">Learn How To</a>\\n</div>\\n\\n\\n<!-- END MAIN -->\\n\\n<script src=\"/lib/w3codecolor.js\"></script>\\n<script>\\nfunction openLangTab(evtEd, codeName) {\\n  var indexEditor, proglanguage, progtablinks;\\n  proglanguage = document.getElementsByClassName(\"proglang\");\\n  for (indexEditor = 0; indexEditor < proglanguage.length; indexEditor++) {\\n    proglanguage[indexEditor].style.display = \"none\";\\n  }\\n  progtablinks = document.getElementsByClassName(\"codeeditorbr-tablink\");\\n  for (indexEditor = 0; indexEditor < proglanguage.length; indexEditor++) {\\n    progtablinks[indexEditor].className = progtablinks[indexEditor].className.replace(\" ws-grey\", \"\");\\n  }\\n  document.getElementById(codeName).style.display = \"block\";\\n  evtEd.currentTarget.className += \" ws-grey\";\\n}\\n\\n\\nfunction open_search(elmnt, sfb) {\\n  var a = document.getElementById(\"googleSearch\");\\n  if (a.style.visibility == \"hidden\" && a.style.display == \"\") {\\n    a.style.visibility = \"\";\\n    a.style.display = \"none\";\\n  }\\n  if (sfb == false) {\\n    if (a.style.display == \"\") {\\n      a.style.visibility = \"\";\\n      a.style.display = \"none\";\\n      //elmnt.innerHTML = \"<i class=\\'fa\\'>&#xe802;</i>\";    \\n    } else {\\n      a.style.display = \"\";\\n      a.style.visibility == \"hidden\"\\n    if (window.innerWidth > 700) {\\n      a.style.width = \"40%\";\\n    } else {\\n      a.style.width = \"80%\";\\n    }\\n    window.setTimeout(function () {\\n          if (document.getElementById(\"gsc-i-id1\")) {\\n            document.getElementById(\"gsc-i-id1\").focus();\\n          }\\n        }, 400);\\n    }\\n  } else {\\n    if (a.style.display == \"\") {\\n      a.style.visibility = \"\";\\n      a.style.display = \"none\";\\n    } else {\\n      a.style.display = \"\";\\n      a.style.visibility == \"hidden\"\\n    }\\n    a.style.visibility = \"hidden\";\\n    a.style.display = \"\"; \\n  }\\n}\\n\\n//w3CodeColor();\\n\\n\\n/*\\nvar pagesArr = [\\n  [\"html\", \"/html/default.asp\", \"HTML Tutorial\"],\\n  [\"css\", \"/css/default.asp\", \"CSS Tutorial\"],\\n  [\"js\", \"/js/default.asp\", \"JavaScript Tutorial\"],\\n  [\"python\", \"/python/default.asp\", \"Python Tutorial\"],\\n  [\"sql\", \"/sql/default.asp\", \"SQL Tutorial\"],\\n  [\"php\", \"/php/default.asp\", \"PHP Tutorial\"],\\n  [\"java\", \"/java/default.asp\", \"JAVA Tutorial\"],\\n  [\"c\", \"/c/index.php\", \"C Tutorial\"],\\n  [\"c++\", \"/cpp/default.asp\", \"C++ Tutorial\"],\\n  [\"c#\", \"/cs/index.php\", \"C# Tutorial\"],\\n  [\"jquery\", \"/jquery/default.asp\", \"jQuery Tutorial\"],\\n  [\"w3css\", \"/w3css/default.asp\", \"W3.CSS Tutorial\"],\\n  [\"bootstrap 3\", \"/bootstrap/default.asp\", \"Bootstrap3 Tutorial\"],\\n  [\"bootstrap 4\", \"/bootstrap4/default.asp\", \"Bootstrap4 Tutorial\"],\\n  [\"bootstrap 5\", \"/bootstrap5/index.php\", \"Bootstrap5 Tutorial\"],\\n  [\"r\", \"/r/default.asp\", \"R Tutorial\"],\\n  [\"kotlin\", \"/kotlin/index.php\", \"KOTLIN Tutorial\"],\\n  [\"mysql\", \"/mysql/default.asp\", \"MySQL Tutorial\"],\\n  [\"postgresql\", \"/postgresql/index.php\", \"PostgreSQL Tutorial\"],\\n  [\"nodejs\", \"/nodejs/default.asp\", \"Node.js Tutorial\"],\\n  [\"react.js\", \"/react/default.asp\", \"REACT Tutorial\"],\\n  [\"vuejs\", \"/vue/index.php\", \"Vue.js Tutorial\"],  \\n  [\"json\", \"/js/js_json.asp\", \"JSON Tutorial\"],\\n  [\"angularjs\", \"/angular/default.asp\", \"AngularJS Tutorial\"],\\n  [\"w3.js\", \"/w3js/default.asp\", \"W3.JS Tutorial\"],\\n  [\"xml\", \"/xml/default.asp\", \"XML Tutorial\"],\\n  [\"sass\", \"/sass/default.php\", \"SASS Tutorial\"],\\n  [\"icons\", \"/icons/default.asp\", \"Icons Tutorial\"],\\n  [\"\", \"/icons/icons_reference.asp\", \"Font Awesome Icons\"],  \\n  [\"\", \"/howto/howto_google_fonts.asp\", \"Google Fonts\"],    \\n  [\"rwd\", \"/css/css_rwd_intro.asp\", \"Responsive Web Design Tutorial\"],\\n  [\"graphics\", \"/graphics/default.asp\", \"Graphics Tutorial\"],\\n  [\"graphics\", \"/graphics/svg_intro.asp\", \"SVG Tutorial\"],\\n  [\"canvas\", \"/graphics/canvas_intro.asp\", \"Canvas Tutorial\"],\\n  [\"raspberry pi\", \"/nodejs/nodejs_raspberrypi.asp\", \"RaspberryPi Tutorial\"],\\n  [\"cybersecurity\", \"/cybersecurity/index.php\", \"Cyber Security Tutorial\"],\\n  [\"colors\", \"/colors/default.asp\", \"Colors Tutorial\"],\\n  [\"typescript\", \"/typescript/index.php\", \"TypeScript Tutorial\"],\\n  [\"git\", \"/git/default.asp\", \"Git Tutorial\"],\\n  [\"matplotlib\", \"/python/matplotlib_intro.asp\", \"Matplotlib Tutorial\"],\\n  [\"numpy\", \"/python/numpy/default.asp\", \"NumPy Tutorial\"],\\n  [\"pandas\", \"/python/pandas/default.asp\", \"Pandas Tutorial\"],\\n  [\"scipy\", \"/python/scipy/index.php\", \"SciPy Tutorial\"],\\n  [\"asp\", \"/asp/default.asp\", \"ASP Tutorial\"],\\n  [\"accessibility\", \"/accessibility/index.php\", \"Accessibility Tutorial\"],\\n  [\"appml\", \"/appml/default.asp\", \"AppML Tutorial\"],\\n  [\"go\", \"/go/index.php\", \"GO Tutorial\"],\\n  [\"excell\", \"/excel/index.php\", \"Excel Tutorial\"],\\n  [\"google sheets\", \"/googlesheets/index.php\", \"Google Sheets Tutorial\"],\\n  [\"ml\", \"/python/python_ml_getting_started.asp\", \"Machine Learning Tutorial\"],\\n  [\"artificial intelligence\", \"/ai/default.asp\", \"AI Tutorial\"],\\n  [\"statistics\", \"/statistics/index.php\", \"Statistics Tutorial\"],\\n  [\"data science\", \"/datascience/default.asp\", \"Data Science Tutorial\"],\\n  [\"code editor\", \"/tryit/tryit.asp?filename=tryhtml_hello\", \"Tryit Editor\"],\\n  [\"color picker\", \"/colors/colors_picker.asp\", \"Color Picker\"],\\n  [\"code game\", \"/codegame/index.html\", \"Code Game\"],\\n  [\"exercises\", \"/exercises/index.php\", \"Exercises\"],\\n  [\"quizzes\", \"/quiztest/default.asp\", \"Quizzes\"],\\n  [\"templates\", \"/w3css/w3css_templates.asp\", \"W3.CSS Templates\"],\\n  [\"courses\", \"https://shop.w3schools.com/collections/course-catalog\", \"Courses\"],\\n  [\"certificates\", \"https://shop.w3schools.com/collections/certifications\", \"Certificates\"],\\n  [\"spaces\", \"/spaces/index.php\", \"W3Schools Spaces\"],\\n  [\"website\", \"/spaces/index.php\", \"Create website\"],\\n  [\"how to\", \"/howto/default.asp\", \"How-To Library\"],\\n  [\"aws cloud\", \"/aws/index.php\", \"AWS Cloud Tutorial\"],\\n  [\"html reference\", \"/tags/default.asp\", \"HTML Tag Reference\"],\\n  [\"html certificate\", \"https://campus.w3schools.com/collections/certifications/products/html-certificate\", \"HTML Certificate\"], \\n  [\"\", \"/tags/ref_html_browsersupport.asp\", \"HTML Browser Support\"],   \\n  [\"events reference\", \"/tags/ref_eventattributes.asp\", \"HTML Event Reference\"],\\n  [\"color reference\", \"/colors/default.asp\", \"HTML Color Reference\"],\\n  [\"attributes\", \"/tags/ref_attributes.asp\", \"HTML Attribute Reference\"],\\n  [\"canvas reference\", \"/jsref/api_canvas.asp\", \"HTML Canvas Reference\"],\\n  [\"svg reference\", \"/graphics/svg_reference.asp\", \"HTML SVG Reference\"],\\n  [\"\", \"/graphics/google_maps_reference.asp\", \"Google Maps Reference\"],\\n  [\"\", \"/cssref/index.php\", \"CSS Reference\"],\\n  [\"\", \"/cssref/css3_browsersupport.asp\", \"CSS Browser Support\"],\\n  [\"\", \"/cssref/css_selectors.asp\", \"CSS Selector Reference\"],\\n  [\"\", \"/bootstrap/bootstrap_ref_all_classes.asp\", \"Bootstrap 3 Reference\"],\\n  [\"\", \"/bootstrap4/bootstrap_ref_all_classes.asp\", \"Bootstrap 4 Reference\"],\\n  [\"\", \"/w3css/w3css_references.asp\", \"W3.CSS Reference\"],\\n  [\"\", \"/icons/icons_reference.asp\", \"Icon Reference\"],\\n  [\"\", \"/sass/sass_functions_string.php\", \"Sass Reference\"],\\n  [\"\", \"/jsref/default.asp\", \"JavaScript Reference\"],\\n  [\"\", \"/jsref/default.asp\", \"HTML DOM Reference\"],\\n  [\"\", \"/jquery/jquery_ref_overview.asp\", \"jQuery Reference\"],\\n  [\"\", \"/angular/angular_ref_directives.asp\", \"AngularJS Reference\"],\\n  [\"\", \"/python/python_reference.asp\", \"Python Reference\"],\\n  [\"\", \"/java/java_ref_keywords.asp\", \"Java Reference\"],\\n  [\"\", \"/sql/sql_ref_keywords.asp\", \"SQL Reference\"],\\n  [\"\", \"/mysql/mysql_ref_functions.asp\", \"MySQL Reference\"],\\n  [\"\", \"/php/php_ref_overview.asp\", \"PHP Reference\"],\\n  [\"\", \"/asp/asp_ref_response.asp\", \"ASP Reference\"],\\n  [\"\", \"/xml/dom_nodetype.asp\", \"XML DOM Reference\"],\\n  [\"\", \"/xml/dom_http.asp\", \"XML Http Reference\"],\\n  [\"\", \"/xml/xsl_elementref.asp\", \"XSLT Reference\"],\\n  [\"\", \"/xml/schema_elements_ref.asp\", \"XML Schema Reference\"],\\n  [\"\", \"/charsets/default.asp\", \"HTML Character Sets\"],\\n  [\"\", \"/charsets/ref_html_ascii.asp\", \"HTML ASCII\"],\\n  [\"\", \"/charsets/ref_html_ansi.asp\", \"HTML ANSI\"],\\n  [\"\", \"/charsets/ref_html_ansi.asp\", \"HTML Windows-1252\"],\\n  [\"\", \"/charsets/ref_html_8859.asp\", \"HTML ISO-8859-1\"],\\n  [\"\", \"/charsets/ref_html_symbols.asp\", \"HTML Symbols\"],\\n  [\"\", \"/charsets/ref_html_utf8.asp\", \"HTML UTF-8\"],\\n  [\"django\", \"/django/index.php\", \"Django Tutorial\"],\\n  [\"mongodb\", \"/mongodb/index.php\", \"MongoDB Tutorial\"],    \\n  [\"\", \"/typingspeed/default.asp\", \"Test your typing speed\"],  \\n  [\"css certificate\", \"https://campus.w3schools.com/collections/certifications/products/css-certificate\", \"CSS Certificate\"], \\n  [\"js certificate\", \"https://campus.w3schools.com/collections/certifications/products/javascript-certificate\", \"JavaScript Certificate\"],   \\n  [\"front end certificate\", \"https://campus.w3schools.com/collections/certifications/products/front-end-certificate\", \"Front End Certificate\"],   \\n  [\"sql certificate\", \"https://campus.w3schools.com/collections/certifications/products/sql-certificate\", \"SQL Certificate\"],     \\n  [\"python certificate\", \"https://campus.w3schools.com/collections/certifications/products/python-certificate\", \"Python Certificate\"],       \\n  [\"php certificate\", \"https://campus.w3schools.com/collections/certifications/products/php-certificate\", \"PHP Certificate\"],       \\n  [\"jquery certificate\", \"https://campus.w3schools.com/collections/certifications/products/jquery-certificate\", \"jQuery Certificate\"],       \\n  [\"java certificate\", \"https://campus.w3schools.com/collections/certifications/products/java-certificate\", \"Java Certificate\"],       \\n  [\"c++ certificate\", \"https://campus.w3schools.com/collections/certifications/products/c-certificate\", \"C++ Certificate\"],       \\n  [\"c# certificate\", \"https://campus.w3schools.com/collections/certifications/products/c-certificate-1\", \"C# Certificate\"],       \\n  [\"xml certificate\", \"https://campus.w3schools.com/collections/certifications/products/xml-certificate\", \"XML Certificate\"],         \\n  [\"hosting\", \"/spaces/index.php\", \"W3Schools Spaces\"],         \\n  [\"free website\", \"/spaces/index.php\", \"Free website with W3Schools Spaces\"],           \\n  [\"pro\", \"/plus/index.php\", \"W3Schools Pro User\"],           \\n  [\"ad free\", \"/plus/index.php\", \"W3Schools without ads\"],             \\n  [\"videos\", \"/videos/index.php\", \"W3Schools Video\"],             \\n  [\"login\", \"https://profile.w3schools.com\", \"Log into your W3Schools account\"],               \\n  [\"sign up\", \"https://profile.w3schools.com\", \"Sign up - Create a W3Schools account\"],\\n  [\"jobs\", \"https://www.w3schools.com/pathfinder/pathfinder_talent.php\", \"Search jobs, hire talent\"],\\n  [\"work\", \"https://www.w3schools.com/pathfinder/pathfinder_talent.php\", \"Find jobs and get hired\"],\\n  [\"recruit\", \"https://www.w3schools.com/pathfinder/pathfinder_recruiter.php\", \"Hire talent\"],                  \\n  [\"\", \"/tryit/tryit.asp?filename=tryhtml_hello\", \"HTML Compiler\"],\\n  [\"\", \"/python/trypython.asp?filename=demo_default\", \"Python Compiler\"],  \\n  [\"\", \"/sql/trysql.asp?filename=trysql_select_where\", \"SQL Compiler\"],    \\n  [\"\", \"/php/phptryit.asp?filename=tryphp_intro\", \"PHP Compiler\"],    \\n  [\"\", \"/java/tryjava.asp?filename=demo_helloworld\", \"JAVA Compiler\"],    \\n  [\"\", \"/cpp/trycpp.asp?filename=demo_helloworld\", \"C++ Compiler\"],    \\n  [\"\", \"/c/tryc.php?filename=demo_helloworld\", \"C Compiler\"],            \\n  [\"\", \"/cs/trycs.php?filename=demo_helloworld\", \"C# Compiler\"],            \\n  [\"\", \"/r/tryr.asp?filename=demo_default\", \"R Compiler\"],            \\n  [\"\", \"/kotlin/trykotlin.php?filename=demo_helloworld\", \"Kotlin Compiler\"],            \\n  [\"\", \"/go/trygo.php?filename=demo_helloworld\", \"GO Compiler\"],            \\n  [\"\", \"/typescript/trytypescript.php?filename=demo_helloworld\", \"TypeScript Compiler\"],            \\n  [\"\", \"/tryit/trycompiler.asp?filename=demo_bash\", \"Bash Compiler\"],            \\n  [\"\", \"/tryit/trycompiler.asp?filename=demo_clojure\", \"Clojure Compiler\"],            \\n  [\"\", \"/tryit/trycompiler.asp?filename=demo_fortran\", \"Fortran Compiler\"],            \\n  [\"\", \"/tryit/trycompiler.asp?filename=demo_nodejs\", \"Node.js Compiler\"],            \\n  [\"\", \"/tryit/trycompiler.asp?filename=demo_perl\", \"Perl Compiler\"],            \\n  [\"\", \"/tryit/trycompiler.asp?filename=demo_ruby\", \"Ruby Compiler\"],            \\n  [\"\", \"/tryit/trycompiler.asp?filename=demo_scala\", \"Scala Compiler\"],            \\n  [\"\", \"/tryit/trycompiler.asp?filename=demo_swift\", \"Swift Compiler\"],            \\n  [\"\", \"/tryit/trycompiler.asp?filename=demo_vbnet\", \"VB.NET Compiler\"],                \\n  \\n      \\n];\\n*/\\nvar searchFromBox = false;\\nfunction click_learntocode_search_btn() {\\n  var x = document.getElementsByClassName(\"search_item\");\\n  if (x.length == 0) {\\n    cc = 1;\\n  }\\n  for (i = 0; i < x.length; i++) {\\n    if (x[i].className.indexOf(\"search_active\") > -1) {\\n      n = x[i].href;\\n      if (n.indexOf(\"search_entire_w3schools\") > -1) {\\n        cc = 1;\\n      }\\n      break;\\n    }\\n  }\\n  if (cc == 1) {\\n    searchFromBox = true;\\n    submit_search_form();\\n  } else {\\n    window.location = n;\\n  }\\n}\\nfunction find_search_results(inp) {\\n  var a, val, i, l, resultIndexes = [], resultTexts = [], html = \"\", classAtt = \"\", pos1, posNext, cc, c0, c1, c2, searchArray = array_search_suggestions;\\n  a = document.getElementById(\"listofsearchresults\");\\n  a.innerHTML = \"\";\\n  a.style.display = \"none\";\\n  document.getElementById(\"search2\").style.borderBottomLeftRadius = \"25px\";\\n  val = inp.value.toUpperCase();\\n  if (val == \"\") return false;\\n  for (i = 0; i < searchArray.length; i++) {\\n    if (searchArray[i][0].toUpperCase().substr(0, val.length) == val || searchArray[i][2].toUpperCase().substr(0, val.length) == val) {\\n      if (resultTexts.indexOf(searchArray[i][2]) == -1) {\\n        resultIndexes.push(i);\\n        resultTexts.push(searchArray[i][2]);\\n        if (resultIndexes.length > 5) break;\\n      }\\n    }\\n  }\\n  for (i = 0; i < searchArray.length; i++) {\\n    if (resultIndexes.indexOf(i) == -1 && (searchArray[i][0].toUpperCase().indexOf(val) > -1 || searchArray[i][2].toUpperCase().indexOf(val) > -1)) {\\n      if (resultTexts.indexOf(searchArray[i][2]) == -1) {\\n        resultIndexes.push(i);\\n        resultTexts.push(searchArray[i][2]);        \\n        if (resultIndexes.length > 5) break;\\n      }\\n    }\\n  }\\n  //if (resultIndexes.length == 0) return false;\\n  document.getElementById(\"search2\").style.borderBottomLeftRadius = \"0\";\\n  a.style.display = \"block\";\\n  for (i = 0; i < resultIndexes.length; i++) {\\n    cc = searchArray[resultIndexes[i]][2];\\n    pos1 = cc.toUpperCase().indexOf(val);\\n    dd = \"\";\\n    while (pos1 > -1) {\\n      c0 = cc.substr(0, pos1);\\n      c1 = \"<span class=\\'span_search\\'>\" + cc.substr(pos1, val.length) + \"</span>\";\\n      c2 = cc.substr(pos1 + val.length);\\n      dd += c0 + c1;\\n      posNext = c2.toUpperCase().indexOf(val);\\n      if (posNext > -1) {\\n        cc = c2;\\n        pos1 = posNext;\\n      } else {\\n        cc = dd + c2;\\n        pos1 = -1;\\n      }\\n    }\\n    classAtt = \"\";\\n    if (html == \"\") classAtt = \" search_active\";\\n    html += \"<a class=\\'search_item\" + classAtt + \"\\' href=\\'\" + searchArray[resultIndexes[i]][1] + \"\\'>\" + cc + \"</a>\";\\n  }\\n  if (resultIndexes.length == 0) {\\n    classAtt = \"\";\\n    if (html == \"\") classAtt = \" search_active\";\\n    html += \"<a class=\\'search_item\" + classAtt + \"\\' onclick=\\'click_search_w3schools_link(event)\\' href=\\'search_entire_w3schools\\'>Search W3Schools</a>\";\\n  }\\n  a.innerHTML = html;\\n}\\nfunction click_search_w3schools_link(event) {\\n  event.preventDefault();\\n  submit_search_form();\\n}\\nfunction key_pressed_in_search(event) {\\n  var x, n, nn, i, cc = 0;\\n  var keycode = event.keyCode;\\n  //console.log(keycode);\\n  if (keycode == 38 || keycode == 40) { //up || down\\n    x = document.getElementsByClassName(\"search_item\");\\n    for (i = 0; i < x.length; i++) {\\n      if (x[i].className.indexOf(\"search_active\") > -1) {\\n        x[i].className = \"search_item\";\\n        n = i;\\n        break;\\n      }\\n    }\\n    if (keycode == 38) {\\n      nn = n - 1;\\n      if (nn < 0) nn = 0;\\n    }\\n    if (keycode == 40) {\\n      nn = n + 1;\\n      if (nn >= x.length) nn = nn - 1; \\n    }\\n    x[nn].className = \"search_item search_active\";\\n  }\\n  if (keycode == 13) {  //enter\\n    event.preventDefault();\\n    x = document.getElementsByClassName(\"search_item\");\\n    if (x.length == 0) {\\n      cc = 1;\\n    }\\n    for (i = 0; i < x.length; i++) {\\n      if (x[i].className.indexOf(\"search_active\") > -1) {\\n        n = x[i].href;\\n        if (n.indexOf(\"search_entire_w3schools\") > -1) {\\n          cc = 1;\\n        }\\n        break;\\n      }\\n    }\\n    if (cc == 1) {\\n      searchFromBox = true;\\n      submit_search_form();\\n    } else {\\n      window.location = n;\\n    }\\n  }\\n}\\n\\nfunction submit_search_form() {\\n    searchFromBox = true;\\n    gSearch();\\n    var delayInMilliseconds = 100; //0.1 second\\n    setTimeout(execute_google_search, delayInMilliseconds);\\n}\\n\\nfunction execute_google_search() {\\n  if (typeof google == \\'object\\') {\\n    google.search.cse.element.getElement(\"standard0\").execute(document.getElementById(\"search2\").value);\\n  } else {\\n    setTimeout(execute_google_search, 100);\\n  }  \\n}\\n\\ndocument.body.addEventListener(\"click\", function(event) {\\n  var a, x = event.srcElement;\\n  if (x.id == \"search2\" ||x.id == \"learntocode_searchbtn\" || x.id == \"learntocode_searchicon\" || x.classList.contains(\"search_item\")) {\\n  } else {\\n    a = document.getElementById(\"listofsearchresults\");\\n    a.innerHTML = \"\";\\n    a.style.display = \"none\";\\n    document.getElementById(\"search2\").style.borderBottomLeftRadius = \"25px\";\\n    if (searchFromBox == true) {\\n      document.getElementById(\"googleSearch\").style.display = \"none\";\\n      document.getElementById(\"googleSearch\").style.visibility = \"block\";  \\n    }\\n    searchFromBox = false;\\n  }\\n});\\n\\n</script>\\n<div\\n  id=\"user-profile-bottom-wrapper\"\\n  class=\"user-profile-bottom-wrapper\"\\n>\\n  <div class=\"user-authenticated w3-hide\">\\n    <a\\n      href=\"https://profile.w3schools.com/log-in?redirect_url=https%3A%2F%2Fmy-learning.w3schools.com\"\\n      class=\"user-profile-btn user-profile-bottom-btn ga-bottom ga-bottom-profile\"\\n      title=\"Your W3Schools Profile\"\\n      aria-label=\"Your W3Schools Profile\"\\n      target=\"_top\"\\n    >\\n      <svg\\n        xmlns=\"http://www.w3.org/2000/svg\"\\n        version=\"1.1\"\\n        viewBox=\"0 0 2048 2048\"\\n        class=\"user-profile-icon\"\\n        aria-label=\"Your W3Schools Profile Icon\"\\n      >\\n        <path\\n          d=\"M 843.500 1148.155 C 837.450 1148.515, 823.050 1149.334, 811.500 1149.975 C 742.799 1153.788, 704.251 1162.996, 635.391 1192.044 C 517.544 1241.756, 398.992 1352.262, 337.200 1470 C 251.831 1632.658, 253.457 1816.879, 340.500 1843.982 C 351.574 1847.431, 1696.426 1847.431, 1707.500 1843.982 C 1794.543 1816.879, 1796.169 1632.658, 1710.800 1470 C 1649.008 1352.262, 1530.456 1241.756, 1412.609 1192.044 C 1344.588 1163.350, 1305.224 1153.854, 1238.500 1150.039 C 1190.330 1147.286, 1196.307 1147.328, 1097 1149.035 C 1039.984 1150.015, 1010.205 1150.008, 950 1149.003 C 851.731 1147.362, 856.213 1147.398, 843.500 1148.155\"\\n          stroke=\"none\"\\n          fill=\"#2a93fb\"\\n          fill-rule=\"evenodd\"\\n        />\\n        <path\\n          d=\"M 1008 194.584 C 1006.075 194.809, 999.325 195.476, 993 196.064 C 927.768 202.134, 845.423 233.043, 786 273.762 C 691.987 338.184, 622.881 442.165, 601.082 552 C 588.496 615.414, 592.917 705.245, 611.329 760.230 C 643.220 855.469, 694.977 930.136, 763.195 979.321 C 810.333 1013.308, 839.747 1026.645, 913.697 1047.562 C 1010.275 1074.879, 1108.934 1065.290, 1221 1017.694 C 1259.787 1001.221, 1307.818 965.858, 1339.852 930.191 C 1460.375 795.998, 1488.781 609.032, 1412.581 451.500 C 1350.098 322.327, 1240.457 235.724, 1097.500 202.624 C 1072.356 196.802, 1025.206 192.566, 1008 194.584\"\\n          stroke=\"none\"\\n          fill=\"#0aaa8a\"\\n          fill-rule=\"evenodd\"\\n        />\\n      </svg>\\n\\n      <svg\\n        xmlns=\"http://www.w3.org/2000/svg\"\\n        class=\"user-progress\"\\n        aria-label=\"Your W3Schools Profile Progress\"\\n      >\\n        <path\\n          class=\"user-progress-circle1\"\\n          fill=\"none\"\\n          d=\"M 25.99650934151373 15.00000030461742 A 20 20 0 1 0 26 15\"\\n        ></path>\\n        <path\\n          class=\"user-progress-circle2\"\\n          fill=\"none\"\\n          d=\"M 26 15 A 20 20 0 0 0 26 15\"\\n        ></path>\\n      </svg>\\n\\n      <span class=\"user-progress-star\">&#x2605;</span>\\n\\n      <span class=\"user-progress-point\">+1</span>\\n    </a>\\n  </div>\\n\\n  <div class=\"w3s-pathfinder -teaser user-anonymous w3-hide\">\\n  <div class=\"-background-image -variant-t2\">&nbsp;</div>\\n\\n  <div class=\"-inner-wrapper\">\\n    <div class=\"-main-section\">\\n      <div class=\"-inner-wrapper\">\\n        <div class=\"-headline\">Track your progress - it\\'s free!</div>\\n        <div class=\"-body\">\\n          <div class=\"-progress-bar\">\\n            <div class=\"-slider\" style=\"width: 20%;\">&nbsp;</div>    \\n          </div>\\n        </div>\\n      </div>\\n    </div>\\n\\n    <div class=\"-right-side-section\">\\n      <div class=\"-user-session-btns\">\\n        <a\\n          href=\"https://profile.w3schools.com/log-in?redirect_url=https%3A%2F%2Fpathfinder.w3schools.com\"\\n          class=\"-login-btn w3-btn bar-item-hover w3-right ws-light-green ga-bottom ga-bottom-login\"\\n          title=\"Login to your account\"\\n          aria-label=\"Login to your account\"\\n          target=\"_top\"\\n        >\\n          Log in\\n        </a>\\n\\n        <a\\n          href=\"https://profile.w3schools.com/sign-up?redirect_url=https%3A%2F%2Fpathfinder.w3schools.com\"\\n          class=\"-signup-btn w3-button w3-right ws-green ws-hover-green ga-bottom ga-bottom-signup\"\\n          title=\"Sign Up to Improve Your Learning Experience\"\\n          aria-label=\"Sign Up to Improve Your Learning Experience\"\\n          target=\"_top\"\\n        >\\n          Sign Up\\n        </a>\\n      </div>\\n    </div>\\n  </div>\\n</div>\\n\\n</div>\\n\\n</div>\\n\\n</div>\\n</div>\\n</div>\\n<div id=\"footer\" class=\"footer w3-container w3-white\" style=\"border-top:0\">\\n<div class=\"w3-col l2 m12\" id=\"right\" style=\"display: none;\">&nbsp;</div>\\n\\n</div>\\n\\n</div>\\n</div>\\n</div>\\n<div id=\"wrappercontainer\">\\n<style>\\n#wrappercontainer {\\n  width:100%;\\n  height:100px;\\n  background-color:red;\\n  position:relative;\\n  z-index:2;\\n}\\n#footerwrapper {\\n  background-color: #282A35;\\n/*  background-image:url(\\'/images/background_in_space.webp\\');\\n  background-repeat: repeat;\\n  background-position: right bottom;*/\\n}\\n#spacemyfooter {\\n  padding:40px 80px 20px 80px;\\n  max-width:1500px;\\n  margin:auto;\\n}\\n.footerlinks_1 {\\n  width:auto;\\n  float:left;\\n  padding:40px 60px;\\n  color:#FFF4A3;\\n  font-family: Source Sans Pro, sans-serif;\\n}\\n.footerlinks_1 .fa-logo {\\n  font-size:46px!important;\\n  color:#ddd;\\n}\\n.footerlinks_1:nth-child(1) {\\n  padding:30px 10px 30px 40px;\\n}\\n.footerlinks_1 a{\\n  text-decoration:none;\\n}\\n.footerlinks_1 a:hover,.footerlinks_1 a:active{\\n  text-decoration:underline;\\n  color:#FFF4A3;\\n}\\n.footerlinks_1 a:hover,.footerlinks_1 a:active{\\n  text-decoration:underline;\\n  color:#FFF4A3!;\\n}\\n.footerlinks_1 a:hover i{\\n  color:#FFF4A3!important;\\n}\\n.footerlinks_2 {\\n  width:auto;\\n  float:left;\\n  padding-left:90px;\\n  padding-right:135px;\\n  color:#ddd;\\n  font-family: Source Sans Pro, sans-serif;\\n  font-size:12px;\\n  line-height:15px;\\n  text-align:center;\\n}\\n.footerlinks_2:nth-child(4) {\\n  padding-right:0;\\n}\\n.footerlinks_2 h5 {\\n  margin-bottom:20px;\\n}\\n.footerlinks_2 a:visited,.footerlinks_2 a:link{\\n  text-decoration:none;\\n}\\n.footerlinks_2 a:hover,.footerlinks_2 a:active{\\n  color:#FFF4A3;\\n}\\n.footersome {\\n  padding:60px 40px 10px 40px;\\n  color:#ddd;\\n  font-size:20px;\\n  text-align:center;\\n}\\n.footersome a {\\n  margin-right:10px;\\n}\\n.footersome a:hover,.footersome a:active{\\n  color:#FFF4A3;\\n}\\n.footersome .textlink {\\n  font-size:15px;\\n  text-decoration:none;\\n}\\n.footersome .textlink:active,.footersome .textlink:hover {\\n  text-decoration:underline;\\n}\\n.footertext {\\n  color:#ddd;\\n  font-size:12px;\\n  line-height:15px;\\n  text-align:center;\\n}\\n.footertext a:hover,.footertext a:active{\\n  color:#FFF4A3;\\n}\\n@media screen and (max-width: 992px) {\\n  #wrappercontainer {\\n    z-index:0;\\n  }\\n  .footerlinks_1 {\\n    width:100%;\\n    margin:auto;\\n    float:none;\\n    text-align:center;\\n    padding:10px 20px!important;\\n    font-size:20px;\\n  }\\n  .footerlinks_1:nth-child(1) {\\n    padding:40px 20px;\\n  }\\n  .footerlinks_2 {\\n    width:100%;\\n    float:none;\\n    margin:auto;\\n    font-size:16px;\\n    line-height:20px;\\n    padding:0;\\n  }\\n  .footerlinks_2 h5 {\\n    font-size:26px;\\n    margin-top:40px;\\n  }\\n  .footertext {\\n    padding:0;\\n  }\\n  .footer-hide-special {\\n    display:none;\\n  }\\n}\\n/*\\n@media screen and (max-width: 992px) {\\n  #footerwrapper {\\n    background-image:url(\\'/images/background_in_space.webp\\');\\n    background-color: #282A35;\\n    background-repeat: repeat;\\n    background-position: left top;\\n  }\\n}*/\\n</style>\\n<div id=\"footerwrapper\">\\n\\n<style>\\n@media screen and (max-width: 1450px) {\\n  #spacemyfooter {\\n    max-width:1100px;\\n  }\\n  .footerlinks_1 {\\n    padding-left:30px;\\n    padding-right:30px;\\n  }\\n  .footerlinks_2 {\\n    padding-right:30px;\\n  }\\n  .footerlinks_2:nth-child(1) {\\n    padding-left:50px;\\n  }\\n  .footer-hide-special {\\n    display:none;\\n  }\\n}\\n@media screen and (max-width: 1100px) {\\n  #spacemyfooter {\\n    max-width:1000px;\\n  }\\n  .footerlinks_1 {\\n    padding-left:20px;\\n    padding-right:20px;\\n  }\\n  .footerlinks_2 {\\n    padding-right:20px;\\n  }\\n  .footerlinks_2:nth-child(1) {\\n    padding-left:20px;\\n  }\\n}\\n</style>\\n<div id=\"spacemyfooter\">\\n\\n\\n\\n\\n<div style=\"overflow:hidden;\">\\n<div class=\"footerlinks_1\">\\n  <a href=\"//www.w3schools.com\" class=\"ga-bottom\" aria-label=\"W3Schools.com\" alt=\"W3Schools.com\">\\n    <i class=\"fa fa-logo\"></i>\\n  </a>\\n</div>\\n<div class=\"footerlinks_1\"><a href=\"/plus/index.php\" title=\"Become a PLUS user and unlock powerful features\" class=\"ga-bottom ga-bottom-plus\">PLUS</a></div>\\n<div class=\"footerlinks_1\"><a href=\"/spaces/index.php\" title=\"Get your own website with W3Schools Spaces\" class=\"ga-bottom ga-bottom-spaces\">SPACES</a></div>\\n<div class=\"footerlinks_1\"><a href=\"https://campus.w3schools.com/collections/certifications\" title=\"Document your knowledge by getting certified\" target=\"_blank\" class=\"ga-bottom ga-bottom-cert\">GET CERTIFIED</a></div>\\n<div class=\"footerlinks_1\"><a href=\"/academy/index.php\" title=\"Contact us about W3Schools Academy for educational institutions\" target=\"_blank\" class=\"ga-bottom ga-bottom-teachers\">FOR TEACHERS</a></div>\\n<div class=\"footerlinks_1\"><a href=\"/academy/index.php\" target=\"_blank\">FOR BUSINESS</a></div>\\n<div class=\"footerlinks_1\"><a href=\"javascript:void(0);\" title=\"Contact us about sales or errors\" onclick=\"reportError();return false\">CONTACT US</a></div>\\n</div>\\n<style>\\n/*Remove this style after 20. April 2024*/\\n#err_message {\\n  padding:8px 16px 16px 40px;\\n  border-radius:5px;\\n  display:none;\\n  position:relative;\\n  background-color:#2D3748;\\n  color:#FFF4A3;\\n  font-family:\\'Source Sans Pro\\', sans-serif;\\n}\\n#err_message h2 {\\n  font-family:\\'Source Sans Pro\\', sans-serif;\\n}\\n#err_message p {\\n  color:#f1f1f1;\\n}\\n#err_message #close_err_message {\\n  position:absolute;\\n  right:0;\\n  top:0;\\n  font-size:20px;\\n  cursor:pointer;\\n  width:30px;\\n  height:30px;\\n  text-align:center;\\n}\\n#err_message #close_err_message:hover {\\n  background-color:#FFF4A3;\\n  color:#2D3748;\\n  border-radius:50%\\n}\\n</style>\\n\\n<div id=\"err_message\">\\n  <span id=\"close_err_message\" onclick=\"this.parentElement.style.display=\\'none\\'\">&times;</span>\\n  <h2>Contact Sales</h2>\\n  <p>If you want to use W3Schools services as an educational institution, team or enterprise, send us an e-mail:<br>sales@w3schools.com</p>\\n  <h2>Report Error</h2>\\n  <p>If you want to report an error, or if you want to make a suggestion, send us an e-mail:<br>help@w3schools.com</p>\\n</div>\\n\\n\\n<div style=\"overflow:hidden;\">\\n<div class=\"footerlinks_2\">\\n  <h5 style=\"font-family: \\'Source Sans Pro\\', sans-serif;\">Top Tutorials</h5>\\n  <a href=\"/html/default.asp\" class=\"ga-bottom\">HTML Tutorial</a><br>\\n  <a href=\"/css/default.asp\" class=\"ga-bottom\">CSS Tutorial</a><br>\\n  <a href=\"/js/default.asp\" class=\"ga-bottom\">JavaScript Tutorial</a><br>\\n  <a href=\"/howto/default.asp\" class=\"ga-bottom\">How To Tutorial</a><br>\\n  <a href=\"/sql/default.asp\" class=\"ga-bottom\">SQL Tutorial</a><br>\\n  <a href=\"/python/default.asp\" class=\"ga-bottom\">Python Tutorial</a><br>\\n  <a href=\"/w3css/default.asp\" class=\"ga-bottom\">W3.CSS Tutorial</a><br>\\n  <a href=\"/bootstrap/bootstrap_ver.asp\" class=\"ga-bottom\">Bootstrap Tutorial</a><br>\\n  <a href=\"/php/default.asp\" class=\"ga-bottom\">PHP Tutorial</a><br>\\n  <a href=\"/java/default.asp\" class=\"ga-bottom\">Java Tutorial</a><br>\\n  <a href=\"/cpp/default.asp\" class=\"ga-bottom\">C++ Tutorial</a><br>\\n  <a href=\"/jquery/default.asp\" class=\"ga-bottom\">jQuery Tutorial</a><br>\\n</div>\\n<div class=\"footerlinks_2\">\\n  <h5 style=\"font-family: \\'Source Sans Pro\\', sans-serif;\">Top References</h5>\\n  <a href=\"/tags/default.asp\" class=\"ga-bottom\">HTML Reference</a><br>\\n  <a href=\"/cssref/index.php\" class=\"ga-bottom\">CSS Reference</a><br>\\n  <a href=\"/jsref/default.asp\" class=\"ga-bottom\">JavaScript Reference</a><br>\\n  <a href=\"/sql/sql_ref_keywords.asp\" class=\"ga-bottom\">SQL Reference</a><br>\\n  <a href=\"/python/python_reference.asp\" class=\"ga-bottom\">Python Reference</a><br>\\n  <a href=\"/w3css/w3css_references.asp\" class=\"ga-bottom\">W3.CSS Reference</a><br>\\n  <a href=\"/bootstrap/bootstrap_ref_all_classes.asp\" class=\"ga-bottom\">Bootstrap Reference</a><br>\\n  <a href=\"/php/php_ref_overview.asp\" class=\"ga-bottom\">PHP Reference</a><br>\\n  <a href=\"/colors/colors_names.asp\" class=\"ga-bottom\">HTML Colors</a><br>\\n  <a href=\"/java/java_ref_keywords.asp\" class=\"ga-bottom\">Java Reference</a><br>\\n  <a href=\"/angular/angular_ref_directives.asp\" class=\"ga-bottom\">Angular Reference</a><br>\\n  <a href=\"/jquery/jquery_ref_overview.asp\" class=\"ga-bottom\">jQuery Reference</a><br>\\n</div>\\n<div class=\"footerlinks_2\">\\n  <h5 style=\"font-family: \\'Source Sans Pro\\', sans-serif;\">Top Examples</h5>\\n  <a href=\"/html/html_examples.asp\" class=\"ga-bottom\">HTML Examples</a><br>\\n  <a href=\"/css/css_examples.asp\" class=\"ga-bottom\">CSS Examples</a><br>\\n  <a href=\"/js/js_examples.asp\" class=\"ga-bottom\">JavaScript Examples</a><br>\\n  <a href=\"/howto/default.asp\" class=\"ga-bottom\">How To Examples</a><br>\\n  <a href=\"/sql/sql_examples.asp\" class=\"ga-bottom\">SQL Examples</a><br>\\n  <a href=\"/python/python_examples.asp\" class=\"ga-bottom\">Python Examples</a><br>\\n  <a href=\"/w3css/w3css_examples.asp\" class=\"ga-bottom\">W3.CSS Examples</a><br>\\n  <a href=\"/bootstrap/bootstrap_examples.asp\" class=\"ga-bottom\">Bootstrap Examples</a><br>\\n  <a href=\"/php/php_examples.asp\" class=\"ga-bottom\">PHP Examples</a><br>\\n  <a href=\"/java/java_examples.asp\" class=\"ga-bottom\">Java Examples</a><br>\\n  <a href=\"/xml/xml_examples.asp\" class=\"ga-bottom\">XML Examples</a><br>\\n  <a href=\"/jquery/jquery_examples.asp\" class=\"ga-bottom\">jQuery Examples</a><br>\\n</div>\\n<div class=\"footerlinks_2\">\\n  <a href=\"https://campus.w3schools.com/collections/course-catalog\" target=\"_blank\" class=\"ga-bottom\"><h5 style=\"font-family: \\'Source Sans Pro\\', sans-serif;\">Get Certified</h5></a>\\n  <a href=\"https://campus.w3schools.com/collections/certifications/products/html-certificate\" target=\"_blank\" class=\"ga-bottom\">HTML Certificate</a><br>\\n  <a href=\"https://campus.w3schools.com/collections/certifications/products/css-certificate\" target=\"_blank\" class=\"ga-bottom\">CSS Certificate</a><br>\\n  <a href=\"https://campus.w3schools.com/collections/certifications/products/javascript-certificate\" target=\"_blank\" class=\"ga-bottom\">JavaScript Certificate</a><br>\\n  <a href=\"https://campus.w3schools.com/collections/certifications/products/front-end-certificate\" target=\"_blank\" class=\"ga-bottom\">Front End Certificate</a><br>\\n  <a href=\"https://campus.w3schools.com/collections/certifications/products/sql-certificate\" target=\"_blank\" class=\"ga-bottom\">SQL Certificate</a><br>\\n  <a href=\"https://campus.w3schools.com/collections/certifications/products/python-certificate\" target=\"_blank\" class=\"ga-bottom\">Python Certificate</a><br>\\n  <a href=\"https://campus.w3schools.com/collections/certifications/products/php-certificate\" target=\"_blank\" class=\"ga-bottom\">PHP Certificate</a><br>\\n  <a href=\"https://campus.w3schools.com/collections/certifications/products/jquery-certificate\" target=\"_blank\" class=\"ga-bottom\">jQuery Certificate</a><br>\\n  <a href=\"https://campus.w3schools.com/collections/certifications/products/java-certificate\" target=\"_blank\" class=\"ga-bottom\">Java Certificate</a><br>\\n  <a href=\"https://campus.w3schools.com/collections/certifications/products/c-certificate\" target=\"_blank\" class=\"ga-bottom\">C++ Certificate</a><br>\\n  <a href=\"https://campus.w3schools.com/collections/certifications/products/c-certificate-1\" target=\"_blank\" class=\"ga-bottom\">C# Certificate</a><br>\\n  <a href=\"https://campus.w3schools.com/collections/certifications/products/xml-certificate\" target=\"_blank\" class=\"ga-bottom\">XML Certificate</a><br>\\n</div>\\n</div>\\n\\n\\n<div class=\"footersome\">\\n  <a target=\"_blank\" href=\"https://www.youtube.com/@w3schools\" title=\"W3Schools on YouTube\"><i class=\"fa fa-youtube\"></i></a>\\n  <a target=\"_blank\" href=\"https://www.linkedin.com/company/w3schools.com/\" title=\"W3Schools on LinkedIn\"><i class=\"fa\">&#62220;</i></a>\\n  <a target=\"_blank\" href=\"https://discord.com/invite/w3schools\" title=\"Join the W3schools community on Discord\"><i class=\"fa\">&#59399;</i></a>\\n  <a target=\"_blank\" href=\"https://www.facebook.com/w3schoolscom/\" title=\"W3Schools on Facebook\"><i class=\"fa\">&#59398;</i></a>\\n  <a target=\"_blank\" href=\"https://www.instagram.com/w3schools.com_official/\" title=\"W3Schools on Instagram\"><i class=\"fa\">&#61805;</i></a>\\n  <div class=\"w3-hide-large\" style=\"margin-top:16px\"></div>\\n  <a target=\"_blank\" href=\"/forum/default.asp\" title=\"Forum\" class=\"textlink\">FORUM</a>\\n  <a target=\"_blank\" href=\"/about/default.asp\" title=\"About W3Schools\" class=\"textlink\">ABOUT</a>\\n  <a target=\"_blank\" href=\"/academy/index.php\"\\n     title=\"Contact us about W3Schools Academy for educational institutions and organizations\" class=\"textlink ga-bottom-textlink-academy\">ACADEMY</a>\\n</div>\\n\\n<div class=\"footertext\">\\nW3Schools is optimized for learning and training. Examples might be simplified to improve reading and learning.<br class=\"footer-hide-special\">\\nTutorials, references, and examples are constantly reviewed to avoid errors, but we cannot warrant full correctness<br class=\"footer-hide-special\">\\nof all content. While using W3Schools, you agree to have read and accepted our <a href=\"/about/about_copyright.asp\" class=\"ga-bottom\">terms of use</a>, \\n<a href=\"/about/about_privacy.asp\" class=\"ga-bottom\">cookie and privacy policy</a>.<br><br>\\n<a href=\"/about/about_copyright.asp\" class=\"ga-bottom\">Copyright 1999-2025</a> by Refsnes Data. All Rights Reserved.\\n<a href=\"//www.w3schools.com/w3css/default.asp\" class=\"ga-bottom\">W3Schools is Powered by W3.CSS</a>.<br><br>\\n</div>\\n</div>\\n</div>\\n\\n\\n</div>\\n<script src=\"/lib/topnav/amazon-cognito-identity.min.js\"></script>\\n<script src=\"/lib/topnav/main.js?v=1.0.54\"></script>\\n<script src=\"/lib/w3schools_footer.js?update=20250211\"></script>\\n<script src=\"/lib/w3schools_features.js?update=20241220\"></script>\\n<script src=\"https://www.google.com/recaptcha/api.js?render=explicit\"></script>\\n\\n<script>\\n  MyLearning.loadUser(\\'footer\\', function () {\\n    // if (!UserSession.loggedIn) {\\n    //  addMyLearnButt();\\n    // }\\n  });\\n  function docReady(fn) {\\n    document.addEventListener(\"DOMContentLoaded\", fn);\\n    if (document.readyState === \"interactive\" || document.readyState === \"complete\" ) {\\n      fn();\\n    }\\n  }\\n  uic_prov_al();\\n\\nconst upperfeatureshowcaselink = document.getElementById(\"upperfeatureshowcaselink\");\\nif (upperfeatureshowcaselink) {\\n displayInternalFeatures();\\n}\\n/*\\nfunction addMyLearnButt() {\\n  let nav = document.getElementsByClassName(\"nextprev\");\\n  if (document.body.contains(nav[1])) {\\n    if ((nav[1].firstElementChild.innerHTML.indexOf(\"Previous\") || nav[1].firstElementChild.innerHTML.indexOf(\"Home\") !== -1) && (nav[1].firstElementChild.nextElementSibling.innerHTML.indexOf(\"Next\") !== -1)) {\\n      let myLearnButt = document.createElement(\"a\");\\n      myLearnButt.innerHTML=\"Log in to track progress\";\\n      myLearnButt.classList.add(\"w3-btn\", \"w3-hide-small\", \"myl-nav-butt\");\\n      myLearnButt.href=\"https://www.w3schools.com/signup/?utm_source=classic&utm_medium=\" + subjectFolder + \"_tutorial&utm_campaign=button_lower_navigation\";\\n      myLearnButt.setAttribute(\"title\", \"Sign Up and improve Your Learning Experience\");\\n      myLearnButt.setAttribute(\"target\", \"_blank\");\\n      nav[1].classList.add(\"w3-center\");\\n      nav[1].firstElementChild.insertAdjacentElement(\"afterend\", myLearnButt);\\n    }\\n  }\\n}\\n*/\\n</script>\\n<!--[if lt IE 9]>\\n<script src=\"https://oss.maxcdn.com/libs/html5shiv/3.7.0/html5shiv.js\"></script>\\n<script src=\"https://oss.maxcdn.com/libs/respond.js/1.4.2/respond.min.js\"></script>\\n<![endif]-->\\n\\n</body>\\n</html>'\n"
          ]
        }
      ]
    },
    {
      "cell_type": "code",
      "source": [
        "import requests\n",
        "from pprint import pprint\n",
        "\n",
        "def retrieve_all() -> list:\n",
        "  url = \"https://studies.cs.helsinki.fi/stats-mock/api/courses\"\n",
        "  response = requests.get(url)\n",
        "\n",
        "  courses = response.json()\n",
        "  active_courses = []\n",
        "  for course in courses:\n",
        "    if course.get(\"enabled\",False):\n",
        "      active_courses.append((course[\"fullName\"],course[\"name\"],course[\"year\"],sum(course[\"exercises\"])))\n",
        "\n",
        "  return active_courses\n",
        "\n",
        "def retrieve_course(course: str) -> dict:\n",
        "  url = f\"https://studies.cs.helsinki.fi/stats-mock/api/courses/{course}/stats\"\n",
        "  response = requests.get(url)\n",
        "\n",
        "  course_data = response.json()\n",
        "\n",
        "  result = dict()\n",
        "  weeks = len(course_data)\n",
        "  students = 0\n",
        "  hours = 0\n",
        "  exercises = 0\n",
        "\n",
        "  for k,v in course_data.items():\n",
        "    students += v[\"students\"]\n",
        "    hours += v[\"hour_total\"]\n",
        "    exercises += v[\"exercise_total\"]\n",
        "\n",
        "  average_hours = hours // students\n",
        "  average_exercises = exercises // students\n",
        "\n",
        "  result[\"weeks\"] = weeks\n",
        "  result[\"students\"] = students\n",
        "  result[\"hours\"] = hours\n",
        "  result[\"hours_average\"] = average_hours\n",
        "  result[\"exercises\"] = exercises\n",
        "  result[\"exercises_average\"] = average_exercises\n",
        "\n",
        "  return result\n",
        "\n",
        "def main():\n",
        "  data = retrieve_all()\n",
        "  courses_names = [course[1] for course in data]\n",
        "  course_data = retrieve_course(courses_names[2])\n",
        "\n",
        "  pprint(course_data)\n",
        "if __name__ == \"__main__\":\n",
        "  main()\n",
        "\n"
      ],
      "metadata": {
        "colab": {
          "base_uri": "https://localhost:8080/"
        },
        "id": "ioz4td2Hrouc",
        "outputId": "babeeb9b-ec79-4b3d-b5c4-761ee8d8bc3e"
      },
      "execution_count": null,
      "outputs": [
        {
          "output_type": "stream",
          "name": "stdout",
          "text": [
            "{'exercises': 1535,\n",
            " 'exercises_average': 12,\n",
            " 'hours': 1752,\n",
            " 'hours_average': 13,\n",
            " 'students': 127,\n",
            " 'weeks': 3}\n"
          ]
        }
      ]
    },
    {
      "cell_type": "code",
      "source": [
        "from google.colab import drive\n",
        "\n",
        "drive.mount(\"/content/drive\")"
      ],
      "metadata": {
        "colab": {
          "base_uri": "https://localhost:8080/"
        },
        "id": "zx1dQeBvwSzr",
        "outputId": "b1f12adc-2e75-4082-8c53-b34e2235ad69"
      },
      "execution_count": null,
      "outputs": [
        {
          "output_type": "stream",
          "name": "stdout",
          "text": [
            "Mounted at /content/drive\n"
          ]
        }
      ]
    },
    {
      "cell_type": "code",
      "source": [
        "from datetime import datetime,timedelta\n",
        "from pprint import pprint\n",
        "import csv\n",
        "\n",
        "def cheaters():\n",
        "  start_time = dict()\n",
        "  cheater_set = set()\n",
        "  honest_student = set()\n",
        "  with open(\"/content/drive/MyDrive/Writing_Files/Who cheated/start_time.csv\",newline = \"\") as start_file,\\\n",
        "       open(\"/content/drive/MyDrive/Writing_Files/Who cheated/submission.csv\") as end_file:\n",
        "\n",
        "    start = csv.reader(start_file,delimiter = \";\")\n",
        "    end = csv.reader(end_file,delimiter = \";\")\n",
        "\n",
        "    for row in start:\n",
        "      student = row[0]\n",
        "      time = datetime.strptime(row[1],\"%H:%M\")\n",
        "      start_time[student] = time\n",
        "\n",
        "    for row in end:\n",
        "      student = row[0]\n",
        "      submit_time = datetime.strptime(row[3],\"%H:%M\")\n",
        "\n",
        "      is_student = start_time.get(student)\n",
        "      if is_student:\n",
        "        duration = submit_time - is_student\n",
        "        if duration > timedelta(hours = 3):\n",
        "          cheater_set.add(student)\n",
        "        else:\n",
        "          honest_student.add((student,row[1],row[2]))\n",
        "\n",
        "    with open(\"/content/drive/MyDrive/Writing_Files/Who cheated/cheaters.csv\",\"w\",newline = \"\") as file:\n",
        "      writer = csv.writer(file)\n",
        "      for name in sorted(cheater_set):\n",
        "        writer.writerow([name])\n",
        "  return honest_student\n",
        "\n",
        "def final_points(students):\n",
        "  with open(\"/content/drive/MyDrive/Writing_Files/Who cheated/honest_students.csv\",\"w\",newline = \"\") as file:\n",
        "    writer = csv.writer(file)\n",
        "    writer.writerow([\"Name\",\"Tasks\",\"Points\"])\n",
        "    for student in students:\n",
        "      writer.writerow(student)\n",
        "\n",
        "def main():\n",
        "  students = cheaters()\n",
        "  final_points(students)\n",
        "\n",
        "if __name__ == \"__main__\":\n",
        "  main()\n"
      ],
      "metadata": {
        "id": "c3wqUgoZZq7s"
      },
      "execution_count": null,
      "outputs": []
    },
    {
      "cell_type": "code",
      "source": [
        "import difflib\n",
        "\n",
        "def spell_checker():\n",
        "  with open(\"/content/drive/MyDrive/Reading_Files/spell checker/word_list.txt\") as file:\n",
        "    data = set(word.strip().lower() for word in file)\n",
        "\n",
        "  text = input(\"Write text: \")\n",
        "  text_data = text.lower().split()\n",
        "  cleaned = []\n",
        "\n",
        "  for word in text_data:\n",
        "    if word in data:\n",
        "      cleaned.append(word)\n",
        "    else:\n",
        "      cleaned.append(f\"*{word}*\")\n",
        "\n",
        "  print(\" \".join(cleaned))\n",
        "  print(\"suggestion:\")\n",
        "\n",
        "  for words in text_data:\n",
        "    if words not in data:\n",
        "      suggestions = difflib.get_close_matches(words,data,n = 3,cutoff = 0.5)\n",
        "      print(f\"{words}: {','.join(suggestions) if suggestions else 'no suggestion'}\")\n",
        "\n",
        "if __name__ == \"__main__\":\n",
        "  spell_checker()\n"
      ],
      "metadata": {
        "colab": {
          "base_uri": "https://localhost:8080/"
        },
        "id": "wJ6N5BDUbGZF",
        "outputId": "0e576d71-660a-4917-b81f-3d9b47d3b929"
      },
      "execution_count": null,
      "outputs": [
        {
          "output_type": "stream",
          "name": "stdout",
          "text": [
            "Write text: We use ptython to make a spell checker and usualy uslesss\n",
            "we use *ptython* to make a spell checker and *usualy* *uslesss*\n",
            "suggestion:\n",
            "ptython: python\n",
            "usualy: useful,actually\n",
            "uslesss: use\n"
          ]
        }
      ]
    }
  ]
}